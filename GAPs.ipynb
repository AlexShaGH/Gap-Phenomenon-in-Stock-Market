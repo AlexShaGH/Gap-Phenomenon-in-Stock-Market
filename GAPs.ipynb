{
  "nbformat": 4,
  "nbformat_minor": 0,
  "metadata": {
    "colab": {
      "provenance": [],
      "toc_visible": true,
      "authorship_tag": "ABX9TyMHbi05fi5g3baskTA6C4gs",
      "include_colab_link": true
    },
    "kernelspec": {
      "name": "python3",
      "display_name": "Python 3"
    },
    "language_info": {
      "name": "python"
    },
    "accelerator": "GPU",
    "gpuClass": "standard"
  },
  "cells": [
    {
      "cell_type": "markdown",
      "metadata": {
        "id": "view-in-github",
        "colab_type": "text"
      },
      "source": [
        "<a href=\"https://colab.research.google.com/github/AlexShaGH/Gap-Phenomenon-in-Stock-Market/blob/main/GAPs.ipynb\" target=\"_parent\"><img src=\"https://colab.research.google.com/assets/colab-badge.svg\" alt=\"Open In Colab\"/></a>"
      ]
    },
    {
      "cell_type": "code",
      "source": [
        "!pip install Nasdaq-Data-Link"
      ],
      "metadata": {
        "colab": {
          "base_uri": "https://localhost:8080/"
        },
        "id": "lw7kW-qRFbOF",
        "outputId": "320ba4ce-0a05-4a80-c922-c30c572157ca"
      },
      "execution_count": null,
      "outputs": [
        {
          "output_type": "stream",
          "name": "stdout",
          "text": [
            "Collecting Nasdaq-Data-Link\n",
            "  Downloading Nasdaq_Data_Link-1.0.4-py2.py3-none-any.whl.metadata (1.3 kB)\n",
            "Requirement already satisfied: pandas>=0.14 in /usr/local/lib/python3.10/dist-packages (from Nasdaq-Data-Link) (2.2.2)\n",
            "Requirement already satisfied: numpy>=1.8 in /usr/local/lib/python3.10/dist-packages (from Nasdaq-Data-Link) (1.26.4)\n",
            "Requirement already satisfied: requests>=2.7.0 in /usr/local/lib/python3.10/dist-packages (from Nasdaq-Data-Link) (2.32.3)\n",
            "Collecting inflection>=0.3.1 (from Nasdaq-Data-Link)\n",
            "  Downloading inflection-0.5.1-py2.py3-none-any.whl.metadata (1.7 kB)\n",
            "Requirement already satisfied: python-dateutil in /usr/local/lib/python3.10/dist-packages (from Nasdaq-Data-Link) (2.8.2)\n",
            "Requirement already satisfied: six in /usr/local/lib/python3.10/dist-packages (from Nasdaq-Data-Link) (1.16.0)\n",
            "Requirement already satisfied: more-itertools in /usr/local/lib/python3.10/dist-packages (from Nasdaq-Data-Link) (10.5.0)\n",
            "Requirement already satisfied: pytz>=2020.1 in /usr/local/lib/python3.10/dist-packages (from pandas>=0.14->Nasdaq-Data-Link) (2024.2)\n",
            "Requirement already satisfied: tzdata>=2022.7 in /usr/local/lib/python3.10/dist-packages (from pandas>=0.14->Nasdaq-Data-Link) (2024.2)\n",
            "Requirement already satisfied: charset-normalizer<4,>=2 in /usr/local/lib/python3.10/dist-packages (from requests>=2.7.0->Nasdaq-Data-Link) (3.4.0)\n",
            "Requirement already satisfied: idna<4,>=2.5 in /usr/local/lib/python3.10/dist-packages (from requests>=2.7.0->Nasdaq-Data-Link) (3.10)\n",
            "Requirement already satisfied: urllib3<3,>=1.21.1 in /usr/local/lib/python3.10/dist-packages (from requests>=2.7.0->Nasdaq-Data-Link) (2.2.3)\n",
            "Requirement already satisfied: certifi>=2017.4.17 in /usr/local/lib/python3.10/dist-packages (from requests>=2.7.0->Nasdaq-Data-Link) (2024.8.30)\n",
            "Downloading Nasdaq_Data_Link-1.0.4-py2.py3-none-any.whl (28 kB)\n",
            "Downloading inflection-0.5.1-py2.py3-none-any.whl (9.5 kB)\n",
            "Installing collected packages: inflection, Nasdaq-Data-Link\n",
            "Successfully installed Nasdaq-Data-Link-1.0.4 inflection-0.5.1\n"
          ]
        }
      ]
    },
    {
      "cell_type": "code",
      "execution_count": null,
      "metadata": {
        "id": "urPbozMJ5Nbq"
      },
      "outputs": [],
      "source": [
        "# import libraries\n",
        "from google.colab import files\n",
        "from google.colab import drive\n",
        "import pandas as pd\n",
        "import io\n",
        "import os\n",
        "# from pandas.core.indexes.datetimes import date\n",
        "from datetime import datetime, date\n",
        "import csv\n",
        "import yfinance as yf\n",
        "import nasdaqdatalink"
      ]
    },
    {
      "cell_type": "code",
      "source": [
        "# connect G-DRIVE\n",
        "drive.mount('/content/gdrive',force_remount = True)"
      ],
      "metadata": {
        "id": "rmsT2S6wL-jG",
        "colab": {
          "base_uri": "https://localhost:8080/"
        },
        "outputId": "dbf3cd33-fd1c-4997-a8d6-203f2b8726b2"
      },
      "execution_count": null,
      "outputs": [
        {
          "output_type": "stream",
          "name": "stdout",
          "text": [
            "Mounted at /content/gdrive\n"
          ]
        }
      ]
    },
    {
      "cell_type": "code",
      "source": [
        "# set up names and pathes\n",
        "GIT_PATH = \"https://github.com/fja05680/sp500.git\"\n",
        "PRJ_PATH = \"/content/gdrive/MyDrive/GAPs\"\n",
        "CSV_DL_PATH = \"/composition/repo\"\n",
        "CSV_CR_PATH = \"/composition/current\"\n",
        "DATA_PATH = \"/composition/current/data\""
      ],
      "metadata": {
        "id": "loDaD0YtdrYP"
      },
      "execution_count": null,
      "outputs": []
    },
    {
      "cell_type": "code",
      "source": [
        "# get the latest data from repository:\n",
        "# https://github.com/fja05680/sp500\n",
        "!git clone \"{GIT_PATH}\" ./temp # clone github repository to temp folder\n",
        "!mkdir -p \"{PRJ_PATH}{CSV_DL_PATH}\" # create a folder for downloaded files if it does mot exist\n",
        "!mv ./temp/*.csv \"{PRJ_PATH}{CSV_DL_PATH}\" # move all CSV files to preserve\n",
        "!rm -rf ./temp # clean up temp folder"
      ],
      "metadata": {
        "colab": {
          "base_uri": "https://localhost:8080/"
        },
        "id": "u-v3_ep3bqd4",
        "outputId": "311bcd70-fb54-4e21-aae4-5843b8443f8f"
      },
      "execution_count": null,
      "outputs": [
        {
          "output_type": "stream",
          "name": "stdout",
          "text": [
            "Cloning into './temp'...\n",
            "remote: Enumerating objects: 338, done.\u001b[K\n",
            "remote: Counting objects: 100% (95/95), done.\u001b[K\n",
            "remote: Compressing objects: 100% (46/46), done.\u001b[K\n",
            "remote: Total 338 (delta 74), reused 64 (delta 49), pack-reused 243 (from 1)\u001b[K\n",
            "Receiving objects: 100% (338/338), 1.44 MiB | 8.45 MiB/s, done.\n",
            "Resolving deltas: 100% (236/236), done.\n"
          ]
        }
      ]
    },
    {
      "cell_type": "code",
      "source": [
        "# compare content of the newly downloaded repo with currently used composition:\n",
        "print(\"Files donwloaded from repository:\")\n",
        "!ls -l \"{PRJ_PATH}{CSV_DL_PATH}\"\n",
        "print(\"Current composition file:\")\n",
        "!ls -l \"{PRJ_PATH}{CSV_CR_PATH}\""
      ],
      "metadata": {
        "id": "j9jLYWuaiKR0",
        "colab": {
          "base_uri": "https://localhost:8080/"
        },
        "outputId": "fb321ba4-6be9-4cc5-d020-4bcd28e5237f"
      },
      "execution_count": null,
      "outputs": [
        {
          "output_type": "stream",
          "name": "stdout",
          "text": [
            "Files donwloaded from repository:\n",
            "total 13016\n",
            "-rw-------+ 1 root root    2412 Oct 16 15:55  sp500_changes_since_2019.csv\n",
            "-rw-------+ 1 root root   53270 Oct 16 15:55  sp500.csv\n",
            "-rw-------+ 1 root root 5452585 Oct 16 15:55 'S&P 500 Historical Components & Changes(08-17-2024).csv'\n",
            "-rw-------+ 1 root root 7791584 Oct 16 15:55 'S&P 500 Historical Components & Changes.csv'\n",
            "-rw-------+ 1 root root   26833 Oct 16 15:55  sp500_ticker_start_end.csv\n",
            "Current composition file:\n",
            "total 10719\n",
            "drwx------ 2 root root    4096 Apr 17  2023  data\n",
            "-rw------- 1 root root 5416748 Jun 12  2023 'S&P 500 Historical Components & Changes(04-16-2023).csv'\n",
            "-rw------- 1 root root 5410428 Apr 16  2023 'S&P 500 Historical Components & Changes(12-29-2022).csv'\n",
            "-rw------- 1 root root     176 Jun 11  2023 'S&P-Historical-Composition-Date-Ranges-Combined.gsheet'\n",
            "-rw------- 1 root root   31139 Jun 12  2023 'S&P-Historical-Composition-Date-Ranges.csv'\n",
            "-rw------- 1 root root     176 Oct 16  2023 'S&P-Historical-Composition-Date-Ranges-Missing.gsheet'\n",
            "-rw------- 1 root root     176 Apr 17  2023 'S&P-Historical-Composition-Date-Ranges-Quotemedia (1).gsheet'\n",
            "-rw------- 1 root root   37475 Jun 12  2023 'S&P-Historical-Composition-Date-Ranges-Quotemedia.csv'\n",
            "-rw------- 1 root root     176 Jun 11  2023 'S&P-Historical-Composition-Date-Ranges-Quotemedia.gsheet'\n",
            "-rw------- 1 root root     176 May 18  2023 'S&P-Historical-Composition-Date-Ranges-Yahoo (1).gsheet'\n",
            "-rw------- 1 root root   71222 Jun 12  2023 'S&P-Historical-Composition-Date-Ranges-Yahoo.csv'\n",
            "-rw------- 1 root root     176 Jun 11  2023 'S&P-Historical-Composition-Date-Ranges-Yahoo.gsheet'\n"
          ]
        }
      ]
    },
    {
      "cell_type": "code",
      "source": [
        "# Set the name for the newest historical composition file\n",
        "# HIST_COMP_FL_NAME = 'S&P 500 Historical Components & Changes(12-29-2022).csv'\n",
        "# HIST_COMP_FL_NAME = 'S&P 500 Historical Components & Changes(04-16-2023).csv'\n",
        "HIST_COMP_FL_NAME = 'S&P 500 Historical Components & Changes(08-17-2024).csv'"
      ],
      "metadata": {
        "id": "Hcv0Jnqb6PpX"
      },
      "execution_count": null,
      "outputs": []
    },
    {
      "cell_type": "code",
      "source": [
        "# If newer, copy it to the \"current\" folder.\n",
        "# Otherwise this cell could be skipped.\n",
        "!cp -u \"{PRJ_PATH}{CSV_DL_PATH}/{HIST_COMP_FL_NAME}\" \"{PRJ_PATH}{CSV_CR_PATH}\""
      ],
      "metadata": {
        "id": "YBtOBHD3tXR_"
      },
      "execution_count": null,
      "outputs": []
    },
    {
      "cell_type": "code",
      "source": [
        "# load the S&P500 historical composition\n",
        "hist_comp_file_path = PRJ_PATH + CSV_CR_PATH + '/' + HIST_COMP_FL_NAME\n",
        "df = pd.read_csv(hist_comp_file_path)\n",
        "print(df)"
      ],
      "metadata": {
        "id": "Me2ndIsk3yZB",
        "colab": {
          "base_uri": "https://localhost:8080/"
        },
        "outputId": "4e5627ef-7cc1-4b6f-d2e9-e98b218a62d0"
      },
      "execution_count": null,
      "outputs": [
        {
          "output_type": "stream",
          "name": "stdout",
          "text": [
            "            date                                            tickers\n",
            "0     1996-01-02  AAL,AAMRQ,AAPL,ABI,ABS,ABT,ABX,ACKH,ACV,ADM,AD...\n",
            "1     1996-01-03  AAL,AAMRQ,AAPL,ABI,ABS,ABT,ABX,ACKH,ACV,ADM,AD...\n",
            "2     1996-01-04  AAL,AAMRQ,AAPL,ABI,ABS,ABT,ABX,ACKH,ACV,ADM,AD...\n",
            "3     1996-01-10  AAL,AAMRQ,AAPL,ABI,ABS,ABT,ABX,ACKH,ACV,ADM,AD...\n",
            "4     1996-01-11  AAL,AAMRQ,AAPL,ABI,ABS,ABT,ABX,ACKH,ACV,ADM,AD...\n",
            "...          ...                                                ...\n",
            "2678  2024-03-25  A,AAL,AAPL,ABBV,ABNB,ABT,ACGL,ACN,ADBE,ADI,ADM...\n",
            "2679  2024-04-03  A,AAL,AAPL,ABBV,ABNB,ABT,ACGL,ACN,ADBE,ADI,ADM...\n",
            "2680  2024-05-08  A,AAL,AAPL,ABBV,ABNB,ABT,ACGL,ACN,ADBE,ADI,ADM...\n",
            "2681  2024-06-24  A,AAL,AAPL,ABBV,ABNB,ABT,ACGL,ACN,ADBE,ADI,ADM...\n",
            "2682  2024-07-08  A,AAL,AAPL,ABBV,ABNB,ABT,ACGL,ACN,ADBE,ADI,ADM...\n",
            "\n",
            "[2683 rows x 2 columns]\n"
          ]
        }
      ]
    },
    {
      "cell_type": "code",
      "source": [
        "# form a set of all stocks tickers\n",
        "tickers_set = set()\n",
        "for composition in df['tickers']:\n",
        "  curr_composition = composition.split(',')\n",
        "  tickers_set.update(curr_composition)\n",
        "\n",
        "print(\"Total number of tickers: {}\".format(len(tickers_set)))"
      ],
      "metadata": {
        "id": "a--2HhXr9Pho",
        "colab": {
          "base_uri": "https://localhost:8080/"
        },
        "outputId": "c62ed9fa-5fa7-46a5-9739-f86a1d61c8d0"
      },
      "execution_count": null,
      "outputs": [
        {
          "output_type": "stream",
          "name": "stdout",
          "text": [
            "Total number of tickers: 1168\n"
          ]
        }
      ]
    },
    {
      "cell_type": "code",
      "source": [
        "# form a dictionary where a key is a ticker\n",
        "# and a value is a list of data ranges when a stock was in the S&P index\n",
        "sp500_composition = {}\n",
        "counter = 1\n",
        "total = len(tickers_set)\n",
        "print(f\"Processing {total} tickers\")\n",
        "for tcr in tickers_set:\n",
        "  print(f\"\\rProcessing ticker # {counter}/{total}: {tcr}        \",end=\"\")\n",
        "  listed = False\n",
        "  # declare time stamp variables\n",
        "  start_timestamp = datetime.now()\n",
        "  last_timestamp = datetime.now()\n",
        "  # list of ranges when the current stock was a part of S&P index\n",
        "  range_list = []\n",
        "  # iterate through the time steps\n",
        "  for timestep in df.itertuples():\n",
        "    curr_timestamp = timestep.date\n",
        "    curr_tickers = timestep.tickers.split(',')\n",
        "    #print(curr_timestamp,curr_tickers)\n",
        "    if tcr not in curr_tickers:# ticker is not in current composition\n",
        "      if listed: # stock was listed before but now it is not\n",
        "        # form an entry in the list containing start and stop time stamps\n",
        "        range_entry = [start_timestamp,last_timestamp]\n",
        "        # add it to the list of ranges\n",
        "        range_list.append(range_entry)\n",
        "        listed = False\n",
        "    else: # ticker is in current composition\n",
        "      if not listed: # stock was not listed previously\n",
        "        # start tracking new range\n",
        "        start_timestamp = curr_timestamp\n",
        "        listed = True\n",
        "    last_timestamp = curr_timestamp\n",
        "  # we are done with current ticker\n",
        "  if listed:  # need to check if the range needs to be closed\n",
        "    # form an entry in the list containing start and stop time stamps\n",
        "    range_entry = [start_timestamp,last_timestamp]\n",
        "    # add it to the list of ranges\n",
        "    range_list.append(range_entry)\n",
        "  # add ticker and ranges to global dictionary\n",
        "  sp500_composition[tcr] = range_list\n",
        "  counter += 1\n",
        "\n",
        "print('\\rDone                                     ')"
      ],
      "metadata": {
        "id": "TmQYWq-WFX-5",
        "colab": {
          "base_uri": "https://localhost:8080/"
        },
        "outputId": "0018a6e0-8e4e-43cb-fe51-ef85c57ed697"
      },
      "execution_count": null,
      "outputs": [
        {
          "output_type": "stream",
          "name": "stdout",
          "text": [
            "Processing 1168 tickers\n",
            "Done                                     \n"
          ]
        }
      ]
    },
    {
      "cell_type": "code",
      "source": [
        "# create dataframe with linear ranges for each stock component\n",
        "# and save it to CSV file\n",
        "field_names = ['Ticker', 'Start', 'End']\n",
        "csv_file_name = 'S&P-Historical-Composition-Date-Ranges.csv'\n",
        "ranges_file_path = PRJ_PATH + CSV_CR_PATH + \"/\" + csv_file_name\n",
        "df_ranges = pd.DataFrame(columns = field_names)\n",
        "\n",
        "for ticker, date_ranges in sp500_composition.items():\n",
        "  for date_range in date_ranges:\n",
        "    df_ranges.loc[len(df_ranges.index)] = [ticker,date_range[0],date_range[1]]\n",
        "\n",
        "df_ranges.to_csv(ranges_file_path, index = False)"
      ],
      "metadata": {
        "id": "yJtrR19w6752"
      },
      "execution_count": null,
      "outputs": []
    },
    {
      "cell_type": "code",
      "source": [
        "# We can pick up where we left just from here by loading all found ranges\n",
        "csv_file_name = 'S&P-Historical-Composition-Date-Ranges.csv'\n",
        "ranges_file_path = PRJ_PATH + CSV_CR_PATH + \"/\" + csv_file_name\n",
        "df_ranges = pd.read_csv(ranges_file_path)\n",
        "print(df_ranges.describe())\n",
        "print(df_ranges)"
      ],
      "metadata": {
        "colab": {
          "base_uri": "https://localhost:8080/"
        },
        "id": "SaRn1q7_68Xx",
        "outputId": "4bfb3d02-af0e-40d7-922d-dc47901e6218"
      },
      "execution_count": null,
      "outputs": [
        {
          "output_type": "stream",
          "name": "stdout",
          "text": [
            "       Ticker       Start         End\n",
            "count    1216        1216        1216\n",
            "unique   1168         582         575\n",
            "top       COV  1996-01-02  2024-07-08\n",
            "freq        3         487         503\n",
            "     Ticker       Start         End\n",
            "0       BWA  2011-12-19  2024-07-08\n",
            "1      VIAB  2006-01-03  2019-11-21\n",
            "2      ATGE  2009-06-09  2012-09-25\n",
            "3       SLM  1998-07-01  2014-04-22\n",
            "4      QCOM  1999-07-22  2024-07-08\n",
            "...     ...         ...         ...\n",
            "1211    SMI  1996-01-02  2000-12-11\n",
            "1212    JHF  2001-06-29  2004-04-28\n",
            "1213    JEF  2007-08-27  2019-09-23\n",
            "1214   EVHC  2016-12-02  2018-10-10\n",
            "1215   PAYC  2020-01-28  2024-07-08\n",
            "\n",
            "[1216 rows x 3 columns]\n"
          ]
        }
      ]
    },
    {
      "cell_type": "code",
      "source": [
        "# iterate ranges and retrieve stocks data using Yahoo Finance services\n",
        "hist_data_path_yahoo = PRJ_PATH + DATA_PATH + \"/yahoo/\"\n",
        "if not os.path.exists(hist_data_path_yahoo):\n",
        "  os.makedirs(hist_data_path_yahoo)\n",
        "\n",
        "df_ranges_extended = df_ranges.copy()\n",
        "\n",
        "print('Retrieving historical data')\n",
        "for indx,(ticker, start, end) in df_ranges_extended.iterrows():\n",
        "  stock_ticker = yf.Ticker(ticker)\n",
        "  print(f'index: {indx}/{len(df_ranges_extended)}, ticker: {ticker}, start: {start}, stop: {end}')\n",
        "  try:\n",
        "    stock_info = stock_ticker.info\n",
        "    df_ranges_extended.at[indx,'Categorized'] = True\n",
        "    df_ranges_extended.at[indx,'Industry'] = stock_info['industry']\n",
        "    df_ranges_extended.at[indx,'Sector'] = stock_ticker.info['sector']\n",
        "    df_history = yf.download(ticker, start=start, end=end)\n",
        "    if df_history.empty:\n",
        "      df_ranges_extended.at[indx,'Downloaded'] = False\n",
        "    else:\n",
        "      df_ranges_extended.at[indx,'Downloaded'] = True\n",
        "      # save the history to a file\n",
        "      hist_file_name = ticker + '-' + start + '-' + end + '.csv'\n",
        "      hist_file_path = hist_data_path_yahoo + hist_file_name\n",
        "      df_history.to_csv(hist_file_path)\n",
        "  except:\n",
        "    df_ranges_extended.at[indx,'Categorized'] = False\n",
        "    df_ranges_extended.at[indx,'Downloaded'] = False\n",
        "\n",
        "csv_file_name = 'S&P-Historical-Composition-Date-Ranges-Yahoo.csv'\n",
        "ext_ranges_file_path = PRJ_PATH + CSV_CR_PATH + \"/\" + csv_file_name\n",
        "df_ranges_extended.to_csv(ext_ranges_file_path, index = False)\n",
        "\n",
        "print('Done')"
      ],
      "metadata": {
        "colab": {
          "base_uri": "https://localhost:8080/"
        },
        "id": "MvsyUoKg-Ous",
        "outputId": "99a1e39b-8af8-4921-912e-c9ed171834ad",
        "collapsed": true
      },
      "execution_count": null,
      "outputs": [
        {
          "output_type": "stream",
          "name": "stderr",
          "text": [
            "[*********************100%***********************]  1 of 1 completed\n",
            "[*********************100%***********************]  1 of 1 completed"
          ]
        },
        {
          "output_type": "stream",
          "name": "stdout",
          "text": [
            "Retrieving historical data\n",
            "index: 0/1216, ticker: BWA, start: 2011-12-19, stop: 2024-07-08\n",
            "index: 1/1216, ticker: VIAB, start: 2006-01-03, stop: 2019-11-21\n",
            "index: 2/1216, ticker: ATGE, start: 2009-06-09, stop: 2012-09-25\n"
          ]
        },
        {
          "output_type": "stream",
          "name": "stderr",
          "text": [
            "\n"
          ]
        },
        {
          "output_type": "stream",
          "name": "stdout",
          "text": [
            "index: 3/1216, ticker: SLM, start: 1998-07-01, stop: 2014-04-22\n"
          ]
        },
        {
          "output_type": "stream",
          "name": "stderr",
          "text": [
            "\r[*********************100%***********************]  1 of 1 completed\n"
          ]
        },
        {
          "output_type": "stream",
          "name": "stdout",
          "text": [
            "index: 4/1216, ticker: QCOM, start: 1999-07-22, stop: 2024-07-08\n"
          ]
        },
        {
          "output_type": "stream",
          "name": "stderr",
          "text": [
            "[*********************100%***********************]  1 of 1 completed\n",
            "[*********************100%***********************]  1 of 1 completed"
          ]
        },
        {
          "output_type": "stream",
          "name": "stdout",
          "text": [
            "index: 5/1216, ticker: EP, start: 1999-10-26, stop: 2012-05-23\n"
          ]
        },
        {
          "output_type": "stream",
          "name": "stderr",
          "text": [
            "\n"
          ]
        },
        {
          "output_type": "stream",
          "name": "stdout",
          "text": [
            "index: 6/1216, ticker: TPR, start: 2004-09-01, stop: 2024-07-08\n"
          ]
        },
        {
          "output_type": "stream",
          "name": "stderr",
          "text": [
            "[*********************100%***********************]  1 of 1 completed\n",
            "[*********************100%***********************]  1 of 1 completed"
          ]
        },
        {
          "output_type": "stream",
          "name": "stdout",
          "text": [
            "index: 7/1216, ticker: TDG, start: 2016-06-03, stop: 2024-07-08\n",
            "index: 8/1216, ticker: GP, start: 1996-01-02, stop: 2005-12-16\n"
          ]
        },
        {
          "output_type": "stream",
          "name": "stderr",
          "text": [
            "\n",
            "[*********************100%***********************]  1 of 1 completed\n",
            "ERROR:yfinance:\n",
            "1 Failed download:\n",
            "ERROR:yfinance:['GP']: YFPricesMissingError('$%ticker%: possibly delisted; no price data found  (1d 1996-01-02 -> 2005-12-16) (Yahoo error = \"Data doesn\\'t exist for startDate = 820558800, endDate = 1134709200\")')\n",
            "[*********************100%***********************]  1 of 1 completed"
          ]
        },
        {
          "output_type": "stream",
          "name": "stdout",
          "text": [
            "index: 9/1216, ticker: SII, start: 2006-10-02, stop: 2010-08-19\n"
          ]
        },
        {
          "output_type": "stream",
          "name": "stderr",
          "text": [
            "\n"
          ]
        },
        {
          "output_type": "stream",
          "name": "stdout",
          "text": [
            "index: 10/1216, ticker: EFX, start: 1997-06-19, stop: 2024-07-08\n"
          ]
        },
        {
          "output_type": "stream",
          "name": "stderr",
          "text": [
            "\r[*********************100%***********************]  1 of 1 completed\n"
          ]
        },
        {
          "output_type": "stream",
          "name": "stdout",
          "text": [
            "index: 11/1216, ticker: ANDW, start: 1996-01-02, stop: 2006-09-28\n",
            "index: 12/1216, ticker: FLIR, start: 2009-01-02, stop: 2021-04-20\n",
            "index: 13/1216, ticker: BAC, start: 1996-01-02, stop: 2024-07-08\n"
          ]
        },
        {
          "output_type": "stream",
          "name": "stderr",
          "text": [
            "\r[*********************100%***********************]  1 of 1 completed\n"
          ]
        },
        {
          "output_type": "stream",
          "name": "stdout",
          "text": [
            "index: 14/1216, ticker: USBC, start: 1996-01-02, stop: 1997-08-01\n"
          ]
        },
        {
          "output_type": "stream",
          "name": "stderr",
          "text": [
            "\r[*********************100%***********************]  1 of 1 completed\n",
            "ERROR:yfinance:\n",
            "1 Failed download:\n",
            "ERROR:yfinance:['USBC']: YFPricesMissingError('$%ticker%: possibly delisted; no price data found  (1d 1996-01-02 -> 1997-08-01) (Yahoo error = \"Data doesn\\'t exist for startDate = 820558800, endDate = 870408000\")')\n"
          ]
        },
        {
          "output_type": "stream",
          "name": "stdout",
          "text": [
            "index: 15/1216, ticker: DOW, start: 1996-01-02, stop: 2017-08-31\n"
          ]
        },
        {
          "output_type": "stream",
          "name": "stderr",
          "text": [
            "\r[*********************100%***********************]  1 of 1 completed\n",
            "ERROR:yfinance:\n",
            "1 Failed download:\n",
            "ERROR:yfinance:['DOW']: YFPricesMissingError('$%ticker%: possibly delisted; no price data found  (1d 1996-01-02 -> 2017-08-31) (Yahoo error = \"Data doesn\\'t exist for startDate = 820558800, endDate = 1504152000\")')\n",
            "[*********************100%***********************]  1 of 1 completed"
          ]
        },
        {
          "output_type": "stream",
          "name": "stdout",
          "text": [
            "index: 16/1216, ticker: DOW, start: 2019-04-02, stop: 2024-07-08\n"
          ]
        },
        {
          "output_type": "stream",
          "name": "stderr",
          "text": [
            "\n"
          ]
        },
        {
          "output_type": "stream",
          "name": "stdout",
          "text": [
            "index: 17/1216, ticker: BBBY, start: 1999-10-01, stop: 2017-07-25\n",
            "index: 18/1216, ticker: OM, start: 1996-01-02, stop: 1996-09-30\n"
          ]
        },
        {
          "output_type": "stream",
          "name": "stderr",
          "text": [
            "\r[*********************100%***********************]  1 of 1 completed\n",
            "ERROR:yfinance:\n",
            "1 Failed download:\n",
            "ERROR:yfinance:['OM']: YFPricesMissingError('$%ticker%: possibly delisted; no price data found  (1d 1996-01-02 -> 1996-09-30) (Yahoo error = \"Data doesn\\'t exist for startDate = 820558800, endDate = 844056000\")')\n"
          ]
        },
        {
          "output_type": "stream",
          "name": "stdout",
          "text": [
            "index: 19/1216, ticker: UST, start: 1996-01-02, stop: 2009-01-05\n",
            "index: 20/1216, ticker: ABS, start: 1996-01-02, stop: 2006-05-31\n",
            "index: 21/1216, ticker: AT, start: 1996-01-02, stop: 2007-11-16\n",
            "index: 22/1216, ticker: XLNX, start: 1999-11-08, stop: 2022-02-02\n",
            "index: 23/1216, ticker: WRB, start: 2019-12-05, stop: 2024-07-08\n"
          ]
        },
        {
          "output_type": "stream",
          "name": "stderr",
          "text": [
            "[*********************100%***********************]  1 of 1 completed\n",
            "[*********************100%***********************]  1 of 1 completed\n"
          ]
        },
        {
          "output_type": "stream",
          "name": "stdout",
          "text": [
            "index: 24/1216, ticker: FFIV, start: 2010-12-20, stop: 2024-07-08\n",
            "index: 25/1216, ticker: AYI, start: 2016-05-03, stop: 2018-06-15\n"
          ]
        },
        {
          "output_type": "stream",
          "name": "stderr",
          "text": [
            "\r[*********************100%***********************]  1 of 1 completed\n"
          ]
        },
        {
          "output_type": "stream",
          "name": "stdout",
          "text": [
            "index: 26/1216, ticker: BMET, start: 1996-01-02, stop: 2007-07-10\n",
            "index: 27/1216, ticker: DF, start: 2006-04-03, stop: 2013-05-17\n",
            "index: 28/1216, ticker: AL, start: 1996-01-02, stop: 2002-07-18\n"
          ]
        },
        {
          "output_type": "stream",
          "name": "stderr",
          "text": [
            "\r[*********************100%***********************]  1 of 1 completed\n",
            "ERROR:yfinance:\n",
            "1 Failed download:\n",
            "ERROR:yfinance:['AL']: YFPricesMissingError('$%ticker%: possibly delisted; no price data found  (1d 1996-01-02 -> 2002-07-18) (Yahoo error = \"Data doesn\\'t exist for startDate = 820558800, endDate = 1026964800\")')\n",
            "[*********************100%***********************]  1 of 1 completed\n"
          ]
        },
        {
          "output_type": "stream",
          "name": "stdout",
          "text": [
            "index: 29/1216, ticker: KMX, start: 2010-06-28, stop: 2024-07-08\n",
            "index: 30/1216, ticker: EW, start: 2011-04-01, stop: 2024-07-08\n"
          ]
        },
        {
          "output_type": "stream",
          "name": "stderr",
          "text": [
            "\r[*********************100%***********************]  1 of 1 completed\n"
          ]
        },
        {
          "output_type": "stream",
          "name": "stdout",
          "text": [
            "index: 31/1216, ticker: MAR, start: 1998-05-21, stop: 2024-07-08\n"
          ]
        },
        {
          "output_type": "stream",
          "name": "stderr",
          "text": [
            "[*********************100%***********************]  1 of 1 completed\n",
            "[*********************100%***********************]  1 of 1 completed"
          ]
        },
        {
          "output_type": "stream",
          "name": "stdout",
          "text": [
            "index: 32/1216, ticker: BIIB, start: 2003-11-13, stop: 2024-07-08\n"
          ]
        },
        {
          "output_type": "stream",
          "name": "stderr",
          "text": [
            "\n"
          ]
        },
        {
          "output_type": "stream",
          "name": "stdout",
          "text": [
            "index: 33/1216, ticker: ENRNQ, start: 1996-01-02, stop: 2001-11-26\n",
            "index: 34/1216, ticker: MCO, start: 1996-01-02, stop: 2024-07-08\n"
          ]
        },
        {
          "output_type": "stream",
          "name": "stderr",
          "text": [
            "\r[*********************100%***********************]  1 of 1 completed\n"
          ]
        },
        {
          "output_type": "stream",
          "name": "stdout",
          "text": [
            "index: 35/1216, ticker: MRK, start: 1996-01-02, stop: 2024-07-08\n"
          ]
        },
        {
          "output_type": "stream",
          "name": "stderr",
          "text": [
            "\r[*********************100%***********************]  1 of 1 completed\n"
          ]
        },
        {
          "output_type": "stream",
          "name": "stdout",
          "text": [
            "index: 36/1216, ticker: DAL, start: 2013-09-11, stop: 2024-07-08\n"
          ]
        },
        {
          "output_type": "stream",
          "name": "stderr",
          "text": [
            "\r[*********************100%***********************]  1 of 1 completed\n"
          ]
        },
        {
          "output_type": "stream",
          "name": "stdout",
          "text": [
            "index: 37/1216, ticker: DISH, start: 2017-03-13, stop: 2023-06-10\n"
          ]
        },
        {
          "output_type": "stream",
          "name": "stderr",
          "text": [
            "ERROR:yfinance:404 Client Error: Not Found for url: https://query2.finance.yahoo.com/v10/finance/quoteSummary/DISH?modules=financialData%2CquoteType%2CdefaultKeyStatistics%2CassetProfile%2CsummaryDetail&corsDomain=finance.yahoo.com&formatted=false&symbol=DISH&crumb=Ruaz%2F5CqVn4\n"
          ]
        },
        {
          "output_type": "stream",
          "name": "stdout",
          "text": [
            "index: 38/1216, ticker: EMN, start: 1996-01-02, stop: 2024-07-08\n"
          ]
        },
        {
          "output_type": "stream",
          "name": "stderr",
          "text": [
            "[*********************100%***********************]  1 of 1 completed\n",
            "[*********************100%***********************]  1 of 1 completed"
          ]
        },
        {
          "output_type": "stream",
          "name": "stdout",
          "text": [
            "index: 39/1216, ticker: TDC, start: 2007-10-01, stop: 2017-06-16\n",
            "index: 40/1216, ticker: MEL, start: 1996-01-02, stop: 2007-06-26\n",
            "index: 41/1216, ticker: ES, start: 2009-03-17, stop: 2024-07-08\n"
          ]
        },
        {
          "output_type": "stream",
          "name": "stderr",
          "text": [
            "\n",
            "[*********************100%***********************]  1 of 1 completed\n"
          ]
        },
        {
          "output_type": "stream",
          "name": "stdout",
          "text": [
            "index: 42/1216, ticker: HFC, start: 2018-06-18, stop: 2021-05-14\n",
            "index: 43/1216, ticker: SBNY, start: 2021-12-20, stop: 2023-01-04\n"
          ]
        },
        {
          "output_type": "stream",
          "name": "stderr",
          "text": [
            "\r[*********************100%***********************]  1 of 1 completed\n",
            "ERROR:yfinance:\n",
            "1 Failed download:\n",
            "ERROR:yfinance:['SBNY']: YFPricesMissingError('$%ticker%: possibly delisted; no price data found  (1d 2021-12-20 -> 2023-01-04) (Yahoo error = \"Data doesn\\'t exist for startDate = 1639976400, endDate = 1672808400\")')\n"
          ]
        },
        {
          "output_type": "stream",
          "name": "stdout",
          "text": [
            "index: 44/1216, ticker: DGN, start: 1996-01-02, stop: 1999-10-12\n",
            "index: 45/1216, ticker: F, start: 1996-01-02, stop: 2024-07-08\n"
          ]
        },
        {
          "output_type": "stream",
          "name": "stderr",
          "text": [
            "\r[*********************100%***********************]  1 of 1 completed\n"
          ]
        },
        {
          "output_type": "stream",
          "name": "stdout",
          "text": [
            "index: 46/1216, ticker: OK, start: 1999-12-02, stop: 2001-03-30\n",
            "index: 47/1216, ticker: LU, start: 1996-10-01, stop: 2006-11-22\n"
          ]
        },
        {
          "output_type": "stream",
          "name": "stderr",
          "text": [
            "\r[*********************100%***********************]  1 of 1 completed\n",
            "ERROR:yfinance:\n",
            "1 Failed download:\n",
            "ERROR:yfinance:['LU']: YFPricesMissingError('$%ticker%: possibly delisted; no price data found  (1d 1996-10-01 -> 2006-11-22) (Yahoo error = \"Data doesn\\'t exist for startDate = 844142400, endDate = 1164171600\")')\n"
          ]
        },
        {
          "output_type": "stream",
          "name": "stdout",
          "text": [
            "index: 48/1216, ticker: TXN, start: 1996-01-02, stop: 2024-07-08\n"
          ]
        },
        {
          "output_type": "stream",
          "name": "stderr",
          "text": [
            "[*********************100%***********************]  1 of 1 completed\n",
            "[*********************100%***********************]  1 of 1 completed"
          ]
        },
        {
          "output_type": "stream",
          "name": "stdout",
          "text": [
            "index: 49/1216, ticker: CMCSK, start: 2015-09-21, stop: 2015-12-09\n",
            "index: 50/1216, ticker: RBD, start: 1996-01-02, stop: 1999-03-24\n",
            "index: 51/1216, ticker: AMT, start: 2007-11-19, stop: 2024-07-08\n"
          ]
        },
        {
          "output_type": "stream",
          "name": "stderr",
          "text": [
            "\n",
            "\r[*********************100%***********************]  1 of 1 completed\n"
          ]
        },
        {
          "output_type": "stream",
          "name": "stdout",
          "text": [
            "index: 52/1216, ticker: TRMB, start: 2021-01-21, stop: 2024-07-08\n",
            "index: 53/1216, ticker: FIS, start: 2006-11-10, stop: 2024-07-08\n"
          ]
        },
        {
          "output_type": "stream",
          "name": "stderr",
          "text": [
            "\r[*********************100%***********************]  1 of 1 completed\n"
          ]
        },
        {
          "output_type": "stream",
          "name": "stdout",
          "text": [
            "index: 54/1216, ticker: MMM, start: 1996-01-02, stop: 2024-07-08\n"
          ]
        },
        {
          "output_type": "stream",
          "name": "stderr",
          "text": [
            "\r[*********************100%***********************]  1 of 1 completed\n"
          ]
        },
        {
          "output_type": "stream",
          "name": "stdout",
          "text": [
            "index: 55/1216, ticker: RIG, start: 1999-12-31, stop: 2008-12-16\n"
          ]
        },
        {
          "output_type": "stream",
          "name": "stderr",
          "text": [
            "[*********************100%***********************]  1 of 1 completed\n",
            "[*********************100%***********************]  1 of 1 completed\n",
            "[*********************100%***********************]  1 of 1 completed"
          ]
        },
        {
          "output_type": "stream",
          "name": "stdout",
          "text": [
            "index: 56/1216, ticker: RIG, start: 2013-10-29, stop: 2017-07-25\n",
            "index: 57/1216, ticker: NOW, start: 2019-11-21, stop: 2024-07-08\n"
          ]
        },
        {
          "output_type": "stream",
          "name": "stderr",
          "text": [
            "\n",
            "[*********************100%***********************]  1 of 1 completed\n"
          ]
        },
        {
          "output_type": "stream",
          "name": "stdout",
          "text": [
            "index: 58/1216, ticker: CZR, start: 2021-03-22, stop: 2024-07-08\n",
            "index: 59/1216, ticker: MTB, start: 2004-02-27, stop: 2024-07-08\n"
          ]
        },
        {
          "output_type": "stream",
          "name": "stderr",
          "text": [
            "[*********************100%***********************]  1 of 1 completed\n",
            "[*********************100%***********************]  1 of 1 completed"
          ]
        },
        {
          "output_type": "stream",
          "name": "stdout",
          "text": [
            "index: 60/1216, ticker: SAPE, start: 2000-05-05, stop: 2002-05-10\n",
            "index: 61/1216, ticker: GWW, start: 1996-01-02, stop: 2024-07-08\n"
          ]
        },
        {
          "output_type": "stream",
          "name": "stderr",
          "text": [
            "\n",
            "\r[*********************100%***********************]  1 of 1 completed"
          ]
        },
        {
          "output_type": "stream",
          "name": "stdout",
          "text": [
            "index: 62/1216, ticker: SRCL, start: 2008-11-19, stop: 2018-11-29\n"
          ]
        },
        {
          "output_type": "stream",
          "name": "stderr",
          "text": [
            "\n"
          ]
        },
        {
          "output_type": "stream",
          "name": "stdout",
          "text": [
            "index: 63/1216, ticker: AMAT, start: 1996-01-02, stop: 2024-07-08\n"
          ]
        },
        {
          "output_type": "stream",
          "name": "stderr",
          "text": [
            "[*********************100%***********************]  1 of 1 completed\n",
            "[*********************100%***********************]  1 of 1 completed"
          ]
        },
        {
          "output_type": "stream",
          "name": "stdout",
          "text": [
            "index: 64/1216, ticker: AGN, start: 1996-01-02, stop: 2020-04-06\n",
            "index: 65/1216, ticker: INVH, start: 2022-09-19, stop: 2024-07-08\n",
            "index: 66/1216, ticker: IEX, start: 2019-08-09, stop: 2024-07-08\n"
          ]
        },
        {
          "output_type": "stream",
          "name": "stderr",
          "text": [
            "\n",
            "[*********************100%***********************]  1 of 1 completed\n"
          ]
        },
        {
          "output_type": "stream",
          "name": "stdout",
          "text": [
            "index: 67/1216, ticker: RE, start: 2017-06-19, stop: 2023-06-07\n"
          ]
        },
        {
          "output_type": "stream",
          "name": "stderr",
          "text": [
            "ERROR:yfinance:404 Client Error: Not Found for url: https://query2.finance.yahoo.com/v10/finance/quoteSummary/RE?modules=financialData%2CquoteType%2CdefaultKeyStatistics%2CassetProfile%2CsummaryDetail&corsDomain=finance.yahoo.com&formatted=false&symbol=RE&crumb=Ruaz%2F5CqVn4\n",
            "[*********************100%***********************]  1 of 1 completed"
          ]
        },
        {
          "output_type": "stream",
          "name": "stdout",
          "text": [
            "index: 68/1216, ticker: GOOG, start: 2014-04-03, stop: 2024-07-08\n"
          ]
        },
        {
          "output_type": "stream",
          "name": "stderr",
          "text": [
            "\n",
            "[*********************100%***********************]  1 of 1 completed"
          ]
        },
        {
          "output_type": "stream",
          "name": "stdout",
          "text": [
            "index: 69/1216, ticker: BBT, start: 1997-12-04, stop: 2019-12-05\n",
            "index: 70/1216, ticker: NCLH, start: 2017-10-13, stop: 2024-07-08\n",
            "index: 71/1216, ticker: STX, start: 2012-07-02, stop: 2024-07-08\n"
          ]
        },
        {
          "output_type": "stream",
          "name": "stderr",
          "text": [
            "\n",
            "[*********************100%***********************]  1 of 1 completed\n"
          ]
        },
        {
          "output_type": "stream",
          "name": "stdout",
          "text": [
            "index: 72/1216, ticker: LH, start: 2004-11-01, stop: 2024-07-08\n"
          ]
        },
        {
          "output_type": "stream",
          "name": "stderr",
          "text": [
            "[*********************100%***********************]  1 of 1 completed\n",
            "[*********************100%***********************]  1 of 1 completed"
          ]
        },
        {
          "output_type": "stream",
          "name": "stdout",
          "text": [
            "index: 73/1216, ticker: IAC, start: 2006-12-01, stop: 2008-08-18\n",
            "index: 74/1216, ticker: GLK, start: 1996-01-02, stop: 2005-06-30\n",
            "index: 75/1216, ticker: MEDI, start: 2000-06-16, stop: 2007-05-31\n"
          ]
        },
        {
          "output_type": "stream",
          "name": "stderr",
          "text": [
            "\n"
          ]
        },
        {
          "output_type": "stream",
          "name": "stdout",
          "text": [
            "index: 76/1216, ticker: ABBV, start: 2013-01-02, stop: 2024-07-08\n"
          ]
        },
        {
          "output_type": "stream",
          "name": "stderr",
          "text": [
            "[*********************100%***********************]  1 of 1 completed\n",
            "[*********************100%***********************]  1 of 1 completed"
          ]
        },
        {
          "output_type": "stream",
          "name": "stdout",
          "text": [
            "index: 77/1216, ticker: QEP, start: 2010-07-01, stop: 2015-06-30\n",
            "index: 78/1216, ticker: CSGP, start: 2022-09-19, stop: 2024-07-08\n"
          ]
        },
        {
          "output_type": "stream",
          "name": "stderr",
          "text": [
            "\n",
            "\r[*********************100%***********************]  1 of 1 completed\n"
          ]
        },
        {
          "output_type": "stream",
          "name": "stdout",
          "text": [
            "index: 79/1216, ticker: CRWD, start: 2024-06-24, stop: 2024-07-08\n",
            "index: 80/1216, ticker: DG, start: 1998-07-16, stop: 2007-07-06\n"
          ]
        },
        {
          "output_type": "stream",
          "name": "stderr",
          "text": [
            "\r[*********************100%***********************]  1 of 1 completed\n",
            "ERROR:yfinance:\n",
            "1 Failed download:\n",
            "ERROR:yfinance:['DG']: YFPricesMissingError('$%ticker%: possibly delisted; no price data found  (1d 1998-07-16 -> 2007-07-06) (Yahoo error = \"Data doesn\\'t exist for startDate = 900561600, endDate = 1183694400\")')\n",
            "[*********************100%***********************]  1 of 1 completed\n"
          ]
        },
        {
          "output_type": "stream",
          "name": "stdout",
          "text": [
            "index: 81/1216, ticker: DG, start: 2012-12-03, stop: 2024-07-08\n",
            "index: 82/1216, ticker: TIF, start: 2000-06-21, stop: 2020-12-21\n",
            "index: 83/1216, ticker: CTAS, start: 2001-03-01, stop: 2024-07-08\n"
          ]
        },
        {
          "output_type": "stream",
          "name": "stderr",
          "text": [
            "\r[*********************100%***********************]  1 of 1 completed\n"
          ]
        },
        {
          "output_type": "stream",
          "name": "stdout",
          "text": [
            "index: 84/1216, ticker: MOLX, start: 1999-12-01, stop: 2013-12-03\n",
            "index: 85/1216, ticker: NRG, start: 2010-01-29, stop: 2024-07-08\n"
          ]
        },
        {
          "output_type": "stream",
          "name": "stderr",
          "text": [
            "\r[*********************100%***********************]  1 of 1 completed\n"
          ]
        },
        {
          "output_type": "stream",
          "name": "stdout",
          "text": [
            "index: 86/1216, ticker: CELG, start: 2006-11-06, stop: 2019-11-05\n",
            "index: 87/1216, ticker: CPGX, start: 2015-07-02, stop: 2016-06-27\n",
            "index: 88/1216, ticker: EVRG, start: 2018-06-05, stop: 2024-07-08\n"
          ]
        },
        {
          "output_type": "stream",
          "name": "stderr",
          "text": [
            "[*********************100%***********************]  1 of 1 completed\n",
            "[*********************100%***********************]  1 of 1 completed\n"
          ]
        },
        {
          "output_type": "stream",
          "name": "stdout",
          "text": [
            "index: 89/1216, ticker: PARA, start: 2022-02-17, stop: 2024-07-08\n",
            "index: 90/1216, ticker: CAM, start: 2008-01-29, stop: 2016-03-31\n",
            "index: 91/1216, ticker: CMB, start: 1996-01-02, stop: 1996-03-29\n",
            "index: 92/1216, ticker: ED, start: 1996-01-02, stop: 2024-07-08\n"
          ]
        },
        {
          "output_type": "stream",
          "name": "stderr",
          "text": [
            "\r[*********************100%***********************]  1 of 1 completed\n"
          ]
        },
        {
          "output_type": "stream",
          "name": "stdout",
          "text": [
            "index: 93/1216, ticker: JWN, start: 1996-01-02, stop: 2020-05-22\n"
          ]
        },
        {
          "output_type": "stream",
          "name": "stderr",
          "text": [
            "\r[*********************100%***********************]  1 of 1 completed\n"
          ]
        },
        {
          "output_type": "stream",
          "name": "stdout",
          "text": [
            "index: 94/1216, ticker: MKG, start: 1996-01-02, stop: 2000-10-17\n",
            "index: 95/1216, ticker: RCL, start: 2014-12-05, stop: 2024-07-08\n"
          ]
        },
        {
          "output_type": "stream",
          "name": "stderr",
          "text": [
            "\r[*********************100%***********************]  1 of 1 completed\n"
          ]
        },
        {
          "output_type": "stream",
          "name": "stdout",
          "text": [
            "index: 96/1216, ticker: MMI, start: 2011-01-04, stop: 2012-05-15\n"
          ]
        },
        {
          "output_type": "stream",
          "name": "stderr",
          "text": [
            "\r[*********************100%***********************]  1 of 1 completed\n",
            "ERROR:yfinance:\n",
            "1 Failed download:\n",
            "ERROR:yfinance:['MMI']: YFPricesMissingError('$%ticker%: possibly delisted; no price data found  (1d 2011-01-04 -> 2012-05-15) (Yahoo error = \"Data doesn\\'t exist for startDate = 1294117200, endDate = 1337054400\")')\n",
            "[*********************100%***********************]  1 of 1 completed\n"
          ]
        },
        {
          "output_type": "stream",
          "name": "stdout",
          "text": [
            "index: 97/1216, ticker: CYM, start: 1996-01-02, stop: 1999-10-14\n",
            "index: 98/1216, ticker: ELV, start: 2022-06-28, stop: 2024-07-08\n",
            "index: 99/1216, ticker: MXIM, start: 2000-05-10, stop: 2007-09-26\n",
            "index: 100/1216, ticker: MXIM, start: 2018-12-03, stop: 2021-08-03\n",
            "index: 101/1216, ticker: CITGQ, start: 2004-10-27, stop: 2009-07-17\n"
          ]
        },
        {
          "output_type": "stream",
          "name": "stderr",
          "text": [
            "ERROR:yfinance:404 Client Error: Not Found for url: https://query2.finance.yahoo.com/v10/finance/quoteSummary/CITGQ?modules=financialData%2CquoteType%2CdefaultKeyStatistics%2CassetProfile%2CsummaryDetail&corsDomain=finance.yahoo.com&formatted=false&symbol=CITGQ&crumb=Ruaz%2F5CqVn4\n"
          ]
        },
        {
          "output_type": "stream",
          "name": "stdout",
          "text": [
            "index: 102/1216, ticker: CCU, start: 1997-09-02, stop: 2008-07-29\n"
          ]
        },
        {
          "output_type": "stream",
          "name": "stderr",
          "text": [
            "[*********************100%***********************]  1 of 1 completed\n",
            "[*********************100%***********************]  1 of 1 completed"
          ]
        },
        {
          "output_type": "stream",
          "name": "stdout",
          "text": [
            "index: 103/1216, ticker: FI, start: 2023-06-07, stop: 2024-07-08\n"
          ]
        },
        {
          "output_type": "stream",
          "name": "stderr",
          "text": [
            "\n"
          ]
        },
        {
          "output_type": "stream",
          "name": "stdout",
          "text": [
            "index: 104/1216, ticker: L, start: 1996-01-02, stop: 2024-07-08\n"
          ]
        },
        {
          "output_type": "stream",
          "name": "stderr",
          "text": [
            "\r[*********************100%***********************]  1 of 1 completed\n"
          ]
        },
        {
          "output_type": "stream",
          "name": "stdout",
          "text": [
            "index: 105/1216, ticker: FLMIQ, start: 1996-01-02, stop: 1997-12-19\n",
            "index: 106/1216, ticker: GHC, start: 2007-12-31, stop: 2014-09-19\n"
          ]
        },
        {
          "output_type": "stream",
          "name": "stderr",
          "text": [
            "\r[*********************100%***********************]  1 of 1 completed\n"
          ]
        },
        {
          "output_type": "stream",
          "name": "stdout",
          "text": [
            "index: 107/1216, ticker: UNM, start: 1996-01-02, stop: 2021-08-30\n"
          ]
        },
        {
          "output_type": "stream",
          "name": "stderr",
          "text": [
            "\r[*********************100%***********************]  1 of 1 completed\n"
          ]
        },
        {
          "output_type": "stream",
          "name": "stdout",
          "text": [
            "index: 108/1216, ticker: EMC, start: 1996-03-28, stop: 2016-09-06\n",
            "index: 109/1216, ticker: HLT, start: 1996-01-02, stop: 2007-10-24\n"
          ]
        },
        {
          "output_type": "stream",
          "name": "stderr",
          "text": [
            "\r[*********************100%***********************]  1 of 1 completed\n",
            "ERROR:yfinance:\n",
            "1 Failed download:\n",
            "ERROR:yfinance:['HLT']: YFPricesMissingError('$%ticker%: possibly delisted; no price data found  (1d 1996-01-02 -> 2007-10-24) (Yahoo error = \"Data doesn\\'t exist for startDate = 820558800, endDate = 1193198400\")')\n",
            "[*********************100%***********************]  1 of 1 completed"
          ]
        },
        {
          "output_type": "stream",
          "name": "stdout",
          "text": [
            "index: 110/1216, ticker: HLT, start: 2017-06-19, stop: 2024-07-08\n"
          ]
        },
        {
          "output_type": "stream",
          "name": "stderr",
          "text": [
            "\n",
            "\r[*********************100%***********************]  1 of 1 completed"
          ]
        },
        {
          "output_type": "stream",
          "name": "stdout",
          "text": [
            "index: 111/1216, ticker: BNI, start: 1996-01-02, stop: 2010-02-10\n",
            "index: 112/1216, ticker: FSH, start: 2004-08-03, stop: 2006-11-07\n",
            "index: 113/1216, ticker: CNX, start: 2006-06-28, stop: 2016-03-03\n"
          ]
        },
        {
          "output_type": "stream",
          "name": "stderr",
          "text": [
            "\n"
          ]
        },
        {
          "output_type": "stream",
          "name": "stdout",
          "text": [
            "index: 114/1216, ticker: MO, start: 1996-01-02, stop: 2024-07-08\n"
          ]
        },
        {
          "output_type": "stream",
          "name": "stderr",
          "text": [
            "\r[*********************100%***********************]  1 of 1 completed\n"
          ]
        },
        {
          "output_type": "stream",
          "name": "stdout",
          "text": [
            "index: 115/1216, ticker: FITB, start: 1996-03-08, stop: 2024-07-08\n"
          ]
        },
        {
          "output_type": "stream",
          "name": "stderr",
          "text": [
            "\r[*********************100%***********************]  1 of 1 completed\n"
          ]
        },
        {
          "output_type": "stream",
          "name": "stdout",
          "text": [
            "index: 116/1216, ticker: PSA, start: 2005-08-19, stop: 2024-07-08\n"
          ]
        },
        {
          "output_type": "stream",
          "name": "stderr",
          "text": [
            "\r[*********************100%***********************]  1 of 1 completed\n"
          ]
        },
        {
          "output_type": "stream",
          "name": "stdout",
          "text": [
            "index: 117/1216, ticker: ITW, start: 1996-01-02, stop: 2024-07-08\n"
          ]
        },
        {
          "output_type": "stream",
          "name": "stderr",
          "text": [
            "\r[*********************100%***********************]  1 of 1 completed\n"
          ]
        },
        {
          "output_type": "stream",
          "name": "stdout",
          "text": [
            "index: 118/1216, ticker: RAL, start: 1996-01-02, stop: 2001-12-06\n",
            "index: 119/1216, ticker: GGP, start: 2007-07-02, stop: 2008-11-12\n",
            "index: 120/1216, ticker: GGP, start: 2013-12-10, stop: 2018-08-20\n",
            "index: 121/1216, ticker: KRFT, start: 2012-10-02, stop: 2015-07-02\n",
            "index: 122/1216, ticker: LYV, start: 2019-12-23, stop: 2024-07-08\n"
          ]
        },
        {
          "output_type": "stream",
          "name": "stderr",
          "text": [
            "\r[*********************100%***********************]  1 of 1 completed\n"
          ]
        },
        {
          "output_type": "stream",
          "name": "stdout",
          "text": [
            "index: 123/1216, ticker: AES, start: 1998-10-02, stop: 2024-07-08\n"
          ]
        },
        {
          "output_type": "stream",
          "name": "stderr",
          "text": [
            "\r[*********************100%***********************]  1 of 1 completed\n"
          ]
        },
        {
          "output_type": "stream",
          "name": "stdout",
          "text": [
            "index: 124/1216, ticker: RMD, start: 2017-07-26, stop: 2024-07-08\n"
          ]
        },
        {
          "output_type": "stream",
          "name": "stderr",
          "text": [
            "\r[*********************100%***********************]  1 of 1 completed\n"
          ]
        },
        {
          "output_type": "stream",
          "name": "stdout",
          "text": [
            "index: 125/1216, ticker: KMI, start: 2000-12-12, stop: 2007-05-24\n"
          ]
        },
        {
          "output_type": "stream",
          "name": "stderr",
          "text": [
            "\r[*********************100%***********************]  1 of 1 completed\n",
            "ERROR:yfinance:\n",
            "1 Failed download:\n",
            "ERROR:yfinance:['KMI']: YFPricesMissingError('$%ticker%: possibly delisted; no price data found  (1d 2000-12-12 -> 2007-05-24) (Yahoo error = \"Data doesn\\'t exist for startDate = 976597200, endDate = 1179979200\")')\n",
            "[*********************100%***********************]  1 of 1 completed\n"
          ]
        },
        {
          "output_type": "stream",
          "name": "stdout",
          "text": [
            "index: 126/1216, ticker: KMI, start: 2012-05-25, stop: 2024-07-08\n",
            "index: 127/1216, ticker: HBAN, start: 1997-08-06, stop: 2024-07-08\n"
          ]
        },
        {
          "output_type": "stream",
          "name": "stderr",
          "text": [
            "\r[*********************100%***********************]  1 of 1 completed\n"
          ]
        },
        {
          "output_type": "stream",
          "name": "stdout",
          "text": [
            "index: 128/1216, ticker: KMG, start: 1996-01-02, stop: 2006-08-10\n",
            "index: 129/1216, ticker: TEG, start: 2007-02-22, stop: 2015-06-24\n",
            "index: 130/1216, ticker: CSRA, start: 2015-11-30, stop: 2018-04-02\n",
            "index: 131/1216, ticker: PHA, start: 1996-01-02, stop: 2003-04-07\n",
            "index: 132/1216, ticker: K, start: 1996-01-02, stop: 2024-07-08\n"
          ]
        },
        {
          "output_type": "stream",
          "name": "stderr",
          "text": [
            "\r[*********************100%***********************]  1 of 1 completed\n"
          ]
        },
        {
          "output_type": "stream",
          "name": "stdout",
          "text": [
            "index: 133/1216, ticker: VMC, start: 1999-07-01, stop: 2024-07-08\n"
          ]
        },
        {
          "output_type": "stream",
          "name": "stderr",
          "text": [
            "\r[*********************100%***********************]  1 of 1 completed\n"
          ]
        },
        {
          "output_type": "stream",
          "name": "stdout",
          "text": [
            "index: 134/1216, ticker: CSE, start: 1996-01-22, stop: 1999-11-12\n",
            "index: 135/1216, ticker: WMT, start: 1996-01-02, stop: 2024-07-08\n"
          ]
        },
        {
          "output_type": "stream",
          "name": "stderr",
          "text": [
            "\r[*********************100%***********************]  1 of 1 completed\n"
          ]
        },
        {
          "output_type": "stream",
          "name": "stdout",
          "text": [
            "index: 136/1216, ticker: ASC, start: 1996-01-02, stop: 1999-06-23\n"
          ]
        },
        {
          "output_type": "stream",
          "name": "stderr",
          "text": [
            "\r[*********************100%***********************]  1 of 1 completed\n",
            "ERROR:yfinance:\n",
            "1 Failed download:\n",
            "ERROR:yfinance:['ASC']: YFPricesMissingError('$%ticker%: possibly delisted; no price data found  (1d 1996-01-02 -> 1999-06-23) (Yahoo error = \"Data doesn\\'t exist for startDate = 820558800, endDate = 930110400\")')\n"
          ]
        },
        {
          "output_type": "stream",
          "name": "stdout",
          "text": [
            "index: 137/1216, ticker: SLR, start: 1998-12-31, stop: 2007-10-01\n",
            "index: 138/1216, ticker: PD, start: 1996-01-02, stop: 2007-03-16\n"
          ]
        },
        {
          "output_type": "stream",
          "name": "stderr",
          "text": [
            "\r[*********************100%***********************]  1 of 1 completed\n",
            "ERROR:yfinance:\n",
            "1 Failed download:\n",
            "ERROR:yfinance:['PD']: YFPricesMissingError('$%ticker%: possibly delisted; no price data found  (1d 1996-01-02 -> 2007-03-16) (Yahoo error = \"Data doesn\\'t exist for startDate = 820558800, endDate = 1174017600\")')\n"
          ]
        },
        {
          "output_type": "stream",
          "name": "stdout",
          "text": [
            "index: 139/1216, ticker: CHA, start: 1996-01-02, stop: 2000-06-16\n",
            "index: 140/1216, ticker: AMCC, start: 2001-01-02, stop: 2006-05-10\n",
            "index: 141/1216, ticker: PET, start: 1996-01-02, stop: 1998-06-26\n"
          ]
        },
        {
          "output_type": "stream",
          "name": "stderr",
          "text": [
            "\r[*********************100%***********************]  1 of 1 completed\n",
            "ERROR:yfinance:\n",
            "1 Failed download:\n",
            "ERROR:yfinance:['PET']: YFPricesMissingError('$%ticker%: possibly delisted; no price data found  (1d 1996-01-02 -> 1998-06-26) (Yahoo error = \"Data doesn\\'t exist for startDate = 820558800, endDate = 898833600\")')\n",
            "[*********************100%***********************]  1 of 1 completed\n"
          ]
        },
        {
          "output_type": "stream",
          "name": "stdout",
          "text": [
            "index: 142/1216, ticker: NDSN, start: 2022-02-15, stop: 2024-07-08\n",
            "index: 143/1216, ticker: HOLX, start: 2016-03-30, stop: 2024-07-08\n"
          ]
        },
        {
          "output_type": "stream",
          "name": "stderr",
          "text": [
            "\r[*********************100%***********************]  1 of 1 completed\n"
          ]
        },
        {
          "output_type": "stream",
          "name": "stdout",
          "text": [
            "index: 144/1216, ticker: DPHIQ, start: 1999-05-28, stop: 2005-10-10\n"
          ]
        },
        {
          "output_type": "stream",
          "name": "stderr",
          "text": [
            "ERROR:yfinance:404 Client Error: Not Found for url: https://query2.finance.yahoo.com/v10/finance/quoteSummary/DPHIQ?modules=financialData%2CquoteType%2CdefaultKeyStatistics%2CassetProfile%2CsummaryDetail&corsDomain=finance.yahoo.com&formatted=false&symbol=DPHIQ&crumb=Ruaz%2F5CqVn4\n"
          ]
        },
        {
          "output_type": "stream",
          "name": "stdout",
          "text": [
            "index: 145/1216, ticker: CAT, start: 1996-01-02, stop: 2024-07-08\n"
          ]
        },
        {
          "output_type": "stream",
          "name": "stderr",
          "text": [
            "\r[*********************100%***********************]  1 of 1 completed\n"
          ]
        },
        {
          "output_type": "stream",
          "name": "stdout",
          "text": [
            "index: 146/1216, ticker: TWC, start: 2009-03-30, stop: 2016-05-17\n",
            "index: 147/1216, ticker: HAS, start: 1996-01-02, stop: 2024-07-08\n"
          ]
        },
        {
          "output_type": "stream",
          "name": "stderr",
          "text": [
            "\r[*********************100%***********************]  1 of 1 completed\n"
          ]
        },
        {
          "output_type": "stream",
          "name": "stdout",
          "text": [
            "index: 148/1216, ticker: DD, start: 1996-01-02, stop: 2017-08-31\n"
          ]
        },
        {
          "output_type": "stream",
          "name": "stderr",
          "text": [
            "[*********************100%***********************]  1 of 1 completed\n",
            "[*********************100%***********************]  1 of 1 completed\n"
          ]
        },
        {
          "output_type": "stream",
          "name": "stdout",
          "text": [
            "index: 149/1216, ticker: DD, start: 2019-06-03, stop: 2024-07-08\n",
            "index: 150/1216, ticker: IR, start: 1996-01-02, stop: 2009-06-30\n"
          ]
        },
        {
          "output_type": "stream",
          "name": "stderr",
          "text": [
            "\r[*********************100%***********************]  1 of 1 completed\n",
            "ERROR:yfinance:\n",
            "1 Failed download:\n",
            "ERROR:yfinance:['IR']: YFPricesMissingError('$%ticker%: possibly delisted; no price data found  (1d 1996-01-02 -> 2009-06-30) (Yahoo error = \"Data doesn\\'t exist for startDate = 820558800, endDate = 1246334400\")')\n",
            "[*********************100%***********************]  1 of 1 completed\n"
          ]
        },
        {
          "output_type": "stream",
          "name": "stdout",
          "text": [
            "index: 151/1216, ticker: IR, start: 2010-11-17, stop: 2024-07-08\n",
            "index: 152/1216, ticker: HSIC, start: 2015-03-18, stop: 2024-07-08\n"
          ]
        },
        {
          "output_type": "stream",
          "name": "stderr",
          "text": [
            "[*********************100%***********************]  1 of 1 completed\n",
            "[*********************100%***********************]  1 of 1 completed"
          ]
        },
        {
          "output_type": "stream",
          "name": "stdout",
          "text": [
            "index: 153/1216, ticker: UIS, start: 1996-01-02, stop: 2008-11-07\n"
          ]
        },
        {
          "output_type": "stream",
          "name": "stderr",
          "text": [
            "\n"
          ]
        },
        {
          "output_type": "stream",
          "name": "stdout",
          "text": [
            "index: 154/1216, ticker: KBH, start: 1996-01-02, stop: 2009-12-17\n"
          ]
        },
        {
          "output_type": "stream",
          "name": "stderr",
          "text": [
            "\r[*********************100%***********************]  1 of 1 completed\n"
          ]
        },
        {
          "output_type": "stream",
          "name": "stdout",
          "text": [
            "index: 155/1216, ticker: BSC, start: 1998-07-01, stop: 2008-05-29\n",
            "index: 156/1216, ticker: QTRN, start: 1999-11-16, stop: 2003-09-16\n",
            "index: 157/1216, ticker: WFM, start: 2006-01-03, stop: 2017-08-17\n",
            "index: 158/1216, ticker: SNI, start: 2008-07-01, stop: 2018-02-28\n",
            "index: 159/1216, ticker: MSCI, start: 2018-04-04, stop: 2024-07-08\n"
          ]
        },
        {
          "output_type": "stream",
          "name": "stderr",
          "text": [
            "\r[*********************100%***********************]  1 of 1 completed\n"
          ]
        },
        {
          "output_type": "stream",
          "name": "stdout",
          "text": [
            "index: 160/1216, ticker: WAB, start: 2019-02-27, stop: 2024-07-08\n"
          ]
        },
        {
          "output_type": "stream",
          "name": "stderr",
          "text": [
            "\r[*********************100%***********************]  1 of 1 completed\n"
          ]
        },
        {
          "output_type": "stream",
          "name": "stdout",
          "text": [
            "index: 161/1216, ticker: EBAY, start: 2002-07-22, stop: 2024-07-08\n"
          ]
        },
        {
          "output_type": "stream",
          "name": "stderr",
          "text": [
            "\r[*********************100%***********************]  1 of 1 completed\n"
          ]
        },
        {
          "output_type": "stream",
          "name": "stdout",
          "text": [
            "index: 162/1216, ticker: ADP, start: 1996-01-02, stop: 2024-07-08\n"
          ]
        },
        {
          "output_type": "stream",
          "name": "stderr",
          "text": [
            "[*********************100%***********************]  1 of 1 completed\n",
            "[*********************100%***********************]  1 of 1 completed\n"
          ]
        },
        {
          "output_type": "stream",
          "name": "stdout",
          "text": [
            "index: 163/1216, ticker: IQV, start: 2017-08-29, stop: 2024-07-08\n",
            "index: 164/1216, ticker: AIG, start: 1996-01-02, stop: 2024-07-08\n"
          ]
        },
        {
          "output_type": "stream",
          "name": "stderr",
          "text": [
            "[*********************100%***********************]  1 of 1 completed\n",
            "[*********************100%***********************]  1 of 1 completed"
          ]
        },
        {
          "output_type": "stream",
          "name": "stdout",
          "text": [
            "index: 165/1216, ticker: PSX, start: 2012-05-01, stop: 2024-07-08\n",
            "index: 166/1216, ticker: NVR, start: 2019-09-26, stop: 2024-07-08\n"
          ]
        },
        {
          "output_type": "stream",
          "name": "stderr",
          "text": [
            "\n",
            "\r[*********************100%***********************]  1 of 1 completed\n"
          ]
        },
        {
          "output_type": "stream",
          "name": "stdout",
          "text": [
            "index: 167/1216, ticker: SRR, start: 1996-01-02, stop: 1997-10-06\n",
            "index: 168/1216, ticker: CVC, start: 2010-12-20, stop: 2016-06-20\n",
            "index: 169/1216, ticker: MDP, start: 1996-01-02, stop: 2010-12-31\n"
          ]
        },
        {
          "output_type": "stream",
          "name": "stderr",
          "text": [
            "ERROR:yfinance:404 Client Error: Not Found for url: https://query2.finance.yahoo.com/v10/finance/quoteSummary/MDP?modules=financialData%2CquoteType%2CdefaultKeyStatistics%2CassetProfile%2CsummaryDetail&corsDomain=finance.yahoo.com&formatted=false&symbol=MDP&crumb=Ruaz%2F5CqVn4\n"
          ]
        },
        {
          "output_type": "stream",
          "name": "stdout",
          "text": [
            "index: 170/1216, ticker: COO, start: 2016-09-23, stop: 2024-07-08\n"
          ]
        },
        {
          "output_type": "stream",
          "name": "stderr",
          "text": [
            "\r[*********************100%***********************]  1 of 1 completed\n"
          ]
        },
        {
          "output_type": "stream",
          "name": "stdout",
          "text": [
            "index: 171/1216, ticker: STR, start: 2006-12-01, stop: 2010-06-29\n"
          ]
        },
        {
          "output_type": "stream",
          "name": "stderr",
          "text": [
            "\r[*********************100%***********************]  1 of 1 completed\n",
            "ERROR:yfinance:\n",
            "1 Failed download:\n",
            "ERROR:yfinance:['STR']: YFPricesMissingError('$%ticker%: possibly delisted; no price data found  (1d 2006-12-01 -> 2010-06-29) (Yahoo error = \"Data doesn\\'t exist for startDate = 1164949200, endDate = 1277784000\")')\n",
            "[*********************100%***********************]  1 of 1 completed\n"
          ]
        },
        {
          "output_type": "stream",
          "name": "stdout",
          "text": [
            "index: 172/1216, ticker: CTVA, start: 2019-06-03, stop: 2024-07-08\n",
            "index: 173/1216, ticker: KR, start: 1996-01-02, stop: 2024-07-08\n"
          ]
        },
        {
          "output_type": "stream",
          "name": "stderr",
          "text": [
            "\r[*********************100%***********************]  1 of 1 completed\n"
          ]
        },
        {
          "output_type": "stream",
          "name": "stdout",
          "text": [
            "index: 174/1216, ticker: COC.B, start: 1999-08-09, stop: 2002-08-29\n",
            "index: 175/1216, ticker: ACS, start: 2004-04-02, stop: 2010-02-02\n",
            "index: 176/1216, ticker: DALRQ, start: 1996-01-02, stop: 2005-08-18\n"
          ]
        },
        {
          "output_type": "stream",
          "name": "stderr",
          "text": [
            "ERROR:yfinance:404 Client Error: Not Found for url: https://query2.finance.yahoo.com/v10/finance/quoteSummary/DALRQ?modules=financialData%2CquoteType%2CdefaultKeyStatistics%2CassetProfile%2CsummaryDetail&corsDomain=finance.yahoo.com&formatted=false&symbol=DALRQ&crumb=Ruaz%2F5CqVn4\n",
            "[*********************100%***********************]  1 of 1 completed\n"
          ]
        },
        {
          "output_type": "stream",
          "name": "stdout",
          "text": [
            "index: 177/1216, ticker: ULTA, start: 2016-04-18, stop: 2024-07-08\n",
            "index: 178/1216, ticker: BF.B, start: 1996-01-02, stop: 2024-07-08\n",
            "index: 179/1216, ticker: NCE, start: 1998-11-03, stop: 2000-08-17\n",
            "index: 180/1216, ticker: LB, start: 1996-01-02, stop: 2021-07-21\n"
          ]
        },
        {
          "output_type": "stream",
          "name": "stderr",
          "text": [
            "\r[*********************100%***********************]  1 of 1 completed\n",
            "ERROR:yfinance:\n",
            "1 Failed download:\n",
            "ERROR:yfinance:['LB']: YFPricesMissingError('$%ticker%: possibly delisted; no price data found  (1d 1996-01-02 -> 2021-07-21) (Yahoo error = \"Data doesn\\'t exist for startDate = 820558800, endDate = 1626840000\")')\n"
          ]
        },
        {
          "output_type": "stream",
          "name": "stdout",
          "text": [
            "index: 181/1216, ticker: NBL, start: 2007-10-08, stop: 2020-10-07\n",
            "index: 182/1216, ticker: SBUX, start: 2000-06-08, stop: 2024-07-08\n"
          ]
        },
        {
          "output_type": "stream",
          "name": "stderr",
          "text": [
            "\r[*********************100%***********************]  1 of 1 completed\n"
          ]
        },
        {
          "output_type": "stream",
          "name": "stdout",
          "text": [
            "index: 183/1216, ticker: NSI, start: 1996-01-02, stop: 2001-11-30\n",
            "index: 184/1216, ticker: WEN, start: 1996-01-02, stop: 2008-09-26\n"
          ]
        },
        {
          "output_type": "stream",
          "name": "stderr",
          "text": [
            "\r[*********************100%***********************]  1 of 1 completed\n"
          ]
        },
        {
          "output_type": "stream",
          "name": "stdout",
          "text": [
            "index: 185/1216, ticker: ABC, start: 2001-08-30, stop: 2023-08-25\n"
          ]
        },
        {
          "output_type": "stream",
          "name": "stderr",
          "text": [
            "ERROR:yfinance:404 Client Error: Not Found for url: https://query2.finance.yahoo.com/v10/finance/quoteSummary/ABC?modules=financialData%2CquoteType%2CdefaultKeyStatistics%2CassetProfile%2CsummaryDetail&corsDomain=finance.yahoo.com&formatted=false&symbol=ABC&crumb=Ruaz%2F5CqVn4\n"
          ]
        },
        {
          "output_type": "stream",
          "name": "stdout",
          "text": [
            "index: 186/1216, ticker: SEG, start: 1996-08-16, stop: 2000-11-20\n"
          ]
        },
        {
          "output_type": "stream",
          "name": "stderr",
          "text": [
            "\r[*********************100%***********************]  1 of 1 completed\n",
            "ERROR:yfinance:\n",
            "1 Failed download:\n",
            "ERROR:yfinance:['SEG']: YFPricesMissingError('$%ticker%: possibly delisted; no price data found  (1d 1996-08-16 -> 2000-11-20) (Yahoo error = \"Data doesn\\'t exist for startDate = 840168000, endDate = 974696400\")')\n",
            "[*********************100%***********************]  1 of 1 completed\n"
          ]
        },
        {
          "output_type": "stream",
          "name": "stdout",
          "text": [
            "index: 187/1216, ticker: STLD, start: 2022-12-22, stop: 2024-07-08\n",
            "index: 188/1216, ticker: FCN, start: 1996-01-02, stop: 1998-10-01\n"
          ]
        },
        {
          "output_type": "stream",
          "name": "stderr",
          "text": [
            "\r[*********************100%***********************]  1 of 1 completed\n"
          ]
        },
        {
          "output_type": "stream",
          "name": "stdout",
          "text": [
            "index: 189/1216, ticker: ADSK, start: 1996-01-02, stop: 2024-07-08\n"
          ]
        },
        {
          "output_type": "stream",
          "name": "stderr",
          "text": [
            "\r[*********************100%***********************]  1 of 1 completed\n"
          ]
        },
        {
          "output_type": "stream",
          "name": "stdout",
          "text": [
            "index: 190/1216, ticker: BJS, start: 2002-05-15, stop: 2010-04-21\n",
            "index: 191/1216, ticker: ANDV, start: 2007-09-27, stop: 2018-09-24\n",
            "index: 192/1216, ticker: EFU, start: 1996-01-02, stop: 2000-10-30\n",
            "index: 193/1216, ticker: KORS, start: 2013-11-13, stop: 2018-09-18\n",
            "index: 194/1216, ticker: MSI, start: 1996-01-02, stop: 2024-07-08\n"
          ]
        },
        {
          "output_type": "stream",
          "name": "stderr",
          "text": [
            "\r[*********************100%***********************]  1 of 1 completed\n"
          ]
        },
        {
          "output_type": "stream",
          "name": "stdout",
          "text": [
            "index: 195/1216, ticker: AMZN, start: 2005-11-21, stop: 2024-07-08\n"
          ]
        },
        {
          "output_type": "stream",
          "name": "stderr",
          "text": [
            "\r[*********************100%***********************]  1 of 1 completed\n"
          ]
        },
        {
          "output_type": "stream",
          "name": "stdout",
          "text": [
            "index: 196/1216, ticker: KIM, start: 2006-04-03, stop: 2024-07-08\n"
          ]
        },
        {
          "output_type": "stream",
          "name": "stderr",
          "text": [
            "[*********************100%***********************]  1 of 1 completed\n",
            "[*********************100%***********************]  1 of 1 completed"
          ]
        },
        {
          "output_type": "stream",
          "name": "stdout",
          "text": [
            "index: 197/1216, ticker: PEL, start: 1996-01-02, stop: 1997-06-18\n",
            "index: 198/1216, ticker: MTW, start: 2007-11-16, stop: 2009-08-31\n"
          ]
        },
        {
          "output_type": "stream",
          "name": "stderr",
          "text": [
            "\n",
            "\r[*********************100%***********************]  1 of 1 completed\n"
          ]
        },
        {
          "output_type": "stream",
          "name": "stdout",
          "text": [
            "index: 199/1216, ticker: GDDY, start: 2024-06-24, stop: 2024-07-08\n",
            "index: 200/1216, ticker: SIAL, start: 1996-01-02, stop: 2015-11-17\n",
            "index: 201/1216, ticker: DCNAQ, start: 1996-01-02, stop: 2006-03-02\n"
          ]
        },
        {
          "output_type": "stream",
          "name": "stderr",
          "text": [
            "ERROR:yfinance:404 Client Error: Not Found for url: https://query2.finance.yahoo.com/v10/finance/quoteSummary/DCNAQ?modules=financialData%2CquoteType%2CdefaultKeyStatistics%2CassetProfile%2CsummaryDetail&corsDomain=finance.yahoo.com&formatted=false&symbol=DCNAQ&crumb=Ruaz%2F5CqVn4\n"
          ]
        },
        {
          "output_type": "stream",
          "name": "stdout",
          "text": [
            "index: 202/1216, ticker: SOV, start: 2004-07-01, stop: 2009-01-28\n",
            "index: 203/1216, ticker: LNT, start: 2016-07-01, stop: 2024-07-08\n"
          ]
        },
        {
          "output_type": "stream",
          "name": "stderr",
          "text": [
            "\r[*********************100%***********************]  1 of 1 completed\n"
          ]
        },
        {
          "output_type": "stream",
          "name": "stdout",
          "text": [
            "index: 204/1216, ticker: GNT, start: 1996-03-13, stop: 1998-06-30\n"
          ]
        },
        {
          "output_type": "stream",
          "name": "stderr",
          "text": [
            "\r[*********************100%***********************]  1 of 1 completed\n",
            "ERROR:yfinance:\n",
            "1 Failed download:\n",
            "ERROR:yfinance:['GNT']: YFPricesMissingError('$%ticker%: possibly delisted; no price data found  (1d 1996-03-13 -> 1998-06-30) (Yahoo error = \"Data doesn\\'t exist for startDate = 826693200, endDate = 899179200\")')\n"
          ]
        },
        {
          "output_type": "stream",
          "name": "stdout",
          "text": [
            "index: 205/1216, ticker: BGEN, start: 2000-01-31, stop: 2003-11-12\n",
            "index: 206/1216, ticker: FTI, start: 2009-06-05, stop: 2021-01-21\n"
          ]
        },
        {
          "output_type": "stream",
          "name": "stderr",
          "text": [
            "\r[*********************100%***********************]  1 of 1 completed\n"
          ]
        },
        {
          "output_type": "stream",
          "name": "stdout",
          "text": [
            "index: 207/1216, ticker: BDK, start: 1996-01-02, stop: 2010-03-11\n",
            "index: 208/1216, ticker: CVG, start: 2000-06-13, stop: 2009-12-17\n",
            "index: 209/1216, ticker: MERQ, start: 2000-06-29, stop: 2006-01-03\n",
            "index: 210/1216, ticker: EOG, start: 2000-11-02, stop: 2024-07-08\n"
          ]
        },
        {
          "output_type": "stream",
          "name": "stderr",
          "text": [
            "\r[*********************100%***********************]  1 of 1 completed\n"
          ]
        },
        {
          "output_type": "stream",
          "name": "stdout",
          "text": [
            "index: 211/1216, ticker: GILD, start: 2004-07-01, stop: 2024-07-08\n"
          ]
        },
        {
          "output_type": "stream",
          "name": "stderr",
          "text": [
            "\r[*********************100%***********************]  1 of 1 completed\n"
          ]
        },
        {
          "output_type": "stream",
          "name": "stdout",
          "text": [
            "index: 212/1216, ticker: EQ, start: 2006-05-18, stop: 2009-06-30\n"
          ]
        },
        {
          "output_type": "stream",
          "name": "stderr",
          "text": [
            "\r[*********************100%***********************]  1 of 1 completed\n",
            "ERROR:yfinance:\n",
            "1 Failed download:\n",
            "ERROR:yfinance:['EQ']: YFPricesMissingError('$%ticker%: possibly delisted; no price data found  (1d 2006-05-18 -> 2009-06-30) (Yahoo error = \"Data doesn\\'t exist for startDate = 1147924800, endDate = 1246334400\")')\n"
          ]
        },
        {
          "output_type": "stream",
          "name": "stdout",
          "text": [
            "index: 213/1216, ticker: TIN, start: 1996-01-02, stop: 2007-12-27\n",
            "index: 214/1216, ticker: KM, start: 1996-01-02, stop: 2002-01-15\n",
            "index: 215/1216, ticker: RATL, start: 2002-02-01, stop: 2003-02-18\n",
            "index: 216/1216, ticker: HAR, start: 2006-02-01, stop: 2017-03-10\n",
            "index: 217/1216, ticker: GNW, start: 2005-12-02, stop: 2015-11-17\n"
          ]
        },
        {
          "output_type": "stream",
          "name": "stderr",
          "text": [
            "\r[*********************100%***********************]  1 of 1 completed\n"
          ]
        },
        {
          "output_type": "stream",
          "name": "stdout",
          "text": [
            "index: 218/1216, ticker: TIE, start: 2007-10-29, stop: 2012-12-21\n",
            "index: 219/1216, ticker: KRB, start: 1996-01-02, stop: 2005-12-29\n",
            "index: 220/1216, ticker: HCP, start: 2008-03-31, stop: 2019-10-18\n"
          ]
        },
        {
          "output_type": "stream",
          "name": "stderr",
          "text": [
            "\r[*********************100%***********************]  1 of 1 completed\n",
            "ERROR:yfinance:\n",
            "1 Failed download:\n",
            "ERROR:yfinance:['HCP']: YFPricesMissingError('$%ticker%: possibly delisted; no price data found  (1d 2008-03-31 -> 2019-10-18) (Yahoo error = \"Data doesn\\'t exist for startDate = 1206936000, endDate = 1571371200\")')\n",
            "[*********************100%***********************]  1 of 1 completed\n"
          ]
        },
        {
          "output_type": "stream",
          "name": "stdout",
          "text": [
            "index: 221/1216, ticker: EPAM, start: 2021-12-14, stop: 2024-07-08\n",
            "index: 222/1216, ticker: HSH, start: 1996-01-02, stop: 2012-06-25\n",
            "index: 223/1216, ticker: AON, start: 1996-04-23, stop: 2024-07-08\n"
          ]
        },
        {
          "output_type": "stream",
          "name": "stderr",
          "text": [
            "\r[*********************100%***********************]  1 of 1 completed\n"
          ]
        },
        {
          "output_type": "stream",
          "name": "stdout",
          "text": [
            "index: 224/1216, ticker: CAR, start: 1996-01-02, stop: 2006-07-31\n"
          ]
        },
        {
          "output_type": "stream",
          "name": "stderr",
          "text": [
            "[*********************100%***********************]  1 of 1 completed\n",
            "[*********************100%***********************]  1 of 1 completed\n"
          ]
        },
        {
          "output_type": "stream",
          "name": "stdout",
          "text": [
            "index: 225/1216, ticker: NWS, start: 2015-09-21, stop: 2024-07-08\n",
            "index: 226/1216, ticker: DUK, start: 1996-01-02, stop: 2024-07-08\n"
          ]
        },
        {
          "output_type": "stream",
          "name": "stderr",
          "text": [
            "\r[*********************100%***********************]  1 of 1 completed\n"
          ]
        },
        {
          "output_type": "stream",
          "name": "stdout",
          "text": [
            "index: 227/1216, ticker: YNR, start: 2000-01-06, stop: 2000-10-02\n",
            "index: 228/1216, ticker: AZO, start: 1997-01-02, stop: 2024-07-08\n"
          ]
        },
        {
          "output_type": "stream",
          "name": "stderr",
          "text": [
            "[*********************100%***********************]  1 of 1 completed\n",
            "[*********************100%***********************]  1 of 1 completed"
          ]
        },
        {
          "output_type": "stream",
          "name": "stdout",
          "text": [
            "index: 229/1216, ticker: WOR, start: 1996-01-02, stop: 2004-12-16\n"
          ]
        },
        {
          "output_type": "stream",
          "name": "stderr",
          "text": [
            "\n"
          ]
        },
        {
          "output_type": "stream",
          "name": "stdout",
          "text": [
            "index: 230/1216, ticker: HIG, start: 1996-01-02, stop: 2024-07-08\n"
          ]
        },
        {
          "output_type": "stream",
          "name": "stderr",
          "text": [
            "[*********************100%***********************]  1 of 1 completed\n",
            "[*********************100%***********************]  1 of 1 completed"
          ]
        },
        {
          "output_type": "stream",
          "name": "stdout",
          "text": [
            "index: 231/1216, ticker: PWER, start: 2000-10-23, stop: 2005-03-09\n",
            "index: 232/1216, ticker: SBAC, start: 2017-09-01, stop: 2024-07-08\n",
            "index: 233/1216, ticker: IP, start: 1996-01-02, stop: 2024-07-08\n"
          ]
        },
        {
          "output_type": "stream",
          "name": "stderr",
          "text": [
            "\n",
            "[*********************100%***********************]  1 of 1 completed\n"
          ]
        },
        {
          "output_type": "stream",
          "name": "stdout",
          "text": [
            "index: 234/1216, ticker: ASN, start: 2004-12-20, stop: 2007-10-04\n",
            "index: 235/1216, ticker: PNU, start: 1996-01-02, stop: 2000-03-29\n",
            "index: 236/1216, ticker: TXU, start: 1996-01-02, stop: 2007-10-09\n",
            "index: 237/1216, ticker: TEX, start: 2006-12-20, stop: 2008-11-05\n"
          ]
        },
        {
          "output_type": "stream",
          "name": "stderr",
          "text": [
            "\r[*********************100%***********************]  1 of 1 completed\n"
          ]
        },
        {
          "output_type": "stream",
          "name": "stdout",
          "text": [
            "index: 238/1216, ticker: PH, start: 1996-01-02, stop: 2024-07-08\n"
          ]
        },
        {
          "output_type": "stream",
          "name": "stderr",
          "text": [
            "[*********************100%***********************]  1 of 1 completed\n",
            "[*********************100%***********************]  1 of 1 completed"
          ]
        },
        {
          "output_type": "stream",
          "name": "stdout",
          "text": [
            "index: 239/1216, ticker: REGN, start: 2013-05-01, stop: 2024-07-08\n",
            "index: 240/1216, ticker: RX, start: 1996-11-04, stop: 2010-02-23\n"
          ]
        },
        {
          "output_type": "stream",
          "name": "stderr",
          "text": [
            "\n"
          ]
        },
        {
          "output_type": "stream",
          "name": "stdout",
          "text": [
            "index: 241/1216, ticker: STO, start: 1996-01-02, stop: 1998-11-17\n",
            "index: 242/1216, ticker: HST, start: 2007-03-20, stop: 2024-07-08\n"
          ]
        },
        {
          "output_type": "stream",
          "name": "stderr",
          "text": [
            "[*********************100%***********************]  1 of 1 completed\n",
            "[*********************100%***********************]  1 of 1 completed\n"
          ]
        },
        {
          "output_type": "stream",
          "name": "stdout",
          "text": [
            "index: 243/1216, ticker: NKTR, start: 2018-03-19, stop: 2019-09-26\n",
            "index: 244/1216, ticker: IPG, start: 1996-01-02, stop: 2024-07-08\n"
          ]
        },
        {
          "output_type": "stream",
          "name": "stderr",
          "text": [
            "[*********************100%***********************]  1 of 1 completed\n",
            "[*********************100%***********************]  1 of 1 completed\n"
          ]
        },
        {
          "output_type": "stream",
          "name": "stdout",
          "text": [
            "index: 245/1216, ticker: LULU, start: 2023-10-18, stop: 2024-07-08\n",
            "index: 246/1216, ticker: BC, start: 1996-01-02, stop: 2008-06-18\n"
          ]
        },
        {
          "output_type": "stream",
          "name": "stderr",
          "text": [
            "\r[*********************100%***********************]  1 of 1 completed\n"
          ]
        },
        {
          "output_type": "stream",
          "name": "stdout",
          "text": [
            "index: 247/1216, ticker: FMCC, start: 1996-01-02, stop: 2008-09-08\n"
          ]
        },
        {
          "output_type": "stream",
          "name": "stderr",
          "text": [
            "\r[*********************100%***********************]  1 of 1 completed\n"
          ]
        },
        {
          "output_type": "stream",
          "name": "stdout",
          "text": [
            "index: 248/1216, ticker: NLSN, start: 2013-07-09, stop: 2022-10-03\n",
            "index: 249/1216, ticker: KSU, start: 1999-04-05, stop: 2000-07-10\n",
            "index: 250/1216, ticker: KSU, start: 2013-05-24, stop: 2021-10-04\n",
            "index: 251/1216, ticker: PALM, start: 2000-07-28, stop: 2002-08-09\n",
            "index: 252/1216, ticker: AVB, start: 2007-01-10, stop: 2024-07-08\n"
          ]
        },
        {
          "output_type": "stream",
          "name": "stderr",
          "text": [
            "[*********************100%***********************]  1 of 1 completed\n",
            "[*********************100%***********************]  1 of 1 completed\n"
          ]
        },
        {
          "output_type": "stream",
          "name": "stdout",
          "text": [
            "index: 253/1216, ticker: PYPL, start: 2015-07-20, stop: 2024-07-08\n",
            "index: 254/1216, ticker: NBR, start: 2000-10-18, stop: 2015-03-19\n"
          ]
        },
        {
          "output_type": "stream",
          "name": "stderr",
          "text": [
            "\r[*********************100%***********************]  1 of 1 completed\n"
          ]
        },
        {
          "output_type": "stream",
          "name": "stdout",
          "text": [
            "index: 255/1216, ticker: UDR, start: 2016-03-07, stop: 2024-07-08\n"
          ]
        },
        {
          "output_type": "stream",
          "name": "stderr",
          "text": [
            "[*********************100%***********************]  1 of 1 completed\n",
            "[*********************100%***********************]  1 of 1 completed\n"
          ]
        },
        {
          "output_type": "stream",
          "name": "stdout",
          "text": [
            "index: 256/1216, ticker: IPGP, start: 2018-03-07, stop: 2022-06-09\n",
            "index: 257/1216, ticker: OGN, start: 2021-06-04, stop: 2023-10-02\n"
          ]
        },
        {
          "output_type": "stream",
          "name": "stderr",
          "text": [
            "\r[*********************100%***********************]  1 of 1 completed\n"
          ]
        },
        {
          "output_type": "stream",
          "name": "stdout",
          "text": [
            "index: 258/1216, ticker: TDM, start: 1996-01-02, stop: 1997-08-26\n",
            "index: 259/1216, ticker: CNP, start: 1996-01-02, stop: 2024-07-08\n"
          ]
        },
        {
          "output_type": "stream",
          "name": "stderr",
          "text": [
            "\r[*********************100%***********************]  1 of 1 completed\n"
          ]
        },
        {
          "output_type": "stream",
          "name": "stdout",
          "text": [
            "index: 260/1216, ticker: LDW.B, start: 1996-01-02, stop: 1999-12-07\n"
          ]
        },
        {
          "output_type": "stream",
          "name": "stderr",
          "text": [
            "ERROR:yfinance:404 Client Error: Not Found for url: https://query2.finance.yahoo.com/v10/finance/quoteSummary/LDW.B?modules=financialData%2CquoteType%2CdefaultKeyStatistics%2CassetProfile%2CsummaryDetail&corsDomain=finance.yahoo.com&formatted=false&symbol=LDW.B&crumb=Ruaz%2F5CqVn4\n",
            "[*********************100%***********************]  1 of 1 completed\n"
          ]
        },
        {
          "output_type": "stream",
          "name": "stdout",
          "text": [
            "index: 261/1216, ticker: ETSY, start: 2020-09-21, stop: 2024-07-08\n",
            "index: 262/1216, ticker: HWM, start: 2020-04-06, stop: 2024-07-08\n"
          ]
        },
        {
          "output_type": "stream",
          "name": "stderr",
          "text": [
            "\r[*********************100%***********************]  1 of 1 completed\n"
          ]
        },
        {
          "output_type": "stream",
          "name": "stdout",
          "text": [
            "index: 263/1216, ticker: SHN, start: 1996-01-02, stop: 1996-12-27\n"
          ]
        },
        {
          "output_type": "stream",
          "name": "stderr",
          "text": [
            "ERROR:yfinance:404 Client Error: Not Found for url: https://query2.finance.yahoo.com/v10/finance/quoteSummary/SHN?modules=financialData%2CquoteType%2CdefaultKeyStatistics%2CassetProfile%2CsummaryDetail&corsDomain=finance.yahoo.com&formatted=false&symbol=SHN&crumb=Ruaz%2F5CqVn4\n"
          ]
        },
        {
          "output_type": "stream",
          "name": "stdout",
          "text": [
            "index: 264/1216, ticker: XRX, start: 1996-01-02, stop: 2021-02-12\n"
          ]
        },
        {
          "output_type": "stream",
          "name": "stderr",
          "text": [
            "\r[*********************100%***********************]  1 of 1 completed\n"
          ]
        },
        {
          "output_type": "stream",
          "name": "stdout",
          "text": [
            "index: 265/1216, ticker: COST, start: 1996-01-02, stop: 2024-07-08\n"
          ]
        },
        {
          "output_type": "stream",
          "name": "stderr",
          "text": [
            "\r[*********************100%***********************]  1 of 1 completed\n"
          ]
        },
        {
          "output_type": "stream",
          "name": "stdout",
          "text": [
            "index: 266/1216, ticker: AXP, start: 1996-01-02, stop: 2024-07-08\n"
          ]
        },
        {
          "output_type": "stream",
          "name": "stderr",
          "text": [
            "\r[*********************100%***********************]  1 of 1 completed\n"
          ]
        },
        {
          "output_type": "stream",
          "name": "stdout",
          "text": [
            "index: 267/1216, ticker: INGR, start: 1996-01-02, stop: 1997-07-25\n"
          ]
        },
        {
          "output_type": "stream",
          "name": "stderr",
          "text": [
            "\r[*********************100%***********************]  1 of 1 completed\n",
            "ERROR:yfinance:\n",
            "1 Failed download:\n",
            "ERROR:yfinance:['INGR']: YFPricesMissingError('$%ticker%: possibly delisted; no price data found  (1d 1996-01-02 -> 1997-07-25) (Yahoo error = \"Data doesn\\'t exist for startDate = 820558800, endDate = 869803200\")')\n"
          ]
        },
        {
          "output_type": "stream",
          "name": "stdout",
          "text": [
            "index: 268/1216, ticker: RDS.A, start: 1996-01-02, stop: 2002-07-18\n",
            "index: 269/1216, ticker: BUD, start: 1996-01-02, stop: 2008-11-17\n"
          ]
        },
        {
          "output_type": "stream",
          "name": "stderr",
          "text": [
            "\r[*********************100%***********************]  1 of 1 completed\n",
            "ERROR:yfinance:\n",
            "1 Failed download:\n",
            "ERROR:yfinance:['BUD']: YFPricesMissingError('$%ticker%: possibly delisted; no price data found  (1d 1996-01-02 -> 2008-11-17) (Yahoo error = \"Data doesn\\'t exist for startDate = 820558800, endDate = 1226898000\")')\n"
          ]
        },
        {
          "output_type": "stream",
          "name": "stdout",
          "text": [
            "index: 270/1216, ticker: EC, start: 1996-01-02, stop: 2006-06-05\n"
          ]
        },
        {
          "output_type": "stream",
          "name": "stderr",
          "text": [
            "\r[*********************100%***********************]  1 of 1 completed\n",
            "ERROR:yfinance:\n",
            "1 Failed download:\n",
            "ERROR:yfinance:['EC']: YFPricesMissingError('$%ticker%: possibly delisted; no price data found  (1d 1996-01-02 -> 2006-06-05) (Yahoo error = \"Data doesn\\'t exist for startDate = 820558800, endDate = 1149480000\")')\n"
          ]
        },
        {
          "output_type": "stream",
          "name": "stdout",
          "text": [
            "index: 271/1216, ticker: MPC, start: 2011-07-01, stop: 2024-07-08\n"
          ]
        },
        {
          "output_type": "stream",
          "name": "stderr",
          "text": [
            "\r[*********************100%***********************]  1 of 1 completed\n"
          ]
        },
        {
          "output_type": "stream",
          "name": "stdout",
          "text": [
            "index: 272/1216, ticker: BK, start: 1996-01-02, stop: 2024-07-08\n"
          ]
        },
        {
          "output_type": "stream",
          "name": "stderr",
          "text": [
            "\r[*********************100%***********************]  1 of 1 completed\n"
          ]
        },
        {
          "output_type": "stream",
          "name": "stdout",
          "text": [
            "index: 273/1216, ticker: C, start: 1996-01-02, stop: 2024-07-08\n"
          ]
        },
        {
          "output_type": "stream",
          "name": "stderr",
          "text": [
            "\r[*********************100%***********************]  1 of 1 completed\n"
          ]
        },
        {
          "output_type": "stream",
          "name": "stdout",
          "text": [
            "index: 274/1216, ticker: BTUUQ, start: 2006-11-20, stop: 2014-09-19\n",
            "index: 275/1216, ticker: CMCSA, start: 1996-01-02, stop: 2024-07-08\n"
          ]
        },
        {
          "output_type": "stream",
          "name": "stderr",
          "text": [
            "\r[*********************100%***********************]  1 of 1 completed\n"
          ]
        },
        {
          "output_type": "stream",
          "name": "stdout",
          "text": [
            "index: 276/1216, ticker: RVTY, start: 2023-05-16, stop: 2024-07-08\n"
          ]
        },
        {
          "output_type": "stream",
          "name": "stderr",
          "text": [
            "\r[*********************100%***********************]  1 of 1 completed\n"
          ]
        },
        {
          "output_type": "stream",
          "name": "stdout",
          "text": [
            "index: 277/1216, ticker: FDX, start: 1996-01-02, stop: 2024-07-08\n"
          ]
        },
        {
          "output_type": "stream",
          "name": "stderr",
          "text": [
            "\r[*********************100%***********************]  1 of 1 completed\n"
          ]
        },
        {
          "output_type": "stream",
          "name": "stdout",
          "text": [
            "index: 278/1216, ticker: CTL, start: 1999-03-25, stop: 2020-06-22\n",
            "index: 279/1216, ticker: BLK, start: 2011-04-04, stop: 2024-07-08\n"
          ]
        },
        {
          "output_type": "stream",
          "name": "stderr",
          "text": [
            "\r[*********************100%***********************]  1 of 1 completed\n"
          ]
        },
        {
          "output_type": "stream",
          "name": "stdout",
          "text": [
            "index: 280/1216, ticker: CERN, start: 2010-04-30, stop: 2022-05-10\n",
            "index: 281/1216, ticker: AVGO, start: 2014-05-08, stop: 2024-07-08\n"
          ]
        },
        {
          "output_type": "stream",
          "name": "stderr",
          "text": [
            "\r[*********************100%***********************]  1 of 1 completed\n"
          ]
        },
        {
          "output_type": "stream",
          "name": "stdout",
          "text": [
            "index: 282/1216, ticker: FBO, start: 1996-01-02, stop: 1996-03-12\n",
            "index: 283/1216, ticker: VNO, start: 2005-08-12, stop: 2022-12-22\n"
          ]
        },
        {
          "output_type": "stream",
          "name": "stderr",
          "text": [
            "[*********************100%***********************]  1 of 1 completed\n",
            "[*********************100%***********************]  1 of 1 completed"
          ]
        },
        {
          "output_type": "stream",
          "name": "stdout",
          "text": [
            "index: 284/1216, ticker: DVA, start: 2008-07-31, stop: 2024-07-08\n"
          ]
        },
        {
          "output_type": "stream",
          "name": "stderr",
          "text": [
            "\n"
          ]
        },
        {
          "output_type": "stream",
          "name": "stdout",
          "text": [
            "index: 285/1216, ticker: APOL, start: 2002-05-15, stop: 2013-06-27\n",
            "index: 286/1216, ticker: DNR, start: 2009-04-02, stop: 2015-03-19\n",
            "index: 287/1216, ticker: SIG, start: 2015-07-29, stop: 2018-03-16\n"
          ]
        },
        {
          "output_type": "stream",
          "name": "stderr",
          "text": [
            "\r[*********************100%***********************]  1 of 1 completed\n"
          ]
        },
        {
          "output_type": "stream",
          "name": "stdout",
          "text": [
            "index: 288/1216, ticker: ETS, start: 1996-01-02, stop: 2001-08-03\n",
            "index: 289/1216, ticker: DTV, start: 2006-12-04, stop: 2015-07-23\n",
            "index: 290/1216, ticker: BLY, start: 1996-01-02, stop: 1996-12-18\n",
            "index: 291/1216, ticker: AWK, start: 2016-03-04, stop: 2024-07-08\n"
          ]
        },
        {
          "output_type": "stream",
          "name": "stderr",
          "text": [
            "\r[*********************100%***********************]  1 of 1 completed\n"
          ]
        },
        {
          "output_type": "stream",
          "name": "stdout",
          "text": [
            "index: 292/1216, ticker: ALTR, start: 2000-04-18, stop: 2015-12-21\n"
          ]
        },
        {
          "output_type": "stream",
          "name": "stderr",
          "text": [
            "\r[*********************100%***********************]  1 of 1 completed\n",
            "ERROR:yfinance:\n",
            "1 Failed download:\n",
            "ERROR:yfinance:['ALTR']: YFPricesMissingError('$%ticker%: possibly delisted; no price data found  (1d 2000-04-18 -> 2015-12-21) (Yahoo error = \"Data doesn\\'t exist for startDate = 956030400, endDate = 1450674000\")')\n"
          ]
        },
        {
          "output_type": "stream",
          "name": "stdout",
          "text": [
            "index: 293/1216, ticker: SK, start: 1996-01-02, stop: 1998-03-30\n",
            "index: 294/1216, ticker: BLS, start: 1996-01-02, stop: 2006-12-29\n",
            "index: 295/1216, ticker: UVN, start: 2001-02-07, stop: 2007-03-28\n",
            "index: 296/1216, ticker: ANTM, start: 2002-07-25, stop: 2022-06-21\n",
            "index: 297/1216, ticker: CTSH, start: 2006-11-17, stop: 2024-07-08\n"
          ]
        },
        {
          "output_type": "stream",
          "name": "stderr",
          "text": [
            "\r[*********************100%***********************]  1 of 1 completed\n"
          ]
        },
        {
          "output_type": "stream",
          "name": "stdout",
          "text": [
            "index: 298/1216, ticker: SE, start: 2007-01-03, stop: 2017-02-24\n"
          ]
        },
        {
          "output_type": "stream",
          "name": "stderr",
          "text": [
            "\r[*********************100%***********************]  1 of 1 completed\n",
            "ERROR:yfinance:\n",
            "1 Failed download:\n",
            "ERROR:yfinance:['SE']: YFPricesMissingError('$%ticker%: possibly delisted; no price data found  (1d 2007-01-03 -> 2017-02-24) (Yahoo error = \"Data doesn\\'t exist for startDate = 1167800400, endDate = 1487912400\")')\n"
          ]
        },
        {
          "output_type": "stream",
          "name": "stdout",
          "text": [
            "index: 299/1216, ticker: AW, start: 1999-08-02, stop: 2008-12-04\n",
            "index: 300/1216, ticker: GS, start: 2002-07-22, stop: 2024-07-08\n"
          ]
        },
        {
          "output_type": "stream",
          "name": "stderr",
          "text": [
            "\r[*********************100%***********************]  1 of 1 completed\n"
          ]
        },
        {
          "output_type": "stream",
          "name": "stdout",
          "text": [
            "index: 301/1216, ticker: AVY, start: 1996-01-02, stop: 2024-07-08\n"
          ]
        },
        {
          "output_type": "stream",
          "name": "stderr",
          "text": [
            "\r[*********************100%***********************]  1 of 1 completed\n"
          ]
        },
        {
          "output_type": "stream",
          "name": "stdout",
          "text": [
            "index: 302/1216, ticker: BSX, start: 1996-01-02, stop: 2024-07-08\n"
          ]
        },
        {
          "output_type": "stream",
          "name": "stderr",
          "text": [
            "\r[*********************100%***********************]  1 of 1 completed\n"
          ]
        },
        {
          "output_type": "stream",
          "name": "stdout",
          "text": [
            "index: 303/1216, ticker: IRM, start: 2009-01-06, stop: 2024-07-08\n"
          ]
        },
        {
          "output_type": "stream",
          "name": "stderr",
          "text": [
            "\r[*********************100%***********************]  1 of 1 completed\n"
          ]
        },
        {
          "output_type": "stream",
          "name": "stdout",
          "text": [
            "index: 304/1216, ticker: DDR, start: 2007-03-23, stop: 2009-03-27\n",
            "index: 305/1216, ticker: CAH, start: 1997-05-27, stop: 2024-07-08\n"
          ]
        },
        {
          "output_type": "stream",
          "name": "stderr",
          "text": [
            "\r[*********************100%***********************]  1 of 1 completed\n"
          ]
        },
        {
          "output_type": "stream",
          "name": "stdout",
          "text": [
            "index: 306/1216, ticker: XRAY, start: 2008-11-14, stop: 2024-03-25\n"
          ]
        },
        {
          "output_type": "stream",
          "name": "stderr",
          "text": [
            "\r[*********************100%***********************]  1 of 1 completed\n"
          ]
        },
        {
          "output_type": "stream",
          "name": "stdout",
          "text": [
            "index: 307/1216, ticker: FISV, start: 2001-04-02, stop: 2023-05-16\n",
            "index: 308/1216, ticker: WPX, start: 2012-01-03, stop: 2014-03-12\n",
            "index: 309/1216, ticker: ABX, start: 1996-01-02, stop: 2002-07-18\n",
            "index: 310/1216, ticker: JNJ, start: 1996-01-02, stop: 2024-07-08\n"
          ]
        },
        {
          "output_type": "stream",
          "name": "stderr",
          "text": [
            "\r[*********************100%***********************]  1 of 1 completed\n"
          ]
        },
        {
          "output_type": "stream",
          "name": "stdout",
          "text": [
            "index: 311/1216, ticker: NOC, start: 1996-01-02, stop: 2024-07-08\n"
          ]
        },
        {
          "output_type": "stream",
          "name": "stderr",
          "text": [
            "\r[*********************100%***********************]  1 of 1 completed\n"
          ]
        },
        {
          "output_type": "stream",
          "name": "stdout",
          "text": [
            "index: 312/1216, ticker: ADI, start: 1999-10-12, stop: 2024-07-08\n"
          ]
        },
        {
          "output_type": "stream",
          "name": "stderr",
          "text": [
            "[*********************100%***********************]  1 of 1 completed\n",
            "[*********************100%***********************]  1 of 1 completed"
          ]
        },
        {
          "output_type": "stream",
          "name": "stdout",
          "text": [
            "index: 313/1216, ticker: BHMSQ, start: 1996-01-02, stop: 2000-12-08\n",
            "index: 314/1216, ticker: GEHC, start: 2023-01-04, stop: 2024-07-08\n",
            "index: 315/1216, ticker: DFS, start: 2007-07-02, stop: 2024-07-08\n"
          ]
        },
        {
          "output_type": "stream",
          "name": "stderr",
          "text": [
            "\n",
            "[*********************100%***********************]  1 of 1 completed\n",
            "[*********************100%***********************]  1 of 1 completed\n"
          ]
        },
        {
          "output_type": "stream",
          "name": "stdout",
          "text": [
            "index: 316/1216, ticker: LW, start: 2018-12-03, stop: 2024-07-08\n",
            "index: 317/1216, ticker: WLP, start: 1999-06-09, stop: 2004-11-26\n",
            "index: 318/1216, ticker: LKQ, start: 2016-05-23, stop: 2024-07-08\n"
          ]
        },
        {
          "output_type": "stream",
          "name": "stderr",
          "text": [
            "\r[*********************100%***********************]  1 of 1 completed\n"
          ]
        },
        {
          "output_type": "stream",
          "name": "stdout",
          "text": [
            "index: 319/1216, ticker: TRW, start: 1996-01-02, stop: 2002-12-09\n",
            "index: 320/1216, ticker: PCAR, start: 1996-01-02, stop: 2024-07-08\n"
          ]
        },
        {
          "output_type": "stream",
          "name": "stderr",
          "text": [
            "\r[*********************100%***********************]  1 of 1 completed\n"
          ]
        },
        {
          "output_type": "stream",
          "name": "stdout",
          "text": [
            "index: 321/1216, ticker: XEL, start: 1996-01-02, stop: 2024-07-08\n"
          ]
        },
        {
          "output_type": "stream",
          "name": "stderr",
          "text": [
            "\r[*********************100%***********************]  1 of 1 completed\n"
          ]
        },
        {
          "output_type": "stream",
          "name": "stdout",
          "text": [
            "index: 322/1216, ticker: Q, start: 2000-07-06, stop: 2011-03-23\n",
            "index: 323/1216, ticker: ACV, start: 1996-01-02, stop: 2006-11-16\n"
          ]
        },
        {
          "output_type": "stream",
          "name": "stderr",
          "text": [
            "\r[*********************100%***********************]  1 of 1 completed\n",
            "ERROR:yfinance:\n",
            "1 Failed download:\n",
            "ERROR:yfinance:['ACV']: YFPricesMissingError('$%ticker%: possibly delisted; no price data found  (1d 1996-01-02 -> 2006-11-16) (Yahoo error = \"Data doesn\\'t exist for startDate = 820558800, endDate = 1163653200\")')\n"
          ]
        },
        {
          "output_type": "stream",
          "name": "stdout",
          "text": [
            "index: 324/1216, ticker: PHM, start: 1996-01-02, stop: 2024-07-08\n"
          ]
        },
        {
          "output_type": "stream",
          "name": "stderr",
          "text": [
            "\r[*********************100%***********************]  1 of 1 completed\n"
          ]
        },
        {
          "output_type": "stream",
          "name": "stdout",
          "text": [
            "index: 325/1216, ticker: MMC, start: 1996-01-02, stop: 2024-07-08\n"
          ]
        },
        {
          "output_type": "stream",
          "name": "stderr",
          "text": [
            "\r[*********************100%***********************]  1 of 1 completed\n"
          ]
        },
        {
          "output_type": "stream",
          "name": "stdout",
          "text": [
            "index: 326/1216, ticker: GL, start: 2019-08-08, stop: 2024-07-08\n"
          ]
        },
        {
          "output_type": "stream",
          "name": "stderr",
          "text": [
            "\r[*********************100%***********************]  1 of 1 completed\n"
          ]
        },
        {
          "output_type": "stream",
          "name": "stdout",
          "text": [
            "index: 327/1216, ticker: APH, start: 2008-09-30, stop: 2024-07-08\n"
          ]
        },
        {
          "output_type": "stream",
          "name": "stderr",
          "text": [
            "\r[*********************100%***********************]  1 of 1 completed\n"
          ]
        },
        {
          "output_type": "stream",
          "name": "stdout",
          "text": [
            "index: 328/1216, ticker: ADCT, start: 1999-08-02, stop: 2007-06-26\n"
          ]
        },
        {
          "output_type": "stream",
          "name": "stderr",
          "text": [
            "\r[*********************100%***********************]  1 of 1 completed\n",
            "ERROR:yfinance:\n",
            "1 Failed download:\n",
            "ERROR:yfinance:['ADCT']: YFPricesMissingError('$%ticker%: possibly delisted; no price data found  (1d 1999-08-02 -> 2007-06-26) (Yahoo error = \"Data doesn\\'t exist for startDate = 933566400, endDate = 1182830400\")')\n",
            "[*********************100%***********************]  1 of 1 completed\n"
          ]
        },
        {
          "output_type": "stream",
          "name": "stdout",
          "text": [
            "index: 329/1216, ticker: J, start: 2019-12-10, stop: 2024-07-08\n",
            "index: 330/1216, ticker: ZBH, start: 2001-08-07, stop: 2024-07-08\n"
          ]
        },
        {
          "output_type": "stream",
          "name": "stderr",
          "text": [
            "[*********************100%***********************]  1 of 1 completed\n",
            "[*********************100%***********************]  1 of 1 completed"
          ]
        },
        {
          "output_type": "stream",
          "name": "stdout",
          "text": [
            "index: 331/1216, ticker: ORLY, start: 2009-03-27, stop: 2024-07-08\n",
            "index: 332/1216, ticker: NAVI, start: 2014-05-01, stop: 2018-06-01\n"
          ]
        },
        {
          "output_type": "stream",
          "name": "stderr",
          "text": [
            "\n",
            "\r[*********************100%***********************]  1 of 1 completed\n"
          ]
        },
        {
          "output_type": "stream",
          "name": "stdout",
          "text": [
            "index: 333/1216, ticker: FSL, start: 2004-12-03, stop: 2006-12-01\n",
            "index: 334/1216, ticker: BRL, start: 2006-02-27, stop: 2008-12-22\n",
            "index: 335/1216, ticker: ACKH, start: 1996-01-02, stop: 2000-11-08\n"
          ]
        },
        {
          "output_type": "stream",
          "name": "stderr",
          "text": [
            "ERROR:yfinance:404 Client Error: Not Found for url: https://query2.finance.yahoo.com/v10/finance/quoteSummary/ACKH?modules=financialData%2CquoteType%2CdefaultKeyStatistics%2CassetProfile%2CsummaryDetail&corsDomain=finance.yahoo.com&formatted=false&symbol=ACKH&crumb=Ruaz%2F5CqVn4\n"
          ]
        },
        {
          "output_type": "stream",
          "name": "stdout",
          "text": [
            "index: 336/1216, ticker: GIDL, start: 1996-01-02, stop: 1997-07-09\n"
          ]
        },
        {
          "output_type": "stream",
          "name": "stderr",
          "text": [
            "ERROR:yfinance:404 Client Error: Not Found for url: https://query2.finance.yahoo.com/v10/finance/quoteSummary/GIDL?modules=financialData%2CquoteType%2CdefaultKeyStatistics%2CassetProfile%2CsummaryDetail&corsDomain=finance.yahoo.com&formatted=false&symbol=GIDL&crumb=Ruaz%2F5CqVn4\n"
          ]
        },
        {
          "output_type": "stream",
          "name": "stdout",
          "text": [
            "index: 337/1216, ticker: TCOMA, start: 1996-01-02, stop: 1999-03-08\n",
            "index: 338/1216, ticker: DNB, start: 2008-12-02, stop: 2017-04-04\n"
          ]
        },
        {
          "output_type": "stream",
          "name": "stderr",
          "text": [
            "\r[*********************100%***********************]  1 of 1 completed\n",
            "ERROR:yfinance:\n",
            "1 Failed download:\n",
            "ERROR:yfinance:['DNB']: YFPricesMissingError('$%ticker%: possibly delisted; no price data found  (1d 2008-12-02 -> 2017-04-04) (Yahoo error = \"Data doesn\\'t exist for startDate = 1228194000, endDate = 1491278400\")')\n",
            "[*********************100%***********************]  1 of 1 completed\n"
          ]
        },
        {
          "output_type": "stream",
          "name": "stdout",
          "text": [
            "index: 339/1216, ticker: TYL, start: 2020-06-22, stop: 2024-07-08\n",
            "index: 340/1216, ticker: LLX, start: 1996-01-02, stop: 1997-10-14\n",
            "index: 341/1216, ticker: LVS, start: 2019-10-03, stop: 2024-07-08\n"
          ]
        },
        {
          "output_type": "stream",
          "name": "stderr",
          "text": [
            "\r[*********************100%***********************]  1 of 1 completed\n"
          ]
        },
        {
          "output_type": "stream",
          "name": "stdout",
          "text": [
            "index: 342/1216, ticker: NEE, start: 1996-01-02, stop: 2024-07-08\n"
          ]
        },
        {
          "output_type": "stream",
          "name": "stderr",
          "text": [
            "\r[*********************100%***********************]  1 of 1 completed\n"
          ]
        },
        {
          "output_type": "stream",
          "name": "stdout",
          "text": [
            "index: 343/1216, ticker: DE, start: 1996-01-02, stop: 2024-07-08\n"
          ]
        },
        {
          "output_type": "stream",
          "name": "stderr",
          "text": [
            "\r[*********************100%***********************]  1 of 1 completed\n"
          ]
        },
        {
          "output_type": "stream",
          "name": "stdout",
          "text": [
            "index: 344/1216, ticker: APA, start: 1997-07-28, stop: 2024-07-08\n"
          ]
        },
        {
          "output_type": "stream",
          "name": "stderr",
          "text": [
            "\r[*********************100%***********************]  1 of 1 completed\n"
          ]
        },
        {
          "output_type": "stream",
          "name": "stdout",
          "text": [
            "index: 345/1216, ticker: FHN, start: 2002-05-06, stop: 2013-06-19\n"
          ]
        },
        {
          "output_type": "stream",
          "name": "stderr",
          "text": [
            "[*********************100%***********************]  1 of 1 completed\n",
            "[*********************100%***********************]  1 of 1 completed"
          ]
        },
        {
          "output_type": "stream",
          "name": "stdout",
          "text": [
            "index: 346/1216, ticker: HET, start: 1996-01-02, stop: 2008-01-24\n",
            "index: 347/1216, ticker: STJ, start: 1996-01-02, stop: 2017-01-03\n",
            "index: 348/1216, ticker: WLTW, start: 2016-01-05, stop: 2021-12-20\n",
            "index: 349/1216, ticker: FSLR, start: 2009-10-16, stop: 2017-03-17\n"
          ]
        },
        {
          "output_type": "stream",
          "name": "stderr",
          "text": [
            "\n",
            "\r[*********************100%***********************]  1 of 1 completed\n"
          ]
        },
        {
          "output_type": "stream",
          "name": "stdout",
          "text": [
            "index: 350/1216, ticker: FSLR, start: 2022-12-19, stop: 2024-07-08\n",
            "index: 351/1216, ticker: RDC, start: 1996-01-02, stop: 2014-08-13\n",
            "index: 352/1216, ticker: RLM, start: 1996-01-02, stop: 2000-04-27\n",
            "index: 353/1216, ticker: JNY, start: 2001-12-17, stop: 2009-03-02\n",
            "index: 354/1216, ticker: INTC, start: 1996-01-02, stop: 2024-07-08\n"
          ]
        },
        {
          "output_type": "stream",
          "name": "stderr",
          "text": [
            "\r[*********************100%***********************]  1 of 1 completed\n"
          ]
        },
        {
          "output_type": "stream",
          "name": "stdout",
          "text": [
            "index: 355/1216, ticker: DRI, start: 1996-01-02, stop: 2024-07-08\n"
          ]
        },
        {
          "output_type": "stream",
          "name": "stderr",
          "text": [
            "[*********************100%***********************]  1 of 1 completed\n",
            "[*********************100%***********************]  1 of 1 completed"
          ]
        },
        {
          "output_type": "stream",
          "name": "stdout",
          "text": [
            "index: 356/1216, ticker: MKTX, start: 2019-07-01, stop: 2024-07-08\n",
            "index: 357/1216, ticker: JAVA, start: 1996-01-02, stop: 2010-01-21\n"
          ]
        },
        {
          "output_type": "stream",
          "name": "stderr",
          "text": [
            "\n"
          ]
        },
        {
          "output_type": "stream",
          "name": "stdout",
          "text": [
            "index: 358/1216, ticker: THY, start: 1996-01-02, stop: 1996-10-08\n",
            "index: 359/1216, ticker: GRN, start: 1996-01-02, stop: 1998-12-14\n",
            "index: 360/1216, ticker: WBA, start: 1996-01-02, stop: 2024-07-08\n"
          ]
        },
        {
          "output_type": "stream",
          "name": "stderr",
          "text": [
            "\r[*********************100%***********************]  1 of 1 completed\n"
          ]
        },
        {
          "output_type": "stream",
          "name": "stdout",
          "text": [
            "index: 361/1216, ticker: PFE, start: 1996-01-02, stop: 2024-07-08\n"
          ]
        },
        {
          "output_type": "stream",
          "name": "stderr",
          "text": [
            "\r[*********************100%***********************]  1 of 1 completed\n"
          ]
        },
        {
          "output_type": "stream",
          "name": "stdout",
          "text": [
            "index: 362/1216, ticker: R, start: 1996-01-02, stop: 2017-06-16\n"
          ]
        },
        {
          "output_type": "stream",
          "name": "stderr",
          "text": [
            "[*********************100%***********************]  1 of 1 completed\n",
            "[*********************100%***********************]  1 of 1 completed"
          ]
        },
        {
          "output_type": "stream",
          "name": "stdout",
          "text": [
            "index: 363/1216, ticker: AMG, start: 2014-07-01, stop: 2019-12-10\n",
            "index: 364/1216, ticker: JNPR, start: 2006-06-02, stop: 2024-07-08\n"
          ]
        },
        {
          "output_type": "stream",
          "name": "stderr",
          "text": [
            "\n",
            "[*********************100%***********************]  1 of 1 completed\n"
          ]
        },
        {
          "output_type": "stream",
          "name": "stdout",
          "text": [
            "index: 365/1216, ticker: ENDP, start: 2015-01-27, stop: 2017-03-01\n",
            "index: 366/1216, ticker: DWD, start: 1996-01-02, stop: 1997-05-30\n",
            "index: 367/1216, ticker: PGR, start: 1997-08-04, stop: 2024-07-08\n"
          ]
        },
        {
          "output_type": "stream",
          "name": "stderr",
          "text": [
            "\r[*********************100%***********************]  1 of 1 completed\n"
          ]
        },
        {
          "output_type": "stream",
          "name": "stdout",
          "text": [
            "index: 368/1216, ticker: DISCK, start: 2014-08-07, stop: 2022-04-04\n",
            "index: 369/1216, ticker: PBY, start: 1996-01-02, stop: 2000-03-29\n",
            "index: 370/1216, ticker: VIAC, start: 2019-12-05, stop: 2022-02-15\n",
            "index: 371/1216, ticker: BBI, start: 1996-01-02, stop: 1998-01-05\n",
            "index: 372/1216, ticker: LHX, start: 2019-06-01, stop: 2024-07-08\n"
          ]
        },
        {
          "output_type": "stream",
          "name": "stderr",
          "text": [
            "\r[*********************100%***********************]  1 of 1 completed\n"
          ]
        },
        {
          "output_type": "stream",
          "name": "stdout",
          "text": [
            "index: 373/1216, ticker: VLO, start: 2004-04-29, stop: 2024-07-08\n"
          ]
        },
        {
          "output_type": "stream",
          "name": "stderr",
          "text": [
            "\r[*********************100%***********************]  1 of 1 completed\n"
          ]
        },
        {
          "output_type": "stream",
          "name": "stdout",
          "text": [
            "index: 374/1216, ticker: USH, start: 1996-01-02, stop: 1997-06-16\n",
            "index: 375/1216, ticker: EA, start: 2002-07-22, stop: 2024-07-08\n"
          ]
        },
        {
          "output_type": "stream",
          "name": "stderr",
          "text": [
            "\r[*********************100%***********************]  1 of 1 completed\n"
          ]
        },
        {
          "output_type": "stream",
          "name": "stdout",
          "text": [
            "index: 376/1216, ticker: EDS, start: 1998-08-11, stop: 2008-08-25\n",
            "index: 377/1216, ticker: MTL, start: 1998-02-23, stop: 1999-09-17\n",
            "index: 378/1216, ticker: GDW, start: 1996-01-02, stop: 2006-09-28\n",
            "index: 379/1216, ticker: MWI, start: 1996-01-02, stop: 1999-05-19\n",
            "index: 380/1216, ticker: AZA.A, start: 1996-01-02, stop: 2001-06-20\n"
          ]
        },
        {
          "output_type": "stream",
          "name": "stderr",
          "text": [
            "ERROR:yfinance:404 Client Error: Not Found for url: https://query2.finance.yahoo.com/v10/finance/quoteSummary/AZA.A?modules=financialData%2CquoteType%2CdefaultKeyStatistics%2CassetProfile%2CsummaryDetail&corsDomain=finance.yahoo.com&formatted=false&symbol=AZA.A&crumb=Ruaz%2F5CqVn4\n",
            "[*********************100%***********************]  1 of 1 completed\n"
          ]
        },
        {
          "output_type": "stream",
          "name": "stdout",
          "text": [
            "index: 381/1216, ticker: NXPI, start: 2021-03-22, stop: 2024-07-08\n",
            "index: 382/1216, ticker: TSG, start: 2000-03-16, stop: 2007-03-30\n",
            "index: 383/1216, ticker: ACGL, start: 2022-11-01, stop: 2024-07-08\n"
          ]
        },
        {
          "output_type": "stream",
          "name": "stderr",
          "text": [
            "\r[*********************100%***********************]  1 of 1 completed\n"
          ]
        },
        {
          "output_type": "stream",
          "name": "stdout",
          "text": [
            "index: 384/1216, ticker: COF, start: 1998-07-01, stop: 2024-07-08\n"
          ]
        },
        {
          "output_type": "stream",
          "name": "stderr",
          "text": [
            "\r[*********************100%***********************]  1 of 1 completed\n"
          ]
        },
        {
          "output_type": "stream",
          "name": "stdout",
          "text": [
            "index: 385/1216, ticker: PLL, start: 1996-01-02, stop: 2015-08-25\n"
          ]
        },
        {
          "output_type": "stream",
          "name": "stderr",
          "text": [
            "\r[*********************100%***********************]  1 of 1 completed\n",
            "ERROR:yfinance:\n",
            "1 Failed download:\n",
            "ERROR:yfinance:['PLL']: YFPricesMissingError('$%ticker%: possibly delisted; no price data found  (1d 1996-01-02 -> 2015-08-25) (Yahoo error = \"Data doesn\\'t exist for startDate = 820558800, endDate = 1440475200\")')\n"
          ]
        },
        {
          "output_type": "stream",
          "name": "stdout",
          "text": [
            "index: 386/1216, ticker: MAY, start: 1996-01-02, stop: 2005-08-22\n",
            "index: 387/1216, ticker: WU, start: 2006-10-02, stop: 2021-12-14\n"
          ]
        },
        {
          "output_type": "stream",
          "name": "stderr",
          "text": [
            "[*********************100%***********************]  1 of 1 completed\n",
            "[*********************100%***********************]  1 of 1 completed"
          ]
        },
        {
          "output_type": "stream",
          "name": "stdout",
          "text": [
            "index: 388/1216, ticker: INFO, start: 2017-06-02, stop: 2022-02-17\n",
            "index: 389/1216, ticker: ANET, start: 2018-08-28, stop: 2024-07-08\n"
          ]
        },
        {
          "output_type": "stream",
          "name": "stderr",
          "text": [
            "\n",
            "\r[*********************100%***********************]  1 of 1 completed\n"
          ]
        },
        {
          "output_type": "stream",
          "name": "stdout",
          "text": [
            "index: 390/1216, ticker: AN, start: 1996-01-02, stop: 1998-12-31\n",
            "index: 391/1216, ticker: AN, start: 2003-02-24, stop: 2017-08-07\n"
          ]
        },
        {
          "output_type": "stream",
          "name": "stderr",
          "text": [
            "\r[*********************100%***********************]  1 of 1 completed\n"
          ]
        },
        {
          "output_type": "stream",
          "name": "stdout",
          "text": [
            "index: 392/1216, ticker: WELL, start: 2009-01-30, stop: 2024-07-08\n"
          ]
        },
        {
          "output_type": "stream",
          "name": "stderr",
          "text": [
            "[*********************100%***********************]  1 of 1 completed\n",
            "[*********************100%***********************]  1 of 1 completed\n"
          ]
        },
        {
          "output_type": "stream",
          "name": "stdout",
          "text": [
            "index: 393/1216, ticker: KEYS, start: 2018-11-06, stop: 2024-07-08\n",
            "index: 394/1216, ticker: PX, start: 1996-01-02, stop: 2018-10-25\n"
          ]
        },
        {
          "output_type": "stream",
          "name": "stderr",
          "text": [
            "\r[*********************100%***********************]  1 of 1 completed\n",
            "ERROR:yfinance:\n",
            "1 Failed download:\n",
            "ERROR:yfinance:['PX']: YFPricesMissingError('$%ticker%: possibly delisted; no price data found  (1d 1996-01-02 -> 2018-10-25) (Yahoo error = \"Data doesn\\'t exist for startDate = 820558800, endDate = 1540440000\")')\n"
          ]
        },
        {
          "output_type": "stream",
          "name": "stdout",
          "text": [
            "index: 395/1216, ticker: VO, start: 1996-01-02, stop: 2000-12-08\n",
            "index: 396/1216, ticker: UHS, start: 2014-09-22, stop: 2024-07-08\n"
          ]
        },
        {
          "output_type": "stream",
          "name": "stderr",
          "text": [
            "[*********************100%***********************]  1 of 1 completed\n",
            "[*********************100%***********************]  1 of 1 completed"
          ]
        },
        {
          "output_type": "stream",
          "name": "stdout",
          "text": [
            "index: 397/1216, ticker: TFC, start: 2019-12-09, stop: 2024-07-08\n"
          ]
        },
        {
          "output_type": "stream",
          "name": "stderr",
          "text": [
            "\n"
          ]
        },
        {
          "output_type": "stream",
          "name": "stdout",
          "text": [
            "index: 398/1216, ticker: BEV, start: 1996-01-02, stop: 1997-12-02\n",
            "index: 399/1216, ticker: CFC, start: 1997-06-18, stop: 2008-06-30\n",
            "index: 400/1216, ticker: AM, start: 1996-01-02, stop: 2004-04-30\n"
          ]
        },
        {
          "output_type": "stream",
          "name": "stderr",
          "text": [
            "\r[*********************100%***********************]  1 of 1 completed\n",
            "ERROR:yfinance:\n",
            "1 Failed download:\n",
            "ERROR:yfinance:['AM']: YFPricesMissingError('$%ticker%: possibly delisted; no price data found  (1d 1996-01-02 -> 2004-04-30) (Yahoo error = \"Data doesn\\'t exist for startDate = 820558800, endDate = 1083297600\")')\n",
            "[*********************100%***********************]  1 of 1 completed\n"
          ]
        },
        {
          "output_type": "stream",
          "name": "stdout",
          "text": [
            "index: 401/1216, ticker: UPR, start: 1996-10-16, stop: 2000-07-14\n",
            "index: 402/1216, ticker: COTY, start: 2016-10-03, stop: 2020-09-18\n",
            "index: 403/1216, ticker: PKG, start: 2017-07-26, stop: 2024-07-08\n"
          ]
        },
        {
          "output_type": "stream",
          "name": "stderr",
          "text": [
            "\r[*********************100%***********************]  1 of 1 completed\n"
          ]
        },
        {
          "output_type": "stream",
          "name": "stdout",
          "text": [
            "index: 404/1216, ticker: FLR, start: 2000-12-22, stop: 2019-06-01\n"
          ]
        },
        {
          "output_type": "stream",
          "name": "stderr",
          "text": [
            "\r[*********************100%***********************]  1 of 1 completed\n"
          ]
        },
        {
          "output_type": "stream",
          "name": "stdout",
          "text": [
            "index: 405/1216, ticker: SWK, start: 1996-01-02, stop: 2024-07-08\n"
          ]
        },
        {
          "output_type": "stream",
          "name": "stderr",
          "text": [
            "\r[*********************100%***********************]  1 of 1 completed\n"
          ]
        },
        {
          "output_type": "stream",
          "name": "stdout",
          "text": [
            "index: 406/1216, ticker: PEP, start: 1996-01-02, stop: 2024-07-08\n"
          ]
        },
        {
          "output_type": "stream",
          "name": "stderr",
          "text": [
            "\r[*********************100%***********************]  1 of 1 completed\n"
          ]
        },
        {
          "output_type": "stream",
          "name": "stdout",
          "text": [
            "index: 407/1216, ticker: NSC, start: 1996-01-02, stop: 2024-07-08\n"
          ]
        },
        {
          "output_type": "stream",
          "name": "stderr",
          "text": [
            "\r[*********************100%***********************]  1 of 1 completed\n"
          ]
        },
        {
          "output_type": "stream",
          "name": "stdout",
          "text": [
            "index: 408/1216, ticker: CBB, start: 1996-01-02, stop: 1998-01-26\n",
            "index: 409/1216, ticker: MWV, start: 1996-01-02, stop: 2015-07-01\n",
            "index: 410/1216, ticker: APD, start: 1996-01-02, stop: 2024-07-08\n"
          ]
        },
        {
          "output_type": "stream",
          "name": "stderr",
          "text": [
            "\r[*********************100%***********************]  1 of 1 completed\n"
          ]
        },
        {
          "output_type": "stream",
          "name": "stdout",
          "text": [
            "index: 411/1216, ticker: BFI, start: 1996-01-02, stop: 1999-07-30\n"
          ]
        },
        {
          "output_type": "stream",
          "name": "stderr",
          "text": [
            "\r[*********************100%***********************]  1 of 1 completed\n",
            "ERROR:yfinance:\n",
            "1 Failed download:\n",
            "ERROR:yfinance:['BFI']: YFPricesMissingError('$%ticker%: possibly delisted; no price data found  (1d 1996-01-02 -> 1999-07-30) (Yahoo error = \"Data doesn\\'t exist for startDate = 820558800, endDate = 933307200\")')\n"
          ]
        },
        {
          "output_type": "stream",
          "name": "stdout",
          "text": [
            "index: 412/1216, ticker: ABKFQ, start: 2000-12-11, stop: 2008-06-10\n"
          ]
        },
        {
          "output_type": "stream",
          "name": "stderr",
          "text": [
            "ERROR:yfinance:404 Client Error: Not Found for url: https://query2.finance.yahoo.com/v10/finance/quoteSummary/ABKFQ?modules=financialData%2CquoteType%2CdefaultKeyStatistics%2CassetProfile%2CsummaryDetail&corsDomain=finance.yahoo.com&formatted=false&symbol=ABKFQ&crumb=Ruaz%2F5CqVn4\n"
          ]
        },
        {
          "output_type": "stream",
          "name": "stdout",
          "text": [
            "index: 413/1216, ticker: A, start: 2000-06-05, stop: 2024-07-08\n"
          ]
        },
        {
          "output_type": "stream",
          "name": "stderr",
          "text": [
            "\r[*********************100%***********************]  1 of 1 completed\n"
          ]
        },
        {
          "output_type": "stream",
          "name": "stdout",
          "text": [
            "index: 414/1216, ticker: NOV, start: 2005-03-14, stop: 2021-08-30\n"
          ]
        },
        {
          "output_type": "stream",
          "name": "stderr",
          "text": [
            "\r[*********************100%***********************]  1 of 1 completed\n"
          ]
        },
        {
          "output_type": "stream",
          "name": "stdout",
          "text": [
            "index: 415/1216, ticker: DHI, start: 2005-07-05, stop: 2024-07-08\n"
          ]
        },
        {
          "output_type": "stream",
          "name": "stderr",
          "text": [
            "\r[*********************100%***********************]  1 of 1 completed\n"
          ]
        },
        {
          "output_type": "stream",
          "name": "stdout",
          "text": [
            "index: 416/1216, ticker: CCTYQ, start: 1996-01-02, stop: 2008-03-18\n",
            "index: 417/1216, ticker: UCM, start: 1996-01-02, stop: 2000-10-19\n",
            "index: 418/1216, ticker: DOV, start: 1996-01-02, stop: 2024-07-08\n"
          ]
        },
        {
          "output_type": "stream",
          "name": "stderr",
          "text": [
            "\r[*********************100%***********************]  1 of 1 completed\n"
          ]
        },
        {
          "output_type": "stream",
          "name": "stdout",
          "text": [
            "index: 419/1216, ticker: AFL, start: 1999-05-28, stop: 2024-07-08\n"
          ]
        },
        {
          "output_type": "stream",
          "name": "stderr",
          "text": [
            "\r[*********************100%***********************]  1 of 1 completed\n"
          ]
        },
        {
          "output_type": "stream",
          "name": "stdout",
          "text": [
            "index: 420/1216, ticker: POM, start: 2007-11-09, stop: 2016-03-18\n",
            "index: 421/1216, ticker: MOS, start: 2011-09-26, stop: 2024-07-08\n"
          ]
        },
        {
          "output_type": "stream",
          "name": "stderr",
          "text": [
            "\r[*********************100%***********************]  1 of 1 completed\n"
          ]
        },
        {
          "output_type": "stream",
          "name": "stdout",
          "text": [
            "index: 422/1216, ticker: TRV, start: 1996-01-02, stop: 2024-07-08\n"
          ]
        },
        {
          "output_type": "stream",
          "name": "stderr",
          "text": [
            "\r[*********************100%***********************]  1 of 1 completed\n"
          ]
        },
        {
          "output_type": "stream",
          "name": "stdout",
          "text": [
            "index: 423/1216, ticker: HUBB, start: 2023-10-18, stop: 2024-07-08\n"
          ]
        },
        {
          "output_type": "stream",
          "name": "stderr",
          "text": [
            "\r[*********************100%***********************]  1 of 1 completed\n"
          ]
        },
        {
          "output_type": "stream",
          "name": "stdout",
          "text": [
            "index: 424/1216, ticker: AVP, start: 1996-01-02, stop: 2015-03-19\n",
            "index: 425/1216, ticker: FTV, start: 2016-07-05, stop: 2024-07-08\n"
          ]
        },
        {
          "output_type": "stream",
          "name": "stderr",
          "text": [
            "\r[*********************100%***********************]  1 of 1 completed\n"
          ]
        },
        {
          "output_type": "stream",
          "name": "stdout",
          "text": [
            "index: 426/1216, ticker: CB, start: 1996-01-02, stop: 2024-07-08\n"
          ]
        },
        {
          "output_type": "stream",
          "name": "stderr",
          "text": [
            "\r[*********************100%***********************]  1 of 1 completed\n"
          ]
        },
        {
          "output_type": "stream",
          "name": "stdout",
          "text": [
            "index: 427/1216, ticker: MNR, start: 1996-01-02, stop: 1998-09-24\n"
          ]
        },
        {
          "output_type": "stream",
          "name": "stderr",
          "text": [
            "\r[*********************100%***********************]  1 of 1 completed\n",
            "ERROR:yfinance:\n",
            "1 Failed download:\n",
            "ERROR:yfinance:['MNR']: YFPricesMissingError('$%ticker%: possibly delisted; no price data found  (1d 1996-01-02 -> 1998-09-24) (Yahoo error = \"Data doesn\\'t exist for startDate = 820558800, endDate = 906609600\")')\n"
          ]
        },
        {
          "output_type": "stream",
          "name": "stdout",
          "text": [
            "index: 428/1216, ticker: PGN, start: 1996-01-02, stop: 2012-06-29\n",
            "index: 429/1216, ticker: NE, start: 2001-01-16, stop: 2009-03-20\n"
          ]
        },
        {
          "output_type": "stream",
          "name": "stderr",
          "text": [
            "\r[*********************100%***********************]  1 of 1 completed\n",
            "ERROR:yfinance:\n",
            "1 Failed download:\n",
            "ERROR:yfinance:['NE']: YFPricesMissingError('$%ticker%: possibly delisted; no price data found  (1d 2001-01-16 -> 2009-03-20) (Yahoo error = \"Data doesn\\'t exist for startDate = 979621200, endDate = 1237521600\")')\n"
          ]
        },
        {
          "output_type": "stream",
          "name": "stdout",
          "text": [
            "index: 430/1216, ticker: NE, start: 2011-01-18, stop: 2015-07-15\n"
          ]
        },
        {
          "output_type": "stream",
          "name": "stderr",
          "text": [
            "\r[*********************100%***********************]  1 of 1 completed\n",
            "ERROR:yfinance:\n",
            "1 Failed download:\n",
            "ERROR:yfinance:['NE']: YFPricesMissingError('$%ticker%: possibly delisted; no price data found  (1d 2011-01-18 -> 2015-07-15) (Yahoo error = \"Data doesn\\'t exist for startDate = 1295326800, endDate = 1436932800\")')\n"
          ]
        },
        {
          "output_type": "stream",
          "name": "stdout",
          "text": [
            "index: 431/1216, ticker: SGP, start: 1996-01-02, stop: 2009-10-29\n",
            "index: 432/1216, ticker: SYMC, start: 2003-03-31, stop: 2019-10-18\n",
            "index: 433/1216, ticker: URI, start: 2014-09-22, stop: 2024-07-08\n"
          ]
        },
        {
          "output_type": "stream",
          "name": "stderr",
          "text": [
            "[*********************100%***********************]  1 of 1 completed\n",
            "[*********************100%***********************]  1 of 1 completed\n"
          ]
        },
        {
          "output_type": "stream",
          "name": "stdout",
          "text": [
            "index: 434/1216, ticker: FICO, start: 2023-03-20, stop: 2024-07-08\n",
            "index: 435/1216, ticker: TEL, start: 2007-07-02, stop: 2009-06-25\n"
          ]
        },
        {
          "output_type": "stream",
          "name": "stderr",
          "text": [
            "[*********************100%***********************]  1 of 1 completed\n",
            "[*********************100%***********************]  1 of 1 completed"
          ]
        },
        {
          "output_type": "stream",
          "name": "stdout",
          "text": [
            "index: 436/1216, ticker: TEL, start: 2011-10-17, stop: 2024-07-08\n"
          ]
        },
        {
          "output_type": "stream",
          "name": "stderr",
          "text": [
            "\n"
          ]
        },
        {
          "output_type": "stream",
          "name": "stdout",
          "text": [
            "index: 437/1216, ticker: I, start: 1996-01-02, stop: 1996-03-29\n",
            "index: 438/1216, ticker: ESRX, start: 2003-09-26, stop: 2018-12-19\n",
            "index: 439/1216, ticker: NMK, start: 1996-01-02, stop: 2002-01-31\n",
            "index: 440/1216, ticker: DGX, start: 2002-12-12, stop: 2024-07-08\n"
          ]
        },
        {
          "output_type": "stream",
          "name": "stderr",
          "text": [
            "\r[*********************100%***********************]  1 of 1 completed\n"
          ]
        },
        {
          "output_type": "stream",
          "name": "stdout",
          "text": [
            "index: 441/1216, ticker: ABI, start: 1996-01-02, stop: 2008-11-20\n",
            "index: 442/1216, ticker: HCA, start: 1996-01-02, stop: 2006-11-17\n"
          ]
        },
        {
          "output_type": "stream",
          "name": "stderr",
          "text": [
            "\r[*********************100%***********************]  1 of 1 completed\n",
            "ERROR:yfinance:\n",
            "1 Failed download:\n",
            "ERROR:yfinance:['HCA']: YFPricesMissingError('$%ticker%: possibly delisted; no price data found  (1d 1996-01-02 -> 2006-11-17) (Yahoo error = \"Data doesn\\'t exist for startDate = 820558800, endDate = 1163739600\")')\n",
            "[*********************100%***********************]  1 of 1 completed\n"
          ]
        },
        {
          "output_type": "stream",
          "name": "stdout",
          "text": [
            "index: 443/1216, ticker: HCA, start: 2015-01-27, stop: 2024-07-08\n",
            "index: 444/1216, ticker: PAC, start: 1996-01-02, stop: 1997-03-19\n"
          ]
        },
        {
          "output_type": "stream",
          "name": "stderr",
          "text": [
            "\r[*********************100%***********************]  1 of 1 completed\n",
            "ERROR:yfinance:\n",
            "1 Failed download:\n",
            "ERROR:yfinance:['PAC']: YFPricesMissingError('$%ticker%: possibly delisted; no price data found  (1d 1996-01-02 -> 1997-03-19) (Yahoo error = \"Data doesn\\'t exist for startDate = 820558800, endDate = 858747600\")')\n"
          ]
        },
        {
          "output_type": "stream",
          "name": "stdout",
          "text": [
            "index: 445/1216, ticker: BRO, start: 2021-09-20, stop: 2024-07-08\n"
          ]
        },
        {
          "output_type": "stream",
          "name": "stderr",
          "text": [
            "\r[*********************100%***********************]  1 of 1 completed\n"
          ]
        },
        {
          "output_type": "stream",
          "name": "stdout",
          "text": [
            "index: 446/1216, ticker: FBHS, start: 2016-06-24, stop: 2022-11-08\n",
            "index: 447/1216, ticker: WCG, start: 2018-09-17, stop: 2019-12-23\n",
            "index: 448/1216, ticker: EKDKQ, start: 1996-01-02, stop: 2010-12-17\n",
            "index: 449/1216, ticker: MTLQQ, start: 1996-01-02, stop: 2009-05-29\n",
            "index: 450/1216, ticker: MUR, start: 2005-08-15, stop: 2017-07-25\n"
          ]
        },
        {
          "output_type": "stream",
          "name": "stderr",
          "text": [
            "\r[*********************100%***********************]  1 of 1 completed\n"
          ]
        },
        {
          "output_type": "stream",
          "name": "stdout",
          "text": [
            "index: 451/1216, ticker: KMB, start: 1996-01-02, stop: 2024-07-08\n"
          ]
        },
        {
          "output_type": "stream",
          "name": "stderr",
          "text": [
            "\r[*********************100%***********************]  1 of 1 completed\n"
          ]
        },
        {
          "output_type": "stream",
          "name": "stdout",
          "text": [
            "index: 452/1216, ticker: DXC, start: 1996-01-02, stop: 2015-11-30\n"
          ]
        },
        {
          "output_type": "stream",
          "name": "stderr",
          "text": [
            "[*********************100%***********************]  1 of 1 completed\n",
            "[*********************100%***********************]  1 of 1 completed\n"
          ]
        },
        {
          "output_type": "stream",
          "name": "stdout",
          "text": [
            "index: 453/1216, ticker: DXC, start: 2017-04-04, stop: 2023-09-18\n",
            "index: 454/1216, ticker: SIVB, start: 2018-03-19, stop: 2023-01-04\n",
            "index: 455/1216, ticker: HUM, start: 1996-01-02, stop: 2024-07-08\n"
          ]
        },
        {
          "output_type": "stream",
          "name": "stderr",
          "text": [
            "\r[*********************100%***********************]  1 of 1 completed\n"
          ]
        },
        {
          "output_type": "stream",
          "name": "stdout",
          "text": [
            "index: 456/1216, ticker: GT, start: 1996-01-02, stop: 2019-02-15\n"
          ]
        },
        {
          "output_type": "stream",
          "name": "stderr",
          "text": [
            "[*********************100%***********************]  1 of 1 completed\n",
            "[*********************100%***********************]  1 of 1 completed"
          ]
        },
        {
          "output_type": "stream",
          "name": "stdout",
          "text": [
            "index: 457/1216, ticker: NFLX, start: 2010-12-20, stop: 2024-07-08\n",
            "index: 458/1216, ticker: SWY, start: 1998-11-13, stop: 2015-01-15\n"
          ]
        },
        {
          "output_type": "stream",
          "name": "stderr",
          "text": [
            "\n",
            "[*********************100%***********************]  1 of 1 completed"
          ]
        },
        {
          "output_type": "stream",
          "name": "stdout",
          "text": [
            "index: 459/1216, ticker: TER, start: 1999-11-15, stop: 2013-12-18\n"
          ]
        },
        {
          "output_type": "stream",
          "name": "stderr",
          "text": [
            "\n",
            "\r[*********************100%***********************]  1 of 1 completed\n"
          ]
        },
        {
          "output_type": "stream",
          "name": "stdout",
          "text": [
            "index: 460/1216, ticker: TER, start: 2020-09-21, stop: 2024-07-08\n",
            "index: 461/1216, ticker: DO, start: 2009-02-26, stop: 2016-09-28\n"
          ]
        },
        {
          "output_type": "stream",
          "name": "stderr",
          "text": [
            "\r[*********************100%***********************]  1 of 1 completed\n",
            "ERROR:yfinance:\n",
            "1 Failed download:\n",
            "ERROR:yfinance:['DO']: YFPricesMissingError('$%ticker%: possibly delisted; no price data found  (1d 2009-02-26 -> 2016-09-28) (Yahoo error = \"Data doesn\\'t exist for startDate = 1235624400, endDate = 1475035200\")')\n"
          ]
        },
        {
          "output_type": "stream",
          "name": "stdout",
          "text": [
            "index: 462/1216, ticker: AIV, start: 2003-03-14, stop: 2020-11-17\n"
          ]
        },
        {
          "output_type": "stream",
          "name": "stderr",
          "text": [
            "\r[*********************100%***********************]  1 of 1 completed\n"
          ]
        },
        {
          "output_type": "stream",
          "name": "stdout",
          "text": [
            "index: 463/1216, ticker: ALK, start: 2016-05-13, stop: 2023-10-02\n"
          ]
        },
        {
          "output_type": "stream",
          "name": "stderr",
          "text": [
            "[*********************100%***********************]  1 of 1 completed\n",
            "[*********************100%***********************]  1 of 1 completed"
          ]
        },
        {
          "output_type": "stream",
          "name": "stdout",
          "text": [
            "index: 464/1216, ticker: DOC, start: 2024-03-04, stop: 2024-07-08\n",
            "index: 465/1216, ticker: FWLT, start: 1996-01-02, stop: 2000-01-28\n"
          ]
        },
        {
          "output_type": "stream",
          "name": "stderr",
          "text": [
            "\n"
          ]
        },
        {
          "output_type": "stream",
          "name": "stdout",
          "text": [
            "index: 466/1216, ticker: IGT, start: 2001-09-04, stop: 2014-06-19\n"
          ]
        },
        {
          "output_type": "stream",
          "name": "stderr",
          "text": [
            "\r[*********************100%***********************]  1 of 1 completed\n"
          ]
        },
        {
          "output_type": "stream",
          "name": "stdout",
          "text": [
            "index: 467/1216, ticker: RL, start: 2007-02-02, stop: 2024-07-08\n"
          ]
        },
        {
          "output_type": "stream",
          "name": "stderr",
          "text": [
            "\r[*********************100%***********************]  1 of 1 completed\n"
          ]
        },
        {
          "output_type": "stream",
          "name": "stdout",
          "text": [
            "index: 468/1216, ticker: ETFC, start: 2004-04-01, stop: 2020-09-21\n",
            "index: 469/1216, ticker: TT, start: 2002-05-13, stop: 2008-06-05\n"
          ]
        },
        {
          "output_type": "stream",
          "name": "stderr",
          "text": [
            "[*********************100%***********************]  1 of 1 completed\n",
            "[*********************100%***********************]  1 of 1 completed\n"
          ]
        },
        {
          "output_type": "stream",
          "name": "stdout",
          "text": [
            "index: 470/1216, ticker: TT, start: 2020-03-03, stop: 2024-07-08\n",
            "index: 471/1216, ticker: ANF, start: 2007-03-29, stop: 2013-12-18\n"
          ]
        },
        {
          "output_type": "stream",
          "name": "stderr",
          "text": [
            "\r[*********************100%***********************]  1 of 1 completed\n"
          ]
        },
        {
          "output_type": "stream",
          "name": "stdout",
          "text": [
            "index: 472/1216, ticker: AIT, start: 1996-01-02, stop: 1999-10-07\n"
          ]
        },
        {
          "output_type": "stream",
          "name": "stderr",
          "text": [
            "\r[*********************100%***********************]  1 of 1 completed\n"
          ]
        },
        {
          "output_type": "stream",
          "name": "stdout",
          "text": [
            "index: 473/1216, ticker: AFS.A, start: 1998-04-08, stop: 2000-11-29\n"
          ]
        },
        {
          "output_type": "stream",
          "name": "stderr",
          "text": [
            "ERROR:yfinance:404 Client Error: Not Found for url: https://query2.finance.yahoo.com/v10/finance/quoteSummary/AFS.A?modules=financialData%2CquoteType%2CdefaultKeyStatistics%2CassetProfile%2CsummaryDetail&corsDomain=finance.yahoo.com&formatted=false&symbol=AFS.A&crumb=Ruaz%2F5CqVn4\n"
          ]
        },
        {
          "output_type": "stream",
          "name": "stdout",
          "text": [
            "index: 474/1216, ticker: TAP, start: 1996-01-02, stop: 2024-07-08\n"
          ]
        },
        {
          "output_type": "stream",
          "name": "stderr",
          "text": [
            "\r[*********************100%***********************]  1 of 1 completed\n"
          ]
        },
        {
          "output_type": "stream",
          "name": "stdout",
          "text": [
            "index: 475/1216, ticker: EQT, start: 2008-12-19, stop: 2018-11-12\n"
          ]
        },
        {
          "output_type": "stream",
          "name": "stderr",
          "text": [
            "[*********************100%***********************]  1 of 1 completed\n",
            "[*********************100%***********************]  1 of 1 completed\n"
          ]
        },
        {
          "output_type": "stream",
          "name": "stdout",
          "text": [
            "index: 476/1216, ticker: EQT, start: 2022-10-03, stop: 2024-07-08\n",
            "index: 477/1216, ticker: KATE, start: 1996-01-02, stop: 2008-11-28\n",
            "index: 478/1216, ticker: CEG, start: 1996-01-02, stop: 2012-03-02\n"
          ]
        },
        {
          "output_type": "stream",
          "name": "stderr",
          "text": [
            "\r[*********************100%***********************]  1 of 1 completed\n",
            "ERROR:yfinance:\n",
            "1 Failed download:\n",
            "ERROR:yfinance:['CEG']: YFPricesMissingError('$%ticker%: possibly delisted; no price data found  (1d 1996-01-02 -> 2012-03-02) (Yahoo error = \"Data doesn\\'t exist for startDate = 820558800, endDate = 1330664400\")')\n",
            "[*********************100%***********************]  1 of 1 completed\n"
          ]
        },
        {
          "output_type": "stream",
          "name": "stdout",
          "text": [
            "index: 479/1216, ticker: CEG, start: 2022-02-02, stop: 2024-07-08\n",
            "index: 480/1216, ticker: CLF, start: 2009-12-21, stop: 2014-04-01\n"
          ]
        },
        {
          "output_type": "stream",
          "name": "stderr",
          "text": [
            "\r[*********************100%***********************]  1 of 1 completed\n"
          ]
        },
        {
          "output_type": "stream",
          "name": "stdout",
          "text": [
            "index: 481/1216, ticker: CCB, start: 1996-01-02, stop: 1996-02-01\n"
          ]
        },
        {
          "output_type": "stream",
          "name": "stderr",
          "text": [
            "\r[*********************100%***********************]  1 of 1 completed\n",
            "ERROR:yfinance:\n",
            "1 Failed download:\n",
            "ERROR:yfinance:['CCB']: YFPricesMissingError('$%ticker%: possibly delisted; no price data found  (1d 1996-01-02 -> 1996-02-01) (Yahoo error = \"Data doesn\\'t exist for startDate = 820558800, endDate = 823150800\")')\n"
          ]
        },
        {
          "output_type": "stream",
          "name": "stdout",
          "text": [
            "index: 482/1216, ticker: NSM, start: 1996-01-02, stop: 2011-09-21\n",
            "index: 483/1216, ticker: LO, start: 2008-06-11, stop: 2015-06-11\n",
            "index: 484/1216, ticker: PHB, start: 1996-01-02, stop: 1999-10-01\n",
            "index: 485/1216, ticker: TRGP, start: 2022-10-12, stop: 2024-07-08\n"
          ]
        },
        {
          "output_type": "stream",
          "name": "stderr",
          "text": [
            "\r[*********************100%***********************]  1 of 1 completed\n"
          ]
        },
        {
          "output_type": "stream",
          "name": "stdout",
          "text": [
            "index: 486/1216, ticker: CHK, start: 2006-03-03, stop: 2018-03-16\n"
          ]
        },
        {
          "output_type": "stream",
          "name": "stderr",
          "text": [
            "\r[*********************100%***********************]  1 of 1 completed\n",
            "ERROR:yfinance:\n",
            "1 Failed download:\n",
            "ERROR:yfinance:['CHK']: YFPricesMissingError('$%ticker%: possibly delisted; no price data found  (1d 2006-03-03 -> 2018-03-16) (Yahoo error = \"Data doesn\\'t exist for startDate = 1141362000, endDate = 1521172800\")')\n",
            "[*********************100%***********************]  1 of 1 completed\n",
            "[*********************100%***********************]  1 of 1 completed"
          ]
        },
        {
          "output_type": "stream",
          "name": "stdout",
          "text": [
            "index: 487/1216, ticker: GEV, start: 2024-04-03, stop: 2024-07-08\n",
            "index: 488/1216, ticker: ABNB, start: 2023-09-18, stop: 2024-07-08\n"
          ]
        },
        {
          "output_type": "stream",
          "name": "stderr",
          "text": [
            "\n"
          ]
        },
        {
          "output_type": "stream",
          "name": "stdout",
          "text": [
            "index: 489/1216, ticker: NVLS, start: 2000-06-19, stop: 2012-06-04\n",
            "index: 490/1216, ticker: HPC, start: 1996-01-02, stop: 2008-11-13\n",
            "index: 491/1216, ticker: AYE, start: 2000-12-11, stop: 2011-02-23\n",
            "index: 492/1216, ticker: AABA, start: 1999-12-08, stop: 2017-06-16\n",
            "index: 493/1216, ticker: CE, start: 2001-04-02, stop: 2004-02-26\n"
          ]
        },
        {
          "output_type": "stream",
          "name": "stderr",
          "text": [
            "\r[*********************100%***********************]  1 of 1 completed\n",
            "ERROR:yfinance:\n",
            "1 Failed download:\n",
            "ERROR:yfinance:['CE']: YFPricesMissingError('$%ticker%: possibly delisted; no price data found  (1d 2001-04-02 -> 2004-02-26) (Yahoo error = \"Data doesn\\'t exist for startDate = 986184000, endDate = 1077771600\")')\n",
            "[*********************100%***********************]  1 of 1 completed\n"
          ]
        },
        {
          "output_type": "stream",
          "name": "stdout",
          "text": [
            "index: 494/1216, ticker: CE, start: 2018-12-24, stop: 2024-07-08\n",
            "index: 495/1216, ticker: PDCO, start: 2005-10-11, stop: 2018-03-16\n"
          ]
        },
        {
          "output_type": "stream",
          "name": "stderr",
          "text": [
            "\r[*********************100%***********************]  1 of 1 completed\n"
          ]
        },
        {
          "output_type": "stream",
          "name": "stdout",
          "text": [
            "index: 496/1216, ticker: RYAN, start: 1996-01-02, stop: 1996-12-27\n"
          ]
        },
        {
          "output_type": "stream",
          "name": "stderr",
          "text": [
            "\r[*********************100%***********************]  1 of 1 completed\n",
            "ERROR:yfinance:\n",
            "1 Failed download:\n",
            "ERROR:yfinance:['RYAN']: YFPricesMissingError('$%ticker%: possibly delisted; no price data found  (1d 1996-01-02 -> 1996-12-27) (Yahoo error = \"Data doesn\\'t exist for startDate = 820558800, endDate = 851662800\")')\n"
          ]
        },
        {
          "output_type": "stream",
          "name": "stdout",
          "text": [
            "index: 497/1216, ticker: FBF, start: 1996-01-02, stop: 2004-03-29\n",
            "index: 498/1216, ticker: NXTL, start: 1998-04-01, stop: 2005-08-12\n",
            "index: 499/1216, ticker: MKC, start: 2003-03-21, stop: 2024-07-08\n"
          ]
        },
        {
          "output_type": "stream",
          "name": "stderr",
          "text": [
            "\r[*********************100%***********************]  1 of 1 completed\n"
          ]
        },
        {
          "output_type": "stream",
          "name": "stdout",
          "text": [
            "index: 500/1216, ticker: FDC, start: 1996-01-02, stop: 2007-09-24\n",
            "index: 501/1216, ticker: GTE, start: 1996-01-02, stop: 2000-06-29\n"
          ]
        },
        {
          "output_type": "stream",
          "name": "stderr",
          "text": [
            "\r[*********************100%***********************]  1 of 1 completed\n",
            "ERROR:yfinance:\n",
            "1 Failed download:\n",
            "ERROR:yfinance:['GTE']: YFPricesMissingError('$%ticker%: possibly delisted; no price data found  (1d 1996-01-02 -> 2000-06-29) (Yahoo error = \"Data doesn\\'t exist for startDate = 820558800, endDate = 962251200\")')\n"
          ]
        },
        {
          "output_type": "stream",
          "name": "stdout",
          "text": [
            "index: 502/1216, ticker: HAL, start: 1996-01-02, stop: 2024-07-08\n"
          ]
        },
        {
          "output_type": "stream",
          "name": "stderr",
          "text": [
            "[*********************100%***********************]  1 of 1 completed\n",
            "[*********************100%***********************]  1 of 1 completed"
          ]
        },
        {
          "output_type": "stream",
          "name": "stdout",
          "text": [
            "index: 503/1216, ticker: ESV, start: 2007-01-04, stop: 2009-12-22\n",
            "index: 504/1216, ticker: ESV, start: 2012-07-31, stop: 2016-03-29\n",
            "index: 505/1216, ticker: OTIS, start: 2020-04-03, stop: 2024-07-08\n"
          ]
        },
        {
          "output_type": "stream",
          "name": "stderr",
          "text": [
            "\n",
            "\r[*********************100%***********************]  1 of 1 completed\n"
          ]
        },
        {
          "output_type": "stream",
          "name": "stdout",
          "text": [
            "index: 506/1216, ticker: VRSK, start: 2015-10-08, stop: 2024-07-08\n"
          ]
        },
        {
          "output_type": "stream",
          "name": "stderr",
          "text": [
            "\r[*********************100%***********************]  1 of 1 completed\n"
          ]
        },
        {
          "output_type": "stream",
          "name": "stdout",
          "text": [
            "index: 507/1216, ticker: BIO, start: 2020-06-22, stop: 2024-07-08\n",
            "index: 508/1216, ticker: BMY, start: 1996-01-02, stop: 2024-07-08\n"
          ]
        },
        {
          "output_type": "stream",
          "name": "stderr",
          "text": [
            "[*********************100%***********************]  1 of 1 completed\n",
            "[*********************100%***********************]  1 of 1 completed"
          ]
        },
        {
          "output_type": "stream",
          "name": "stdout",
          "text": [
            "index: 509/1216, ticker: USS, start: 1996-01-02, stop: 1998-10-01\n",
            "index: 510/1216, ticker: MPWR, start: 2021-02-12, stop: 2024-07-08\n",
            "index: 511/1216, ticker: OKE, start: 1996-01-02, stop: 2001-08-29\n"
          ]
        },
        {
          "output_type": "stream",
          "name": "stderr",
          "text": [
            "\n",
            "[*********************100%***********************]  1 of 1 completed\n"
          ]
        },
        {
          "output_type": "stream",
          "name": "stdout",
          "text": [
            "index: 512/1216, ticker: OKE, start: 2010-03-15, stop: 2024-07-08\n"
          ]
        },
        {
          "output_type": "stream",
          "name": "stderr",
          "text": [
            "[*********************100%***********************]  1 of 1 completed\n",
            "[*********************100%***********************]  1 of 1 completed\n"
          ]
        },
        {
          "output_type": "stream",
          "name": "stdout",
          "text": [
            "index: 513/1216, ticker: MRNA, start: 2021-07-21, stop: 2024-07-08\n",
            "index: 514/1216, ticker: FDO, start: 2001-08-06, stop: 2015-07-06\n",
            "index: 515/1216, ticker: BG, start: 2023-03-15, stop: 2024-07-08\n"
          ]
        },
        {
          "output_type": "stream",
          "name": "stderr",
          "text": [
            "\r[*********************100%***********************]  1 of 1 completed\n"
          ]
        },
        {
          "output_type": "stream",
          "name": "stdout",
          "text": [
            "index: 516/1216, ticker: ABMD, start: 2018-05-31, stop: 2022-12-19\n"
          ]
        },
        {
          "output_type": "stream",
          "name": "stderr",
          "text": [
            "ERROR:yfinance:404 Client Error: Not Found for url: https://query2.finance.yahoo.com/v10/finance/quoteSummary/ABMD?modules=financialData%2CquoteType%2CdefaultKeyStatistics%2CassetProfile%2CsummaryDetail&corsDomain=finance.yahoo.com&formatted=false&symbol=ABMD&crumb=Ruaz%2F5CqVn4\n",
            "[*********************100%***********************]  1 of 1 completed\n"
          ]
        },
        {
          "output_type": "stream",
          "name": "stdout",
          "text": [
            "index: 517/1216, ticker: PODD, start: 2023-03-15, stop: 2024-07-08\n",
            "index: 518/1216, ticker: AET, start: 1996-01-02, stop: 2018-11-28\n",
            "index: 519/1216, ticker: BRK.B, start: 2010-02-16, stop: 2024-07-08\n",
            "index: 520/1216, ticker: LVLT, start: 2014-11-05, stop: 2017-10-10\n",
            "index: 521/1216, ticker: CBSS, start: 2004-12-20, stop: 2007-09-04\n",
            "index: 522/1216, ticker: CG, start: 1996-01-02, stop: 2000-10-30\n"
          ]
        },
        {
          "output_type": "stream",
          "name": "stderr",
          "text": [
            "\r[*********************100%***********************]  1 of 1 completed\n",
            "ERROR:yfinance:\n",
            "1 Failed download:\n",
            "ERROR:yfinance:['CG']: YFPricesMissingError('$%ticker%: possibly delisted; no price data found  (1d 1996-01-02 -> 2000-10-30) (Yahoo error = \"Data doesn\\'t exist for startDate = 820558800, endDate = 972882000\")')\n"
          ]
        },
        {
          "output_type": "stream",
          "name": "stdout",
          "text": [
            "index: 523/1216, ticker: UTX, start: 1996-01-02, stop: 2020-03-03\n",
            "index: 524/1216, ticker: HI, start: 1996-01-02, stop: 2003-03-28\n"
          ]
        },
        {
          "output_type": "stream",
          "name": "stderr",
          "text": [
            "\r[*********************100%***********************]  1 of 1 completed\n",
            "ERROR:yfinance:\n",
            "1 Failed download:\n",
            "ERROR:yfinance:['HI']: YFPricesMissingError('$%ticker%: possibly delisted; no price data found  (1d 1996-01-02 -> 2003-03-28) (Yahoo error = \"Data doesn\\'t exist for startDate = 820558800, endDate = 1048827600\")')\n"
          ]
        },
        {
          "output_type": "stream",
          "name": "stdout",
          "text": [
            "index: 525/1216, ticker: TE, start: 2001-10-10, stop: 2016-06-27\n",
            "index: 526/1216, ticker: FDS, start: 2021-12-20, stop: 2024-07-08\n"
          ]
        },
        {
          "output_type": "stream",
          "name": "stderr",
          "text": [
            "\r[*********************100%***********************]  1 of 1 completed\n"
          ]
        },
        {
          "output_type": "stream",
          "name": "stdout",
          "text": [
            "index: 527/1216, ticker: PFG, start: 2002-07-22, stop: 2024-07-08\n"
          ]
        },
        {
          "output_type": "stream",
          "name": "stderr",
          "text": [
            "\r[*********************100%***********************]  1 of 1 completed\n"
          ]
        },
        {
          "output_type": "stream",
          "name": "stdout",
          "text": [
            "index: 528/1216, ticker: MON, start: 2002-08-14, stop: 2018-06-06\n",
            "index: 529/1216, ticker: FAST, start: 2008-09-15, stop: 2024-07-08\n"
          ]
        },
        {
          "output_type": "stream",
          "name": "stderr",
          "text": [
            "\r[*********************100%***********************]  1 of 1 completed\n"
          ]
        },
        {
          "output_type": "stream",
          "name": "stdout",
          "text": [
            "index: 530/1216, ticker: ETR, start: 1996-01-02, stop: 2024-07-08\n"
          ]
        },
        {
          "output_type": "stream",
          "name": "stderr",
          "text": [
            "[*********************100%***********************]  1 of 1 completed\n",
            "[*********************100%***********************]  1 of 1 completed"
          ]
        },
        {
          "output_type": "stream",
          "name": "stdout",
          "text": [
            "index: 531/1216, ticker: MER, start: 1996-01-02, stop: 2008-12-29\n",
            "index: 532/1216, ticker: TTWO, start: 2018-03-19, stop: 2024-07-08\n",
            "index: 533/1216, ticker: HPE, start: 2015-11-02, stop: 2024-07-08\n"
          ]
        },
        {
          "output_type": "stream",
          "name": "stderr",
          "text": [
            "\n",
            "[*********************100%***********************]  1 of 1 completed\n"
          ]
        },
        {
          "output_type": "stream",
          "name": "stdout",
          "text": [
            "index: 534/1216, ticker: MAC, start: 2013-05-09, stop: 2019-12-10\n"
          ]
        },
        {
          "output_type": "stream",
          "name": "stderr",
          "text": [
            "\r[*********************100%***********************]  1 of 1 completed\n"
          ]
        },
        {
          "output_type": "stream",
          "name": "stdout",
          "text": [
            "index: 535/1216, ticker: SOTR, start: 1999-03-01, stop: 2004-10-28\n",
            "index: 536/1216, ticker: AOS, start: 2017-07-26, stop: 2024-07-08\n"
          ]
        },
        {
          "output_type": "stream",
          "name": "stderr",
          "text": [
            "\r[*********************100%***********************]  1 of 1 completed\n"
          ]
        },
        {
          "output_type": "stream",
          "name": "stdout",
          "text": [
            "index: 537/1216, ticker: HDLM, start: 1996-01-02, stop: 1996-03-05\n",
            "index: 538/1216, ticker: INCLF, start: 1996-01-02, stop: 2002-07-18\n"
          ]
        },
        {
          "output_type": "stream",
          "name": "stderr",
          "text": [
            "ERROR:yfinance:404 Client Error: Not Found for url: https://query2.finance.yahoo.com/v10/finance/quoteSummary/INCLF?modules=financialData%2CquoteType%2CdefaultKeyStatistics%2CassetProfile%2CsummaryDetail&corsDomain=finance.yahoo.com&formatted=false&symbol=INCLF&crumb=Ruaz%2F5CqVn4\n",
            "[*********************100%***********************]  1 of 1 completed\n"
          ]
        },
        {
          "output_type": "stream",
          "name": "stdout",
          "text": [
            "index: 539/1216, ticker: PTC, start: 1997-04-03, stop: 2006-12-29\n",
            "index: 540/1216, ticker: PTC, start: 2021-04-20, stop: 2024-07-08\n"
          ]
        },
        {
          "output_type": "stream",
          "name": "stderr",
          "text": [
            "[*********************100%***********************]  1 of 1 completed\n",
            "[*********************100%***********************]  1 of 1 completed\n"
          ]
        },
        {
          "output_type": "stream",
          "name": "stdout",
          "text": [
            "index: 541/1216, ticker: XTO, start: 2004-12-29, stop: 2010-06-21\n",
            "index: 542/1216, ticker: CNC, start: 1997-01-15, stop: 2002-07-24\n",
            "index: 543/1216, ticker: CNC, start: 2016-03-30, stop: 2024-07-08\n"
          ]
        },
        {
          "output_type": "stream",
          "name": "stderr",
          "text": [
            "\r[*********************100%***********************]  1 of 1 completed\n"
          ]
        },
        {
          "output_type": "stream",
          "name": "stdout",
          "text": [
            "index: 544/1216, ticker: BEN, start: 1998-04-29, stop: 2024-07-08\n"
          ]
        },
        {
          "output_type": "stream",
          "name": "stderr",
          "text": [
            "\r[*********************100%***********************]  1 of 1 completed\n"
          ]
        },
        {
          "output_type": "stream",
          "name": "stdout",
          "text": [
            "index: 545/1216, ticker: FTR, start: 2001-02-27, stop: 2017-03-17\n",
            "index: 546/1216, ticker: ISRG, start: 2008-06-02, stop: 2024-07-08\n"
          ]
        },
        {
          "output_type": "stream",
          "name": "stderr",
          "text": [
            "[*********************100%***********************]  1 of 1 completed\n",
            "[*********************100%***********************]  1 of 1 completed"
          ]
        },
        {
          "output_type": "stream",
          "name": "stdout",
          "text": [
            "index: 547/1216, ticker: PWR, start: 2009-07-01, stop: 2024-07-08\n"
          ]
        },
        {
          "output_type": "stream",
          "name": "stderr",
          "text": [
            "\n"
          ]
        },
        {
          "output_type": "stream",
          "name": "stdout",
          "text": [
            "index: 548/1216, ticker: NYT, start: 1996-01-02, stop: 2010-12-17\n"
          ]
        },
        {
          "output_type": "stream",
          "name": "stderr",
          "text": [
            "\r[*********************100%***********************]  1 of 1 completed\n"
          ]
        },
        {
          "output_type": "stream",
          "name": "stdout",
          "text": [
            "index: 549/1216, ticker: AGC, start: 1996-01-02, stop: 2001-08-20\n",
            "index: 550/1216, ticker: TKR, start: 1996-01-02, stop: 2001-08-06\n"
          ]
        },
        {
          "output_type": "stream",
          "name": "stderr",
          "text": [
            "\r[*********************100%***********************]  1 of 1 completed\n"
          ]
        },
        {
          "output_type": "stream",
          "name": "stdout",
          "text": [
            "index: 551/1216, ticker: MA, start: 2008-07-18, stop: 2024-07-08\n"
          ]
        },
        {
          "output_type": "stream",
          "name": "stderr",
          "text": [
            "[*********************100%***********************]  1 of 1 completed\n",
            "[*********************100%***********************]  1 of 1 completed"
          ]
        },
        {
          "output_type": "stream",
          "name": "stdout",
          "text": [
            "index: 552/1216, ticker: SWKS, start: 2015-03-12, stop: 2024-07-08\n"
          ]
        },
        {
          "output_type": "stream",
          "name": "stderr",
          "text": [
            "\n"
          ]
        },
        {
          "output_type": "stream",
          "name": "stdout",
          "text": [
            "index: 553/1216, ticker: IKN, start: 1996-01-02, stop: 2000-06-27\n",
            "index: 554/1216, ticker: SMS, start: 1996-01-02, stop: 2000-06-07\n",
            "index: 555/1216, ticker: LDOS, start: 2009-12-21, stop: 2013-09-17\n"
          ]
        },
        {
          "output_type": "stream",
          "name": "stderr",
          "text": [
            "[*********************100%***********************]  1 of 1 completed\n",
            "[*********************100%***********************]  1 of 1 completed\n"
          ]
        },
        {
          "output_type": "stream",
          "name": "stdout",
          "text": [
            "index: 556/1216, ticker: LDOS, start: 2019-08-09, stop: 2024-07-08\n",
            "index: 557/1216, ticker: RRD, start: 1996-01-02, stop: 2012-12-07\n",
            "index: 558/1216, ticker: CBRE, start: 2006-11-10, stop: 2024-07-08\n"
          ]
        },
        {
          "output_type": "stream",
          "name": "stderr",
          "text": [
            "\r[*********************100%***********************]  1 of 1 completed\n"
          ]
        },
        {
          "output_type": "stream",
          "name": "stdout",
          "text": [
            "index: 559/1216, ticker: BBWI, start: 2021-08-03, stop: 2024-07-08\n"
          ]
        },
        {
          "output_type": "stream",
          "name": "stderr",
          "text": [
            "\r[*********************100%***********************]  1 of 1 completed\n"
          ]
        },
        {
          "output_type": "stream",
          "name": "stdout",
          "text": [
            "index: 560/1216, ticker: EXPD, start: 2007-10-10, stop: 2024-07-08\n"
          ]
        },
        {
          "output_type": "stream",
          "name": "stderr",
          "text": [
            "[*********************100%***********************]  1 of 1 completed\n",
            "[*********************100%***********************]  1 of 1 completed"
          ]
        },
        {
          "output_type": "stream",
          "name": "stdout",
          "text": [
            "index: 561/1216, ticker: EG, start: 2023-06-10, stop: 2024-07-08\n",
            "index: 562/1216, ticker: PWJ, start: 1999-06-04, stop: 2000-11-03\n"
          ]
        },
        {
          "output_type": "stream",
          "name": "stderr",
          "text": [
            "\n"
          ]
        },
        {
          "output_type": "stream",
          "name": "stdout",
          "text": [
            "index: 563/1216, ticker: VSTNQ, start: 2000-06-29, stop: 2005-12-29\n"
          ]
        },
        {
          "output_type": "stream",
          "name": "stderr",
          "text": [
            "ERROR:yfinance:404 Client Error: Not Found for url: https://query2.finance.yahoo.com/v10/finance/quoteSummary/VSTNQ?modules=financialData%2CquoteType%2CdefaultKeyStatistics%2CassetProfile%2CsummaryDetail&corsDomain=finance.yahoo.com&formatted=false&symbol=VSTNQ&crumb=Ruaz%2F5CqVn4\n",
            "[*********************100%***********************]  1 of 1 completed\n"
          ]
        },
        {
          "output_type": "stream",
          "name": "stdout",
          "text": [
            "index: 564/1216, ticker: CMVT, start: 1999-10-27, stop: 2007-01-24\n",
            "index: 565/1216, ticker: VAR, start: 2007-02-12, stop: 2021-03-22\n",
            "index: 566/1216, ticker: VLTO, start: 2023-10-02, stop: 2024-07-08\n",
            "index: 567/1216, ticker: MU, start: 1996-01-02, stop: 2024-07-08\n"
          ]
        },
        {
          "output_type": "stream",
          "name": "stderr",
          "text": [
            "\r[*********************100%***********************]  1 of 1 completed\n"
          ]
        },
        {
          "output_type": "stream",
          "name": "stdout",
          "text": [
            "index: 568/1216, ticker: UNH, start: 1996-01-02, stop: 2024-07-08\n"
          ]
        },
        {
          "output_type": "stream",
          "name": "stderr",
          "text": [
            "[*********************100%***********************]  1 of 1 completed\n",
            "[*********************100%***********************]  1 of 1 completed\n"
          ]
        },
        {
          "output_type": "stream",
          "name": "stdout",
          "text": [
            "index: 569/1216, ticker: TDY, start: 2020-06-22, stop: 2024-07-08\n",
            "index: 570/1216, ticker: CPB, start: 1996-01-02, stop: 2024-07-08\n"
          ]
        },
        {
          "output_type": "stream",
          "name": "stderr",
          "text": [
            "\r[*********************100%***********************]  1 of 1 completed\n"
          ]
        },
        {
          "output_type": "stream",
          "name": "stdout",
          "text": [
            "index: 571/1216, ticker: MBI, start: 1996-12-03, stop: 2009-12-17\n"
          ]
        },
        {
          "output_type": "stream",
          "name": "stderr",
          "text": [
            "\r[*********************100%***********************]  1 of 1 completed\n"
          ]
        },
        {
          "output_type": "stream",
          "name": "stdout",
          "text": [
            "index: 572/1216, ticker: YRCW, start: 1996-01-02, stop: 1996-10-28\n",
            "index: 573/1216, ticker: COP, start: 1996-01-02, stop: 2024-07-08\n"
          ]
        },
        {
          "output_type": "stream",
          "name": "stderr",
          "text": [
            "\r[*********************100%***********************]  1 of 1 completed\n"
          ]
        },
        {
          "output_type": "stream",
          "name": "stdout",
          "text": [
            "index: 574/1216, ticker: DDS, start: 1996-01-02, stop: 2008-10-16\n"
          ]
        },
        {
          "output_type": "stream",
          "name": "stderr",
          "text": [
            "\r[*********************100%***********************]  1 of 1 completed\n"
          ]
        },
        {
          "output_type": "stream",
          "name": "stdout",
          "text": [
            "index: 575/1216, ticker: KWP, start: 1996-01-02, stop: 1999-11-15\n",
            "index: 576/1216, ticker: LXK, start: 1999-08-13, stop: 2012-09-25\n",
            "index: 577/1216, ticker: BFO, start: 1996-01-02, stop: 2000-10-02\n",
            "index: 578/1216, ticker: QRVO, start: 2015-06-12, stop: 2024-07-08\n"
          ]
        },
        {
          "output_type": "stream",
          "name": "stderr",
          "text": [
            "\r[*********************100%***********************]  1 of 1 completed\n"
          ]
        },
        {
          "output_type": "stream",
          "name": "stdout",
          "text": [
            "index: 579/1216, ticker: BR, start: 1996-01-02, stop: 2006-03-30\n"
          ]
        },
        {
          "output_type": "stream",
          "name": "stderr",
          "text": [
            "\r[*********************100%***********************]  1 of 1 completed\n",
            "ERROR:yfinance:\n",
            "1 Failed download:\n",
            "ERROR:yfinance:['BR']: YFPricesMissingError('$%ticker%: possibly delisted; no price data found  (1d 1996-01-02 -> 2006-03-30) (Yahoo error = \"Data doesn\\'t exist for startDate = 820558800, endDate = 1143694800\")')\n",
            "[*********************100%***********************]  1 of 1 completed\n"
          ]
        },
        {
          "output_type": "stream",
          "name": "stdout",
          "text": [
            "index: 580/1216, ticker: BR, start: 2018-06-18, stop: 2024-07-08\n",
            "index: 581/1216, ticker: CBS, start: 1996-01-02, stop: 2019-11-21\n",
            "index: 582/1216, ticker: MIR, start: 1997-08-07, stop: 2000-05-30\n"
          ]
        },
        {
          "output_type": "stream",
          "name": "stderr",
          "text": [
            "\r[*********************100%***********************]  1 of 1 completed\n",
            "ERROR:yfinance:\n",
            "1 Failed download:\n",
            "ERROR:yfinance:['MIR']: YFPricesMissingError('$%ticker%: possibly delisted; no price data found  (1d 1997-08-07 -> 2000-05-30) (Yahoo error = \"Data doesn\\'t exist for startDate = 870926400, endDate = 959659200\")')\n"
          ]
        },
        {
          "output_type": "stream",
          "name": "stdout",
          "text": [
            "index: 583/1216, ticker: MIR, start: 2001-04-03, stop: 2003-07-16\n"
          ]
        },
        {
          "output_type": "stream",
          "name": "stderr",
          "text": [
            "\r[*********************100%***********************]  1 of 1 completed\n",
            "ERROR:yfinance:\n",
            "1 Failed download:\n",
            "ERROR:yfinance:['MIR']: YFPricesMissingError('$%ticker%: possibly delisted; no price data found  (1d 2001-04-03 -> 2003-07-16) (Yahoo error = \"Data doesn\\'t exist for startDate = 986270400, endDate = 1058328000\")')\n",
            "[*********************100%***********************]  1 of 1 completed\n"
          ]
        },
        {
          "output_type": "stream",
          "name": "stdout",
          "text": [
            "index: 584/1216, ticker: CHTR, start: 2016-09-08, stop: 2024-07-08\n",
            "index: 585/1216, ticker: MS, start: 1996-01-02, stop: 2024-07-08\n"
          ]
        },
        {
          "output_type": "stream",
          "name": "stderr",
          "text": [
            "\r[*********************100%***********************]  1 of 1 completed\n"
          ]
        },
        {
          "output_type": "stream",
          "name": "stdout",
          "text": [
            "index: 586/1216, ticker: COMS, start: 1996-01-02, stop: 2000-07-27\n"
          ]
        },
        {
          "output_type": "stream",
          "name": "stderr",
          "text": [
            "\r[*********************100%***********************]  1 of 1 completed\n",
            "ERROR:yfinance:\n",
            "1 Failed download:\n",
            "ERROR:yfinance:['COMS']: YFPricesMissingError('$%ticker%: possibly delisted; no price data found  (1d 1996-01-02 -> 2000-07-27) (Yahoo error = \"Data doesn\\'t exist for startDate = 820558800, endDate = 964670400\")')\n"
          ]
        },
        {
          "output_type": "stream",
          "name": "stdout",
          "text": [
            "index: 587/1216, ticker: PNR, start: 2012-10-01, stop: 2024-07-08\n"
          ]
        },
        {
          "output_type": "stream",
          "name": "stderr",
          "text": [
            "\r[*********************100%***********************]  1 of 1 completed\n"
          ]
        },
        {
          "output_type": "stream",
          "name": "stdout",
          "text": [
            "index: 588/1216, ticker: MII, start: 1996-01-02, stop: 1999-06-21\n",
            "index: 589/1216, ticker: SHW, start: 1996-01-02, stop: 2024-07-08\n"
          ]
        },
        {
          "output_type": "stream",
          "name": "stderr",
          "text": [
            "[*********************100%***********************]  1 of 1 completed\n",
            "[*********************100%***********************]  1 of 1 completed"
          ]
        },
        {
          "output_type": "stream",
          "name": "stdout",
          "text": [
            "index: 590/1216, ticker: FANG, start: 2018-12-03, stop: 2024-07-08\n",
            "index: 591/1216, ticker: BCR, start: 1996-01-02, stop: 2017-12-27\n",
            "index: 592/1216, ticker: FNMA, start: 1996-01-02, stop: 2008-09-08\n"
          ]
        },
        {
          "output_type": "stream",
          "name": "stderr",
          "text": [
            "\n",
            "[*********************100%***********************]  1 of 1 completed\n"
          ]
        },
        {
          "output_type": "stream",
          "name": "stdout",
          "text": [
            "index: 593/1216, ticker: WB, start: 1996-01-02, stop: 2008-12-29\n"
          ]
        },
        {
          "output_type": "stream",
          "name": "stderr",
          "text": [
            "\r[*********************100%***********************]  1 of 1 completed\n",
            "ERROR:yfinance:\n",
            "1 Failed download:\n",
            "ERROR:yfinance:['WB']: YFPricesMissingError('$%ticker%: possibly delisted; no price data found  (1d 1996-01-02 -> 2008-12-29) (Yahoo error = \"Data doesn\\'t exist for startDate = 820558800, endDate = 1230526800\")')\n"
          ]
        },
        {
          "output_type": "stream",
          "name": "stdout",
          "text": [
            "index: 594/1216, ticker: MZIAQ, start: 1996-01-02, stop: 2000-06-27\n",
            "index: 595/1216, ticker: TRB, start: 1996-01-02, stop: 2007-12-17\n",
            "index: 596/1216, ticker: XOM, start: 1996-01-02, stop: 2024-07-08\n"
          ]
        },
        {
          "output_type": "stream",
          "name": "stderr",
          "text": [
            "\r[*********************100%***********************]  1 of 1 completed\n"
          ]
        },
        {
          "output_type": "stream",
          "name": "stdout",
          "text": [
            "index: 597/1216, ticker: UPC, start: 1998-10-01, stop: 2004-06-28\n"
          ]
        },
        {
          "output_type": "stream",
          "name": "stderr",
          "text": [
            "\r[*********************100%***********************]  1 of 1 completed\n",
            "ERROR:yfinance:\n",
            "1 Failed download:\n",
            "ERROR:yfinance:['UPC']: YFPricesMissingError('$%ticker%: possibly delisted; no price data found  (1d 1998-10-01 -> 2004-06-28) (Yahoo error = \"Data doesn\\'t exist for startDate = 907214400, endDate = 1088395200\")')\n",
            "[*********************100%***********************]  1 of 1 completed\n"
          ]
        },
        {
          "output_type": "stream",
          "name": "stdout",
          "text": [
            "index: 598/1216, ticker: CDW, start: 2019-09-23, stop: 2024-07-08\n",
            "index: 599/1216, ticker: SUNEQ, start: 2007-05-31, stop: 2011-12-14\n",
            "index: 600/1216, ticker: KG, start: 2000-10-03, stop: 2010-12-17\n",
            "index: 601/1216, ticker: LRCX, start: 2012-06-05, stop: 2024-07-08\n"
          ]
        },
        {
          "output_type": "stream",
          "name": "stderr",
          "text": [
            "\r[*********************100%***********************]  1 of 1 completed\n"
          ]
        },
        {
          "output_type": "stream",
          "name": "stdout",
          "text": [
            "index: 602/1216, ticker: MEA, start: 1996-01-02, stop: 2002-01-28\n",
            "index: 603/1216, ticker: ALB, start: 2016-07-01, stop: 2024-07-08\n"
          ]
        },
        {
          "output_type": "stream",
          "name": "stderr",
          "text": [
            "\r[*********************100%***********************]  1 of 1 completed\n"
          ]
        },
        {
          "output_type": "stream",
          "name": "stdout",
          "text": [
            "index: 604/1216, ticker: KO, start: 1996-01-02, stop: 2024-07-08\n"
          ]
        },
        {
          "output_type": "stream",
          "name": "stderr",
          "text": [
            "\r[*********************100%***********************]  1 of 1 completed\n"
          ]
        },
        {
          "output_type": "stream",
          "name": "stdout",
          "text": [
            "index: 605/1216, ticker: LSI, start: 1996-01-02, stop: 2014-05-06\n"
          ]
        },
        {
          "output_type": "stream",
          "name": "stderr",
          "text": [
            "ERROR:yfinance:404 Client Error: Not Found for url: https://query2.finance.yahoo.com/v10/finance/quoteSummary/LSI?modules=financialData%2CquoteType%2CdefaultKeyStatistics%2CassetProfile%2CsummaryDetail&corsDomain=finance.yahoo.com&formatted=false&symbol=LSI&crumb=Ruaz%2F5CqVn4\n",
            "[*********************100%***********************]  1 of 1 completed"
          ]
        },
        {
          "output_type": "stream",
          "name": "stdout",
          "text": [
            "index: 606/1216, ticker: WST, start: 2020-05-22, stop: 2024-07-08\n"
          ]
        },
        {
          "output_type": "stream",
          "name": "stderr",
          "text": [
            "\n"
          ]
        },
        {
          "output_type": "stream",
          "name": "stdout",
          "text": [
            "index: 607/1216, ticker: TSS, start: 2008-01-02, stop: 2019-08-09\n",
            "index: 608/1216, ticker: GDT, start: 1996-12-19, stop: 2006-04-21\n",
            "index: 609/1216, ticker: WAMUQ, start: 1997-07-02, stop: 2008-09-26\n",
            "index: 610/1216, ticker: ORCL, start: 1996-01-02, stop: 2024-07-08\n"
          ]
        },
        {
          "output_type": "stream",
          "name": "stderr",
          "text": [
            "\r[*********************100%***********************]  1 of 1 completed\n"
          ]
        },
        {
          "output_type": "stream",
          "name": "stdout",
          "text": [
            "index: 611/1216, ticker: RHT, start: 2009-07-27, stop: 2019-07-01\n",
            "index: 612/1216, ticker: DJ, start: 1996-01-02, stop: 2007-12-12\n",
            "index: 613/1216, ticker: AS, start: 1996-01-02, stop: 1998-11-23\n"
          ]
        },
        {
          "output_type": "stream",
          "name": "stderr",
          "text": [
            "\r[*********************100%***********************]  1 of 1 completed\n",
            "ERROR:yfinance:\n",
            "1 Failed download:\n",
            "ERROR:yfinance:['AS']: YFPricesMissingError('$%ticker%: possibly delisted; no price data found  (1d 1996-01-02 -> 1998-11-23) (Yahoo error = \"Data doesn\\'t exist for startDate = 820558800, endDate = 911797200\")')\n"
          ]
        },
        {
          "output_type": "stream",
          "name": "stdout",
          "text": [
            "index: 614/1216, ticker: BMGCA, start: 1996-07-22, stop: 1999-08-06\n"
          ]
        },
        {
          "output_type": "stream",
          "name": "stderr",
          "text": [
            "ERROR:yfinance:404 Client Error: Not Found for url: https://query2.finance.yahoo.com/v10/finance/quoteSummary/BMGCA?modules=financialData%2CquoteType%2CdefaultKeyStatistics%2CassetProfile%2CsummaryDetail&corsDomain=finance.yahoo.com&formatted=false&symbol=BMGCA&crumb=Ruaz%2F5CqVn4\n"
          ]
        },
        {
          "output_type": "stream",
          "name": "stdout",
          "text": [
            "index: 615/1216, ticker: VFC, start: 1996-01-02, stop: 2024-03-25\n"
          ]
        },
        {
          "output_type": "stream",
          "name": "stderr",
          "text": [
            "[*********************100%***********************]  1 of 1 completed\n",
            "[*********************100%***********************]  1 of 1 completed"
          ]
        },
        {
          "output_type": "stream",
          "name": "stdout",
          "text": [
            "index: 616/1216, ticker: BMC, start: 1998-10-01, stop: 2013-09-09\n",
            "index: 617/1216, ticker: ENPH, start: 2021-01-07, stop: 2024-07-08\n",
            "index: 618/1216, ticker: CTRA, start: 2021-10-04, stop: 2024-07-08\n"
          ]
        },
        {
          "output_type": "stream",
          "name": "stderr",
          "text": [
            "\n",
            "\r[*********************100%***********************]  1 of 1 completed\n"
          ]
        },
        {
          "output_type": "stream",
          "name": "stdout",
          "text": [
            "index: 619/1216, ticker: NTAP, start: 1999-06-25, stop: 2024-07-08\n"
          ]
        },
        {
          "output_type": "stream",
          "name": "stderr",
          "text": [
            "[*********************100%***********************]  1 of 1 completed\n",
            "[*********************100%***********************]  1 of 1 completed\n"
          ]
        },
        {
          "output_type": "stream",
          "name": "stdout",
          "text": [
            "index: 620/1216, ticker: SANM, start: 2000-06-21, stop: 2007-06-26\n",
            "index: 621/1216, ticker: FE, start: 1996-01-02, stop: 2024-07-08\n"
          ]
        },
        {
          "output_type": "stream",
          "name": "stderr",
          "text": [
            "\r[*********************100%***********************]  1 of 1 completed\n"
          ]
        },
        {
          "output_type": "stream",
          "name": "stdout",
          "text": [
            "index: 622/1216, ticker: NYX, start: 2007-10-25, stop: 2013-11-07\n",
            "index: 623/1216, ticker: NAE, start: 1996-01-02, stop: 1997-08-06\n",
            "index: 624/1216, ticker: WRK, start: 2015-07-02, stop: 2024-06-24\n"
          ]
        },
        {
          "output_type": "stream",
          "name": "stderr",
          "text": [
            "ERROR:yfinance:404 Client Error: Not Found for url: https://query2.finance.yahoo.com/v10/finance/quoteSummary/WRK?modules=financialData%2CquoteType%2CdefaultKeyStatistics%2CassetProfile%2CsummaryDetail&corsDomain=finance.yahoo.com&formatted=false&symbol=WRK&crumb=Ruaz%2F5CqVn4\n"
          ]
        },
        {
          "output_type": "stream",
          "name": "stdout",
          "text": [
            "index: 625/1216, ticker: LPX, start: 1996-01-02, stop: 2006-11-07\n"
          ]
        },
        {
          "output_type": "stream",
          "name": "stderr",
          "text": [
            "\r[*********************100%***********************]  1 of 1 completed\n"
          ]
        },
        {
          "output_type": "stream",
          "name": "stdout",
          "text": [
            "index: 626/1216, ticker: CCE, start: 1998-10-08, stop: 2016-05-24\n",
            "index: 627/1216, ticker: CRM, start: 2008-09-15, stop: 2024-07-08\n"
          ]
        },
        {
          "output_type": "stream",
          "name": "stderr",
          "text": [
            "\r[*********************100%***********************]  1 of 1 completed\n"
          ]
        },
        {
          "output_type": "stream",
          "name": "stdout",
          "text": [
            "index: 628/1216, ticker: WCOEQ, start: 1996-04-01, stop: 2002-05-14\n",
            "index: 629/1216, ticker: TXT, start: 1996-01-02, stop: 2024-07-08\n"
          ]
        },
        {
          "output_type": "stream",
          "name": "stderr",
          "text": [
            "\r[*********************100%***********************]  1 of 1 completed\n"
          ]
        },
        {
          "output_type": "stream",
          "name": "stdout",
          "text": [
            "index: 630/1216, ticker: HBOC, start: 1997-10-23, stop: 1999-01-07\n",
            "index: 631/1216, ticker: CYR, start: 1996-01-02, stop: 1996-03-25\n",
            "index: 632/1216, ticker: ROK, start: 1996-01-02, stop: 2024-07-08\n"
          ]
        },
        {
          "output_type": "stream",
          "name": "stderr",
          "text": [
            "\r[*********************100%***********************]  1 of 1 completed\n"
          ]
        },
        {
          "output_type": "stream",
          "name": "stdout",
          "text": [
            "index: 633/1216, ticker: DELL, start: 1996-09-06, stop: 2013-10-18\n"
          ]
        },
        {
          "output_type": "stream",
          "name": "stderr",
          "text": [
            "\r[*********************100%***********************]  1 of 1 completed\n",
            "ERROR:yfinance:\n",
            "1 Failed download:\n",
            "ERROR:yfinance:['DELL']: YFPricesMissingError('$%ticker%: possibly delisted; no price data found  (1d 1996-09-06 -> 2013-10-18) (Yahoo error = \"Data doesn\\'t exist for startDate = 841982400, endDate = 1382068800\")')\n",
            "[*********************100%***********************]  1 of 1 completed\n"
          ]
        },
        {
          "output_type": "stream",
          "name": "stdout",
          "text": [
            "index: 634/1216, ticker: MTD, start: 2016-09-06, stop: 2024-07-08\n",
            "index: 635/1216, ticker: CRR, start: 1996-01-02, stop: 1997-05-19\n",
            "index: 636/1216, ticker: AJG, start: 2016-05-31, stop: 2024-07-08\n"
          ]
        },
        {
          "output_type": "stream",
          "name": "stderr",
          "text": [
            "\r[*********************100%***********************]  1 of 1 completed\n"
          ]
        },
        {
          "output_type": "stream",
          "name": "stdout",
          "text": [
            "index: 637/1216, ticker: ASND, start: 1998-06-12, stop: 1999-06-24\n"
          ]
        },
        {
          "output_type": "stream",
          "name": "stderr",
          "text": [
            "\r[*********************100%***********************]  1 of 1 completed\n",
            "ERROR:yfinance:\n",
            "1 Failed download:\n",
            "ERROR:yfinance:['ASND']: YFPricesMissingError('$%ticker%: possibly delisted; no price data found  (1d 1998-06-12 -> 1999-06-24) (Yahoo error = \"Data doesn\\'t exist for startDate = 897624000, endDate = 930196800\")')\n",
            "[*********************100%***********************]  1 of 1 completed\n"
          ]
        },
        {
          "output_type": "stream",
          "name": "stdout",
          "text": [
            "index: 638/1216, ticker: PMI, start: 1996-01-02, stop: 1996-05-30\n",
            "index: 639/1216, ticker: DECK, start: 2024-03-18, stop: 2024-07-08\n",
            "index: 640/1216, ticker: PVN, start: 1996-01-02, stop: 2005-09-28\n",
            "index: 641/1216, ticker: PGL, start: 1996-01-02, stop: 2007-02-16\n",
            "index: 642/1216, ticker: KSE, start: 2000-08-21, stop: 2007-08-24\n",
            "index: 643/1216, ticker: TUP, start: 1996-05-31, stop: 2004-03-17\n"
          ]
        },
        {
          "output_type": "stream",
          "name": "stderr",
          "text": [
            "\r[*********************100%***********************]  1 of 1 completed\n"
          ]
        },
        {
          "output_type": "stream",
          "name": "stdout",
          "text": [
            "index: 644/1216, ticker: ADS, start: 2013-12-23, stop: 2020-05-22\n",
            "index: 645/1216, ticker: PBCT, start: 2008-11-13, stop: 2022-03-02\n",
            "index: 646/1216, ticker: FCPT, start: 2015-11-10, stop: 2015-11-10\n"
          ]
        },
        {
          "output_type": "stream",
          "name": "stderr",
          "text": [
            "\r[*********************100%***********************]  1 of 1 completed\n",
            "ERROR:yfinance:\n",
            "1 Failed download:\n",
            "ERROR:yfinance:['FCPT']: YFPricesMissingError('$%ticker%: possibly delisted; no price data found  (1d 2015-11-10 -> 2015-11-10) (Yahoo error = \"Data doesn\\'t exist for startDate = 1447131600, endDate = 1447131600\")')\n",
            "[*********************100%***********************]  1 of 1 completed\n"
          ]
        },
        {
          "output_type": "stream",
          "name": "stdout",
          "text": [
            "index: 647/1216, ticker: DPZ, start: 2020-05-12, stop: 2024-07-08\n",
            "index: 648/1216, ticker: STI, start: 1996-01-02, stop: 2019-12-05\n"
          ]
        },
        {
          "output_type": "stream",
          "name": "stderr",
          "text": [
            "\r[*********************100%***********************]  1 of 1 completed\n",
            "ERROR:yfinance:\n",
            "1 Failed download:\n",
            "ERROR:yfinance:['STI']: YFPricesMissingError('$%ticker%: possibly delisted; no price data found  (1d 1996-01-02 -> 2019-12-05) (Yahoo error = \"Data doesn\\'t exist for startDate = 820558800, endDate = 1575522000\")')\n"
          ]
        },
        {
          "output_type": "stream",
          "name": "stdout",
          "text": [
            "index: 649/1216, ticker: TGNA, start: 1996-01-02, stop: 2017-05-23\n"
          ]
        },
        {
          "output_type": "stream",
          "name": "stderr",
          "text": [
            "[*********************100%***********************]  1 of 1 completed\n",
            "[*********************100%***********************]  1 of 1 completed\n"
          ]
        },
        {
          "output_type": "stream",
          "name": "stdout",
          "text": [
            "index: 650/1216, ticker: CIEN, start: 2001-08-30, stop: 2009-12-17\n",
            "index: 651/1216, ticker: FJ, start: 1996-01-02, stop: 2000-11-22\n",
            "index: 652/1216, ticker: TLAB, start: 1996-01-02, stop: 2011-12-20\n",
            "index: 653/1216, ticker: HP, start: 1996-01-02, stop: 1999-12-28\n"
          ]
        },
        {
          "output_type": "stream",
          "name": "stderr",
          "text": [
            "[*********************100%***********************]  1 of 1 completed\n",
            "[*********************100%***********************]  1 of 1 completed\n"
          ]
        },
        {
          "output_type": "stream",
          "name": "stdout",
          "text": [
            "index: 654/1216, ticker: HP, start: 2010-03-01, stop: 2020-05-12\n",
            "index: 655/1216, ticker: PPL, start: 1996-01-02, stop: 2024-07-08\n"
          ]
        },
        {
          "output_type": "stream",
          "name": "stderr",
          "text": [
            "\r[*********************100%***********************]  1 of 1 completed\n"
          ]
        },
        {
          "output_type": "stream",
          "name": "stdout",
          "text": [
            "index: 656/1216, ticker: GIS, start: 1996-01-02, stop: 2024-07-08\n"
          ]
        },
        {
          "output_type": "stream",
          "name": "stderr",
          "text": [
            "[*********************100%***********************]  1 of 1 completed\n",
            "[*********************100%***********************]  1 of 1 completed\n"
          ]
        },
        {
          "output_type": "stream",
          "name": "stdout",
          "text": [
            "index: 657/1216, ticker: ORX, start: 1996-01-02, stop: 1999-02-26\n",
            "index: 658/1216, ticker: WBD, start: 2022-04-11, stop: 2024-07-08\n",
            "index: 659/1216, ticker: FCX, start: 1996-01-02, stop: 2024-07-08\n"
          ]
        },
        {
          "output_type": "stream",
          "name": "stderr",
          "text": [
            "\r[*********************100%***********************]  1 of 1 completed\n"
          ]
        },
        {
          "output_type": "stream",
          "name": "stdout",
          "text": [
            "index: 660/1216, ticker: VTRS, start: 2020-11-17, stop: 2024-07-08\n"
          ]
        },
        {
          "output_type": "stream",
          "name": "stderr",
          "text": [
            "\r[*********************100%***********************]  1 of 1 completed\n"
          ]
        },
        {
          "output_type": "stream",
          "name": "stdout",
          "text": [
            "index: 661/1216, ticker: CVH, start: 2005-08-30, stop: 2013-05-02\n",
            "index: 662/1216, ticker: PLD, start: 2003-07-17, stop: 2024-07-08\n"
          ]
        },
        {
          "output_type": "stream",
          "name": "stderr",
          "text": [
            "[*********************100%***********************]  1 of 1 completed\n",
            "[*********************100%***********************]  1 of 1 completed\n"
          ]
        },
        {
          "output_type": "stream",
          "name": "stdout",
          "text": [
            "index: 663/1216, ticker: SNT, start: 1996-01-02, stop: 1999-10-25\n",
            "index: 664/1216, ticker: GFS.A, start: 1996-01-02, stop: 1998-07-13\n"
          ]
        },
        {
          "output_type": "stream",
          "name": "stderr",
          "text": [
            "ERROR:yfinance:404 Client Error: Not Found for url: https://query2.finance.yahoo.com/v10/finance/quoteSummary/GFS.A?modules=financialData%2CquoteType%2CdefaultKeyStatistics%2CassetProfile%2CsummaryDetail&corsDomain=finance.yahoo.com&formatted=false&symbol=GFS.A&crumb=Ruaz%2F5CqVn4\n"
          ]
        },
        {
          "output_type": "stream",
          "name": "stdout",
          "text": [
            "index: 665/1216, ticker: OMX, start: 1996-01-02, stop: 2008-06-18\n",
            "index: 666/1216, ticker: MYG, start: 1996-01-02, stop: 2006-03-30\n",
            "index: 667/1216, ticker: LYB, start: 2012-09-05, stop: 2024-07-08\n"
          ]
        },
        {
          "output_type": "stream",
          "name": "stderr",
          "text": [
            "\r[*********************100%***********************]  1 of 1 completed\n"
          ]
        },
        {
          "output_type": "stream",
          "name": "stdout",
          "text": [
            "index: 668/1216, ticker: CIN, start: 1996-01-02, stop: 2006-03-30\n",
            "index: 669/1216, ticker: AR, start: 1996-01-02, stop: 1999-10-26\n"
          ]
        },
        {
          "output_type": "stream",
          "name": "stderr",
          "text": [
            "\r[*********************100%***********************]  1 of 1 completed\n",
            "ERROR:yfinance:\n",
            "1 Failed download:\n",
            "ERROR:yfinance:['AR']: possibly delisted; no price data found  (1d 1996-01-02 -> 1999-10-26) (Yahoo error = \"Data doesn't exist for startDate = 820558800, endDate = 940910400\")\n"
          ]
        },
        {
          "output_type": "stream",
          "name": "stdout",
          "text": [
            "index: 670/1216, ticker: FRX, start: 2000-11-22, stop: 2014-06-24\n",
            "index: 671/1216, ticker: RF, start: 1998-08-28, stop: 2024-07-08\n"
          ]
        },
        {
          "output_type": "stream",
          "name": "stderr",
          "text": [
            "\r[*********************100%***********************]  1 of 1 completed\n"
          ]
        },
        {
          "output_type": "stream",
          "name": "stdout",
          "text": [
            "index: 672/1216, ticker: UPS, start: 2002-07-22, stop: 2024-07-08\n"
          ]
        },
        {
          "output_type": "stream",
          "name": "stderr",
          "text": [
            "\r[*********************100%***********************]  1 of 1 completed\n"
          ]
        },
        {
          "output_type": "stream",
          "name": "stdout",
          "text": [
            "index: 673/1216, ticker: ASH, start: 1996-01-02, stop: 2008-11-13\n"
          ]
        },
        {
          "output_type": "stream",
          "name": "stderr",
          "text": [
            "\r[*********************100%***********************]  1 of 1 completed\n"
          ]
        },
        {
          "output_type": "stream",
          "name": "stdout",
          "text": [
            "index: 674/1216, ticker: MEE, start: 1996-01-02, stop: 2000-12-18\n",
            "index: 675/1216, ticker: MEE, start: 2008-06-23, stop: 2011-05-23\n",
            "index: 676/1216, ticker: CMG, start: 2011-04-28, stop: 2024-07-08\n"
          ]
        },
        {
          "output_type": "stream",
          "name": "stderr",
          "text": [
            "\r[*********************100%***********************]  1 of 1 completed\n"
          ]
        },
        {
          "output_type": "stream",
          "name": "stdout",
          "text": [
            "index: 677/1216, ticker: ALXN, start: 2012-05-25, stop: 2021-06-04\n",
            "index: 678/1216, ticker: CNG, start: 1996-01-02, stop: 2000-01-28\n",
            "index: 679/1216, ticker: BVSN, start: 2000-11-06, stop: 2001-08-31\n",
            "index: 680/1216, ticker: URBN, start: 2010-02-08, stop: 2017-03-17\n"
          ]
        },
        {
          "output_type": "stream",
          "name": "stderr",
          "text": [
            "[*********************100%***********************]  1 of 1 completed\n",
            "[*********************100%***********************]  1 of 1 completed\n"
          ]
        },
        {
          "output_type": "stream",
          "name": "stdout",
          "text": [
            "index: 681/1216, ticker: INCY, start: 2017-02-28, stop: 2024-07-08\n",
            "index: 682/1216, ticker: DYN, start: 2000-10-03, stop: 2009-12-17\n"
          ]
        },
        {
          "output_type": "stream",
          "name": "stderr",
          "text": [
            "\r[*********************100%***********************]  1 of 1 completed\n",
            "ERROR:yfinance:\n",
            "1 Failed download:\n",
            "ERROR:yfinance:['DYN']: YFPricesMissingError('$%ticker%: possibly delisted; no price data found  (1d 2000-10-03 -> 2009-12-17) (Yahoo error = \"Data doesn\\'t exist for startDate = 970545600, endDate = 1261026000\")')\n"
          ]
        },
        {
          "output_type": "stream",
          "name": "stdout",
          "text": [
            "index: 683/1216, ticker: PVH, start: 2013-02-14, stop: 2022-06-28\n"
          ]
        },
        {
          "output_type": "stream",
          "name": "stderr",
          "text": [
            "\r[*********************100%***********************]  1 of 1 completed\n"
          ]
        },
        {
          "output_type": "stream",
          "name": "stdout",
          "text": [
            "index: 684/1216, ticker: CTB, start: 1996-01-02, stop: 2006-07-11\n",
            "index: 685/1216, ticker: IVZ, start: 2008-08-21, stop: 2024-07-08\n"
          ]
        },
        {
          "output_type": "stream",
          "name": "stderr",
          "text": [
            "[*********************100%***********************]  1 of 1 completed\n",
            "[*********************100%***********************]  1 of 1 completed\n"
          ]
        },
        {
          "output_type": "stream",
          "name": "stdout",
          "text": [
            "index: 686/1216, ticker: CPWR, start: 1999-01-04, stop: 2011-12-30\n",
            "index: 687/1216, ticker: CPRT, start: 2018-07-02, stop: 2024-07-08\n"
          ]
        },
        {
          "output_type": "stream",
          "name": "stderr",
          "text": [
            "\r[*********************100%***********************]  1 of 1 completed\n"
          ]
        },
        {
          "output_type": "stream",
          "name": "stdout",
          "text": [
            "index: 688/1216, ticker: GRA, start: 1996-01-02, stop: 2000-12-08\n",
            "index: 689/1216, ticker: USHC, start: 1996-01-02, stop: 1996-07-18\n"
          ]
        },
        {
          "output_type": "stream",
          "name": "stderr",
          "text": [
            "ERROR:yfinance:404 Client Error: Not Found for url: https://query2.finance.yahoo.com/v10/finance/quoteSummary/USHC?modules=financialData%2CquoteType%2CdefaultKeyStatistics%2CassetProfile%2CsummaryDetail&corsDomain=finance.yahoo.com&formatted=false&symbol=USHC&crumb=Ruaz%2F5CqVn4\n"
          ]
        },
        {
          "output_type": "stream",
          "name": "stdout",
          "text": [
            "index: 690/1216, ticker: FII, start: 2003-04-16, stop: 2012-12-28\n",
            "index: 691/1216, ticker: GPC, start: 1996-01-02, stop: 2024-07-08\n"
          ]
        },
        {
          "output_type": "stream",
          "name": "stderr",
          "text": [
            "\r[*********************100%***********************]  1 of 1 completed\n"
          ]
        },
        {
          "output_type": "stream",
          "name": "stdout",
          "text": [
            "index: 692/1216, ticker: BAY, start: 1996-02-12, stop: 1998-08-28\n",
            "index: 693/1216, ticker: SSP, start: 2005-12-20, stop: 2008-06-30\n"
          ]
        },
        {
          "output_type": "stream",
          "name": "stderr",
          "text": [
            "\r[*********************100%***********************]  1 of 1 completed\n"
          ]
        },
        {
          "output_type": "stream",
          "name": "stdout",
          "text": [
            "index: 694/1216, ticker: V, start: 2009-12-21, stop: 2024-07-08\n"
          ]
        },
        {
          "output_type": "stream",
          "name": "stderr",
          "text": [
            "[*********************100%***********************]  1 of 1 completed\n",
            "[*********************100%***********************]  1 of 1 completed\n"
          ]
        },
        {
          "output_type": "stream",
          "name": "stdout",
          "text": [
            "index: 695/1216, ticker: MOH, start: 2022-03-02, stop: 2024-07-08\n",
            "index: 696/1216, ticker: ROST, start: 2009-12-21, stop: 2024-07-08\n"
          ]
        },
        {
          "output_type": "stream",
          "name": "stderr",
          "text": [
            "\r[*********************100%***********************]  1 of 1 completed\n"
          ]
        },
        {
          "output_type": "stream",
          "name": "stdout",
          "text": [
            "index: 697/1216, ticker: ABT, start: 1996-01-02, stop: 2024-07-08\n"
          ]
        },
        {
          "output_type": "stream",
          "name": "stderr",
          "text": [
            "\r[*********************100%***********************]  1 of 1 completed\n"
          ]
        },
        {
          "output_type": "stream",
          "name": "stdout",
          "text": [
            "index: 698/1216, ticker: DI, start: 1996-01-02, stop: 1998-09-29\n",
            "index: 699/1216, ticker: SGID, start: 1996-01-02, stop: 2000-06-20\n"
          ]
        },
        {
          "output_type": "stream",
          "name": "stderr",
          "text": [
            "ERROR:yfinance:404 Client Error: Not Found for url: https://query2.finance.yahoo.com/v10/finance/quoteSummary/SGID?modules=financialData%2CquoteType%2CdefaultKeyStatistics%2CassetProfile%2CsummaryDetail&corsDomain=finance.yahoo.com&formatted=false&symbol=SGID&crumb=Ruaz%2F5CqVn4\n"
          ]
        },
        {
          "output_type": "stream",
          "name": "stdout",
          "text": [
            "index: 700/1216, ticker: HOT, start: 2000-11-17, stop: 2016-09-16\n",
            "index: 701/1216, ticker: CPNLQ, start: 2000-12-01, stop: 2005-11-28\n",
            "index: 702/1216, ticker: VTR, start: 2009-03-04, stop: 2024-07-08\n"
          ]
        },
        {
          "output_type": "stream",
          "name": "stderr",
          "text": [
            "[*********************100%***********************]  1 of 1 completed\n",
            "[*********************100%***********************]  1 of 1 completed\n"
          ]
        },
        {
          "output_type": "stream",
          "name": "stdout",
          "text": [
            "index: 703/1216, ticker: BHF, start: 2017-08-07, stop: 2019-02-27\n",
            "index: 704/1216, ticker: CAG, start: 1996-01-02, stop: 2024-07-08\n"
          ]
        },
        {
          "output_type": "stream",
          "name": "stderr",
          "text": [
            "[*********************100%***********************]  1 of 1 completed\n",
            "[*********************100%***********************]  1 of 1 completed"
          ]
        },
        {
          "output_type": "stream",
          "name": "stdout",
          "text": [
            "index: 705/1216, ticker: ONE, start: 1996-01-02, stop: 2004-06-28\n",
            "index: 706/1216, ticker: UA, start: 2016-04-08, stop: 2022-06-09\n",
            "index: 707/1216, ticker: LEN, start: 2005-10-04, stop: 2024-07-08\n"
          ]
        },
        {
          "output_type": "stream",
          "name": "stderr",
          "text": [
            "\n",
            "[*********************100%***********************]  1 of 1 completed\n"
          ]
        },
        {
          "output_type": "stream",
          "name": "stdout",
          "text": [
            "index: 708/1216, ticker: G, start: 1996-01-02, stop: 2005-09-28\n"
          ]
        },
        {
          "output_type": "stream",
          "name": "stderr",
          "text": [
            "\r[*********************100%***********************]  1 of 1 completed\n",
            "ERROR:yfinance:\n",
            "1 Failed download:\n",
            "ERROR:yfinance:['G']: YFPricesMissingError('$%ticker%: possibly delisted; no price data found  (1d 1996-01-02 -> 2005-09-28) (Yahoo error = \"Data doesn\\'t exist for startDate = 820558800, endDate = 1127880000\")')\n",
            "[*********************100%***********************]  1 of 1 completed\n"
          ]
        },
        {
          "output_type": "stream",
          "name": "stdout",
          "text": [
            "index: 709/1216, ticker: WAI, start: 1996-01-02, stop: 1998-08-06\n",
            "index: 710/1216, ticker: SOLV, start: 2024-04-03, stop: 2024-07-08\n",
            "index: 711/1216, ticker: PRU, start: 2002-07-22, stop: 2024-07-08\n"
          ]
        },
        {
          "output_type": "stream",
          "name": "stderr",
          "text": [
            "\r[*********************100%***********************]  1 of 1 completed\n"
          ]
        },
        {
          "output_type": "stream",
          "name": "stdout",
          "text": [
            "index: 712/1216, ticker: HRB, start: 1996-01-02, stop: 2020-09-18\n"
          ]
        },
        {
          "output_type": "stream",
          "name": "stderr",
          "text": [
            "\r[*********************100%***********************]  1 of 1 completed\n"
          ]
        },
        {
          "output_type": "stream",
          "name": "stdout",
          "text": [
            "index: 713/1216, ticker: HPH, start: 1996-01-02, stop: 1999-06-08\n"
          ]
        },
        {
          "output_type": "stream",
          "name": "stderr",
          "text": [
            "\r[*********************100%***********************]  1 of 1 completed\n",
            "ERROR:yfinance:\n",
            "1 Failed download:\n",
            "ERROR:yfinance:['HPH']: YFPricesMissingError('$%ticker%: possibly delisted; no price data found  (1d 1996-01-02 -> 1999-06-08) (Yahoo error = \"Data doesn\\'t exist for startDate = 820558800, endDate = 928814400\")')\n"
          ]
        },
        {
          "output_type": "stream",
          "name": "stdout",
          "text": [
            "index: 714/1216, ticker: NWL, start: 1996-01-02, stop: 2023-08-30\n"
          ]
        },
        {
          "output_type": "stream",
          "name": "stderr",
          "text": [
            "\r[*********************100%***********************]  1 of 1 completed\n"
          ]
        },
        {
          "output_type": "stream",
          "name": "stdout",
          "text": [
            "index: 715/1216, ticker: PRD, start: 1996-01-02, stop: 2000-12-11\n",
            "index: 716/1216, ticker: WMB, start: 1996-01-02, stop: 2024-07-08\n"
          ]
        },
        {
          "output_type": "stream",
          "name": "stderr",
          "text": [
            "[*********************100%***********************]  1 of 1 completed\n",
            "[*********************100%***********************]  1 of 1 completed\n"
          ]
        },
        {
          "output_type": "stream",
          "name": "stdout",
          "text": [
            "index: 717/1216, ticker: FOX, start: 2015-09-21, stop: 2024-07-08\n",
            "index: 718/1216, ticker: FB, start: 2013-12-23, stop: 2022-06-08\n",
            "index: 719/1216, ticker: PCP, start: 2007-06-01, stop: 2016-01-26\n"
          ]
        },
        {
          "output_type": "stream",
          "name": "stderr",
          "text": [
            "\r[*********************100%***********************]  1 of 1 completed"
          ]
        },
        {
          "output_type": "stream",
          "name": "stdout",
          "text": [
            "index: 720/1216, ticker: ODP, start: 1999-06-24, stop: 2010-12-17\n",
            "index: 721/1216, ticker: UAL, start: 2015-09-03, stop: 2024-07-08\n"
          ]
        },
        {
          "output_type": "stream",
          "name": "stderr",
          "text": [
            "\n",
            "[*********************100%***********************]  1 of 1 completed\n",
            "[*********************100%***********************]  1 of 1 completed"
          ]
        },
        {
          "output_type": "stream",
          "name": "stdout",
          "text": [
            "index: 722/1216, ticker: WAT, start: 2002-01-02, stop: 2024-07-08\n"
          ]
        },
        {
          "output_type": "stream",
          "name": "stderr",
          "text": [
            "\n"
          ]
        },
        {
          "output_type": "stream",
          "name": "stdout",
          "text": [
            "index: 723/1216, ticker: KEY, start: 1996-01-02, stop: 2024-07-08\n"
          ]
        },
        {
          "output_type": "stream",
          "name": "stderr",
          "text": [
            "[*********************100%***********************]  1 of 1 completed\n",
            "[*********************100%***********************]  1 of 1 completed"
          ]
        },
        {
          "output_type": "stream",
          "name": "stdout",
          "text": [
            "index: 724/1216, ticker: VRTX, start: 2013-09-23, stop: 2024-07-08\n"
          ]
        },
        {
          "output_type": "stream",
          "name": "stderr",
          "text": [
            "\n"
          ]
        },
        {
          "output_type": "stream",
          "name": "stdout",
          "text": [
            "index: 725/1216, ticker: GE, start: 1996-01-02, stop: 2024-07-08\n"
          ]
        },
        {
          "output_type": "stream",
          "name": "stderr",
          "text": [
            "\r[*********************100%***********************]  1 of 1 completed\n"
          ]
        },
        {
          "output_type": "stream",
          "name": "stdout",
          "text": [
            "index: 726/1216, ticker: AMD, start: 1996-01-02, stop: 2013-09-17\n"
          ]
        },
        {
          "output_type": "stream",
          "name": "stderr",
          "text": [
            "[*********************100%***********************]  1 of 1 completed\n",
            "[*********************100%***********************]  1 of 1 completed\n"
          ]
        },
        {
          "output_type": "stream",
          "name": "stdout",
          "text": [
            "index: 727/1216, ticker: AMD, start: 2017-03-20, stop: 2024-07-08\n",
            "index: 728/1216, ticker: AEP, start: 1996-01-02, stop: 2024-07-08\n"
          ]
        },
        {
          "output_type": "stream",
          "name": "stderr",
          "text": [
            "\r[*********************100%***********************]  1 of 1 completed\n"
          ]
        },
        {
          "output_type": "stream",
          "name": "stdout",
          "text": [
            "index: 729/1216, ticker: RSG, start: 2008-12-05, stop: 2024-07-08\n"
          ]
        },
        {
          "output_type": "stream",
          "name": "stderr",
          "text": [
            "\r[*********************100%***********************]  1 of 1 completed\n"
          ]
        },
        {
          "output_type": "stream",
          "name": "stdout",
          "text": [
            "index: 730/1216, ticker: WY, start: 1996-01-02, stop: 2024-07-08\n"
          ]
        },
        {
          "output_type": "stream",
          "name": "stderr",
          "text": [
            "\r[*********************100%***********************]  1 of 1 completed\n"
          ]
        },
        {
          "output_type": "stream",
          "name": "stdout",
          "text": [
            "index: 731/1216, ticker: TMO, start: 1997-01-02, stop: 2024-07-08\n"
          ]
        },
        {
          "output_type": "stream",
          "name": "stderr",
          "text": [
            "\r[*********************100%***********************]  1 of 1 completed\n"
          ]
        },
        {
          "output_type": "stream",
          "name": "stdout",
          "text": [
            "index: 732/1216, ticker: BXP, start: 2006-04-03, stop: 2024-07-08\n"
          ]
        },
        {
          "output_type": "stream",
          "name": "stderr",
          "text": [
            "\r[*********************100%***********************]  1 of 1 completed\n"
          ]
        },
        {
          "output_type": "stream",
          "name": "stdout",
          "text": [
            "index: 733/1216, ticker: SNDK, start: 2006-04-20, stop: 2016-05-11\n",
            "index: 734/1216, ticker: HCR, start: 1998-09-28, stop: 2007-11-05\n",
            "index: 735/1216, ticker: HPQ, start: 1996-01-02, stop: 2024-07-08\n"
          ]
        },
        {
          "output_type": "stream",
          "name": "stderr",
          "text": [
            "[*********************100%***********************]  1 of 1 completed\n",
            "[*********************100%***********************]  1 of 1 completed\n"
          ]
        },
        {
          "output_type": "stream",
          "name": "stdout",
          "text": [
            "index: 736/1216, ticker: VST, start: 2024-05-08, stop: 2024-07-08\n",
            "index: 737/1216, ticker: APC, start: 1997-07-28, stop: 2019-08-08\n",
            "index: 738/1216, ticker: USB, start: 1996-01-02, stop: 2024-07-08\n"
          ]
        },
        {
          "output_type": "stream",
          "name": "stderr",
          "text": [
            "\r[*********************100%***********************]  1 of 1 completed\n"
          ]
        },
        {
          "output_type": "stream",
          "name": "stdout",
          "text": [
            "index: 739/1216, ticker: PMCS, start: 2001-08-03, stop: 2007-06-26\n",
            "index: 740/1216, ticker: M, start: 1996-01-02, stop: 2020-04-03\n"
          ]
        },
        {
          "output_type": "stream",
          "name": "stderr",
          "text": [
            "\r[*********************100%***********************]  1 of 1 completed\n"
          ]
        },
        {
          "output_type": "stream",
          "name": "stdout",
          "text": [
            "index: 741/1216, ticker: FRC, start: 2019-01-02, stop: 2023-03-20\n",
            "index: 742/1216, ticker: STT, start: 1997-08-18, stop: 2024-07-08\n"
          ]
        },
        {
          "output_type": "stream",
          "name": "stderr",
          "text": [
            "[*********************100%***********************]  1 of 1 completed\n",
            "[*********************100%***********************]  1 of 1 completed\n"
          ]
        },
        {
          "output_type": "stream",
          "name": "stdout",
          "text": [
            "index: 743/1216, ticker: IT, start: 2017-04-05, stop: 2024-07-08\n",
            "index: 744/1216, ticker: CNXT, start: 2000-01-31, stop: 2002-06-19\n",
            "index: 745/1216, ticker: JCP, start: 1996-01-02, stop: 2013-11-27\n",
            "index: 746/1216, ticker: CFL, start: 1996-01-02, stop: 1998-04-27\n",
            "index: 747/1216, ticker: HD, start: 1996-01-02, stop: 2024-07-08\n"
          ]
        },
        {
          "output_type": "stream",
          "name": "stderr",
          "text": [
            "[*********************100%***********************]  1 of 1 completed\n",
            "[*********************100%***********************]  1 of 1 completed"
          ]
        },
        {
          "output_type": "stream",
          "name": "stdout",
          "text": [
            "index: 748/1216, ticker: ROH, start: 1996-01-02, stop: 2009-04-01\n",
            "index: 749/1216, ticker: BCO, start: 1996-01-02, stop: 1996-01-12\n",
            "index: 750/1216, ticker: FRT, start: 2016-02-01, stop: 2024-07-08\n"
          ]
        },
        {
          "output_type": "stream",
          "name": "stderr",
          "text": [
            "\n",
            "[*********************100%***********************]  1 of 1 completed\n"
          ]
        },
        {
          "output_type": "stream",
          "name": "stdout",
          "text": [
            "index: 751/1216, ticker: BAX, start: 1996-01-02, stop: 2024-07-08\n"
          ]
        },
        {
          "output_type": "stream",
          "name": "stderr",
          "text": [
            "\r[*********************100%***********************]  1 of 1 completed\n"
          ]
        },
        {
          "output_type": "stream",
          "name": "stdout",
          "text": [
            "index: 752/1216, ticker: MCD, start: 1996-01-02, stop: 2024-07-08\n"
          ]
        },
        {
          "output_type": "stream",
          "name": "stderr",
          "text": [
            "\r[*********************100%***********************]  1 of 1 completed\n"
          ]
        },
        {
          "output_type": "stream",
          "name": "stdout",
          "text": [
            "index: 753/1216, ticker: AAPL, start: 1996-01-02, stop: 2024-07-08\n"
          ]
        },
        {
          "output_type": "stream",
          "name": "stderr",
          "text": [
            "\r[*********************100%***********************]  1 of 1 completed\n"
          ]
        },
        {
          "output_type": "stream",
          "name": "stdout",
          "text": [
            "index: 754/1216, ticker: HFS, start: 1996-08-16, stop: 1997-12-12\n",
            "index: 755/1216, ticker: CEPH, start: 2008-11-17, stop: 2011-10-11\n",
            "index: 756/1216, ticker: PNW, start: 1999-10-04, stop: 2024-07-08\n"
          ]
        },
        {
          "output_type": "stream",
          "name": "stderr",
          "text": [
            "\r[*********************100%***********************]  1 of 1 completed\n"
          ]
        },
        {
          "output_type": "stream",
          "name": "stdout",
          "text": [
            "index: 757/1216, ticker: SPG, start: 2002-06-26, stop: 2024-07-08\n"
          ]
        },
        {
          "output_type": "stream",
          "name": "stderr",
          "text": [
            "\r[*********************100%***********************]  1 of 1 completed\n"
          ]
        },
        {
          "output_type": "stream",
          "name": "stdout",
          "text": [
            "index: 758/1216, ticker: BXLT, start: 2015-07-01, stop: 2016-06-01\n",
            "index: 759/1216, ticker: CCEP, start: 2016-01-04, stop: 2016-05-24\n"
          ]
        },
        {
          "output_type": "stream",
          "name": "stderr",
          "text": [
            "[*********************100%***********************]  1 of 1 completed\n",
            "[*********************100%***********************]  1 of 1 completed\n"
          ]
        },
        {
          "output_type": "stream",
          "name": "stdout",
          "text": [
            "index: 760/1216, ticker: META, start: 2022-06-09, stop: 2024-07-08\n",
            "index: 761/1216, ticker: DIGI, start: 1996-01-02, stop: 1998-08-26\n"
          ]
        },
        {
          "output_type": "stream",
          "name": "stderr",
          "text": [
            "\r[*********************100%***********************]  1 of 1 completed\n",
            "ERROR:yfinance:\n",
            "1 Failed download:\n",
            "ERROR:yfinance:['DIGI']: YFPricesMissingError('$%ticker%: possibly delisted; no price data found  (1d 1996-01-02 -> 1998-08-26) (Yahoo error = \"Data doesn\\'t exist for startDate = 820558800, endDate = 904104000\")')\n",
            "[*********************100%***********************]  1 of 1 completed\n"
          ]
        },
        {
          "output_type": "stream",
          "name": "stdout",
          "text": [
            "index: 762/1216, ticker: PETM, start: 2012-10-05, stop: 2015-03-11\n",
            "index: 763/1216, ticker: GNRC, start: 2021-03-22, stop: 2024-07-08\n",
            "index: 764/1216, ticker: DAY, start: 2024-02-01, stop: 2024-07-08\n"
          ]
        },
        {
          "output_type": "stream",
          "name": "stderr",
          "text": [
            "\r[*********************100%***********************]  1 of 1 completed\n"
          ]
        },
        {
          "output_type": "stream",
          "name": "stdout",
          "text": [
            "index: 765/1216, ticker: WYND, start: 2006-08-01, stop: 2018-05-24\n",
            "index: 766/1216, ticker: ACN, start: 2011-07-06, stop: 2024-07-08\n"
          ]
        },
        {
          "output_type": "stream",
          "name": "stderr",
          "text": [
            "\r[*********************100%***********************]  1 of 1 completed\n"
          ]
        },
        {
          "output_type": "stream",
          "name": "stdout",
          "text": [
            "index: 767/1216, ticker: TEN, start: 1996-01-02, stop: 1999-10-29\n"
          ]
        },
        {
          "output_type": "stream",
          "name": "stderr",
          "text": [
            "\r[*********************100%***********************]  1 of 1 completed\n",
            "ERROR:yfinance:\n",
            "1 Failed download:\n",
            "ERROR:yfinance:['TEN']: YFPricesMissingError('$%ticker%: possibly delisted; no price data found  (1d 1996-01-02 -> 1999-10-29) (Yahoo error = \"Data doesn\\'t exist for startDate = 820558800, endDate = 941169600\")')\n",
            "[*********************100%***********************]  1 of 1 completed\n"
          ]
        },
        {
          "output_type": "stream",
          "name": "stdout",
          "text": [
            "index: 768/1216, ticker: GLD, start: 1996-01-02, stop: 1997-04-29\n",
            "index: 769/1216, ticker: SEDG, start: 2021-12-20, stop: 2023-10-02\n",
            "index: 770/1216, ticker: ICE, start: 2007-09-26, stop: 2024-07-08\n"
          ]
        },
        {
          "output_type": "stream",
          "name": "stderr",
          "text": [
            "\r[*********************100%***********************]  1 of 1 completed\n"
          ]
        },
        {
          "output_type": "stream",
          "name": "stdout",
          "text": [
            "index: 771/1216, ticker: SPGI, start: 1996-01-02, stop: 2024-07-08\n"
          ]
        },
        {
          "output_type": "stream",
          "name": "stderr",
          "text": [
            "[*********************100%***********************]  1 of 1 completed\n",
            "[*********************100%***********************]  1 of 1 completed\n"
          ]
        },
        {
          "output_type": "stream",
          "name": "stdout",
          "text": [
            "index: 772/1216, ticker: WTW, start: 2022-01-20, stop: 2024-07-08\n",
            "index: 773/1216, ticker: PANW, start: 2023-06-20, stop: 2024-07-08\n"
          ]
        },
        {
          "output_type": "stream",
          "name": "stderr",
          "text": [
            "\r[*********************100%***********************]  1 of 1 completed\n"
          ]
        },
        {
          "output_type": "stream",
          "name": "stdout",
          "text": [
            "index: 774/1216, ticker: RBK, start: 1996-01-02, stop: 2006-01-30\n",
            "index: 775/1216, ticker: VZ, start: 1996-01-02, stop: 2024-07-08\n"
          ]
        },
        {
          "output_type": "stream",
          "name": "stderr",
          "text": [
            "\r[*********************100%***********************]  1 of 1 completed\n"
          ]
        },
        {
          "output_type": "stream",
          "name": "stdout",
          "text": [
            "index: 776/1216, ticker: CXO, start: 2016-02-22, stop: 2021-01-07\n",
            "index: 777/1216, ticker: UCC, start: 1996-01-02, stop: 1999-04-28\n",
            "index: 778/1216, ticker: CINF, start: 1997-12-18, stop: 2024-07-08\n"
          ]
        },
        {
          "output_type": "stream",
          "name": "stderr",
          "text": [
            "\r[*********************100%***********************]  1 of 1 completed\n"
          ]
        },
        {
          "output_type": "stream",
          "name": "stdout",
          "text": [
            "index: 779/1216, ticker: BLL, start: 1996-01-02, stop: 2022-04-11\n",
            "index: 780/1216, ticker: LDG, start: 1996-01-02, stop: 2001-06-29\n",
            "index: 781/1216, ticker: AMP, start: 1996-01-02, stop: 1999-03-30\n"
          ]
        },
        {
          "output_type": "stream",
          "name": "stderr",
          "text": [
            "\r[*********************100%***********************]  1 of 1 completed\n",
            "ERROR:yfinance:\n",
            "1 Failed download:\n",
            "ERROR:yfinance:['AMP']: YFPricesMissingError('$%ticker%: possibly delisted; no price data found  (1d 1996-01-02 -> 1999-03-30) (Yahoo error = \"Data doesn\\'t exist for startDate = 820558800, endDate = 922770000\")')\n",
            "[*********************100%***********************]  1 of 1 completed\n"
          ]
        },
        {
          "output_type": "stream",
          "name": "stdout",
          "text": [
            "index: 782/1216, ticker: AMP, start: 2005-10-03, stop: 2024-07-08\n",
            "index: 783/1216, ticker: VRSN, start: 2006-02-01, stop: 2024-07-08\n"
          ]
        },
        {
          "output_type": "stream",
          "name": "stderr",
          "text": [
            "\r[*********************100%***********************]  1 of 1 completed\n"
          ]
        },
        {
          "output_type": "stream",
          "name": "stdout",
          "text": [
            "index: 784/1216, ticker: WFT, start: 2005-07-22, stop: 2009-02-25\n",
            "index: 785/1216, ticker: PVT, start: 1998-08-31, stop: 1999-06-30\n",
            "index: 786/1216, ticker: BHGE, start: 1996-01-02, stop: 2019-10-03\n",
            "index: 787/1216, ticker: CI, start: 1996-01-02, stop: 2024-07-08\n"
          ]
        },
        {
          "output_type": "stream",
          "name": "stderr",
          "text": [
            "\r[*********************100%***********************]  1 of 1 completed\n"
          ]
        },
        {
          "output_type": "stream",
          "name": "stdout",
          "text": [
            "index: 788/1216, ticker: ANV, start: 1996-01-02, stop: 1999-04-08\n",
            "index: 789/1216, ticker: TWX, start: 1996-01-02, stop: 2018-06-14\n",
            "index: 790/1216, ticker: FMY, start: 1998-07-10, stop: 1999-05-19\n"
          ]
        },
        {
          "output_type": "stream",
          "name": "stderr",
          "text": [
            "\r[*********************100%***********************]  1 of 1 completed\n",
            "ERROR:yfinance:\n",
            "1 Failed download:\n",
            "ERROR:yfinance:['FMY']: YFPricesMissingError('$%ticker%: possibly delisted; no price data found  (1d 1998-07-10 -> 1999-05-19) (Yahoo error = \"Data doesn\\'t exist for startDate = 900043200, endDate = 927086400\")')\n"
          ]
        },
        {
          "output_type": "stream",
          "name": "stdout",
          "text": [
            "index: 791/1216, ticker: NCR, start: 2000-01-04, stop: 2007-09-28\n"
          ]
        },
        {
          "output_type": "stream",
          "name": "stderr",
          "text": [
            "ERROR:yfinance:404 Client Error: Not Found for url: https://query2.finance.yahoo.com/v10/finance/quoteSummary/NCR?modules=financialData%2CquoteType%2CdefaultKeyStatistics%2CassetProfile%2CsummaryDetail&corsDomain=finance.yahoo.com&formatted=false&symbol=NCR&crumb=Ruaz%2F5CqVn4\n",
            "[*********************100%***********************]  1 of 1 completed\n"
          ]
        },
        {
          "output_type": "stream",
          "name": "stdout",
          "text": [
            "index: 792/1216, ticker: SEBL, start: 2000-05-05, stop: 2006-01-30\n",
            "index: 793/1216, ticker: FOXA, start: 2004-12-20, stop: 2024-07-08\n",
            "index: 794/1216, ticker: WLA, start: 1996-01-02, stop: 2000-06-19\n",
            "index: 795/1216, ticker: SXCL, start: 1999-10-01, stop: 2001-05-10\n",
            "index: 796/1216, ticker: ACAS, start: 2007-07-09, stop: 2009-03-02\n",
            "index: 797/1216, ticker: DWDP, start: 2017-09-01, stop: 2019-06-01\n",
            "index: 798/1216, ticker: BRCM, start: 2000-07-03, stop: 2016-01-26\n",
            "index: 799/1216, ticker: MGM, start: 2017-07-26, stop: 2024-07-08\n"
          ]
        },
        {
          "output_type": "stream",
          "name": "stderr",
          "text": [
            "\r[*********************100%***********************]  1 of 1 completed\n"
          ]
        },
        {
          "output_type": "stream",
          "name": "stdout",
          "text": [
            "index: 800/1216, ticker: MNK, start: 2014-08-19, stop: 2017-07-25\n"
          ]
        },
        {
          "output_type": "stream",
          "name": "stderr",
          "text": [
            "ERROR:yfinance:404 Client Error: Not Found for url: https://query2.finance.yahoo.com/v10/finance/quoteSummary/MNK?modules=financialData%2CquoteType%2CdefaultKeyStatistics%2CassetProfile%2CsummaryDetail&corsDomain=finance.yahoo.com&formatted=false&symbol=MNK&crumb=Ruaz%2F5CqVn4\n"
          ]
        },
        {
          "output_type": "stream",
          "name": "stdout",
          "text": [
            "index: 801/1216, ticker: TOY, start: 1996-01-02, stop: 2005-07-21\n",
            "index: 802/1216, ticker: H, start: 1996-01-02, stop: 2001-06-25\n"
          ]
        },
        {
          "output_type": "stream",
          "name": "stderr",
          "text": [
            "\r[*********************100%***********************]  1 of 1 completed\n",
            "ERROR:yfinance:\n",
            "1 Failed download:\n",
            "ERROR:yfinance:['H']: YFPricesMissingError('$%ticker%: possibly delisted; no price data found  (1d 1996-01-02 -> 2001-06-25) (Yahoo error = \"Data doesn\\'t exist for startDate = 820558800, endDate = 993441600\")')\n"
          ]
        },
        {
          "output_type": "stream",
          "name": "stdout",
          "text": [
            "index: 803/1216, ticker: H, start: 2006-08-01, stop: 2007-04-05\n"
          ]
        },
        {
          "output_type": "stream",
          "name": "stderr",
          "text": [
            "\r[*********************100%***********************]  1 of 1 completed\n",
            "ERROR:yfinance:\n",
            "1 Failed download:\n",
            "ERROR:yfinance:['H']: YFPricesMissingError('$%ticker%: possibly delisted; no price data found  (1d 2006-08-01 -> 2007-04-05) (Yahoo error = \"Data doesn\\'t exist for startDate = 1154404800, endDate = 1175745600\")')\n"
          ]
        },
        {
          "output_type": "stream",
          "name": "stdout",
          "text": [
            "index: 804/1216, ticker: OWENQ, start: 1996-01-02, stop: 2000-09-27\n",
            "index: 805/1216, ticker: PNC, start: 1996-01-02, stop: 2024-07-08\n"
          ]
        },
        {
          "output_type": "stream",
          "name": "stderr",
          "text": [
            "\r[*********************100%***********************]  1 of 1 completed\n"
          ]
        },
        {
          "output_type": "stream",
          "name": "stdout",
          "text": [
            "index: 806/1216, ticker: DVN, start: 2000-08-30, stop: 2024-07-08\n"
          ]
        },
        {
          "output_type": "stream",
          "name": "stderr",
          "text": [
            "[*********************100%***********************]  1 of 1 completed\n",
            "[*********************100%***********************]  1 of 1 completed\n"
          ]
        },
        {
          "output_type": "stream",
          "name": "stdout",
          "text": [
            "index: 807/1216, ticker: AMCR, start: 2019-06-07, stop: 2024-07-08\n",
            "index: 808/1216, ticker: SCI, start: 1996-01-02, stop: 2000-03-15\n"
          ]
        },
        {
          "output_type": "stream",
          "name": "stderr",
          "text": [
            "\r[*********************100%***********************]  1 of 1 completed\n"
          ]
        },
        {
          "output_type": "stream",
          "name": "stdout",
          "text": [
            "index: 809/1216, ticker: TA, start: 1996-01-02, stop: 1999-07-20\n",
            "index: 810/1216, ticker: TJX, start: 1996-01-02, stop: 2024-07-08\n"
          ]
        },
        {
          "output_type": "stream",
          "name": "stderr",
          "text": [
            "\r[*********************100%***********************]  1 of 1 completed\n"
          ]
        },
        {
          "output_type": "stream",
          "name": "stdout",
          "text": [
            "index: 811/1216, ticker: AMH, start: 1996-01-02, stop: 1997-09-08\n"
          ]
        },
        {
          "output_type": "stream",
          "name": "stderr",
          "text": [
            "\r[*********************100%***********************]  1 of 1 completed\n",
            "ERROR:yfinance:\n",
            "1 Failed download:\n",
            "ERROR:yfinance:['AMH']: YFPricesMissingError('$%ticker%: possibly delisted; no price data found  (1d 1996-01-02 -> 1997-09-08) (Yahoo error = \"Data doesn\\'t exist for startDate = 820558800, endDate = 873691200\")')\n"
          ]
        },
        {
          "output_type": "stream",
          "name": "stdout",
          "text": [
            "index: 812/1216, ticker: PG, start: 1996-01-02, stop: 2024-07-08\n"
          ]
        },
        {
          "output_type": "stream",
          "name": "stderr",
          "text": [
            "\r[*********************100%***********************]  1 of 1 completed\n"
          ]
        },
        {
          "output_type": "stream",
          "name": "stdout",
          "text": [
            "index: 813/1216, ticker: MTG, start: 1996-07-19, stop: 2008-10-28\n"
          ]
        },
        {
          "output_type": "stream",
          "name": "stderr",
          "text": [
            "\r[*********************100%***********************]  1 of 1 completed\n"
          ]
        },
        {
          "output_type": "stream",
          "name": "stdout",
          "text": [
            "index: 814/1216, ticker: CPQ, start: 1996-01-02, stop: 2002-05-01\n",
            "index: 815/1216, ticker: PTV, start: 1999-11-05, stop: 2010-11-08\n",
            "index: 816/1216, ticker: VTSS, start: 2000-12-12, stop: 2002-08-19\n",
            "index: 817/1216, ticker: X, start: 1996-01-02, stop: 2014-07-01\n"
          ]
        },
        {
          "output_type": "stream",
          "name": "stderr",
          "text": [
            "[*********************100%***********************]  1 of 1 completed\n",
            "[*********************100%***********************]  1 of 1 completed\n"
          ]
        },
        {
          "output_type": "stream",
          "name": "stdout",
          "text": [
            "index: 818/1216, ticker: BKNG, start: 2009-11-06, stop: 2024-07-08\n",
            "index: 819/1216, ticker: MDLZ, start: 2007-04-02, stop: 2024-07-08\n"
          ]
        },
        {
          "output_type": "stream",
          "name": "stderr",
          "text": [
            "[*********************100%***********************]  1 of 1 completed\n",
            "[*********************100%***********************]  1 of 1 completed\n"
          ]
        },
        {
          "output_type": "stream",
          "name": "stdout",
          "text": [
            "index: 820/1216, ticker: KVUE, start: 2023-08-25, stop: 2024-07-08\n",
            "index: 821/1216, ticker: PBI, start: 1996-01-02, stop: 2017-02-28\n"
          ]
        },
        {
          "output_type": "stream",
          "name": "stderr",
          "text": [
            "\r[*********************100%***********************]  1 of 1 completed\n"
          ]
        },
        {
          "output_type": "stream",
          "name": "stdout",
          "text": [
            "index: 822/1216, ticker: TMC.A, start: 1996-01-02, stop: 2000-06-09\n"
          ]
        },
        {
          "output_type": "stream",
          "name": "stderr",
          "text": [
            "ERROR:yfinance:404 Client Error: Not Found for url: https://query2.finance.yahoo.com/v10/finance/quoteSummary/TMC.A?modules=financialData%2CquoteType%2CdefaultKeyStatistics%2CassetProfile%2CsummaryDetail&corsDomain=finance.yahoo.com&formatted=false&symbol=TMC.A&crumb=Ruaz%2F5CqVn4\n",
            "[*********************100%***********************]  1 of 1 completed\n"
          ]
        },
        {
          "output_type": "stream",
          "name": "stdout",
          "text": [
            "index: 823/1216, ticker: BLDR, start: 2023-10-18, stop: 2024-07-08\n",
            "index: 824/1216, ticker: PSFT, start: 1998-10-02, stop: 2004-12-27\n"
          ]
        },
        {
          "output_type": "stream",
          "name": "stderr",
          "text": [
            "\r[*********************100%***********************]  1 of 1 completed\n",
            "ERROR:yfinance:\n",
            "1 Failed download:\n",
            "ERROR:yfinance:['PSFT']: YFPricesMissingError('$%ticker%: possibly delisted; no price data found  (1d 1998-10-02 -> 2004-12-27) (Yahoo error = \"Data doesn\\'t exist for startDate = 907300800, endDate = 1104123600\")')\n"
          ]
        },
        {
          "output_type": "stream",
          "name": "stdout",
          "text": [
            "index: 825/1216, ticker: DLR, start: 2016-05-18, stop: 2024-07-08\n"
          ]
        },
        {
          "output_type": "stream",
          "name": "stderr",
          "text": [
            "\r[*********************100%***********************]  1 of 1 completed\n"
          ]
        },
        {
          "output_type": "stream",
          "name": "stdout",
          "text": [
            "index: 826/1216, ticker: ECH, start: 1996-01-02, stop: 1998-07-09\n",
            "index: 827/1216, ticker: UN, start: 1996-01-02, stop: 2002-07-18\n",
            "index: 828/1216, ticker: SPLS, start: 1998-10-07, stop: 2017-09-12\n",
            "index: 829/1216, ticker: RJF, start: 2017-03-20, stop: 2024-07-08\n"
          ]
        },
        {
          "output_type": "stream",
          "name": "stderr",
          "text": [
            "\r[*********************100%***********************]  1 of 1 completed\n"
          ]
        },
        {
          "output_type": "stream",
          "name": "stdout",
          "text": [
            "index: 830/1216, ticker: GRMN, start: 2012-12-12, stop: 2024-07-08\n"
          ]
        },
        {
          "output_type": "stream",
          "name": "stderr",
          "text": [
            "\r[*********************100%***********************]  1 of 1 completed\n"
          ]
        },
        {
          "output_type": "stream",
          "name": "stdout",
          "text": [
            "index: 831/1216, ticker: JH, start: 1996-01-02, stop: 1998-03-30\n",
            "index: 832/1216, ticker: EQR, start: 2001-12-03, stop: 2024-07-08\n"
          ]
        },
        {
          "output_type": "stream",
          "name": "stderr",
          "text": [
            "\r[*********************100%***********************]  1 of 1 completed\n"
          ]
        },
        {
          "output_type": "stream",
          "name": "stdout",
          "text": [
            "index: 833/1216, ticker: SW, start: 2024-07-08, stop: 2024-07-08\n"
          ]
        },
        {
          "output_type": "stream",
          "name": "stderr",
          "text": [
            "\r[*********************100%***********************]  1 of 1 completed\n",
            "ERROR:yfinance:\n",
            "1 Failed download:\n",
            "ERROR:yfinance:['SW']: YFPricesMissingError('$%ticker%: possibly delisted; no price data found  (1d 2024-07-08 -> 2024-07-08) (Yahoo error = \"Data doesn\\'t exist for startDate = 1720411200, endDate = 1720411200\")')\n"
          ]
        },
        {
          "output_type": "stream",
          "name": "stdout",
          "text": [
            "index: 834/1216, ticker: TX, start: 1996-01-02, stop: 2001-10-04\n"
          ]
        },
        {
          "output_type": "stream",
          "name": "stderr",
          "text": [
            "\r[*********************100%***********************]  1 of 1 completed\n",
            "ERROR:yfinance:\n",
            "1 Failed download:\n",
            "ERROR:yfinance:['TX']: YFPricesMissingError('$%ticker%: possibly delisted; no price data found  (1d 1996-01-02 -> 2001-10-04) (Yahoo error = \"Data doesn\\'t exist for startDate = 820558800, endDate = 1002168000\")')\n"
          ]
        },
        {
          "output_type": "stream",
          "name": "stdout",
          "text": [
            "index: 835/1216, ticker: RHI, start: 2000-12-05, stop: 2024-05-08\n"
          ]
        },
        {
          "output_type": "stream",
          "name": "stderr",
          "text": [
            "\r[*********************100%***********************]  1 of 1 completed\n"
          ]
        },
        {
          "output_type": "stream",
          "name": "stdout",
          "text": [
            "index: 836/1216, ticker: KLAC, start: 1997-09-15, stop: 2024-07-08\n"
          ]
        },
        {
          "output_type": "stream",
          "name": "stderr",
          "text": [
            "\r[*********************100%***********************]  1 of 1 completed\n"
          ]
        },
        {
          "output_type": "stream",
          "name": "stdout",
          "text": [
            "index: 837/1216, ticker: ECO, start: 1996-01-02, stop: 1998-01-15\n"
          ]
        },
        {
          "output_type": "stream",
          "name": "stderr",
          "text": [
            "\r[*********************100%***********************]  1 of 1 completed\n",
            "ERROR:yfinance:\n",
            "1 Failed download:\n",
            "ERROR:yfinance:['ECO']: YFPricesMissingError('$%ticker%: possibly delisted; no price data found  (1d 1996-01-02 -> 1998-01-15) (Yahoo error = \"Data doesn\\'t exist for startDate = 820558800, endDate = 884840400\")')\n",
            "[*********************100%***********************]  1 of 1 completed\n"
          ]
        },
        {
          "output_type": "stream",
          "name": "stdout",
          "text": [
            "index: 838/1216, ticker: CSR, start: 1996-01-02, stop: 2000-06-15\n",
            "index: 839/1216, ticker: VRTS, start: 2000-04-03, stop: 2005-06-30\n"
          ]
        },
        {
          "output_type": "stream",
          "name": "stderr",
          "text": [
            "\r[*********************100%***********************]  1 of 1 completed\n",
            "ERROR:yfinance:\n",
            "1 Failed download:\n",
            "ERROR:yfinance:['VRTS']: YFPricesMissingError('$%ticker%: possibly delisted; no price data found  (1d 2000-04-03 -> 2005-06-30) (Yahoo error = \"Data doesn\\'t exist for startDate = 954734400, endDate = 1120104000\")')\n"
          ]
        },
        {
          "output_type": "stream",
          "name": "stdout",
          "text": [
            "index: 840/1216, ticker: RNB, start: 1996-01-02, stop: 1999-12-31\n",
            "index: 841/1216, ticker: HOG, start: 2000-01-31, stop: 2020-05-22\n"
          ]
        },
        {
          "output_type": "stream",
          "name": "stderr",
          "text": [
            "[*********************100%***********************]  1 of 1 completed\n",
            "[*********************100%***********************]  1 of 1 completed\n"
          ]
        },
        {
          "output_type": "stream",
          "name": "stdout",
          "text": [
            "index: 842/1216, ticker: CGP, start: 1996-01-02, stop: 2001-01-29\n",
            "index: 843/1216, ticker: CARR, start: 2020-04-03, stop: 2024-07-08\n",
            "index: 844/1216, ticker: BALL, start: 2022-05-10, stop: 2024-07-08\n"
          ]
        },
        {
          "output_type": "stream",
          "name": "stderr",
          "text": [
            "[*********************100%***********************]  1 of 1 completed\n",
            "[*********************100%***********************]  1 of 1 completed\n"
          ]
        },
        {
          "output_type": "stream",
          "name": "stdout",
          "text": [
            "index: 845/1216, ticker: MNST, start: 2012-06-29, stop: 2024-07-08\n",
            "index: 846/1216, ticker: SAF, start: 1996-01-02, stop: 2008-09-22\n",
            "index: 847/1216, ticker: MIL, start: 1996-01-02, stop: 2010-07-12\n",
            "index: 848/1216, ticker: TMK, start: 1996-01-02, stop: 2019-07-15\n",
            "index: 849/1216, ticker: TFX, start: 2019-01-18, stop: 2024-07-08\n"
          ]
        },
        {
          "output_type": "stream",
          "name": "stderr",
          "text": [
            "\r[*********************100%***********************]  1 of 1 completed\n"
          ]
        },
        {
          "output_type": "stream",
          "name": "stdout",
          "text": [
            "index: 850/1216, ticker: BDX, start: 1996-01-02, stop: 2024-07-08\n"
          ]
        },
        {
          "output_type": "stream",
          "name": "stderr",
          "text": [
            "\r[*********************100%***********************]  1 of 1 completed\n"
          ]
        },
        {
          "output_type": "stream",
          "name": "stdout",
          "text": [
            "index: 851/1216, ticker: CVS, start: 1996-01-02, stop: 2024-07-08\n"
          ]
        },
        {
          "output_type": "stream",
          "name": "stderr",
          "text": [
            "\r[*********************100%***********************]  1 of 1 completed\n"
          ]
        },
        {
          "output_type": "stream",
          "name": "stdout",
          "text": [
            "index: 852/1216, ticker: PM, start: 2008-03-31, stop: 2024-07-08\n"
          ]
        },
        {
          "output_type": "stream",
          "name": "stderr",
          "text": [
            "[*********************100%***********************]  1 of 1 completed\n",
            "[*********************100%***********************]  1 of 1 completed"
          ]
        },
        {
          "output_type": "stream",
          "name": "stdout",
          "text": [
            "index: 853/1216, ticker: LM, start: 2006-04-24, stop: 2016-11-29\n",
            "index: 854/1216, ticker: DXCM, start: 2020-05-12, stop: 2024-07-08\n",
            "index: 855/1216, ticker: IMNX, start: 2001-09-21, stop: 2002-07-10\n"
          ]
        },
        {
          "output_type": "stream",
          "name": "stderr",
          "text": [
            "\n"
          ]
        },
        {
          "output_type": "stream",
          "name": "stdout",
          "text": [
            "index: 856/1216, ticker: NCC, start: 1996-01-02, stop: 2008-12-29\n",
            "index: 857/1216, ticker: HSP, start: 2004-05-03, stop: 2015-09-01\n",
            "index: 858/1216, ticker: PCL, start: 2002-01-17, stop: 2016-02-16\n",
            "index: 859/1216, ticker: CAL, start: 1996-01-02, stop: 1996-07-19\n"
          ]
        },
        {
          "output_type": "stream",
          "name": "stderr",
          "text": [
            "\r[*********************100%***********************]  1 of 1 completed\n"
          ]
        },
        {
          "output_type": "stream",
          "name": "stdout",
          "text": [
            "index: 860/1216, ticker: AAP, start: 2015-07-09, stop: 2023-06-20\n"
          ]
        },
        {
          "output_type": "stream",
          "name": "stderr",
          "text": [
            "[*********************100%***********************]  1 of 1 completed\n",
            "[*********************100%***********************]  1 of 1 completed\n"
          ]
        },
        {
          "output_type": "stream",
          "name": "stdout",
          "text": [
            "index: 861/1216, ticker: LUB, start: 1996-01-02, stop: 1996-12-27\n",
            "index: 862/1216, ticker: WMX, start: 1996-01-02, stop: 1998-07-16\n",
            "index: 863/1216, ticker: TMUS, start: 2009-06-30, stop: 2013-04-29\n",
            "index: 864/1216, ticker: TMUS, start: 2019-07-15, stop: 2024-07-08\n"
          ]
        },
        {
          "output_type": "stream",
          "name": "stderr",
          "text": [
            "\r[*********************100%***********************]  1 of 1 completed\n"
          ]
        },
        {
          "output_type": "stream",
          "name": "stdout",
          "text": [
            "index: 865/1216, ticker: MAA, start: 2016-12-02, stop: 2024-07-08\n"
          ]
        },
        {
          "output_type": "stream",
          "name": "stderr",
          "text": [
            "[*********************100%***********************]  1 of 1 completed\n",
            "[*********************100%***********************]  1 of 1 completed\n"
          ]
        },
        {
          "output_type": "stream",
          "name": "stdout",
          "text": [
            "index: 866/1216, ticker: CPRI, start: 2016-01-04, stop: 2020-04-06\n",
            "index: 867/1216, ticker: CNW, start: 1996-01-02, stop: 1996-11-27\n",
            "index: 868/1216, ticker: SCG, start: 2009-01-02, stop: 2018-12-24\n",
            "index: 869/1216, ticker: UCL, start: 1996-01-02, stop: 2005-08-10\n"
          ]
        },
        {
          "output_type": "stream",
          "name": "stderr",
          "text": [
            "\r[*********************100%***********************]  1 of 1 completed\n",
            "ERROR:yfinance:\n",
            "1 Failed download:\n",
            "ERROR:yfinance:['UCL']: YFPricesMissingError('$%ticker%: possibly delisted; no price data found  (1d 1996-01-02 -> 2005-08-10) (Yahoo error = \"Data doesn\\'t exist for startDate = 820558800, endDate = 1123646400\")')\n"
          ]
        },
        {
          "output_type": "stream",
          "name": "stdout",
          "text": [
            "index: 870/1216, ticker: NYN, start: 1996-01-02, stop: 1997-08-14\n",
            "index: 871/1216, ticker: GSX, start: 1996-01-02, stop: 1998-10-06\n",
            "index: 872/1216, ticker: UMG, start: 1996-01-02, stop: 2000-06-13\n"
          ]
        },
        {
          "output_type": "stream",
          "name": "stderr",
          "text": [
            "ERROR:yfinance:404 Client Error: Not Found for url: https://query2.finance.yahoo.com/v10/finance/quoteSummary/UMG?modules=financialData%2CquoteType%2CdefaultKeyStatistics%2CassetProfile%2CsummaryDetail&corsDomain=finance.yahoo.com&formatted=false&symbol=UMG&crumb=Ruaz%2F5CqVn4\n"
          ]
        },
        {
          "output_type": "stream",
          "name": "stdout",
          "text": [
            "index: 873/1216, ticker: LIFE, start: 2008-11-24, stop: 2014-01-22\n"
          ]
        },
        {
          "output_type": "stream",
          "name": "stderr",
          "text": [
            "ERROR:yfinance:404 Client Error: Not Found for url: https://query2.finance.yahoo.com/v10/finance/quoteSummary/LIFE?modules=financialData%2CquoteType%2CdefaultKeyStatistics%2CassetProfile%2CsummaryDetail&corsDomain=finance.yahoo.com&formatted=false&symbol=LIFE&crumb=Ruaz%2F5CqVn4\n"
          ]
        },
        {
          "output_type": "stream",
          "name": "stdout",
          "text": [
            "index: 874/1216, ticker: CLX, start: 1996-01-02, stop: 2024-07-08\n"
          ]
        },
        {
          "output_type": "stream",
          "name": "stderr",
          "text": [
            "\r[*********************100%***********************]  1 of 1 completed\n"
          ]
        },
        {
          "output_type": "stream",
          "name": "stdout",
          "text": [
            "index: 875/1216, ticker: GTW, start: 1998-04-27, stop: 2006-07-31\n",
            "index: 876/1216, ticker: SCHW, start: 1997-06-02, stop: 2024-07-08\n"
          ]
        },
        {
          "output_type": "stream",
          "name": "stderr",
          "text": [
            "\r[*********************100%***********************]  1 of 1 completed\n"
          ]
        },
        {
          "output_type": "stream",
          "name": "stdout",
          "text": [
            "index: 877/1216, ticker: NDAQ, start: 2008-10-22, stop: 2024-07-08\n"
          ]
        },
        {
          "output_type": "stream",
          "name": "stderr",
          "text": [
            "\r[*********************100%***********************]  1 of 1 completed\n"
          ]
        },
        {
          "output_type": "stream",
          "name": "stdout",
          "text": [
            "index: 878/1216, ticker: SYY, start: 1996-01-02, stop: 2024-07-08\n"
          ]
        },
        {
          "output_type": "stream",
          "name": "stderr",
          "text": [
            "\r[*********************100%***********************]  1 of 1 completed\n"
          ]
        },
        {
          "output_type": "stream",
          "name": "stdout",
          "text": [
            "index: 879/1216, ticker: MAS, start: 1996-01-02, stop: 2024-07-08\n"
          ]
        },
        {
          "output_type": "stream",
          "name": "stderr",
          "text": [
            "\r[*********************100%***********************]  1 of 1 completed\n"
          ]
        },
        {
          "output_type": "stream",
          "name": "stdout",
          "text": [
            "index: 880/1216, ticker: PZE, start: 1996-01-02, stop: 1998-12-24\n",
            "index: 881/1216, ticker: USW, start: 1996-01-02, stop: 2000-06-29\n",
            "index: 882/1216, ticker: GME, start: 2007-12-14, stop: 2016-04-20\n"
          ]
        },
        {
          "output_type": "stream",
          "name": "stderr",
          "text": [
            "\r[*********************100%***********************]  1 of 1 completed\n"
          ]
        },
        {
          "output_type": "stream",
          "name": "stdout",
          "text": [
            "index: 883/1216, ticker: CDAY, start: 2021-09-20, stop: 2023-10-18\n"
          ]
        },
        {
          "output_type": "stream",
          "name": "stderr",
          "text": [
            "ERROR:yfinance:404 Client Error: Not Found for url: https://query2.finance.yahoo.com/v10/finance/quoteSummary/CDAY?modules=financialData%2CquoteType%2CdefaultKeyStatistics%2CassetProfile%2CsummaryDetail&corsDomain=finance.yahoo.com&formatted=false&symbol=CDAY&crumb=Ruaz%2F5CqVn4\n"
          ]
        },
        {
          "output_type": "stream",
          "name": "stdout",
          "text": [
            "index: 884/1216, ticker: FLS, start: 2008-10-02, stop: 2021-02-12\n"
          ]
        },
        {
          "output_type": "stream",
          "name": "stderr",
          "text": [
            "\r[*********************100%***********************]  1 of 1 completed\n"
          ]
        },
        {
          "output_type": "stream",
          "name": "stdout",
          "text": [
            "index: 885/1216, ticker: DIS, start: 1996-01-02, stop: 2024-07-08\n"
          ]
        },
        {
          "output_type": "stream",
          "name": "stderr",
          "text": [
            "\r[*********************100%***********************]  1 of 1 completed\n"
          ]
        },
        {
          "output_type": "stream",
          "name": "stdout",
          "text": [
            "index: 886/1216, ticker: PCG, start: 1996-01-02, stop: 2019-01-11\n"
          ]
        },
        {
          "output_type": "stream",
          "name": "stderr",
          "text": [
            "[*********************100%***********************]  1 of 1 completed\n",
            "[*********************100%***********************]  1 of 1 completed"
          ]
        },
        {
          "output_type": "stream",
          "name": "stdout",
          "text": [
            "index: 887/1216, ticker: PCG, start: 2022-10-03, stop: 2024-07-08\n",
            "index: 888/1216, ticker: CBE, start: 1996-01-02, stop: 2009-09-08\n",
            "index: 889/1216, ticker: CBE, start: 2011-11-23, stop: 2012-11-27\n",
            "index: 890/1216, ticker: SDS, start: 2002-07-22, stop: 2005-08-11\n"
          ]
        },
        {
          "output_type": "stream",
          "name": "stderr",
          "text": [
            "\n"
          ]
        },
        {
          "output_type": "stream",
          "name": "stdout",
          "text": [
            "index: 891/1216, ticker: CME, start: 2006-08-11, stop: 2024-07-08\n"
          ]
        },
        {
          "output_type": "stream",
          "name": "stderr",
          "text": [
            "[*********************100%***********************]  1 of 1 completed\n",
            "[*********************100%***********************]  1 of 1 completed"
          ]
        },
        {
          "output_type": "stream",
          "name": "stdout",
          "text": [
            "index: 892/1216, ticker: CFG, start: 2016-02-01, stop: 2024-07-08\n"
          ]
        },
        {
          "output_type": "stream",
          "name": "stderr",
          "text": [
            "\n"
          ]
        },
        {
          "output_type": "stream",
          "name": "stdout",
          "text": [
            "index: 893/1216, ticker: MI, start: 2002-02-11, stop: 2011-07-05\n"
          ]
        },
        {
          "output_type": "stream",
          "name": "stderr",
          "text": [
            "\r[*********************100%***********************]  1 of 1 completed\n",
            "ERROR:yfinance:\n",
            "1 Failed download:\n",
            "ERROR:yfinance:['MI']: YFPricesMissingError('$%ticker%: possibly delisted; no price data found  (1d 2002-02-11 -> 2011-07-05) (Yahoo error = \"Data doesn\\'t exist for startDate = 1013403600, endDate = 1309838400\")')\n",
            "[*********************100%***********************]  1 of 1 completed\n"
          ]
        },
        {
          "output_type": "stream",
          "name": "stdout",
          "text": [
            "index: 894/1216, ticker: ZBRA, start: 2019-12-23, stop: 2024-07-08\n",
            "index: 895/1216, ticker: UBER, start: 2023-10-18, stop: 2024-07-08\n"
          ]
        },
        {
          "output_type": "stream",
          "name": "stderr",
          "text": [
            "\r[*********************100%***********************]  1 of 1 completed\n"
          ]
        },
        {
          "output_type": "stream",
          "name": "stdout",
          "text": [
            "index: 896/1216, ticker: YUM, start: 1997-10-07, stop: 2024-07-08\n"
          ]
        },
        {
          "output_type": "stream",
          "name": "stderr",
          "text": [
            "\r[*********************100%***********************]  1 of 1 completed\n"
          ]
        },
        {
          "output_type": "stream",
          "name": "stdout",
          "text": [
            "index: 897/1216, ticker: CVX, start: 1996-01-02, stop: 2024-07-08\n"
          ]
        },
        {
          "output_type": "stream",
          "name": "stderr",
          "text": [
            "\r[*********************100%***********************]  1 of 1 completed\n"
          ]
        },
        {
          "output_type": "stream",
          "name": "stdout",
          "text": [
            "index: 898/1216, ticker: FMC, start: 1996-01-02, stop: 2001-12-24\n"
          ]
        },
        {
          "output_type": "stream",
          "name": "stderr",
          "text": [
            "[*********************100%***********************]  1 of 1 completed\n",
            "[*********************100%***********************]  1 of 1 completed"
          ]
        },
        {
          "output_type": "stream",
          "name": "stdout",
          "text": [
            "index: 899/1216, ticker: FMC, start: 2009-08-19, stop: 2024-07-08\n"
          ]
        },
        {
          "output_type": "stream",
          "name": "stderr",
          "text": [
            "\n"
          ]
        },
        {
          "output_type": "stream",
          "name": "stdout",
          "text": [
            "index: 900/1216, ticker: ITT, start: 1996-01-02, stop: 2011-10-31\n"
          ]
        },
        {
          "output_type": "stream",
          "name": "stderr",
          "text": [
            "\r[*********************100%***********************]  1 of 1 completed\n"
          ]
        },
        {
          "output_type": "stream",
          "name": "stdout",
          "text": [
            "index: 901/1216, ticker: DHR, start: 1998-11-18, stop: 2024-07-08\n"
          ]
        },
        {
          "output_type": "stream",
          "name": "stderr",
          "text": [
            "\r[*********************100%***********************]  1 of 1 completed\n"
          ]
        },
        {
          "output_type": "stream",
          "name": "stdout",
          "text": [
            "index: 902/1216, ticker: PCS, start: 1998-11-24, stop: 2004-04-19\n",
            "index: 903/1216, ticker: NFB, start: 2002-07-17, stop: 2006-11-22\n",
            "index: 904/1216, ticker: CHRW, start: 2007-03-02, stop: 2024-07-08\n"
          ]
        },
        {
          "output_type": "stream",
          "name": "stderr",
          "text": [
            "\r[*********************100%***********************]  1 of 1 completed\n"
          ]
        },
        {
          "output_type": "stream",
          "name": "stdout",
          "text": [
            "index: 905/1216, ticker: FTL.A, start: 1996-01-02, stop: 1999-09-30\n"
          ]
        },
        {
          "output_type": "stream",
          "name": "stderr",
          "text": [
            "ERROR:yfinance:404 Client Error: Not Found for url: https://query2.finance.yahoo.com/v10/finance/quoteSummary/FTL.A?modules=financialData%2CquoteType%2CdefaultKeyStatistics%2CassetProfile%2CsummaryDetail&corsDomain=finance.yahoo.com&formatted=false&symbol=FTL.A&crumb=Ruaz%2F5CqVn4\n"
          ]
        },
        {
          "output_type": "stream",
          "name": "stdout",
          "text": [
            "index: 906/1216, ticker: SNA, start: 1996-01-02, stop: 2024-07-08\n"
          ]
        },
        {
          "output_type": "stream",
          "name": "stderr",
          "text": [
            "\r[*********************100%***********************]  1 of 1 completed\n"
          ]
        },
        {
          "output_type": "stream",
          "name": "stdout",
          "text": [
            "index: 907/1216, ticker: RAI, start: 2002-09-04, stop: 2017-07-20\n",
            "index: 908/1216, ticker: BOL, start: 1996-01-02, stop: 2007-10-26\n",
            "index: 909/1216, ticker: KRI, start: 1996-01-02, stop: 2006-06-20\n",
            "index: 910/1216, ticker: MST, start: 1996-01-02, stop: 1998-08-13\n",
            "index: 911/1216, ticker: RML, start: 1996-01-02, stop: 2000-12-11\n",
            "index: 912/1216, ticker: WWY, start: 1996-01-02, stop: 2008-10-06\n",
            "index: 913/1216, ticker: ASO, start: 1999-03-10, stop: 2006-10-31\n"
          ]
        },
        {
          "output_type": "stream",
          "name": "stderr",
          "text": [
            "\r[*********************100%***********************]  1 of 1 completed\n",
            "ERROR:yfinance:\n",
            "1 Failed download:\n",
            "ERROR:yfinance:['ASO']: YFPricesMissingError('$%ticker%: possibly delisted; no price data found  (1d 1999-03-10 -> 2006-10-31) (Yahoo error = \"Data doesn\\'t exist for startDate = 921042000, endDate = 1162270800\")')\n"
          ]
        },
        {
          "output_type": "stream",
          "name": "stdout",
          "text": [
            "index: 914/1216, ticker: ATI, start: 1996-01-02, stop: 2015-07-01\n"
          ]
        },
        {
          "output_type": "stream",
          "name": "stderr",
          "text": [
            "\r[*********************100%***********************]  1 of 1 completed\n"
          ]
        },
        {
          "output_type": "stream",
          "name": "stdout",
          "text": [
            "index: 915/1216, ticker: OXY, start: 1996-01-02, stop: 2024-07-08\n"
          ]
        },
        {
          "output_type": "stream",
          "name": "stderr",
          "text": [
            "\r[*********************100%***********************]  1 of 1 completed\n"
          ]
        },
        {
          "output_type": "stream",
          "name": "stdout",
          "text": [
            "index: 916/1216, ticker: ZION, start: 2001-06-25, stop: 2024-03-04\n"
          ]
        },
        {
          "output_type": "stream",
          "name": "stderr",
          "text": [
            "[*********************100%***********************]  1 of 1 completed\n",
            "[*********************100%***********************]  1 of 1 completed"
          ]
        },
        {
          "output_type": "stream",
          "name": "stdout",
          "text": [
            "index: 917/1216, ticker: PRGO, start: 2011-12-19, stop: 2021-08-30\n"
          ]
        },
        {
          "output_type": "stream",
          "name": "stderr",
          "text": [
            "\n",
            "[*********************100%***********************]  1 of 1 completed"
          ]
        },
        {
          "output_type": "stream",
          "name": "stdout",
          "text": [
            "index: 918/1216, ticker: LIN, start: 2018-11-06, stop: 2024-07-08\n"
          ]
        },
        {
          "output_type": "stream",
          "name": "stderr",
          "text": [
            "\n"
          ]
        },
        {
          "output_type": "stream",
          "name": "stdout",
          "text": [
            "index: 919/1216, ticker: AMGN, start: 1996-01-02, stop: 2024-07-08\n"
          ]
        },
        {
          "output_type": "stream",
          "name": "stderr",
          "text": [
            "[*********************100%***********************]  1 of 1 completed\n",
            "[*********************100%***********************]  1 of 1 completed"
          ]
        },
        {
          "output_type": "stream",
          "name": "stdout",
          "text": [
            "index: 920/1216, ticker: CPT, start: 2022-04-04, stop: 2024-07-08\n",
            "index: 921/1216, ticker: XL, start: 2001-09-04, stop: 2018-09-11\n"
          ]
        },
        {
          "output_type": "stream",
          "name": "stderr",
          "text": [
            "\n"
          ]
        },
        {
          "output_type": "stream",
          "name": "stdout",
          "text": [
            "index: 922/1216, ticker: ARC, start: 1996-01-02, stop: 2000-04-10\n"
          ]
        },
        {
          "output_type": "stream",
          "name": "stderr",
          "text": [
            "\r[*********************100%***********************]  1 of 1 completed\n",
            "ERROR:yfinance:\n",
            "1 Failed download:\n",
            "ERROR:yfinance:['ARC']: YFPricesMissingError('$%ticker%: possibly delisted; no price data found  (1d 1996-01-02 -> 2000-04-10) (Yahoo error = \"Data doesn\\'t exist for startDate = 820558800, endDate = 955339200\")')\n",
            "[*********************100%***********************]  1 of 1 completed\n"
          ]
        },
        {
          "output_type": "stream",
          "name": "stdout",
          "text": [
            "index: 923/1216, ticker: DISCA, start: 2010-03-01, stop: 2022-04-04\n",
            "index: 924/1216, ticker: MHK, start: 2013-12-23, stop: 2024-07-08\n",
            "index: 925/1216, ticker: HII, start: 2018-01-03, stop: 2024-07-08\n"
          ]
        },
        {
          "output_type": "stream",
          "name": "stderr",
          "text": [
            "\r[*********************100%***********************]  1 of 1 completed\n"
          ]
        },
        {
          "output_type": "stream",
          "name": "stdout",
          "text": [
            "index: 926/1216, ticker: S, start: 1996-01-02, stop: 2013-07-02\n"
          ]
        },
        {
          "output_type": "stream",
          "name": "stderr",
          "text": [
            "\r[*********************100%***********************]  1 of 1 completed\n",
            "ERROR:yfinance:\n",
            "1 Failed download:\n",
            "ERROR:yfinance:['S']: YFPricesMissingError('$%ticker%: possibly delisted; no price data found  (1d 1996-01-02 -> 2013-07-02) (Yahoo error = \"Data doesn\\'t exist for startDate = 820558800, endDate = 1372737600\")')\n"
          ]
        },
        {
          "output_type": "stream",
          "name": "stdout",
          "text": [
            "index: 927/1216, ticker: MET, start: 2000-12-11, stop: 2024-07-08\n"
          ]
        },
        {
          "output_type": "stream",
          "name": "stderr",
          "text": [
            "\r[*********************100%***********************]  1 of 1 completed\n"
          ]
        },
        {
          "output_type": "stream",
          "name": "stdout",
          "text": [
            "index: 928/1216, ticker: WYE, start: 1996-01-02, stop: 2009-10-15\n",
            "index: 929/1216, ticker: JBHT, start: 2015-07-01, stop: 2024-07-08\n"
          ]
        },
        {
          "output_type": "stream",
          "name": "stderr",
          "text": [
            "[*********************100%***********************]  1 of 1 completed\n",
            "[*********************100%***********************]  1 of 1 completed"
          ]
        },
        {
          "output_type": "stream",
          "name": "stdout",
          "text": [
            "index: 930/1216, ticker: MJN, start: 2009-12-21, stop: 2017-06-07\n",
            "index: 931/1216, ticker: PKI, start: 1996-01-02, stop: 2023-05-04\n",
            "index: 932/1216, ticker: CDNS, start: 2017-09-18, stop: 2024-07-08\n"
          ]
        },
        {
          "output_type": "stream",
          "name": "stderr",
          "text": [
            "\n"
          ]
        },
        {
          "output_type": "stream",
          "name": "stdout",
          "text": [
            "index: 933/1216, ticker: HON, start: 1996-01-02, stop: 2024-07-08\n"
          ]
        },
        {
          "output_type": "stream",
          "name": "stderr",
          "text": [
            "\r[*********************100%***********************]  1 of 1 completed\n"
          ]
        },
        {
          "output_type": "stream",
          "name": "stdout",
          "text": [
            "index: 934/1216, ticker: RYI, start: 1996-01-02, stop: 1998-06-30\n"
          ]
        },
        {
          "output_type": "stream",
          "name": "stderr",
          "text": [
            "\r[*********************100%***********************]  1 of 1 completed\n",
            "ERROR:yfinance:\n",
            "1 Failed download:\n",
            "ERROR:yfinance:['RYI']: YFPricesMissingError('$%ticker%: possibly delisted; no price data found  (1d 1996-01-02 -> 1998-06-30) (Yahoo error = \"Data doesn\\'t exist for startDate = 820558800, endDate = 899179200\")')\n"
          ]
        },
        {
          "output_type": "stream",
          "name": "stdout",
          "text": [
            "index: 935/1216, ticker: JNS, start: 2000-07-13, stop: 2011-11-18\n",
            "index: 936/1216, ticker: AAMRQ, start: 1996-01-02, stop: 2003-03-10\n",
            "index: 937/1216, ticker: GENZ, start: 2001-12-14, stop: 2011-04-01\n",
            "index: 938/1216, ticker: SUB, start: 1998-01-28, stop: 2001-02-27\n",
            "index: 939/1216, ticker: KSS, start: 1998-08-14, stop: 2020-09-18\n"
          ]
        },
        {
          "output_type": "stream",
          "name": "stderr",
          "text": [
            "\r[*********************100%***********************]  1 of 1 completed\n"
          ]
        },
        {
          "output_type": "stream",
          "name": "stdout",
          "text": [
            "index: 940/1216, ticker: GWF, start: 1996-01-02, stop: 1997-06-26\n",
            "index: 941/1216, ticker: SFS, start: 1996-01-02, stop: 1997-07-25\n",
            "index: 942/1216, ticker: CSX, start: 1996-01-02, stop: 2024-07-08\n"
          ]
        },
        {
          "output_type": "stream",
          "name": "stderr",
          "text": [
            "\r[*********************100%***********************]  1 of 1 completed\n"
          ]
        },
        {
          "output_type": "stream",
          "name": "stdout",
          "text": [
            "index: 943/1216, ticker: ESS, start: 2014-04-02, stop: 2024-07-08\n"
          ]
        },
        {
          "output_type": "stream",
          "name": "stderr",
          "text": [
            "[*********************100%***********************]  1 of 1 completed\n",
            "[*********************100%***********************]  1 of 1 completed"
          ]
        },
        {
          "output_type": "stream",
          "name": "stdout",
          "text": [
            "index: 944/1216, ticker: AWE, start: 2001-07-09, stop: 2004-10-26\n",
            "index: 945/1216, ticker: COR, start: 2023-08-30, stop: 2024-07-08\n",
            "index: 946/1216, ticker: HM, start: 1996-01-02, stop: 2001-12-14"
          ]
        },
        {
          "output_type": "stream",
          "name": "stderr",
          "text": [
            "\n"
          ]
        },
        {
          "output_type": "stream",
          "name": "stdout",
          "text": [
            "\n",
            "index: 947/1216, ticker: NC, start: 1996-01-02, stop: 2000-06-02\n"
          ]
        },
        {
          "output_type": "stream",
          "name": "stderr",
          "text": [
            "\r[*********************100%***********************]  1 of 1 completed\n"
          ]
        },
        {
          "output_type": "stream",
          "name": "stdout",
          "text": [
            "index: 948/1216, ticker: PEG, start: 1996-01-02, stop: 2024-07-08\n"
          ]
        },
        {
          "output_type": "stream",
          "name": "stderr",
          "text": [
            "\r[*********************100%***********************]  1 of 1 completed\n"
          ]
        },
        {
          "output_type": "stream",
          "name": "stdout",
          "text": [
            "index: 949/1216, ticker: XYL, start: 2011-11-01, stop: 2024-07-08\n"
          ]
        },
        {
          "output_type": "stream",
          "name": "stderr",
          "text": [
            "\r[*********************100%***********************]  1 of 1 completed\n"
          ]
        },
        {
          "output_type": "stream",
          "name": "stdout",
          "text": [
            "index: 950/1216, ticker: BA, start: 1996-01-02, stop: 2024-07-08\n"
          ]
        },
        {
          "output_type": "stream",
          "name": "stderr",
          "text": [
            "\r[*********************100%***********************]  1 of 1 completed\n"
          ]
        },
        {
          "output_type": "stream",
          "name": "stdout",
          "text": [
            "index: 951/1216, ticker: CHIR, start: 2000-11-24, stop: 2006-04-19\n",
            "index: 952/1216, ticker: JKHY, start: 2018-11-13, stop: 2024-07-08\n"
          ]
        },
        {
          "output_type": "stream",
          "name": "stderr",
          "text": [
            "\r[*********************100%***********************]  1 of 1 completed\n"
          ]
        },
        {
          "output_type": "stream",
          "name": "stdout",
          "text": [
            "index: 953/1216, ticker: ATO, start: 2019-02-15, stop: 2024-07-08\n"
          ]
        },
        {
          "output_type": "stream",
          "name": "stderr",
          "text": [
            "\r[*********************100%***********************]  1 of 1 completed\n"
          ]
        },
        {
          "output_type": "stream",
          "name": "stdout",
          "text": [
            "index: 954/1216, ticker: HCBK, start: 2007-02-15, stop: 2015-10-28\n",
            "index: 955/1216, ticker: PPW, start: 1996-01-02, stop: 1999-11-29\n",
            "index: 956/1216, ticker: LNC, start: 1996-01-02, stop: 2023-08-30\n"
          ]
        },
        {
          "output_type": "stream",
          "name": "stderr",
          "text": [
            "\r[*********************100%***********************]  1 of 1 completed\n"
          ]
        },
        {
          "output_type": "stream",
          "name": "stdout",
          "text": [
            "index: 957/1216, ticker: APCC, start: 2000-06-01, stop: 2007-02-14\n",
            "index: 958/1216, ticker: SYK, start: 2000-12-12, stop: 2024-07-08\n"
          ]
        },
        {
          "output_type": "stream",
          "name": "stderr",
          "text": [
            "\r[*********************100%***********************]  1 of 1 completed\n"
          ]
        },
        {
          "output_type": "stream",
          "name": "stdout",
          "text": [
            "index: 959/1216, ticker: FLT, start: 2018-06-20, stop: 2024-03-18\n"
          ]
        },
        {
          "output_type": "stream",
          "name": "stderr",
          "text": [
            "ERROR:yfinance:404 Client Error: Not Found for url: https://query2.finance.yahoo.com/v10/finance/quoteSummary/FLT?modules=financialData%2CquoteType%2CdefaultKeyStatistics%2CassetProfile%2CsummaryDetail&corsDomain=finance.yahoo.com&formatted=false&symbol=FLT&crumb=Ruaz%2F5CqVn4\n",
            "[*********************100%***********************]  1 of 1 completed\n"
          ]
        },
        {
          "output_type": "stream",
          "name": "stdout",
          "text": [
            "index: 960/1216, ticker: LUMN, start: 2020-09-18, stop: 2023-03-15\n",
            "index: 961/1216, ticker: NAV, start: 1996-01-02, stop: 2006-12-11\n",
            "index: 962/1216, ticker: NLOK, start: 2019-11-05, stop: 2022-11-01\n",
            "index: 963/1216, ticker: INTU, start: 2000-12-11, stop: 2024-07-08\n"
          ]
        },
        {
          "output_type": "stream",
          "name": "stderr",
          "text": [
            "\r[*********************100%***********************]  1 of 1 completed\n"
          ]
        },
        {
          "output_type": "stream",
          "name": "stdout",
          "text": [
            "index: 964/1216, ticker: HNZ, start: 1996-01-02, stop: 2013-06-06\n",
            "index: 965/1216, ticker: LLL, start: 2004-12-01, stop: 2019-06-07\n",
            "index: 966/1216, ticker: XEC, start: 2014-06-20, stop: 2020-01-28\n",
            "index: 967/1216, ticker: ARNC, start: 1996-01-02, stop: 2020-04-03\n"
          ]
        },
        {
          "output_type": "stream",
          "name": "stderr",
          "text": [
            "ERROR:yfinance:404 Client Error: Not Found for url: https://query2.finance.yahoo.com/v10/finance/quoteSummary/ARNC?modules=financialData%2CquoteType%2CdefaultKeyStatistics%2CassetProfile%2CsummaryDetail&corsDomain=finance.yahoo.com&formatted=false&symbol=ARNC&crumb=Ruaz%2F5CqVn4\n"
          ]
        },
        {
          "output_type": "stream",
          "name": "stdout",
          "text": [
            "index: 968/1216, ticker: EIX, start: 1996-01-02, stop: 2024-07-08\n"
          ]
        },
        {
          "output_type": "stream",
          "name": "stderr",
          "text": [
            "\r[*********************100%***********************]  1 of 1 completed\n"
          ]
        },
        {
          "output_type": "stream",
          "name": "stdout",
          "text": [
            "index: 969/1216, ticker: SEE, start: 1998-04-01, stop: 2023-10-02\n"
          ]
        },
        {
          "output_type": "stream",
          "name": "stderr",
          "text": [
            "\r[*********************100%***********************]  1 of 1 completed\n"
          ]
        },
        {
          "output_type": "stream",
          "name": "stdout",
          "text": [
            "index: 970/1216, ticker: AIZ, start: 2007-04-10, stop: 2024-07-08\n"
          ]
        },
        {
          "output_type": "stream",
          "name": "stderr",
          "text": [
            "\r[*********************100%***********************]  1 of 1 completed\n"
          ]
        },
        {
          "output_type": "stream",
          "name": "stdout",
          "text": [
            "index: 971/1216, ticker: LUV, start: 1996-01-02, stop: 2024-07-08\n"
          ]
        },
        {
          "output_type": "stream",
          "name": "stderr",
          "text": [
            "\r[*********************100%***********************]  1 of 1 completed\n"
          ]
        },
        {
          "output_type": "stream",
          "name": "stdout",
          "text": [
            "index: 972/1216, ticker: BGG, start: 1996-01-02, stop: 2001-04-02\n",
            "index: 973/1216, ticker: MWW, start: 2001-06-04, stop: 2011-12-14\n",
            "index: 974/1216, ticker: RTX, start: 2020-04-03, stop: 2024-07-08\n"
          ]
        },
        {
          "output_type": "stream",
          "name": "stderr",
          "text": [
            "\r[*********************100%***********************]  1 of 1 completed\n"
          ]
        },
        {
          "output_type": "stream",
          "name": "stdout",
          "text": [
            "index: 975/1216, ticker: NLC, start: 1996-01-02, stop: 1999-07-30\n",
            "index: 976/1216, ticker: JP, start: 1996-01-02, stop: 2006-03-30\n",
            "index: 977/1216, ticker: ADBE, start: 1997-05-06, stop: 2024-07-08\n"
          ]
        },
        {
          "output_type": "stream",
          "name": "stderr",
          "text": [
            "\r[*********************100%***********************]  1 of 1 completed\n"
          ]
        },
        {
          "output_type": "stream",
          "name": "stdout",
          "text": [
            "index: 978/1216, ticker: CFN, start: 2009-09-01, stop: 2015-03-13\n",
            "index: 979/1216, ticker: GPN, start: 2016-04-25, stop: 2024-07-08\n"
          ]
        },
        {
          "output_type": "stream",
          "name": "stderr",
          "text": [
            "\r[*********************100%***********************]  1 of 1 completed\n"
          ]
        },
        {
          "output_type": "stream",
          "name": "stdout",
          "text": [
            "index: 980/1216, ticker: TGT, start: 1996-01-02, stop: 2024-07-08\n"
          ]
        },
        {
          "output_type": "stream",
          "name": "stderr",
          "text": [
            "\r[*********************100%***********************]  1 of 1 completed\n"
          ]
        },
        {
          "output_type": "stream",
          "name": "stdout",
          "text": [
            "index: 981/1216, ticker: APTV, start: 2012-12-24, stop: 2024-07-08\n"
          ]
        },
        {
          "output_type": "stream",
          "name": "stderr",
          "text": [
            "[*********************100%***********************]  1 of 1 completed\n",
            "[*********************100%***********************]  1 of 1 completed\n"
          ]
        },
        {
          "output_type": "stream",
          "name": "stdout",
          "text": [
            "index: 982/1216, ticker: TECH, start: 2021-08-30, stop: 2024-07-08\n",
            "index: 983/1216, ticker: CPAY, start: 2024-03-25, stop: 2024-07-08\n"
          ]
        },
        {
          "output_type": "stream",
          "name": "stderr",
          "text": [
            "\r[*********************100%***********************]  1 of 1 completed\n"
          ]
        },
        {
          "output_type": "stream",
          "name": "stdout",
          "text": [
            "index: 984/1216, ticker: THC, start: 1996-01-02, stop: 2016-04-15\n"
          ]
        },
        {
          "output_type": "stream",
          "name": "stderr",
          "text": [
            "\r[*********************100%***********************]  1 of 1 completed\n"
          ]
        },
        {
          "output_type": "stream",
          "name": "stdout",
          "text": [
            "index: 985/1216, ticker: WHR, start: 1996-01-02, stop: 2024-03-04\n"
          ]
        },
        {
          "output_type": "stream",
          "name": "stderr",
          "text": [
            "\r[*********************100%***********************]  1 of 1 completed\n"
          ]
        },
        {
          "output_type": "stream",
          "name": "stdout",
          "text": [
            "index: 986/1216, ticker: T, start: 1996-01-02, stop: 2024-07-08\n"
          ]
        },
        {
          "output_type": "stream",
          "name": "stderr",
          "text": [
            "\r[*********************100%***********************]  1 of 1 completed\n"
          ]
        },
        {
          "output_type": "stream",
          "name": "stdout",
          "text": [
            "index: 987/1216, ticker: FLTWQ, start: 1996-01-02, stop: 2000-01-28\n"
          ]
        },
        {
          "output_type": "stream",
          "name": "stderr",
          "text": [
            "ERROR:yfinance:404 Client Error: Not Found for url: https://query2.finance.yahoo.com/v10/finance/quoteSummary/FLTWQ?modules=financialData%2CquoteType%2CdefaultKeyStatistics%2CassetProfile%2CsummaryDetail&corsDomain=finance.yahoo.com&formatted=false&symbol=FLTWQ&crumb=Ruaz%2F5CqVn4\n",
            "[*********************100%***********************]  1 of 1 completed"
          ]
        },
        {
          "output_type": "stream",
          "name": "stdout",
          "text": [
            "index: 988/1216, ticker: KDP, start: 2008-10-07, stop: 2018-06-26\n"
          ]
        },
        {
          "output_type": "stream",
          "name": "stderr",
          "text": [
            "\n",
            "\r[*********************100%***********************]  1 of 1 completed\n"
          ]
        },
        {
          "output_type": "stream",
          "name": "stdout",
          "text": [
            "index: 989/1216, ticker: KDP, start: 2022-06-21, stop: 2024-07-08\n",
            "index: 990/1216, ticker: ALGN, start: 2017-06-19, stop: 2024-07-08\n"
          ]
        },
        {
          "output_type": "stream",
          "name": "stderr",
          "text": [
            "\r[*********************100%***********************]  1 of 1 completed\n"
          ]
        },
        {
          "output_type": "stream",
          "name": "stdout",
          "text": [
            "index: 991/1216, ticker: NUE, start: 1996-01-02, stop: 2024-07-08\n"
          ]
        },
        {
          "output_type": "stream",
          "name": "stderr",
          "text": [
            "\r[*********************100%***********************]  1 of 1 completed\n"
          ]
        },
        {
          "output_type": "stream",
          "name": "stdout",
          "text": [
            "index: 992/1216, ticker: JEC, start: 2007-10-26, stop: 2019-12-09\n",
            "index: 993/1216, ticker: SBL, start: 2000-12-11, stop: 2007-01-05\n",
            "index: 994/1216, ticker: GAS, start: 1996-01-02, stop: 2011-12-09\n",
            "index: 995/1216, ticker: GAS, start: 2011-12-13, stop: 2016-06-27\n",
            "index: 996/1216, ticker: CBH, start: 2006-06-06, stop: 2008-03-18\n"
          ]
        },
        {
          "output_type": "stream",
          "name": "stderr",
          "text": [
            "\r[*********************100%***********************]  1 of 1 completed\n",
            "ERROR:yfinance:\n",
            "1 Failed download:\n",
            "ERROR:yfinance:['CBH']: YFPricesMissingError('$%ticker%: possibly delisted; no price data found  (1d 2006-06-06 -> 2008-03-18) (Yahoo error = \"Data doesn\\'t exist for startDate = 1149566400, endDate = 1205812800\")')\n",
            "[*********************100%***********************]  1 of 1 completed\n"
          ]
        },
        {
          "output_type": "stream",
          "name": "stdout",
          "text": [
            "index: 997/1216, ticker: CTLT, start: 2020-09-21, stop: 2024-07-08\n",
            "index: 998/1216, ticker: GLW, start: 1996-01-02, stop: 2024-07-08\n"
          ]
        },
        {
          "output_type": "stream",
          "name": "stderr",
          "text": [
            "[*********************100%***********************]  1 of 1 completed\n",
            "[*********************100%***********************]  1 of 1 completed"
          ]
        },
        {
          "output_type": "stream",
          "name": "stdout",
          "text": [
            "index: 999/1216, ticker: OI, start: 1997-08-04, stop: 2000-12-08\n",
            "index: 1000/1216, ticker: OI, start: 2009-01-02, stop: 2016-11-29\n"
          ]
        },
        {
          "output_type": "stream",
          "name": "stderr",
          "text": [
            "\n",
            "\r[*********************100%***********************]  1 of 1 completed\n"
          ]
        },
        {
          "output_type": "stream",
          "name": "stdout",
          "text": [
            "index: 1001/1216, ticker: BKB, start: 1996-01-02, stop: 1999-09-30\n",
            "index: 1002/1216, ticker: BT, start: 1996-01-02, stop: 1999-06-03\n",
            "index: 1003/1216, ticker: IBM, start: 1996-01-02, stop: 2024-07-08\n"
          ]
        },
        {
          "output_type": "stream",
          "name": "stderr",
          "text": [
            "\r[*********************100%***********************]  1 of 1 completed\n"
          ]
        },
        {
          "output_type": "stream",
          "name": "stdout",
          "text": [
            "index: 1004/1216, ticker: RTN, start: 1996-01-02, stop: 2020-04-03\n",
            "index: 1005/1216, ticker: JBL, start: 2001-01-30, stop: 2014-10-24\n"
          ]
        },
        {
          "output_type": "stream",
          "name": "stderr",
          "text": [
            "[*********************100%***********************]  1 of 1 completed\n",
            "[*********************100%***********************]  1 of 1 completed\n"
          ]
        },
        {
          "output_type": "stream",
          "name": "stdout",
          "text": [
            "index: 1006/1216, ticker: JBL, start: 2023-10-18, stop: 2024-07-08\n",
            "index: 1007/1216, ticker: EL, start: 2006-01-05, stop: 2024-07-08\n"
          ]
        },
        {
          "output_type": "stream",
          "name": "stderr",
          "text": [
            "[*********************100%***********************]  1 of 1 completed\n",
            "[*********************100%***********************]  1 of 1 completed"
          ]
        },
        {
          "output_type": "stream",
          "name": "stdout",
          "text": [
            "index: 1008/1216, ticker: AKS, start: 2008-07-01, stop: 2011-12-14\n",
            "index: 1009/1216, ticker: SFA, start: 1996-01-02, stop: 2006-02-17\n",
            "index: 1010/1216, ticker: TSLA, start: 2020-12-21, stop: 2024-07-08\n",
            "index: 1011/1216, ticker: EHC, start: 1997-01-08, stop: 2003-03-20\n"
          ]
        },
        {
          "output_type": "stream",
          "name": "stderr",
          "text": [
            "\n",
            "\r[*********************100%***********************]  1 of 1 completed\n"
          ]
        },
        {
          "output_type": "stream",
          "name": "stdout",
          "text": [
            "index: 1012/1216, ticker: FL, start: 1996-01-02, stop: 1998-12-31\n"
          ]
        },
        {
          "output_type": "stream",
          "name": "stderr",
          "text": [
            "[*********************100%***********************]  1 of 1 completed\n",
            "[*********************100%***********************]  1 of 1 completed\n"
          ]
        },
        {
          "output_type": "stream",
          "name": "stdout",
          "text": [
            "index: 1013/1216, ticker: FL, start: 2016-04-04, stop: 2019-08-08\n",
            "index: 1014/1216, ticker: GR, start: 1996-01-02, stop: 2012-07-26\n",
            "index: 1015/1216, ticker: EOP, start: 2001-10-10, stop: 2007-02-09\n",
            "index: 1016/1216, ticker: QLGC, start: 2000-12-12, stop: 2011-01-12\n",
            "index: 1017/1216, ticker: PEAK, start: 2019-11-05, stop: 2024-02-01\n"
          ]
        },
        {
          "output_type": "stream",
          "name": "stderr",
          "text": [
            "ERROR:yfinance:404 Client Error: Not Found for url: https://query2.finance.yahoo.com/v10/finance/quoteSummary/PEAK?modules=financialData%2CquoteType%2CdefaultKeyStatistics%2CassetProfile%2CsummaryDetail&corsDomain=finance.yahoo.com&formatted=false&symbol=PEAK&crumb=Ruaz%2F5CqVn4\n",
            "[*********************100%***********************]  1 of 1 completed\n"
          ]
        },
        {
          "output_type": "stream",
          "name": "stdout",
          "text": [
            "index: 1018/1216, ticker: SMCI, start: 2024-03-18, stop: 2024-07-08\n",
            "index: 1019/1216, ticker: MDT, start: 1996-01-02, stop: 2024-07-08\n"
          ]
        },
        {
          "output_type": "stream",
          "name": "stderr",
          "text": [
            "\r[*********************100%***********************]  1 of 1 completed\n"
          ]
        },
        {
          "output_type": "stream",
          "name": "stdout",
          "text": [
            "index: 1020/1216, ticker: NRTLQ, start: 1996-01-02, stop: 2002-07-18\n",
            "index: 1021/1216, ticker: AAL, start: 1996-01-02, stop: 1997-01-13\n"
          ]
        },
        {
          "output_type": "stream",
          "name": "stderr",
          "text": [
            "\r[*********************100%***********************]  1 of 1 completed\n",
            "ERROR:yfinance:\n",
            "1 Failed download:\n",
            "ERROR:yfinance:['AAL']: YFPricesMissingError('$%ticker%: possibly delisted; no price data found  (1d 1996-01-02 -> 1997-01-13) (Yahoo error = \"Data doesn\\'t exist for startDate = 820558800, endDate = 853131600\")')\n",
            "[*********************100%***********************]  1 of 1 completed\n"
          ]
        },
        {
          "output_type": "stream",
          "name": "stdout",
          "text": [
            "index: 1022/1216, ticker: AAL, start: 2015-03-23, stop: 2024-07-08\n",
            "index: 1023/1216, ticker: CMS, start: 1999-05-03, stop: 2024-07-08\n"
          ]
        },
        {
          "output_type": "stream",
          "name": "stderr",
          "text": [
            "\r[*********************100%***********************]  1 of 1 completed\n"
          ]
        },
        {
          "output_type": "stream",
          "name": "stdout",
          "text": [
            "index: 1024/1216, ticker: LEHMQ, start: 1998-01-12, stop: 2008-09-16\n",
            "index: 1025/1216, ticker: SLG, start: 2015-03-23, stop: 2021-02-12\n"
          ]
        },
        {
          "output_type": "stream",
          "name": "stderr",
          "text": [
            "[*********************100%***********************]  1 of 1 completed\n",
            "[*********************100%***********************]  1 of 1 completed\n"
          ]
        },
        {
          "output_type": "stream",
          "name": "stdout",
          "text": [
            "index: 1026/1216, ticker: VNT, start: 2020-10-12, stop: 2021-02-12\n",
            "index: 1027/1216, ticker: DRE, start: 2017-07-26, stop: 2022-09-19\n",
            "index: 1028/1216, ticker: UNP, start: 1996-01-02, stop: 2024-07-08\n"
          ]
        },
        {
          "output_type": "stream",
          "name": "stderr",
          "text": [
            "\r[*********************100%***********************]  1 of 1 completed\n"
          ]
        },
        {
          "output_type": "stream",
          "name": "stdout",
          "text": [
            "index: 1029/1216, ticker: CHRS, start: 1996-01-02, stop: 1998-04-07\n"
          ]
        },
        {
          "output_type": "stream",
          "name": "stderr",
          "text": [
            "\r[*********************100%***********************]  1 of 1 completed\n",
            "ERROR:yfinance:\n",
            "1 Failed download:\n",
            "ERROR:yfinance:['CHRS']: YFPricesMissingError('$%ticker%: possibly delisted; no price data found  (1d 1996-01-02 -> 1998-04-07) (Yahoo error = \"Data doesn\\'t exist for startDate = 820558800, endDate = 891921600\")')\n"
          ]
        },
        {
          "output_type": "stream",
          "name": "stdout",
          "text": [
            "index: 1030/1216, ticker: HSY, start: 1996-01-02, stop: 2024-07-08\n"
          ]
        },
        {
          "output_type": "stream",
          "name": "stderr",
          "text": [
            "\r[*********************100%***********************]  1 of 1 completed\n"
          ]
        },
        {
          "output_type": "stream",
          "name": "stdout",
          "text": [
            "index: 1031/1216, ticker: JOS, start: 1996-01-02, stop: 2000-05-09\n",
            "index: 1032/1216, ticker: RSHCQ, start: 1996-01-02, stop: 2011-06-30\n",
            "index: 1033/1216, ticker: WM, start: 1998-07-17, stop: 2024-07-08\n"
          ]
        },
        {
          "output_type": "stream",
          "name": "stderr",
          "text": [
            "\r[*********************100%***********************]  1 of 1 completed\n"
          ]
        },
        {
          "output_type": "stream",
          "name": "stdout",
          "text": [
            "index: 1034/1216, ticker: RAD, start: 1996-01-02, stop: 2000-07-19\n",
            "index: 1035/1216, ticker: SO, start: 1996-01-02, stop: 2024-07-08\n"
          ]
        },
        {
          "output_type": "stream",
          "name": "stderr",
          "text": [
            "\r[*********************100%***********************]  1 of 1 completed\n"
          ]
        },
        {
          "output_type": "stream",
          "name": "stdout",
          "text": [
            "index: 1036/1216, ticker: WLL, start: 1996-01-02, stop: 2002-02-07\n",
            "index: 1037/1216, ticker: MCHP, start: 2007-09-07, stop: 2024-07-08\n"
          ]
        },
        {
          "output_type": "stream",
          "name": "stderr",
          "text": [
            "\r[*********************100%***********************]  1 of 1 completed\n"
          ]
        },
        {
          "output_type": "stream",
          "name": "stdout",
          "text": [
            "index: 1038/1216, ticker: DTE, start: 1996-01-02, stop: 2024-07-08\n"
          ]
        },
        {
          "output_type": "stream",
          "name": "stderr",
          "text": [
            "[*********************100%***********************]  1 of 1 completed\n",
            "[*********************100%***********************]  1 of 1 completed"
          ]
        },
        {
          "output_type": "stream",
          "name": "stdout",
          "text": [
            "index: 1039/1216, ticker: ZTS, start: 2013-06-24, stop: 2024-07-08\n"
          ]
        },
        {
          "output_type": "stream",
          "name": "stderr",
          "text": [
            "\n"
          ]
        },
        {
          "output_type": "stream",
          "name": "stdout",
          "text": [
            "index: 1040/1216, ticker: AME, start: 2013-09-23, stop: 2024-07-08\n"
          ]
        },
        {
          "output_type": "stream",
          "name": "stderr",
          "text": [
            "\r[*********************100%***********************]  1 of 1 completed\n"
          ]
        },
        {
          "output_type": "stream",
          "name": "stdout",
          "text": [
            "index: 1041/1216, ticker: NLV, start: 1996-04-01, stop: 2000-01-05\n",
            "index: 1042/1216, ticker: PAYX, start: 1998-10-01, stop: 2024-07-08\n"
          ]
        },
        {
          "output_type": "stream",
          "name": "stderr",
          "text": [
            "\r[*********************100%***********************]  1 of 1 completed\n"
          ]
        },
        {
          "output_type": "stream",
          "name": "stdout",
          "text": [
            "index: 1043/1216, ticker: CL, start: 1996-01-02, stop: 2024-07-08\n"
          ]
        },
        {
          "output_type": "stream",
          "name": "stderr",
          "text": [
            "\r[*********************100%***********************]  1 of 1 completed\n"
          ]
        },
        {
          "output_type": "stream",
          "name": "stdout",
          "text": [
            "index: 1044/1216, ticker: SJM, start: 2008-11-06, stop: 2024-07-08\n"
          ]
        },
        {
          "output_type": "stream",
          "name": "stderr",
          "text": [
            "[*********************100%***********************]  1 of 1 completed\n",
            "[*********************100%***********************]  1 of 1 completed\n"
          ]
        },
        {
          "output_type": "stream",
          "name": "stdout",
          "text": [
            "index: 1045/1216, ticker: FOSL, start: 2012-04-04, stop: 2016-01-04\n",
            "index: 1046/1216, ticker: ILMN, start: 2015-11-19, stop: 2024-05-08\n"
          ]
        },
        {
          "output_type": "stream",
          "name": "stderr",
          "text": [
            "[*********************100%***********************]  1 of 1 completed\n",
            "[*********************100%***********************]  1 of 1 completed\n"
          ]
        },
        {
          "output_type": "stream",
          "name": "stdout",
          "text": [
            "index: 1047/1216, ticker: MDR, start: 1996-01-02, stop: 2003-08-18\n",
            "index: 1048/1216, ticker: FTNT, start: 2018-10-11, stop: 2024-07-08\n",
            "index: 1049/1216, ticker: POOL, start: 2020-10-07, stop: 2024-07-08\n"
          ]
        },
        {
          "output_type": "stream",
          "name": "stderr",
          "text": [
            "[*********************100%***********************]  1 of 1 completed\n",
            "[*********************100%***********************]  1 of 1 completed\n"
          ]
        },
        {
          "output_type": "stream",
          "name": "stdout",
          "text": [
            "index: 1050/1216, ticker: GEN, start: 2022-11-08, stop: 2024-07-08\n",
            "index: 1051/1216, ticker: BX, start: 2023-09-18, stop: 2024-07-08\n"
          ]
        },
        {
          "output_type": "stream",
          "name": "stderr",
          "text": [
            "\r[*********************100%***********************]  1 of 1 completed\n"
          ]
        },
        {
          "output_type": "stream",
          "name": "stdout",
          "text": [
            "index: 1052/1216, ticker: MLM, start: 2014-07-02, stop: 2024-07-08\n"
          ]
        },
        {
          "output_type": "stream",
          "name": "stderr",
          "text": [
            "\r[*********************100%***********************]  1 of 1 completed\n"
          ]
        },
        {
          "output_type": "stream",
          "name": "stdout",
          "text": [
            "index: 1053/1216, ticker: UAWGQ, start: 1996-01-02, stop: 2002-05-14\n"
          ]
        },
        {
          "output_type": "stream",
          "name": "stderr",
          "text": [
            "ERROR:yfinance:404 Client Error: Not Found for url: https://query2.finance.yahoo.com/v10/finance/quoteSummary/UAWGQ?modules=financialData%2CquoteType%2CdefaultKeyStatistics%2CassetProfile%2CsummaryDetail&corsDomain=finance.yahoo.com&formatted=false&symbol=UAWGQ&crumb=Ruaz%2F5CqVn4\n"
          ]
        },
        {
          "output_type": "stream",
          "name": "stdout",
          "text": [
            "index: 1054/1216, ticker: STZ, start: 2005-07-05, stop: 2024-07-08\n"
          ]
        },
        {
          "output_type": "stream",
          "name": "stderr",
          "text": [
            "[*********************100%***********************]  1 of 1 completed\n",
            "[*********************100%***********************]  1 of 1 completed\n"
          ]
        },
        {
          "output_type": "stream",
          "name": "stdout",
          "text": [
            "index: 1055/1216, ticker: AXON, start: 2023-05-04, stop: 2024-07-08\n",
            "index: 1056/1216, ticker: HRS, start: 1996-01-02, stop: 1999-11-05\n",
            "index: 1057/1216, ticker: HRS, start: 2008-09-22, stop: 2019-04-02\n",
            "index: 1058/1216, ticker: UK, start: 1996-01-02, stop: 2001-01-31\n"
          ]
        },
        {
          "output_type": "stream",
          "name": "stderr",
          "text": [
            "\r[*********************100%***********************]  1 of 1 completed\n",
            "ERROR:yfinance:\n",
            "1 Failed download:\n",
            "ERROR:yfinance:['UK']: YFPricesMissingError('$%ticker%: possibly delisted; no price data found  (1d 1996-01-02 -> 2001-01-31) (Yahoo error = \"Data doesn\\'t exist for startDate = 820558800, endDate = 980917200\")')\n",
            "[*********************100%***********************]  1 of 1 completed\n"
          ]
        },
        {
          "output_type": "stream",
          "name": "stdout",
          "text": [
            "index: 1059/1216, ticker: TRIP, start: 2011-12-21, stop: 2019-12-10\n",
            "index: 1060/1216, ticker: TNB, start: 1996-01-02, stop: 2004-07-29\n",
            "index: 1061/1216, ticker: LMT, start: 1996-01-02, stop: 2024-07-08\n"
          ]
        },
        {
          "output_type": "stream",
          "name": "stderr",
          "text": [
            "[*********************100%***********************]  1 of 1 completed\n",
            "[*********************100%***********************]  1 of 1 completed"
          ]
        },
        {
          "output_type": "stream",
          "name": "stdout",
          "text": [
            "index: 1062/1216, ticker: CBOE, start: 2017-03-01, stop: 2024-07-08\n"
          ]
        },
        {
          "output_type": "stream",
          "name": "stderr",
          "text": [
            "\n"
          ]
        },
        {
          "output_type": "stream",
          "name": "stdout",
          "text": [
            "index: 1063/1216, ticker: CMA, start: 1996-01-02, stop: 2024-05-08\n"
          ]
        },
        {
          "output_type": "stream",
          "name": "stderr",
          "text": [
            "\r[*********************100%***********************]  1 of 1 completed\n"
          ]
        },
        {
          "output_type": "stream",
          "name": "stdout",
          "text": [
            "index: 1064/1216, ticker: PBG, start: 2001-05-14, stop: 2010-02-26\n",
            "index: 1065/1216, ticker: GMCR, start: 2014-03-24, stop: 2016-02-26\n",
            "index: 1066/1216, ticker: ROP, start: 2009-12-23, stop: 2024-07-08\n"
          ]
        },
        {
          "output_type": "stream",
          "name": "stderr",
          "text": [
            "\r[*********************100%***********************]  1 of 1 completed\n"
          ]
        },
        {
          "output_type": "stream",
          "name": "stdout",
          "text": [
            "index: 1067/1216, ticker: CF, start: 2000-06-19, stop: 2004-08-26\n"
          ]
        },
        {
          "output_type": "stream",
          "name": "stderr",
          "text": [
            "\r[*********************100%***********************]  1 of 1 completed\n",
            "ERROR:yfinance:\n",
            "1 Failed download:\n",
            "ERROR:yfinance:['CF']: YFPricesMissingError('$%ticker%: possibly delisted; no price data found  (1d 2000-06-19 -> 2004-08-26) (Yahoo error = \"Data doesn\\'t exist for startDate = 961387200, endDate = 1093492800\")')\n"
          ]
        },
        {
          "output_type": "stream",
          "name": "stdout",
          "text": [
            "index: 1068/1216, ticker: CF, start: 2008-08-27, stop: 2024-07-08\n"
          ]
        },
        {
          "output_type": "stream",
          "name": "stderr",
          "text": [
            "[*********************100%***********************]  1 of 1 completed\n",
            "[*********************100%***********************]  1 of 1 completed"
          ]
        },
        {
          "output_type": "stream",
          "name": "stdout",
          "text": [
            "index: 1069/1216, ticker: SVU, start: 1996-01-02, stop: 2012-04-30\n",
            "index: 1070/1216, ticker: MYL, start: 2004-04-23, stop: 2020-10-12\n",
            "index: 1071/1216, ticker: COG, start: 2008-06-23, stop: 2021-09-20\n",
            "index: 1072/1216, ticker: CRL, start: 2021-05-14, stop: 2024-07-08\n"
          ]
        },
        {
          "output_type": "stream",
          "name": "stderr",
          "text": [
            "\n"
          ]
        },
        {
          "output_type": "stream",
          "name": "stdout",
          "text": [
            "index: 1073/1216, ticker: CTX, start: 1996-01-02, stop: 2009-08-18\n",
            "index: 1074/1216, ticker: AHM, start: 1996-01-02, stop: 1998-09-30\n",
            "index: 1075/1216, ticker: OMC, start: 1997-12-24, stop: 2024-07-08\n"
          ]
        },
        {
          "output_type": "stream",
          "name": "stderr",
          "text": [
            "\r[*********************100%***********************]  1 of 1 completed\n"
          ]
        },
        {
          "output_type": "stream",
          "name": "stdout",
          "text": [
            "index: 1076/1216, ticker: WIN, start: 2006-07-18, stop: 2015-03-31\n",
            "index: 1077/1216, ticker: MAT, start: 1996-01-02, stop: 2019-06-03\n"
          ]
        },
        {
          "output_type": "stream",
          "name": "stderr",
          "text": [
            "\r[*********************100%***********************]  1 of 1 completed\n"
          ]
        },
        {
          "output_type": "stream",
          "name": "stdout",
          "text": [
            "index: 1078/1216, ticker: PXD, start: 2008-09-24, stop: 2024-04-03\n"
          ]
        },
        {
          "output_type": "stream",
          "name": "stderr",
          "text": [
            "ERROR:yfinance:404 Client Error: Not Found for url: https://query2.finance.yahoo.com/v10/finance/quoteSummary/PXD?modules=financialData%2CquoteType%2CdefaultKeyStatistics%2CassetProfile%2CsummaryDetail&corsDomain=finance.yahoo.com&formatted=false&symbol=PXD&crumb=Ruaz%2F5CqVn4\n"
          ]
        },
        {
          "output_type": "stream",
          "name": "stdout",
          "text": [
            "index: 1079/1216, ticker: CR, start: 1996-01-02, stop: 2004-12-16\n"
          ]
        },
        {
          "output_type": "stream",
          "name": "stderr",
          "text": [
            "\r[*********************100%***********************]  1 of 1 completed\n",
            "ERROR:yfinance:\n",
            "1 Failed download:\n",
            "ERROR:yfinance:['CR']: YFPricesMissingError('$%ticker%: possibly delisted; no price data found  (1d 1996-01-02 -> 2004-12-16) (Yahoo error = \"Data doesn\\'t exist for startDate = 820558800, endDate = 1103173200\")')\n"
          ]
        },
        {
          "output_type": "stream",
          "name": "stdout",
          "text": [
            "index: 1080/1216, ticker: TROW, start: 1999-10-13, stop: 2024-07-08\n"
          ]
        },
        {
          "output_type": "stream",
          "name": "stderr",
          "text": [
            "[*********************100%***********************]  1 of 1 completed\n",
            "[*********************100%***********************]  1 of 1 completed"
          ]
        },
        {
          "output_type": "stream",
          "name": "stdout",
          "text": [
            "index: 1081/1216, ticker: KHC, start: 2015-07-06, stop: 2024-07-08\n",
            "index: 1082/1216, ticker: BNL, start: 1996-01-02, stop: 1998-06-30\n"
          ]
        },
        {
          "output_type": "stream",
          "name": "stderr",
          "text": [
            "\n",
            "[*********************100%***********************]  1 of 1 completed\n",
            "ERROR:yfinance:\n",
            "1 Failed download:\n",
            "ERROR:yfinance:['BNL']: YFPricesMissingError('$%ticker%: possibly delisted; no price data found  (1d 1996-01-02 -> 1998-06-30) (Yahoo error = \"Data doesn\\'t exist for startDate = 820558800, endDate = 899179200\")')\n"
          ]
        },
        {
          "output_type": "stream",
          "name": "stdout",
          "text": [
            "index: 1083/1216, ticker: NEM, start: 1996-01-02, stop: 2024-07-08\n"
          ]
        },
        {
          "output_type": "stream",
          "name": "stderr",
          "text": [
            "[*********************100%***********************]  1 of 1 completed\n",
            "[*********************100%***********************]  1 of 1 completed"
          ]
        },
        {
          "output_type": "stream",
          "name": "stdout",
          "text": [
            "index: 1084/1216, ticker: COL, start: 2001-07-02, stop: 2018-11-15\n",
            "index: 1085/1216, ticker: IDXX, start: 2017-01-05, stop: 2024-07-08\n",
            "index: 1086/1216, ticker: ANRZQ, start: 2011-06-02, stop: 2012-10-01\n"
          ]
        },
        {
          "output_type": "stream",
          "name": "stderr",
          "text": [
            "\n"
          ]
        },
        {
          "output_type": "stream",
          "name": "stdout",
          "text": [
            "index: 1087/1216, ticker: LEG, start: 1999-10-18, stop: 2021-12-14\n"
          ]
        },
        {
          "output_type": "stream",
          "name": "stderr",
          "text": [
            "\r[*********************100%***********************]  1 of 1 completed\n"
          ]
        },
        {
          "output_type": "stream",
          "name": "stdout",
          "text": [
            "index: 1088/1216, ticker: MFE, start: 2008-12-23, stop: 2011-02-28\n",
            "index: 1089/1216, ticker: TEK, start: 1996-01-02, stop: 2007-11-13\n",
            "index: 1090/1216, ticker: RRC, start: 2007-12-21, stop: 2018-06-15\n"
          ]
        },
        {
          "output_type": "stream",
          "name": "stderr",
          "text": [
            "\r[*********************100%***********************]  1 of 1 completed\n"
          ]
        },
        {
          "output_type": "stream",
          "name": "stdout",
          "text": [
            "index: 1091/1216, ticker: NGH, start: 1998-09-16, stop: 2000-12-11\n",
            "index: 1092/1216, ticker: TSCO, start: 2014-01-24, stop: 2024-07-08\n"
          ]
        },
        {
          "output_type": "stream",
          "name": "stderr",
          "text": [
            "\r[*********************100%***********************]  1 of 1 completed\n"
          ]
        },
        {
          "output_type": "stream",
          "name": "stdout",
          "text": [
            "index: 1093/1216, ticker: WNDXQ, start: 1996-01-02, stop: 2004-12-02\n",
            "index: 1094/1216, ticker: CHD, start: 2015-12-29, stop: 2024-07-08\n"
          ]
        },
        {
          "output_type": "stream",
          "name": "stderr",
          "text": [
            "\r[*********************100%***********************]  1 of 1 completed\n"
          ]
        },
        {
          "output_type": "stream",
          "name": "stdout",
          "text": [
            "index: 1095/1216, ticker: HES, start: 1996-01-02, stop: 2024-07-08\n"
          ]
        },
        {
          "output_type": "stream",
          "name": "stderr",
          "text": [
            "\r[*********************100%***********************]  1 of 1 completed\n"
          ]
        },
        {
          "output_type": "stream",
          "name": "stdout",
          "text": [
            "index: 1096/1216, ticker: IFF, start: 1996-01-02, stop: 2024-07-08\n"
          ]
        },
        {
          "output_type": "stream",
          "name": "stderr",
          "text": [
            "[*********************100%***********************]  1 of 1 completed\n",
            "[*********************100%***********************]  1 of 1 completed\n"
          ]
        },
        {
          "output_type": "stream",
          "name": "stdout",
          "text": [
            "index: 1097/1216, ticker: MCIC, start: 1996-01-02, stop: 1998-09-08\n",
            "index: 1098/1216, ticker: LLY, start: 1996-01-02, stop: 2024-07-08\n"
          ]
        },
        {
          "output_type": "stream",
          "name": "stderr",
          "text": [
            "[*********************100%***********************]  1 of 1 completed\n",
            "[*********************100%***********************]  1 of 1 completed"
          ]
        },
        {
          "output_type": "stream",
          "name": "stdout",
          "text": [
            "index: 1099/1216, ticker: PAS, start: 1996-01-02, stop: 1998-01-29\n",
            "index: 1100/1216, ticker: SUN, start: 1996-01-02, stop: 2012-10-04\n",
            "index: 1101/1216, ticker: ADT, start: 2012-10-02, stop: 2016-04-28\n"
          ]
        },
        {
          "output_type": "stream",
          "name": "stderr",
          "text": [
            "\n",
            "[*********************100%***********************]  1 of 1 completed\n",
            "ERROR:yfinance:\n",
            "1 Failed download:\n",
            "ERROR:yfinance:['ADT']: YFPricesMissingError('$%ticker%: possibly delisted; no price data found  (1d 2012-10-02 -> 2016-04-28) (Yahoo error = \"Data doesn\\'t exist for startDate = 1349150400, endDate = 1461816000\")')\n"
          ]
        },
        {
          "output_type": "stream",
          "name": "stdout",
          "text": [
            "index: 1102/1216, ticker: ARE, start: 2017-03-20, stop: 2024-07-08\n"
          ]
        },
        {
          "output_type": "stream",
          "name": "stderr",
          "text": [
            "\r[*********************100%***********************]  1 of 1 completed\n"
          ]
        },
        {
          "output_type": "stream",
          "name": "stdout",
          "text": [
            "index: 1103/1216, ticker: MOB, start: 1996-01-02, stop: 1999-11-30\n"
          ]
        },
        {
          "output_type": "stream",
          "name": "stderr",
          "text": [
            "\r[*********************100%***********************]  1 of 1 completed\n",
            "ERROR:yfinance:\n",
            "1 Failed download:\n",
            "ERROR:yfinance:['MOB']: YFPricesMissingError('$%ticker%: possibly delisted; no price data found  (1d 1996-01-02 -> 1999-11-30) (Yahoo error = \"Data doesn\\'t exist for startDate = 820558800, endDate = 943938000\")')\n"
          ]
        },
        {
          "output_type": "stream",
          "name": "stdout",
          "text": [
            "index: 1104/1216, ticker: JPM, start: 1996-01-02, stop: 2024-07-08\n"
          ]
        },
        {
          "output_type": "stream",
          "name": "stderr",
          "text": [
            "\r[*********************100%***********************]  1 of 1 completed\n"
          ]
        },
        {
          "output_type": "stream",
          "name": "stdout",
          "text": [
            "index: 1105/1216, ticker: PDG, start: 1996-01-02, stop: 2002-07-18\n",
            "index: 1106/1216, ticker: SAI, start: 1997-07-17, stop: 1998-12-31\n"
          ]
        },
        {
          "output_type": "stream",
          "name": "stderr",
          "text": [
            "\r[*********************100%***********************]  1 of 1 completed\n",
            "ERROR:yfinance:\n",
            "1 Failed download:\n",
            "ERROR:yfinance:['SAI']: YFPricesMissingError('$%ticker%: possibly delisted; no price data found  (1d 1997-07-17 -> 1998-12-31) (Yahoo error = \"Data doesn\\'t exist for startDate = 869112000, endDate = 915080400\")')\n"
          ]
        },
        {
          "output_type": "stream",
          "name": "stdout",
          "text": [
            "index: 1107/1216, ticker: MRO, start: 1996-01-02, stop: 2024-07-08\n"
          ]
        },
        {
          "output_type": "stream",
          "name": "stderr",
          "text": [
            "\r[*********************100%***********************]  1 of 1 completed\n"
          ]
        },
        {
          "output_type": "stream",
          "name": "stdout",
          "text": [
            "index: 1108/1216, ticker: LLTC, start: 2000-04-03, stop: 2017-03-10\n",
            "index: 1109/1216, ticker: EMR, start: 1996-01-02, stop: 2024-07-08\n"
          ]
        },
        {
          "output_type": "stream",
          "name": "stderr",
          "text": [
            "\r[*********************100%***********************]  1 of 1 completed\n"
          ]
        },
        {
          "output_type": "stream",
          "name": "stdout",
          "text": [
            "index: 1110/1216, ticker: SLB, start: 1996-01-02, stop: 2024-07-08\n"
          ]
        },
        {
          "output_type": "stream",
          "name": "stderr",
          "text": [
            "\r[*********************100%***********************]  1 of 1 completed\n"
          ]
        },
        {
          "output_type": "stream",
          "name": "stdout",
          "text": [
            "index: 1111/1216, ticker: BIG, start: 1998-01-20, stop: 2013-02-06\n"
          ]
        },
        {
          "output_type": "stream",
          "name": "stderr",
          "text": [
            "\r[*********************100%***********************]  1 of 1 completed\n"
          ]
        },
        {
          "output_type": "stream",
          "name": "stdout",
          "text": [
            "index: 1112/1216, ticker: CCL, start: 1998-12-22, stop: 2024-07-08\n"
          ]
        },
        {
          "output_type": "stream",
          "name": "stderr",
          "text": [
            "\r[*********************100%***********************]  1 of 1 completed\n"
          ]
        },
        {
          "output_type": "stream",
          "name": "stdout",
          "text": [
            "index: 1113/1216, ticker: TOS, start: 1999-09-20, stop: 2001-09-10\n",
            "index: 1114/1216, ticker: HMA, start: 2001-11-07, stop: 2007-02-26\n"
          ]
        },
        {
          "output_type": "stream",
          "name": "stderr",
          "text": [
            "ERROR:yfinance:404 Client Error: Not Found for url: https://query2.finance.yahoo.com/v10/finance/quoteSummary/HMA?modules=financialData%2CquoteType%2CdefaultKeyStatistics%2CassetProfile%2CsummaryDetail&corsDomain=finance.yahoo.com&formatted=false&symbol=HMA&crumb=Ruaz%2F5CqVn4\n"
          ]
        },
        {
          "output_type": "stream",
          "name": "stdout",
          "text": [
            "index: 1115/1216, ticker: NOVL, start: 1996-01-02, stop: 2011-04-25\n",
            "index: 1116/1216, ticker: CTXS, start: 1999-12-01, stop: 2022-09-19\n",
            "index: 1117/1216, ticker: BOAT, start: 1996-01-02, stop: 1997-01-03\n",
            "index: 1118/1216, ticker: GD, start: 1996-01-02, stop: 2024-07-08\n"
          ]
        },
        {
          "output_type": "stream",
          "name": "stderr",
          "text": [
            "\r[*********************100%***********************]  1 of 1 completed\n"
          ]
        },
        {
          "output_type": "stream",
          "name": "stdout",
          "text": [
            "index: 1119/1216, ticker: EXR, start: 2016-01-19, stop: 2024-07-08\n"
          ]
        },
        {
          "output_type": "stream",
          "name": "stderr",
          "text": [
            "[*********************100%***********************]  1 of 1 completed\n",
            "[*********************100%***********************]  1 of 1 completed\n"
          ]
        },
        {
          "output_type": "stream",
          "name": "stdout",
          "text": [
            "index: 1120/1216, ticker: EQIX, start: 2015-03-23, stop: 2024-07-08\n",
            "index: 1121/1216, ticker: WEC, start: 2008-10-31, stop: 2024-07-08\n"
          ]
        },
        {
          "output_type": "stream",
          "name": "stderr",
          "text": [
            "\r[*********************100%***********************]  1 of 1 completed\n"
          ]
        },
        {
          "output_type": "stream",
          "name": "stdout",
          "text": [
            "index: 1122/1216, ticker: O, start: 2015-04-07, stop: 2024-07-08\n"
          ]
        },
        {
          "output_type": "stream",
          "name": "stderr",
          "text": [
            "[*********************100%***********************]  1 of 1 completed\n",
            "[*********************100%***********************]  1 of 1 completed\n"
          ]
        },
        {
          "output_type": "stream",
          "name": "stdout",
          "text": [
            "index: 1123/1216, ticker: MTCH, start: 2021-09-20, stop: 2024-07-08\n",
            "index: 1124/1216, ticker: ETN, start: 1996-01-02, stop: 2024-07-08\n"
          ]
        },
        {
          "output_type": "stream",
          "name": "stderr",
          "text": [
            "\r[*********************100%***********************]  1 of 1 completed\n"
          ]
        },
        {
          "output_type": "stream",
          "name": "stdout",
          "text": [
            "index: 1125/1216, ticker: NI, start: 2000-11-02, stop: 2024-07-08\n"
          ]
        },
        {
          "output_type": "stream",
          "name": "stderr",
          "text": [
            "[*********************100%***********************]  1 of 1 completed\n",
            "[*********************100%***********************]  1 of 1 completed"
          ]
        },
        {
          "output_type": "stream",
          "name": "stdout",
          "text": [
            "index: 1126/1216, ticker: NFX, start: 2010-12-20, stop: 2019-01-18\n",
            "index: 1127/1216, ticker: STE, start: 2019-12-23, stop: 2024-07-08\n"
          ]
        },
        {
          "output_type": "stream",
          "name": "stderr",
          "text": [
            "\n",
            "[*********************100%***********************]  1 of 1 completed\n",
            "[*********************100%***********************]  1 of 1 completed\n"
          ]
        },
        {
          "output_type": "stream",
          "name": "stdout",
          "text": [
            "index: 1128/1216, ticker: LOW, start: 1996-01-02, stop: 2024-07-08\n",
            "index: 1129/1216, ticker: CCI, start: 1996-01-02, stop: 1998-10-07\n",
            "index: 1130/1216, ticker: CCI, start: 2012-03-13, stop: 2024-07-08\n"
          ]
        },
        {
          "output_type": "stream",
          "name": "stderr",
          "text": [
            "\r[*********************100%***********************]  1 of 1 completed\n"
          ]
        },
        {
          "output_type": "stream",
          "name": "stdout",
          "text": [
            "index: 1131/1216, ticker: MHS, start: 2003-08-20, stop: 2012-03-22\n",
            "index: 1132/1216, ticker: JOY, start: 2011-02-28, stop: 2015-10-05\n",
            "index: 1133/1216, ticker: CEN, start: 1996-01-02, stop: 2001-03-30\n"
          ]
        },
        {
          "output_type": "stream",
          "name": "stderr",
          "text": [
            "ERROR:yfinance:404 Client Error: Not Found for url: https://query2.finance.yahoo.com/v10/finance/quoteSummary/CEN?modules=financialData%2CquoteType%2CdefaultKeyStatistics%2CassetProfile%2CsummaryDetail&corsDomain=finance.yahoo.com&formatted=false&symbol=CEN&crumb=Ruaz%2F5CqVn4\n"
          ]
        },
        {
          "output_type": "stream",
          "name": "stdout",
          "text": [
            "index: 1134/1216, ticker: BBY, start: 1999-06-30, stop: 2024-07-08\n"
          ]
        },
        {
          "output_type": "stream",
          "name": "stderr",
          "text": [
            "[*********************100%***********************]  1 of 1 completed\n",
            "[*********************100%***********************]  1 of 1 completed"
          ]
        },
        {
          "output_type": "stream",
          "name": "stdout",
          "text": [
            "index: 1135/1216, ticker: REG, start: 2017-03-02, stop: 2024-07-08\n"
          ]
        },
        {
          "output_type": "stream",
          "name": "stderr",
          "text": [
            "\n"
          ]
        },
        {
          "output_type": "stream",
          "name": "stdout",
          "text": [
            "index: 1136/1216, ticker: ALL, start: 1996-01-02, stop: 2024-07-08\n"
          ]
        },
        {
          "output_type": "stream",
          "name": "stderr",
          "text": [
            "[*********************100%***********************]  1 of 1 completed\n",
            "[*********************100%***********************]  1 of 1 completed"
          ]
        },
        {
          "output_type": "stream",
          "name": "stdout",
          "text": [
            "index: 1137/1216, ticker: GM, start: 2013-06-07, stop: 2024-07-08\n"
          ]
        },
        {
          "output_type": "stream",
          "name": "stderr",
          "text": [
            "\n"
          ]
        },
        {
          "output_type": "stream",
          "name": "stdout",
          "text": [
            "index: 1138/1216, ticker: TWTR, start: 2018-06-07, stop: 2022-10-12\n",
            "index: 1139/1216, ticker: GPU, start: 1996-01-02, stop: 2001-11-05\n",
            "index: 1140/1216, ticker: ALLE, start: 2013-12-02, stop: 2024-07-08\n"
          ]
        },
        {
          "output_type": "stream",
          "name": "stderr",
          "text": [
            "\r[*********************100%***********************]  1 of 1 completed\n"
          ]
        },
        {
          "output_type": "stream",
          "name": "stdout",
          "text": [
            "index: 1141/1216, ticker: FRO, start: 1997-01-02, stop: 1999-09-21\n"
          ]
        },
        {
          "output_type": "stream",
          "name": "stderr",
          "text": [
            "\r[*********************100%***********************]  1 of 1 completed\n",
            "ERROR:yfinance:\n",
            "1 Failed download:\n",
            "ERROR:yfinance:['FRO']: YFPricesMissingError('$%ticker%: possibly delisted; no price data found  (1d 1997-01-02 -> 1999-09-21) (Yahoo error = \"Data doesn\\'t exist for startDate = 852181200, endDate = 937886400\")')\n"
          ]
        },
        {
          "output_type": "stream",
          "name": "stdout",
          "text": [
            "index: 1142/1216, ticker: BMS, start: 1996-01-02, stop: 2014-12-04\n",
            "index: 1143/1216, ticker: NKE, start: 1996-01-02, stop: 2024-07-08\n"
          ]
        },
        {
          "output_type": "stream",
          "name": "stderr",
          "text": [
            "[*********************100%***********************]  1 of 1 completed\n",
            "[*********************100%***********************]  1 of 1 completed\n"
          ]
        },
        {
          "output_type": "stream",
          "name": "stdout",
          "text": [
            "index: 1144/1216, ticker: MD, start: 1996-01-02, stop: 1997-07-29\n",
            "index: 1145/1216, ticker: UAA, start: 2014-05-01, stop: 2022-06-09\n"
          ]
        },
        {
          "output_type": "stream",
          "name": "stderr",
          "text": [
            "[*********************100%***********************]  1 of 1 completed\n",
            "[*********************100%***********************]  1 of 1 completed"
          ]
        },
        {
          "output_type": "stream",
          "name": "stdout",
          "text": [
            "index: 1146/1216, ticker: SWN, start: 2008-06-06, stop: 2017-03-30\n"
          ]
        },
        {
          "output_type": "stream",
          "name": "stderr",
          "text": [
            "\n"
          ]
        },
        {
          "output_type": "stream",
          "name": "stdout",
          "text": [
            "index: 1147/1216, ticker: ROL, start: 2018-10-01, stop: 2024-07-08\n"
          ]
        },
        {
          "output_type": "stream",
          "name": "stderr",
          "text": [
            "\r[*********************100%***********************]  1 of 1 completed\n"
          ]
        },
        {
          "output_type": "stream",
          "name": "stdout",
          "text": [
            "index: 1148/1216, ticker: MCK, start: 1999-01-13, stop: 2024-07-08\n"
          ]
        },
        {
          "output_type": "stream",
          "name": "stderr",
          "text": [
            "\r[*********************100%***********************]  1 of 1 completed\n"
          ]
        },
        {
          "output_type": "stream",
          "name": "stdout",
          "text": [
            "index: 1149/1216, ticker: DLX, start: 1996-01-02, stop: 2004-12-16\n"
          ]
        },
        {
          "output_type": "stream",
          "name": "stderr",
          "text": [
            "[*********************100%***********************]  1 of 1 completed\n",
            "[*********************100%***********************]  1 of 1 completed\n"
          ]
        },
        {
          "output_type": "stream",
          "name": "stdout",
          "text": [
            "index: 1150/1216, ticker: KKR, start: 2024-06-24, stop: 2024-07-08\n",
            "index: 1151/1216, ticker: CMX, start: 2004-03-25, stop: 2007-03-22\n",
            "index: 1152/1216, ticker: EXPE, start: 2007-10-02, stop: 2024-07-08\n"
          ]
        },
        {
          "output_type": "stream",
          "name": "stderr",
          "text": [
            "\r[*********************100%***********************]  1 of 1 completed\n"
          ]
        },
        {
          "output_type": "stream",
          "name": "stdout",
          "text": [
            "index: 1153/1216, ticker: ECL, start: 1996-01-02, stop: 2024-07-08\n"
          ]
        },
        {
          "output_type": "stream",
          "name": "stderr",
          "text": [
            "\r[*********************100%***********************]  1 of 1 completed\n"
          ]
        },
        {
          "output_type": "stream",
          "name": "stdout",
          "text": [
            "index: 1154/1216, ticker: NTRS, start: 1998-01-30, stop: 2024-07-08\n"
          ]
        },
        {
          "output_type": "stream",
          "name": "stderr",
          "text": [
            "\r[*********************100%***********************]  1 of 1 completed\n"
          ]
        },
        {
          "output_type": "stream",
          "name": "stdout",
          "text": [
            "index: 1155/1216, ticker: VIAV, start: 2000-07-27, stop: 2013-12-18\n"
          ]
        },
        {
          "output_type": "stream",
          "name": "stderr",
          "text": [
            "[*********************100%***********************]  1 of 1 completed\n",
            "[*********************100%***********************]  1 of 1 completed\n"
          ]
        },
        {
          "output_type": "stream",
          "name": "stdout",
          "text": [
            "index: 1156/1216, ticker: PENN, start: 2021-03-22, stop: 2022-06-28\n",
            "index: 1157/1216, ticker: AEE, start: 1996-01-02, stop: 2024-07-08\n"
          ]
        },
        {
          "output_type": "stream",
          "name": "stderr",
          "text": [
            "\r[*********************100%***********************]  1 of 1 completed\n"
          ]
        },
        {
          "output_type": "stream",
          "name": "stdout",
          "text": [
            "index: 1158/1216, ticker: JCI, start: 1996-01-02, stop: 2024-07-08\n"
          ]
        },
        {
          "output_type": "stream",
          "name": "stderr",
          "text": [
            "\r[*********************100%***********************]  1 of 1 completed\n"
          ]
        },
        {
          "output_type": "stream",
          "name": "stdout",
          "text": [
            "index: 1159/1216, ticker: ADM, start: 1996-01-02, stop: 2024-07-08\n"
          ]
        },
        {
          "output_type": "stream",
          "name": "stderr",
          "text": [
            "\r[*********************100%***********************]  1 of 1 completed\n"
          ]
        },
        {
          "output_type": "stream",
          "name": "stdout",
          "text": [
            "index: 1160/1216, ticker: EXC, start: 1996-01-02, stop: 2024-07-08\n"
          ]
        },
        {
          "output_type": "stream",
          "name": "stderr",
          "text": [
            "\r[*********************100%***********************]  1 of 1 completed\n"
          ]
        },
        {
          "output_type": "stream",
          "name": "stdout",
          "text": [
            "index: 1161/1216, ticker: SB, start: 1996-01-02, stop: 1997-11-21\n"
          ]
        },
        {
          "output_type": "stream",
          "name": "stderr",
          "text": [
            "\r[*********************100%***********************]  1 of 1 completed\n",
            "ERROR:yfinance:\n",
            "1 Failed download:\n",
            "ERROR:yfinance:['SB']: YFPricesMissingError('$%ticker%: possibly delisted; no price data found  (1d 1996-01-02 -> 1997-11-21) (Yahoo error = \"Data doesn\\'t exist for startDate = 820558800, endDate = 880088400\")')\n"
          ]
        },
        {
          "output_type": "stream",
          "name": "stdout",
          "text": [
            "index: 1162/1216, ticker: COV, start: 1996-01-02, stop: 1996-08-08\n",
            "index: 1163/1216, ticker: COV, start: 2007-07-02, stop: 2009-06-04\n",
            "index: 1164/1216, ticker: COV, start: 2011-03-01, stop: 2015-01-15\n",
            "index: 1165/1216, ticker: FPC, start: 1999-06-22, stop: 2000-11-29\n",
            "index: 1166/1216, ticker: CMI, start: 1996-01-02, stop: 2024-07-08\n"
          ]
        },
        {
          "output_type": "stream",
          "name": "stderr",
          "text": [
            "\r[*********************100%***********************]  1 of 1 completed\n"
          ]
        },
        {
          "output_type": "stream",
          "name": "stdout",
          "text": [
            "index: 1167/1216, ticker: DEC, start: 1996-01-02, stop: 1998-06-08\n"
          ]
        },
        {
          "output_type": "stream",
          "name": "stderr",
          "text": [
            "\r[*********************100%***********************]  1 of 1 completed\n",
            "ERROR:yfinance:\n",
            "1 Failed download:\n",
            "ERROR:yfinance:['DEC']: YFPricesMissingError('$%ticker%: possibly delisted; no price data found  (1d 1996-01-02 -> 1998-06-08) (Yahoo error = \"Data doesn\\'t exist for startDate = 820558800, endDate = 897278400\")')\n"
          ]
        },
        {
          "output_type": "stream",
          "name": "stdout",
          "text": [
            "index: 1168/1216, ticker: BEAM, start: 1996-01-02, stop: 2014-04-22\n"
          ]
        },
        {
          "output_type": "stream",
          "name": "stderr",
          "text": [
            "\r[*********************100%***********************]  1 of 1 completed\n",
            "ERROR:yfinance:\n",
            "1 Failed download:\n",
            "ERROR:yfinance:['BEAM']: YFPricesMissingError('$%ticker%: possibly delisted; no price data found  (1d 1996-01-02 -> 2014-04-22) (Yahoo error = \"Data doesn\\'t exist for startDate = 820558800, endDate = 1398139200\")')\n"
          ]
        },
        {
          "output_type": "stream",
          "name": "stdout",
          "text": [
            "index: 1169/1216, ticker: WYNN, start: 2008-11-14, stop: 2024-07-08\n"
          ]
        },
        {
          "output_type": "stream",
          "name": "stderr",
          "text": [
            "\r[*********************100%***********************]  1 of 1 completed\n"
          ]
        },
        {
          "output_type": "stream",
          "name": "stdout",
          "text": [
            "index: 1170/1216, ticker: MSFT, start: 1996-01-02, stop: 2024-07-08\n"
          ]
        },
        {
          "output_type": "stream",
          "name": "stderr",
          "text": [
            "\r[*********************100%***********************]  1 of 1 completed\n"
          ]
        },
        {
          "output_type": "stream",
          "name": "stdout",
          "text": [
            "index: 1171/1216, ticker: BKR, start: 2019-10-18, stop: 2024-07-08\n"
          ]
        },
        {
          "output_type": "stream",
          "name": "stderr",
          "text": [
            "[*********************100%***********************]  1 of 1 completed\n",
            "[*********************100%***********************]  1 of 1 completed\n"
          ]
        },
        {
          "output_type": "stream",
          "name": "stdout",
          "text": [
            "index: 1172/1216, ticker: SNPS, start: 2017-03-16, stop: 2024-07-08\n",
            "index: 1173/1216, ticker: GX, start: 1999-09-29, stop: 2001-10-04\n",
            "index: 1174/1216, ticker: CCK, start: 1996-01-02, stop: 2000-12-08\n"
          ]
        },
        {
          "output_type": "stream",
          "name": "stderr",
          "text": [
            "\r[*********************100%***********************]  1 of 1 completed\n"
          ]
        },
        {
          "output_type": "stream",
          "name": "stdout",
          "text": [
            "index: 1175/1216, ticker: NVDA, start: 2001-11-30, stop: 2024-07-08\n"
          ]
        },
        {
          "output_type": "stream",
          "name": "stderr",
          "text": [
            "[*********************100%***********************]  1 of 1 completed\n",
            "[*********************100%***********************]  1 of 1 completed"
          ]
        },
        {
          "output_type": "stream",
          "name": "stdout",
          "text": [
            "index: 1176/1216, ticker: DLTR, start: 2011-12-19, stop: 2024-07-08\n",
            "index: 1177/1216, ticker: FG, start: 1996-01-02, stop: 1998-04-16\n"
          ]
        },
        {
          "output_type": "stream",
          "name": "stderr",
          "text": [
            "\n",
            "[*********************100%***********************]  1 of 1 completed\n",
            "ERROR:yfinance:\n",
            "1 Failed download:\n",
            "ERROR:yfinance:['FG']: YFPricesMissingError('$%ticker%: possibly delisted; no price data found  (1d 1996-01-02 -> 1998-04-16) (Yahoo error = \"Data doesn\\'t exist for startDate = 820558800, endDate = 892699200\")')\n"
          ]
        },
        {
          "output_type": "stream",
          "name": "stdout",
          "text": [
            "index: 1178/1216, ticker: D, start: 1996-01-02, stop: 2024-07-08\n"
          ]
        },
        {
          "output_type": "stream",
          "name": "stderr",
          "text": [
            "\r[*********************100%***********************]  1 of 1 completed\n"
          ]
        },
        {
          "output_type": "stream",
          "name": "stdout",
          "text": [
            "index: 1179/1216, ticker: ARG, start: 2009-09-09, stop: 2016-05-20\n",
            "index: 1180/1216, ticker: PCH, start: 1996-01-02, stop: 2001-07-03\n"
          ]
        },
        {
          "output_type": "stream",
          "name": "stderr",
          "text": [
            "[*********************100%***********************]  1 of 1 completed\n",
            "[*********************100%***********************]  1 of 1 completed\n"
          ]
        },
        {
          "output_type": "stream",
          "name": "stdout",
          "text": [
            "index: 1181/1216, ticker: ODFL, start: 2019-12-09, stop: 2024-07-08\n",
            "index: 1182/1216, ticker: PPG, start: 1996-01-02, stop: 2024-07-08\n"
          ]
        },
        {
          "output_type": "stream",
          "name": "stderr",
          "text": [
            "[*********************100%***********************]  1 of 1 completed\n",
            "[*********************100%***********************]  1 of 1 completed\n"
          ]
        },
        {
          "output_type": "stream",
          "name": "stdout",
          "text": [
            "index: 1183/1216, ticker: VICI, start: 2022-06-08, stop: 2024-07-08\n",
            "index: 1184/1216, ticker: RYC, start: 1996-01-02, stop: 1999-08-11\n",
            "index: 1185/1216, ticker: HRL, start: 2009-03-04, stop: 2024-07-08\n"
          ]
        },
        {
          "output_type": "stream",
          "name": "stderr",
          "text": [
            "[*********************100%***********************]  1 of 1 completed\n",
            "[*********************100%***********************]  1 of 1 completed"
          ]
        },
        {
          "output_type": "stream",
          "name": "stdout",
          "text": [
            "index: 1186/1216, ticker: AKAM, start: 2007-07-12, stop: 2024-07-08\n"
          ]
        },
        {
          "output_type": "stream",
          "name": "stderr",
          "text": [
            "\n"
          ]
        },
        {
          "output_type": "stream",
          "name": "stdout",
          "text": [
            "index: 1187/1216, ticker: CA, start: 1996-01-02, stop: 2018-10-31\n",
            "index: 1188/1216, ticker: OAT, start: 1996-01-02, stop: 2001-07-31\n",
            "index: 1189/1216, ticker: GPS, start: 1996-01-02, stop: 2022-01-20\n"
          ]
        },
        {
          "output_type": "stream",
          "name": "stderr",
          "text": [
            "[*********************100%***********************]  1 of 1 completed\n",
            "[*********************100%***********************]  1 of 1 completed"
          ]
        },
        {
          "output_type": "stream",
          "name": "stdout",
          "text": [
            "index: 1190/1216, ticker: GOOGL, start: 2006-04-03, stop: 2024-07-08\n"
          ]
        },
        {
          "output_type": "stream",
          "name": "stderr",
          "text": [
            "\n",
            "[*********************100%***********************]  1 of 1 completed"
          ]
        },
        {
          "output_type": "stream",
          "name": "stdout",
          "text": [
            "index: 1191/1216, ticker: NWSA, start: 2013-07-01, stop: 2024-07-08\n"
          ]
        },
        {
          "output_type": "stream",
          "name": "stderr",
          "text": [
            "\n"
          ]
        },
        {
          "output_type": "stream",
          "name": "stdout",
          "text": [
            "index: 1192/1216, ticker: CIT.A, start: 2000-07-17, stop: 2001-05-31\n"
          ]
        },
        {
          "output_type": "stream",
          "name": "stderr",
          "text": [
            "ERROR:yfinance:404 Client Error: Not Found for url: https://query2.finance.yahoo.com/v10/finance/quoteSummary/CIT.A?modules=financialData%2CquoteType%2CdefaultKeyStatistics%2CassetProfile%2CsummaryDetail&corsDomain=finance.yahoo.com&formatted=false&symbol=CIT.A&crumb=Ruaz%2F5CqVn4\n",
            "[*********************100%***********************]  1 of 1 completed\n"
          ]
        },
        {
          "output_type": "stream",
          "name": "stdout",
          "text": [
            "index: 1193/1216, ticker: VAT, start: 1996-01-02, stop: 1996-08-28\n",
            "index: 1194/1216, ticker: HBI, start: 2015-03-23, stop: 2021-12-14\n"
          ]
        },
        {
          "output_type": "stream",
          "name": "stderr",
          "text": [
            "\r[*********************100%***********************]  1 of 1 completed\n"
          ]
        },
        {
          "output_type": "stream",
          "name": "stdout",
          "text": [
            "index: 1195/1216, ticker: ANSS, start: 2017-06-19, stop: 2024-07-08\n",
            "index: 1196/1216, ticker: TMC, start: 1996-01-02, stop: 2000-06-09\n"
          ]
        },
        {
          "output_type": "stream",
          "name": "stderr",
          "text": [
            "\r[*********************100%***********************]  1 of 1 completed\n",
            "ERROR:yfinance:\n",
            "1 Failed download:\n",
            "ERROR:yfinance:['TMC']: YFPricesMissingError('$%ticker%: possibly delisted; no price data found  (1d 1996-01-02 -> 2000-06-09) (Yahoo error = \"Data doesn\\'t exist for startDate = 820558800, endDate = 960523200\")')\n"
          ]
        },
        {
          "output_type": "stream",
          "name": "stdout",
          "text": [
            "index: 1197/1216, ticker: TSN, start: 2005-08-11, stop: 2024-07-08\n"
          ]
        },
        {
          "output_type": "stream",
          "name": "stderr",
          "text": [
            "\r[*********************100%***********************]  1 of 1 completed\n"
          ]
        },
        {
          "output_type": "stream",
          "name": "stdout",
          "text": [
            "index: 1198/1216, ticker: WDC, start: 2009-07-01, stop: 2024-07-08\n"
          ]
        },
        {
          "output_type": "stream",
          "name": "stderr",
          "text": [
            "\r[*********************100%***********************]  1 of 1 completed\n"
          ]
        },
        {
          "output_type": "stream",
          "name": "stdout",
          "text": [
            "index: 1199/1216, ticker: CSCO, start: 1996-01-02, stop: 2024-07-08\n"
          ]
        },
        {
          "output_type": "stream",
          "name": "stderr",
          "text": [
            "\r[*********************100%***********************]  1 of 1 completed\n"
          ]
        },
        {
          "output_type": "stream",
          "name": "stdout",
          "text": [
            "index: 1200/1216, ticker: GAPTQ, start: 1996-01-02, stop: 2000-08-25\n",
            "index: 1201/1216, ticker: SHLD, start: 2005-03-28, stop: 2012-08-23\n",
            "index: 1202/1216, ticker: SYF, start: 2015-11-18, stop: 2024-07-08\n"
          ]
        },
        {
          "output_type": "stream",
          "name": "stderr",
          "text": [
            "[*********************100%***********************]  1 of 1 completed\n",
            "[*********************100%***********************]  1 of 1 completed\n"
          ]
        },
        {
          "output_type": "stream",
          "name": "stdout",
          "text": [
            "index: 1203/1216, ticker: ON, start: 2022-06-21, stop: 2024-07-08\n",
            "index: 1204/1216, ticker: ATVI, start: 2015-08-31, stop: 2023-10-02\n"
          ]
        },
        {
          "output_type": "stream",
          "name": "stderr",
          "text": [
            "ERROR:yfinance:404 Client Error: Not Found for url: https://query2.finance.yahoo.com/v10/finance/quoteSummary/ATVI?modules=financialData%2CquoteType%2CdefaultKeyStatistics%2CassetProfile%2CsummaryDetail&corsDomain=finance.yahoo.com&formatted=false&symbol=ATVI&crumb=Ruaz%2F5CqVn4\n"
          ]
        },
        {
          "output_type": "stream",
          "name": "stdout",
          "text": [
            "index: 1205/1216, ticker: ENS, start: 1996-01-02, stop: 1997-08-05\n"
          ]
        },
        {
          "output_type": "stream",
          "name": "stderr",
          "text": [
            "\r[*********************100%***********************]  1 of 1 completed\n",
            "ERROR:yfinance:\n",
            "1 Failed download:\n",
            "ERROR:yfinance:['ENS']: YFPricesMissingError('$%ticker%: possibly delisted; no price data found  (1d 1996-01-02 -> 1997-08-05) (Yahoo error = \"Data doesn\\'t exist for startDate = 820558800, endDate = 870753600\")')\n"
          ]
        },
        {
          "output_type": "stream",
          "name": "stdout",
          "text": [
            "index: 1206/1216, ticker: WFC, start: 1996-01-02, stop: 2024-07-08\n"
          ]
        },
        {
          "output_type": "stream",
          "name": "stderr",
          "text": [
            "\r[*********************100%***********************]  1 of 1 completed\n"
          ]
        },
        {
          "output_type": "stream",
          "name": "stdout",
          "text": [
            "index: 1207/1216, ticker: SNV, start: 1997-12-01, stop: 2007-12-31\n"
          ]
        },
        {
          "output_type": "stream",
          "name": "stderr",
          "text": [
            "\r[*********************100%***********************]  1 of 1 completed\n"
          ]
        },
        {
          "output_type": "stream",
          "name": "stdout",
          "text": [
            "index: 1208/1216, ticker: SRE, start: 1998-06-29, stop: 2024-07-08\n"
          ]
        },
        {
          "output_type": "stream",
          "name": "stderr",
          "text": [
            "\r[*********************100%***********************]  1 of 1 completed\n"
          ]
        },
        {
          "output_type": "stream",
          "name": "stdout",
          "text": [
            "index: 1209/1216, ticker: LOR, start: 1996-01-02, stop: 1996-04-22\n",
            "index: 1210/1216, ticker: AV, start: 2000-10-02, stop: 2007-10-25\n",
            "index: 1211/1216, ticker: SMI, start: 1996-01-02, stop: 2000-12-11\n",
            "index: 1212/1216, ticker: JHF, start: 2001-06-29, stop: 2004-04-28\n",
            "index: 1213/1216, ticker: JEF, start: 2007-08-27, stop: 2019-09-23\n"
          ]
        },
        {
          "output_type": "stream",
          "name": "stderr",
          "text": [
            "[*********************100%***********************]  1 of 1 completed\n",
            "[*********************100%***********************]  1 of 1 completed\n"
          ]
        },
        {
          "output_type": "stream",
          "name": "stdout",
          "text": [
            "index: 1214/1216, ticker: EVHC, start: 2016-12-02, stop: 2018-10-10\n",
            "index: 1215/1216, ticker: PAYC, start: 2020-01-28, stop: 2024-07-08\n",
            "Done\n"
          ]
        }
      ]
    },
    {
      "cell_type": "code",
      "source": [
        "# check the quality of data\n",
        "print(df_ranges_extended.describe())\n",
        "print('\\nIndustries:')\n",
        "print(df_ranges_extended['Industry'].dropna().unique())\n",
        "print('\\nSectors:')\n",
        "print(df_ranges_extended['Sector'].dropna().unique())"
      ],
      "metadata": {
        "id": "U4mBWHiUO2hB",
        "colab": {
          "base_uri": "https://localhost:8080/"
        },
        "outputId": "ffdcc759-bfe3-4abd-f96d-137a573c2864"
      },
      "execution_count": null,
      "outputs": [
        {
          "output_type": "stream",
          "name": "stdout",
          "text": [
            "       Ticker       Start         End Categorized  \\\n",
            "count    1216        1216        1216        1216   \n",
            "unique   1168         582         575           2   \n",
            "top       COV  1996-01-02  2024-07-08        True   \n",
            "freq        3         487         503         751   \n",
            "\n",
            "                              Industry      Sector Downloaded  \n",
            "count                              751         751       1216  \n",
            "unique                             148          11          2  \n",
            "top     Specialty Industrial Machinery  Technology       True  \n",
            "freq                                23         108        654  \n",
            "\n",
            "Industries:\n",
            "['Auto Parts' 'Education & Training Services' 'Credit Services'\n",
            " 'Semiconductors' 'Oil & Gas E&P' 'Luxury Goods' 'Aerospace & Defense'\n",
            " 'Farm & Heavy Construction Machinery' 'Asset Management'\n",
            " 'Consulting Services' 'Banks - Diversified' 'Agricultural Inputs'\n",
            " 'Chemicals' 'Medical Devices' 'Insurance - Property & Casualty'\n",
            " 'Software - Infrastructure' 'Electrical Equipment & Parts'\n",
            " 'Rental & Leasing Services' 'Auto & Truck Dealerships' 'Lodging'\n",
            " 'Drug Manufacturers - General' 'Financial Data & Stock Exchanges'\n",
            " 'Airlines' 'Specialty Chemicals' 'Utilities - Regulated Electric'\n",
            " 'Banks - Regional' 'Auto Manufacturers' 'REIT - Specialty'\n",
            " 'Scientific & Technical Instruments' 'Information Technology Services'\n",
            " 'Conglomerates' 'Oil & Gas Drilling' 'Software - Application'\n",
            " 'Resorts & Casinos' 'Industrial Distribution' 'Waste Management'\n",
            " 'Semiconductor Equipment & Materials' 'REIT - Residential'\n",
            " 'Specialty Industrial Machinery' 'Internet Content & Information'\n",
            " 'Travel Services' 'Computer Hardware' 'Diagnostics & Research'\n",
            " 'Real Estate Services' 'Discount Stores' 'Specialty Business Services'\n",
            " 'Utilities - Independent Power Producers' 'Entertainment'\n",
            " 'Department Stores' 'Healthcare Plans' 'Beverages - Brewers'\n",
            " 'Insurance - Life' 'Tobacco' 'REIT - Industrial'\n",
            " 'Utilities - Diversified' 'Medical Instruments & Supplies'\n",
            " 'Oil & Gas Midstream' 'Packaged Foods' 'Building Materials'\n",
            " 'Marine Shipping' 'Leisure' 'Medical Distribution'\n",
            " 'Residential Construction' 'Railroads' 'Internet Retail'\n",
            " 'Insurance - Diversified' 'Oil & Gas Refining & Marketing'\n",
            " 'Grocery Stores' 'Specialty Retail' 'Oil & Gas Equipment & Services'\n",
            " 'Restaurants' 'Steel' 'Communication Equipment' 'REIT - Retail'\n",
            " 'Biotechnology' 'Insurance Brokers' 'Metal Fabrication'\n",
            " 'Packaging & Containers' 'REIT - Hotel & Motel' 'Advertising Agencies'\n",
            " 'Apparel Retail' 'Recreational Vehicles' 'Mortgage Finance'\n",
            " 'Oil & Gas Integrated' 'Telecom Services'\n",
            " 'Integrated Freight & Logistics' 'REIT - Office'\n",
            " 'Medical Care Facilities' 'Utilities - Regulated Water' 'Capital Markets'\n",
            " 'Health Information Services' 'Electronic Components'\n",
            " 'Engineering & Construction' 'Solar' 'Pharmaceutical Retailers'\n",
            " 'Electronic Gaming & Multimedia' 'Other Industrial Metals & Mining'\n",
            " 'REIT - Healthcare Facilities' 'Household & Personal Products'\n",
            " 'Tools & Accessories' 'Beverages - Non-Alcoholic'\n",
            " 'Airports & Air Services' 'Gambling' 'Apparel Manufacturing'\n",
            " 'Building Products & Equipment' 'Utilities - Renewable'\n",
            " 'Insurance - Specialty' 'Farm Products' 'Publishing'\n",
            " 'Insurance - Reinsurance' 'Pollution & Treatment Controls'\n",
            " 'Insurance—Specialty' 'Drug Manufacturers—Specialty & Generic'\n",
            " 'Beverages—Non-Alcoholic' 'Software—Infrastructure'\n",
            " 'Utilities—Regulated Electric' 'Software—Application'\n",
            " 'Footwear & Accessories' 'REIT—Retail' 'Broadcasting' 'Copper'\n",
            " 'REIT—Industrial' 'Security & Protection Services' 'Banks—Regional'\n",
            " 'Utilities—Renewable' 'REIT—Healthcare Facilities' 'Insurance—Life'\n",
            " 'Personal Services' 'REIT—Specialty' 'REIT—Office'\n",
            " 'Utilities—Independent Power Producers' 'Home Improvement Retail'\n",
            " 'Consumer Electronics' 'Insurance—Property & Casualty' 'REIT—Residential'\n",
            " 'Confectioners' 'Staffing & Employment Services' 'Food Distribution'\n",
            " 'Drug Manufacturers—General' 'Furnishings, Fixtures & Appliances'\n",
            " 'Thermal Coal' 'Utilities—Regulated Gas' 'Beverages—Brewers'\n",
            " 'REIT—Diversified' 'Gold' 'Banks—Diversified' 'Trucking'\n",
            " 'Utilities—Diversified']\n",
            "\n",
            "Sectors:\n",
            "['Consumer Cyclical' 'Consumer Defensive' 'Financial Services'\n",
            " 'Technology' 'Energy' 'Industrials' 'Basic Materials' 'Healthcare'\n",
            " 'Utilities' 'Real Estate' 'Communication Services']\n"
          ]
        }
      ]
    },
    {
      "cell_type": "code",
      "source": [],
      "metadata": {
        "id": "4TWnBtlll8ue"
      },
      "execution_count": null,
      "outputs": []
    },
    {
      "cell_type": "code",
      "source": [],
      "metadata": {
        "id": "l3y8JlnFl8_v"
      },
      "execution_count": null,
      "outputs": []
    },
    {
      "cell_type": "code",
      "source": [
        "# iterate ranges and retrieve stocks data using NASDAQ services\n",
        "# Premium dataset QUOTEMEDIA/PRICES\n",
        "from google.colab import userdata\n",
        "NASDAQ_API_KEY = userdata.get('NASDAQ_API_KEY')\n",
        "\n",
        "hist_data_path_quotemedia = PRJ_PATH + DATA_PATH + \"/quotemedia/\"\n",
        "if not os.path.exists(hist_data_path_quotemedia):\n",
        "  os.makedirs(hist_data_path_quotemedia)\n",
        "\n",
        "df_ranges_extended = df_ranges.copy()\n",
        "\n",
        "print('Retrieving historical data')\n",
        "for indx,(ticker, start, end) in df_ranges_extended.iterrows():\n",
        "  print(f'index: {indx}/{len(df_ranges_extended)}, ticker: {ticker}, start: {start}, stop: {end}')\n",
        "  try:\n",
        "    df_history = nasdaqdatalink.get_table('QUOTEMEDIA/PRICES',\n",
        "      qopts = { 'columns': ['date', 'Open',\t'high',\t'low',\t'close',\t'adj_close', 'volume'] },\n",
        "      ticker = ticker,\n",
        "      date = { 'gte': start, 'lte': end },\n",
        "      paginate = True,\n",
        "      api_key = NASDAQ_API_KEY)\n",
        "    df_history.sort_values(by=['date'],inplace=True)\n",
        "    df_history.reset_index(drop=True,inplace=True)\n",
        "\n",
        "    if df_history.empty:\n",
        "      df_ranges_extended.at[indx,'Downloaded'] = False\n",
        "    else:\n",
        "      df_ranges_extended.at[indx,'Downloaded'] = True\n",
        "      # save the history to a file\n",
        "      hist_file_name = ticker + '-' + start + '-' + end + '.csv'\n",
        "      hist_file_path = hist_data_path_quotemedia + hist_file_name\n",
        "      df_history.to_csv(hist_file_path,index = False)\n",
        "  except:\n",
        "    df_ranges_extended.at[indx,'Downloaded'] = False\n",
        "\n",
        "csv_file_name = 'S&P-Historical-Composition-Date-Ranges-Quotemedia.csv'\n",
        "ext_ranges_file_path = PRJ_PATH + CSV_CR_PATH + \"/\" + csv_file_name\n",
        "df_ranges_extended.to_csv(ext_ranges_file_path, index = False)\n",
        "\n",
        "print('Done')"
      ],
      "metadata": {
        "id": "KOVb3r6Tl9Dj",
        "colab": {
          "base_uri": "https://localhost:8080/"
        },
        "outputId": "90be9f31-a80e-446c-c806-2ae0be4c85b4",
        "collapsed": true
      },
      "execution_count": null,
      "outputs": [
        {
          "output_type": "stream",
          "name": "stdout",
          "text": [
            "3psKHZxiustdzigWya7c\n",
            "Retrieving historical data\n",
            "index: 0/1216, ticker: BWA, start: 2011-12-19, stop: 2024-07-08\n",
            "index: 1/1216, ticker: VIAB, start: 2006-01-03, stop: 2019-11-21\n",
            "index: 2/1216, ticker: ATGE, start: 2009-06-09, stop: 2012-09-25\n",
            "index: 3/1216, ticker: SLM, start: 1998-07-01, stop: 2014-04-22\n",
            "index: 4/1216, ticker: QCOM, start: 1999-07-22, stop: 2024-07-08\n",
            "index: 5/1216, ticker: EP, start: 1999-10-26, stop: 2012-05-23\n",
            "index: 6/1216, ticker: TPR, start: 2004-09-01, stop: 2024-07-08\n",
            "index: 7/1216, ticker: TDG, start: 2016-06-03, stop: 2024-07-08\n",
            "index: 8/1216, ticker: GP, start: 1996-01-02, stop: 2005-12-16\n",
            "index: 9/1216, ticker: SII, start: 2006-10-02, stop: 2010-08-19\n",
            "index: 10/1216, ticker: EFX, start: 1997-06-19, stop: 2024-07-08\n",
            "index: 11/1216, ticker: ANDW, start: 1996-01-02, stop: 2006-09-28\n",
            "index: 12/1216, ticker: FLIR, start: 2009-01-02, stop: 2021-04-20\n",
            "index: 13/1216, ticker: BAC, start: 1996-01-02, stop: 2024-07-08\n",
            "index: 14/1216, ticker: USBC, start: 1996-01-02, stop: 1997-08-01\n",
            "index: 15/1216, ticker: DOW, start: 1996-01-02, stop: 2017-08-31\n",
            "index: 16/1216, ticker: DOW, start: 2019-04-02, stop: 2024-07-08\n",
            "index: 17/1216, ticker: BBBY, start: 1999-10-01, stop: 2017-07-25\n",
            "index: 18/1216, ticker: OM, start: 1996-01-02, stop: 1996-09-30\n",
            "index: 19/1216, ticker: UST, start: 1996-01-02, stop: 2009-01-05\n",
            "index: 20/1216, ticker: ABS, start: 1996-01-02, stop: 2006-05-31\n",
            "index: 21/1216, ticker: AT, start: 1996-01-02, stop: 2007-11-16\n",
            "index: 22/1216, ticker: XLNX, start: 1999-11-08, stop: 2022-02-02\n",
            "index: 23/1216, ticker: WRB, start: 2019-12-05, stop: 2024-07-08\n",
            "index: 24/1216, ticker: FFIV, start: 2010-12-20, stop: 2024-07-08\n",
            "index: 25/1216, ticker: AYI, start: 2016-05-03, stop: 2018-06-15\n",
            "index: 26/1216, ticker: BMET, start: 1996-01-02, stop: 2007-07-10\n",
            "index: 27/1216, ticker: DF, start: 2006-04-03, stop: 2013-05-17\n",
            "index: 28/1216, ticker: AL, start: 1996-01-02, stop: 2002-07-18\n",
            "index: 29/1216, ticker: KMX, start: 2010-06-28, stop: 2024-07-08\n",
            "index: 30/1216, ticker: EW, start: 2011-04-01, stop: 2024-07-08\n",
            "index: 31/1216, ticker: MAR, start: 1998-05-21, stop: 2024-07-08\n",
            "index: 32/1216, ticker: BIIB, start: 2003-11-13, stop: 2024-07-08\n",
            "index: 33/1216, ticker: ENRNQ, start: 1996-01-02, stop: 2001-11-26\n",
            "index: 34/1216, ticker: MCO, start: 1996-01-02, stop: 2024-07-08\n",
            "index: 35/1216, ticker: MRK, start: 1996-01-02, stop: 2024-07-08\n",
            "index: 36/1216, ticker: DAL, start: 2013-09-11, stop: 2024-07-08\n",
            "index: 37/1216, ticker: DISH, start: 2017-03-13, stop: 2023-06-10\n",
            "index: 38/1216, ticker: EMN, start: 1996-01-02, stop: 2024-07-08\n",
            "index: 39/1216, ticker: TDC, start: 2007-10-01, stop: 2017-06-16\n",
            "index: 40/1216, ticker: MEL, start: 1996-01-02, stop: 2007-06-26\n",
            "index: 41/1216, ticker: ES, start: 2009-03-17, stop: 2024-07-08\n",
            "index: 42/1216, ticker: HFC, start: 2018-06-18, stop: 2021-05-14\n",
            "index: 43/1216, ticker: SBNY, start: 2021-12-20, stop: 2023-01-04\n",
            "index: 44/1216, ticker: DGN, start: 1996-01-02, stop: 1999-10-12\n",
            "index: 45/1216, ticker: F, start: 1996-01-02, stop: 2024-07-08\n",
            "index: 46/1216, ticker: OK, start: 1999-12-02, stop: 2001-03-30\n",
            "index: 47/1216, ticker: LU, start: 1996-10-01, stop: 2006-11-22\n",
            "index: 48/1216, ticker: TXN, start: 1996-01-02, stop: 2024-07-08\n",
            "index: 49/1216, ticker: CMCSK, start: 2015-09-21, stop: 2015-12-09\n",
            "index: 50/1216, ticker: RBD, start: 1996-01-02, stop: 1999-03-24\n",
            "index: 51/1216, ticker: AMT, start: 2007-11-19, stop: 2024-07-08\n",
            "index: 52/1216, ticker: TRMB, start: 2021-01-21, stop: 2024-07-08\n",
            "index: 53/1216, ticker: FIS, start: 2006-11-10, stop: 2024-07-08\n",
            "index: 54/1216, ticker: MMM, start: 1996-01-02, stop: 2024-07-08\n",
            "index: 55/1216, ticker: RIG, start: 1999-12-31, stop: 2008-12-16\n",
            "index: 56/1216, ticker: RIG, start: 2013-10-29, stop: 2017-07-25\n",
            "index: 57/1216, ticker: NOW, start: 2019-11-21, stop: 2024-07-08\n",
            "index: 58/1216, ticker: CZR, start: 2021-03-22, stop: 2024-07-08\n",
            "index: 59/1216, ticker: MTB, start: 2004-02-27, stop: 2024-07-08\n",
            "index: 60/1216, ticker: SAPE, start: 2000-05-05, stop: 2002-05-10\n",
            "index: 61/1216, ticker: GWW, start: 1996-01-02, stop: 2024-07-08\n",
            "index: 62/1216, ticker: SRCL, start: 2008-11-19, stop: 2018-11-29\n",
            "index: 63/1216, ticker: AMAT, start: 1996-01-02, stop: 2024-07-08\n",
            "index: 64/1216, ticker: AGN, start: 1996-01-02, stop: 2020-04-06\n",
            "index: 65/1216, ticker: INVH, start: 2022-09-19, stop: 2024-07-08\n",
            "index: 66/1216, ticker: IEX, start: 2019-08-09, stop: 2024-07-08\n",
            "index: 67/1216, ticker: RE, start: 2017-06-19, stop: 2023-06-07\n",
            "index: 68/1216, ticker: GOOG, start: 2014-04-03, stop: 2024-07-08\n",
            "index: 69/1216, ticker: BBT, start: 1997-12-04, stop: 2019-12-05\n",
            "index: 70/1216, ticker: NCLH, start: 2017-10-13, stop: 2024-07-08\n",
            "index: 71/1216, ticker: STX, start: 2012-07-02, stop: 2024-07-08\n",
            "index: 72/1216, ticker: LH, start: 2004-11-01, stop: 2024-07-08\n",
            "index: 73/1216, ticker: IAC, start: 2006-12-01, stop: 2008-08-18\n",
            "index: 74/1216, ticker: GLK, start: 1996-01-02, stop: 2005-06-30\n",
            "index: 75/1216, ticker: MEDI, start: 2000-06-16, stop: 2007-05-31\n",
            "index: 76/1216, ticker: ABBV, start: 2013-01-02, stop: 2024-07-08\n",
            "index: 77/1216, ticker: QEP, start: 2010-07-01, stop: 2015-06-30\n",
            "index: 78/1216, ticker: CSGP, start: 2022-09-19, stop: 2024-07-08\n",
            "index: 79/1216, ticker: CRWD, start: 2024-06-24, stop: 2024-07-08\n",
            "index: 80/1216, ticker: DG, start: 1998-07-16, stop: 2007-07-06\n",
            "index: 81/1216, ticker: DG, start: 2012-12-03, stop: 2024-07-08\n",
            "index: 82/1216, ticker: TIF, start: 2000-06-21, stop: 2020-12-21\n",
            "index: 83/1216, ticker: CTAS, start: 2001-03-01, stop: 2024-07-08\n",
            "index: 84/1216, ticker: MOLX, start: 1999-12-01, stop: 2013-12-03\n",
            "index: 85/1216, ticker: NRG, start: 2010-01-29, stop: 2024-07-08\n",
            "index: 86/1216, ticker: CELG, start: 2006-11-06, stop: 2019-11-05\n",
            "index: 87/1216, ticker: CPGX, start: 2015-07-02, stop: 2016-06-27\n",
            "index: 88/1216, ticker: EVRG, start: 2018-06-05, stop: 2024-07-08\n",
            "index: 89/1216, ticker: PARA, start: 2022-02-17, stop: 2024-07-08\n",
            "index: 90/1216, ticker: CAM, start: 2008-01-29, stop: 2016-03-31\n",
            "index: 91/1216, ticker: CMB, start: 1996-01-02, stop: 1996-03-29\n",
            "index: 92/1216, ticker: ED, start: 1996-01-02, stop: 2024-07-08\n",
            "index: 93/1216, ticker: JWN, start: 1996-01-02, stop: 2020-05-22\n",
            "index: 94/1216, ticker: MKG, start: 1996-01-02, stop: 2000-10-17\n",
            "index: 95/1216, ticker: RCL, start: 2014-12-05, stop: 2024-07-08\n",
            "index: 96/1216, ticker: MMI, start: 2011-01-04, stop: 2012-05-15\n",
            "index: 97/1216, ticker: CYM, start: 1996-01-02, stop: 1999-10-14\n",
            "index: 98/1216, ticker: ELV, start: 2022-06-28, stop: 2024-07-08\n",
            "index: 99/1216, ticker: MXIM, start: 2000-05-10, stop: 2007-09-26\n",
            "index: 100/1216, ticker: MXIM, start: 2018-12-03, stop: 2021-08-03\n",
            "index: 101/1216, ticker: CITGQ, start: 2004-10-27, stop: 2009-07-17\n",
            "index: 102/1216, ticker: CCU, start: 1997-09-02, stop: 2008-07-29\n",
            "index: 103/1216, ticker: FI, start: 2023-06-07, stop: 2024-07-08\n",
            "index: 104/1216, ticker: L, start: 1996-01-02, stop: 2024-07-08\n",
            "index: 105/1216, ticker: FLMIQ, start: 1996-01-02, stop: 1997-12-19\n",
            "index: 106/1216, ticker: GHC, start: 2007-12-31, stop: 2014-09-19\n",
            "index: 107/1216, ticker: UNM, start: 1996-01-02, stop: 2021-08-30\n",
            "index: 108/1216, ticker: EMC, start: 1996-03-28, stop: 2016-09-06\n",
            "index: 109/1216, ticker: HLT, start: 1996-01-02, stop: 2007-10-24\n",
            "index: 110/1216, ticker: HLT, start: 2017-06-19, stop: 2024-07-08\n",
            "index: 111/1216, ticker: BNI, start: 1996-01-02, stop: 2010-02-10\n",
            "index: 112/1216, ticker: FSH, start: 2004-08-03, stop: 2006-11-07\n",
            "index: 113/1216, ticker: CNX, start: 2006-06-28, stop: 2016-03-03\n",
            "index: 114/1216, ticker: MO, start: 1996-01-02, stop: 2024-07-08\n",
            "index: 115/1216, ticker: FITB, start: 1996-03-08, stop: 2024-07-08\n",
            "index: 116/1216, ticker: PSA, start: 2005-08-19, stop: 2024-07-08\n",
            "index: 117/1216, ticker: ITW, start: 1996-01-02, stop: 2024-07-08\n",
            "index: 118/1216, ticker: RAL, start: 1996-01-02, stop: 2001-12-06\n",
            "index: 119/1216, ticker: GGP, start: 2007-07-02, stop: 2008-11-12\n",
            "index: 120/1216, ticker: GGP, start: 2013-12-10, stop: 2018-08-20\n",
            "index: 121/1216, ticker: KRFT, start: 2012-10-02, stop: 2015-07-02\n",
            "index: 122/1216, ticker: LYV, start: 2019-12-23, stop: 2024-07-08\n",
            "index: 123/1216, ticker: AES, start: 1998-10-02, stop: 2024-07-08\n",
            "index: 124/1216, ticker: RMD, start: 2017-07-26, stop: 2024-07-08\n",
            "index: 125/1216, ticker: KMI, start: 2000-12-12, stop: 2007-05-24\n",
            "index: 126/1216, ticker: KMI, start: 2012-05-25, stop: 2024-07-08\n",
            "index: 127/1216, ticker: HBAN, start: 1997-08-06, stop: 2024-07-08\n",
            "index: 128/1216, ticker: KMG, start: 1996-01-02, stop: 2006-08-10\n",
            "index: 129/1216, ticker: TEG, start: 2007-02-22, stop: 2015-06-24\n",
            "index: 130/1216, ticker: CSRA, start: 2015-11-30, stop: 2018-04-02\n",
            "index: 131/1216, ticker: PHA, start: 1996-01-02, stop: 2003-04-07\n",
            "index: 132/1216, ticker: K, start: 1996-01-02, stop: 2024-07-08\n",
            "index: 133/1216, ticker: VMC, start: 1999-07-01, stop: 2024-07-08\n",
            "index: 134/1216, ticker: CSE, start: 1996-01-22, stop: 1999-11-12\n",
            "index: 135/1216, ticker: WMT, start: 1996-01-02, stop: 2024-07-08\n",
            "index: 136/1216, ticker: ASC, start: 1996-01-02, stop: 1999-06-23\n",
            "index: 137/1216, ticker: SLR, start: 1998-12-31, stop: 2007-10-01\n",
            "index: 138/1216, ticker: PD, start: 1996-01-02, stop: 2007-03-16\n",
            "index: 139/1216, ticker: CHA, start: 1996-01-02, stop: 2000-06-16\n",
            "index: 140/1216, ticker: AMCC, start: 2001-01-02, stop: 2006-05-10\n",
            "index: 141/1216, ticker: PET, start: 1996-01-02, stop: 1998-06-26\n",
            "index: 142/1216, ticker: NDSN, start: 2022-02-15, stop: 2024-07-08\n",
            "index: 143/1216, ticker: HOLX, start: 2016-03-30, stop: 2024-07-08\n",
            "index: 144/1216, ticker: DPHIQ, start: 1999-05-28, stop: 2005-10-10\n",
            "index: 145/1216, ticker: CAT, start: 1996-01-02, stop: 2024-07-08\n",
            "index: 146/1216, ticker: TWC, start: 2009-03-30, stop: 2016-05-17\n",
            "index: 147/1216, ticker: HAS, start: 1996-01-02, stop: 2024-07-08\n",
            "index: 148/1216, ticker: DD, start: 1996-01-02, stop: 2017-08-31\n",
            "index: 149/1216, ticker: DD, start: 2019-06-03, stop: 2024-07-08\n",
            "index: 150/1216, ticker: IR, start: 1996-01-02, stop: 2009-06-30\n",
            "index: 151/1216, ticker: IR, start: 2010-11-17, stop: 2024-07-08\n",
            "index: 152/1216, ticker: HSIC, start: 2015-03-18, stop: 2024-07-08\n",
            "index: 153/1216, ticker: UIS, start: 1996-01-02, stop: 2008-11-07\n",
            "index: 154/1216, ticker: KBH, start: 1996-01-02, stop: 2009-12-17\n",
            "index: 155/1216, ticker: BSC, start: 1998-07-01, stop: 2008-05-29\n",
            "index: 156/1216, ticker: QTRN, start: 1999-11-16, stop: 2003-09-16\n",
            "index: 157/1216, ticker: WFM, start: 2006-01-03, stop: 2017-08-17\n",
            "index: 158/1216, ticker: SNI, start: 2008-07-01, stop: 2018-02-28\n",
            "index: 159/1216, ticker: MSCI, start: 2018-04-04, stop: 2024-07-08\n",
            "index: 160/1216, ticker: WAB, start: 2019-02-27, stop: 2024-07-08\n",
            "index: 161/1216, ticker: EBAY, start: 2002-07-22, stop: 2024-07-08\n",
            "index: 162/1216, ticker: ADP, start: 1996-01-02, stop: 2024-07-08\n",
            "index: 163/1216, ticker: IQV, start: 2017-08-29, stop: 2024-07-08\n",
            "index: 164/1216, ticker: AIG, start: 1996-01-02, stop: 2024-07-08\n",
            "index: 165/1216, ticker: PSX, start: 2012-05-01, stop: 2024-07-08\n",
            "index: 166/1216, ticker: NVR, start: 2019-09-26, stop: 2024-07-08\n",
            "index: 167/1216, ticker: SRR, start: 1996-01-02, stop: 1997-10-06\n",
            "index: 168/1216, ticker: CVC, start: 2010-12-20, stop: 2016-06-20\n",
            "index: 169/1216, ticker: MDP, start: 1996-01-02, stop: 2010-12-31\n",
            "index: 170/1216, ticker: COO, start: 2016-09-23, stop: 2024-07-08\n",
            "index: 171/1216, ticker: STR, start: 2006-12-01, stop: 2010-06-29\n",
            "index: 172/1216, ticker: CTVA, start: 2019-06-03, stop: 2024-07-08\n",
            "index: 173/1216, ticker: KR, start: 1996-01-02, stop: 2024-07-08\n",
            "index: 174/1216, ticker: COC.B, start: 1999-08-09, stop: 2002-08-29\n",
            "index: 175/1216, ticker: ACS, start: 2004-04-02, stop: 2010-02-02\n",
            "index: 176/1216, ticker: DALRQ, start: 1996-01-02, stop: 2005-08-18\n",
            "index: 177/1216, ticker: ULTA, start: 2016-04-18, stop: 2024-07-08\n",
            "index: 178/1216, ticker: BF.B, start: 1996-01-02, stop: 2024-07-08\n",
            "index: 179/1216, ticker: NCE, start: 1998-11-03, stop: 2000-08-17\n",
            "index: 180/1216, ticker: LB, start: 1996-01-02, stop: 2021-07-21\n",
            "index: 181/1216, ticker: NBL, start: 2007-10-08, stop: 2020-10-07\n",
            "index: 182/1216, ticker: SBUX, start: 2000-06-08, stop: 2024-07-08\n",
            "index: 183/1216, ticker: NSI, start: 1996-01-02, stop: 2001-11-30\n",
            "index: 184/1216, ticker: WEN, start: 1996-01-02, stop: 2008-09-26\n",
            "index: 185/1216, ticker: ABC, start: 2001-08-30, stop: 2023-08-25\n",
            "index: 186/1216, ticker: SEG, start: 1996-08-16, stop: 2000-11-20\n",
            "index: 187/1216, ticker: STLD, start: 2022-12-22, stop: 2024-07-08\n",
            "index: 188/1216, ticker: FCN, start: 1996-01-02, stop: 1998-10-01\n",
            "index: 189/1216, ticker: ADSK, start: 1996-01-02, stop: 2024-07-08\n",
            "index: 190/1216, ticker: BJS, start: 2002-05-15, stop: 2010-04-21\n",
            "index: 191/1216, ticker: ANDV, start: 2007-09-27, stop: 2018-09-24\n",
            "index: 192/1216, ticker: EFU, start: 1996-01-02, stop: 2000-10-30\n",
            "index: 193/1216, ticker: KORS, start: 2013-11-13, stop: 2018-09-18\n",
            "index: 194/1216, ticker: MSI, start: 1996-01-02, stop: 2024-07-08\n",
            "index: 195/1216, ticker: AMZN, start: 2005-11-21, stop: 2024-07-08\n",
            "index: 196/1216, ticker: KIM, start: 2006-04-03, stop: 2024-07-08\n",
            "index: 197/1216, ticker: PEL, start: 1996-01-02, stop: 1997-06-18\n",
            "index: 198/1216, ticker: MTW, start: 2007-11-16, stop: 2009-08-31\n",
            "index: 199/1216, ticker: GDDY, start: 2024-06-24, stop: 2024-07-08\n",
            "index: 200/1216, ticker: SIAL, start: 1996-01-02, stop: 2015-11-17\n",
            "index: 201/1216, ticker: DCNAQ, start: 1996-01-02, stop: 2006-03-02\n",
            "index: 202/1216, ticker: SOV, start: 2004-07-01, stop: 2009-01-28\n",
            "index: 203/1216, ticker: LNT, start: 2016-07-01, stop: 2024-07-08\n",
            "index: 204/1216, ticker: GNT, start: 1996-03-13, stop: 1998-06-30\n",
            "index: 205/1216, ticker: BGEN, start: 2000-01-31, stop: 2003-11-12\n",
            "index: 206/1216, ticker: FTI, start: 2009-06-05, stop: 2021-01-21\n",
            "index: 207/1216, ticker: BDK, start: 1996-01-02, stop: 2010-03-11\n",
            "index: 208/1216, ticker: CVG, start: 2000-06-13, stop: 2009-12-17\n",
            "index: 209/1216, ticker: MERQ, start: 2000-06-29, stop: 2006-01-03\n",
            "index: 210/1216, ticker: EOG, start: 2000-11-02, stop: 2024-07-08\n",
            "index: 211/1216, ticker: GILD, start: 2004-07-01, stop: 2024-07-08\n",
            "index: 212/1216, ticker: EQ, start: 2006-05-18, stop: 2009-06-30\n",
            "index: 213/1216, ticker: TIN, start: 1996-01-02, stop: 2007-12-27\n",
            "index: 214/1216, ticker: KM, start: 1996-01-02, stop: 2002-01-15\n",
            "index: 215/1216, ticker: RATL, start: 2002-02-01, stop: 2003-02-18\n",
            "index: 216/1216, ticker: HAR, start: 2006-02-01, stop: 2017-03-10\n",
            "index: 217/1216, ticker: GNW, start: 2005-12-02, stop: 2015-11-17\n",
            "index: 218/1216, ticker: TIE, start: 2007-10-29, stop: 2012-12-21\n",
            "index: 219/1216, ticker: KRB, start: 1996-01-02, stop: 2005-12-29\n",
            "index: 220/1216, ticker: HCP, start: 2008-03-31, stop: 2019-10-18\n",
            "index: 221/1216, ticker: EPAM, start: 2021-12-14, stop: 2024-07-08\n",
            "index: 222/1216, ticker: HSH, start: 1996-01-02, stop: 2012-06-25\n",
            "index: 223/1216, ticker: AON, start: 1996-04-23, stop: 2024-07-08\n",
            "index: 224/1216, ticker: CAR, start: 1996-01-02, stop: 2006-07-31\n",
            "index: 225/1216, ticker: NWS, start: 2015-09-21, stop: 2024-07-08\n",
            "index: 226/1216, ticker: DUK, start: 1996-01-02, stop: 2024-07-08\n",
            "index: 227/1216, ticker: YNR, start: 2000-01-06, stop: 2000-10-02\n",
            "index: 228/1216, ticker: AZO, start: 1997-01-02, stop: 2024-07-08\n",
            "index: 229/1216, ticker: WOR, start: 1996-01-02, stop: 2004-12-16\n",
            "index: 230/1216, ticker: HIG, start: 1996-01-02, stop: 2024-07-08\n",
            "index: 231/1216, ticker: PWER, start: 2000-10-23, stop: 2005-03-09\n",
            "index: 232/1216, ticker: SBAC, start: 2017-09-01, stop: 2024-07-08\n",
            "index: 233/1216, ticker: IP, start: 1996-01-02, stop: 2024-07-08\n",
            "index: 234/1216, ticker: ASN, start: 2004-12-20, stop: 2007-10-04\n",
            "index: 235/1216, ticker: PNU, start: 1996-01-02, stop: 2000-03-29\n",
            "index: 236/1216, ticker: TXU, start: 1996-01-02, stop: 2007-10-09\n",
            "index: 237/1216, ticker: TEX, start: 2006-12-20, stop: 2008-11-05\n",
            "index: 238/1216, ticker: PH, start: 1996-01-02, stop: 2024-07-08\n",
            "index: 239/1216, ticker: REGN, start: 2013-05-01, stop: 2024-07-08\n",
            "index: 240/1216, ticker: RX, start: 1996-11-04, stop: 2010-02-23\n",
            "index: 241/1216, ticker: STO, start: 1996-01-02, stop: 1998-11-17\n",
            "index: 242/1216, ticker: HST, start: 2007-03-20, stop: 2024-07-08\n",
            "index: 243/1216, ticker: NKTR, start: 2018-03-19, stop: 2019-09-26\n",
            "index: 244/1216, ticker: IPG, start: 1996-01-02, stop: 2024-07-08\n",
            "index: 245/1216, ticker: LULU, start: 2023-10-18, stop: 2024-07-08\n",
            "index: 246/1216, ticker: BC, start: 1996-01-02, stop: 2008-06-18\n",
            "index: 247/1216, ticker: FMCC, start: 1996-01-02, stop: 2008-09-08\n",
            "index: 248/1216, ticker: NLSN, start: 2013-07-09, stop: 2022-10-03\n",
            "index: 249/1216, ticker: KSU, start: 1999-04-05, stop: 2000-07-10\n",
            "index: 250/1216, ticker: KSU, start: 2013-05-24, stop: 2021-10-04\n",
            "index: 251/1216, ticker: PALM, start: 2000-07-28, stop: 2002-08-09\n",
            "index: 252/1216, ticker: AVB, start: 2007-01-10, stop: 2024-07-08\n",
            "index: 253/1216, ticker: PYPL, start: 2015-07-20, stop: 2024-07-08\n",
            "index: 254/1216, ticker: NBR, start: 2000-10-18, stop: 2015-03-19\n",
            "index: 255/1216, ticker: UDR, start: 2016-03-07, stop: 2024-07-08\n",
            "index: 256/1216, ticker: IPGP, start: 2018-03-07, stop: 2022-06-09\n",
            "index: 257/1216, ticker: OGN, start: 2021-06-04, stop: 2023-10-02\n",
            "index: 258/1216, ticker: TDM, start: 1996-01-02, stop: 1997-08-26\n",
            "index: 259/1216, ticker: CNP, start: 1996-01-02, stop: 2024-07-08\n",
            "index: 260/1216, ticker: LDW.B, start: 1996-01-02, stop: 1999-12-07\n",
            "index: 261/1216, ticker: ETSY, start: 2020-09-21, stop: 2024-07-08\n",
            "index: 262/1216, ticker: HWM, start: 2020-04-06, stop: 2024-07-08\n",
            "index: 263/1216, ticker: SHN, start: 1996-01-02, stop: 1996-12-27\n",
            "index: 264/1216, ticker: XRX, start: 1996-01-02, stop: 2021-02-12\n",
            "index: 265/1216, ticker: COST, start: 1996-01-02, stop: 2024-07-08\n",
            "index: 266/1216, ticker: AXP, start: 1996-01-02, stop: 2024-07-08\n",
            "index: 267/1216, ticker: INGR, start: 1996-01-02, stop: 1997-07-25\n",
            "index: 268/1216, ticker: RDS.A, start: 1996-01-02, stop: 2002-07-18\n",
            "index: 269/1216, ticker: BUD, start: 1996-01-02, stop: 2008-11-17\n",
            "index: 270/1216, ticker: EC, start: 1996-01-02, stop: 2006-06-05\n",
            "index: 271/1216, ticker: MPC, start: 2011-07-01, stop: 2024-07-08\n",
            "index: 272/1216, ticker: BK, start: 1996-01-02, stop: 2024-07-08\n",
            "index: 273/1216, ticker: C, start: 1996-01-02, stop: 2024-07-08\n",
            "index: 274/1216, ticker: BTUUQ, start: 2006-11-20, stop: 2014-09-19\n",
            "index: 275/1216, ticker: CMCSA, start: 1996-01-02, stop: 2024-07-08\n",
            "index: 276/1216, ticker: RVTY, start: 2023-05-16, stop: 2024-07-08\n",
            "index: 277/1216, ticker: FDX, start: 1996-01-02, stop: 2024-07-08\n",
            "index: 278/1216, ticker: CTL, start: 1999-03-25, stop: 2020-06-22\n",
            "index: 279/1216, ticker: BLK, start: 2011-04-04, stop: 2024-07-08\n",
            "index: 280/1216, ticker: CERN, start: 2010-04-30, stop: 2022-05-10\n",
            "index: 281/1216, ticker: AVGO, start: 2014-05-08, stop: 2024-07-08\n",
            "index: 282/1216, ticker: FBO, start: 1996-01-02, stop: 1996-03-12\n",
            "index: 283/1216, ticker: VNO, start: 2005-08-12, stop: 2022-12-22\n",
            "index: 284/1216, ticker: DVA, start: 2008-07-31, stop: 2024-07-08\n",
            "index: 285/1216, ticker: APOL, start: 2002-05-15, stop: 2013-06-27\n",
            "index: 286/1216, ticker: DNR, start: 2009-04-02, stop: 2015-03-19\n",
            "index: 287/1216, ticker: SIG, start: 2015-07-29, stop: 2018-03-16\n",
            "index: 288/1216, ticker: ETS, start: 1996-01-02, stop: 2001-08-03\n",
            "index: 289/1216, ticker: DTV, start: 2006-12-04, stop: 2015-07-23\n",
            "index: 290/1216, ticker: BLY, start: 1996-01-02, stop: 1996-12-18\n",
            "index: 291/1216, ticker: AWK, start: 2016-03-04, stop: 2024-07-08\n",
            "index: 292/1216, ticker: ALTR, start: 2000-04-18, stop: 2015-12-21\n",
            "index: 293/1216, ticker: SK, start: 1996-01-02, stop: 1998-03-30\n",
            "index: 294/1216, ticker: BLS, start: 1996-01-02, stop: 2006-12-29\n",
            "index: 295/1216, ticker: UVN, start: 2001-02-07, stop: 2007-03-28\n",
            "index: 296/1216, ticker: ANTM, start: 2002-07-25, stop: 2022-06-21\n",
            "index: 297/1216, ticker: CTSH, start: 2006-11-17, stop: 2024-07-08\n",
            "index: 298/1216, ticker: SE, start: 2007-01-03, stop: 2017-02-24\n",
            "index: 299/1216, ticker: AW, start: 1999-08-02, stop: 2008-12-04\n",
            "index: 300/1216, ticker: GS, start: 2002-07-22, stop: 2024-07-08\n",
            "index: 301/1216, ticker: AVY, start: 1996-01-02, stop: 2024-07-08\n",
            "index: 302/1216, ticker: BSX, start: 1996-01-02, stop: 2024-07-08\n",
            "index: 303/1216, ticker: IRM, start: 2009-01-06, stop: 2024-07-08\n",
            "index: 304/1216, ticker: DDR, start: 2007-03-23, stop: 2009-03-27\n",
            "index: 305/1216, ticker: CAH, start: 1997-05-27, stop: 2024-07-08\n",
            "index: 306/1216, ticker: XRAY, start: 2008-11-14, stop: 2024-03-25\n",
            "index: 307/1216, ticker: FISV, start: 2001-04-02, stop: 2023-05-16\n",
            "index: 308/1216, ticker: WPX, start: 2012-01-03, stop: 2014-03-12\n",
            "index: 309/1216, ticker: ABX, start: 1996-01-02, stop: 2002-07-18\n",
            "index: 310/1216, ticker: JNJ, start: 1996-01-02, stop: 2024-07-08\n",
            "index: 311/1216, ticker: NOC, start: 1996-01-02, stop: 2024-07-08\n",
            "index: 312/1216, ticker: ADI, start: 1999-10-12, stop: 2024-07-08\n",
            "index: 313/1216, ticker: BHMSQ, start: 1996-01-02, stop: 2000-12-08\n",
            "index: 314/1216, ticker: GEHC, start: 2023-01-04, stop: 2024-07-08\n",
            "index: 315/1216, ticker: DFS, start: 2007-07-02, stop: 2024-07-08\n",
            "index: 316/1216, ticker: LW, start: 2018-12-03, stop: 2024-07-08\n",
            "index: 317/1216, ticker: WLP, start: 1999-06-09, stop: 2004-11-26\n",
            "index: 318/1216, ticker: LKQ, start: 2016-05-23, stop: 2024-07-08\n",
            "index: 319/1216, ticker: TRW, start: 1996-01-02, stop: 2002-12-09\n",
            "index: 320/1216, ticker: PCAR, start: 1996-01-02, stop: 2024-07-08\n",
            "index: 321/1216, ticker: XEL, start: 1996-01-02, stop: 2024-07-08\n",
            "index: 322/1216, ticker: Q, start: 2000-07-06, stop: 2011-03-23\n",
            "index: 323/1216, ticker: ACV, start: 1996-01-02, stop: 2006-11-16\n",
            "index: 324/1216, ticker: PHM, start: 1996-01-02, stop: 2024-07-08\n",
            "index: 325/1216, ticker: MMC, start: 1996-01-02, stop: 2024-07-08\n",
            "index: 326/1216, ticker: GL, start: 2019-08-08, stop: 2024-07-08\n",
            "index: 327/1216, ticker: APH, start: 2008-09-30, stop: 2024-07-08\n",
            "index: 328/1216, ticker: ADCT, start: 1999-08-02, stop: 2007-06-26\n",
            "index: 329/1216, ticker: J, start: 2019-12-10, stop: 2024-07-08\n",
            "index: 330/1216, ticker: ZBH, start: 2001-08-07, stop: 2024-07-08\n",
            "index: 331/1216, ticker: ORLY, start: 2009-03-27, stop: 2024-07-08\n",
            "index: 332/1216, ticker: NAVI, start: 2014-05-01, stop: 2018-06-01\n",
            "index: 333/1216, ticker: FSL, start: 2004-12-03, stop: 2006-12-01\n",
            "index: 334/1216, ticker: BRL, start: 2006-02-27, stop: 2008-12-22\n",
            "index: 335/1216, ticker: ACKH, start: 1996-01-02, stop: 2000-11-08\n",
            "index: 336/1216, ticker: GIDL, start: 1996-01-02, stop: 1997-07-09\n",
            "index: 337/1216, ticker: TCOMA, start: 1996-01-02, stop: 1999-03-08\n",
            "index: 338/1216, ticker: DNB, start: 2008-12-02, stop: 2017-04-04\n",
            "index: 339/1216, ticker: TYL, start: 2020-06-22, stop: 2024-07-08\n",
            "index: 340/1216, ticker: LLX, start: 1996-01-02, stop: 1997-10-14\n",
            "index: 341/1216, ticker: LVS, start: 2019-10-03, stop: 2024-07-08\n",
            "index: 342/1216, ticker: NEE, start: 1996-01-02, stop: 2024-07-08\n",
            "index: 343/1216, ticker: DE, start: 1996-01-02, stop: 2024-07-08\n",
            "index: 344/1216, ticker: APA, start: 1997-07-28, stop: 2024-07-08\n",
            "index: 345/1216, ticker: FHN, start: 2002-05-06, stop: 2013-06-19\n",
            "index: 346/1216, ticker: HET, start: 1996-01-02, stop: 2008-01-24\n",
            "index: 347/1216, ticker: STJ, start: 1996-01-02, stop: 2017-01-03\n",
            "index: 348/1216, ticker: WLTW, start: 2016-01-05, stop: 2021-12-20\n",
            "index: 349/1216, ticker: FSLR, start: 2009-10-16, stop: 2017-03-17\n",
            "index: 350/1216, ticker: FSLR, start: 2022-12-19, stop: 2024-07-08\n",
            "index: 351/1216, ticker: RDC, start: 1996-01-02, stop: 2014-08-13\n",
            "index: 352/1216, ticker: RLM, start: 1996-01-02, stop: 2000-04-27\n",
            "index: 353/1216, ticker: JNY, start: 2001-12-17, stop: 2009-03-02\n",
            "index: 354/1216, ticker: INTC, start: 1996-01-02, stop: 2024-07-08\n",
            "index: 355/1216, ticker: DRI, start: 1996-01-02, stop: 2024-07-08\n",
            "index: 356/1216, ticker: MKTX, start: 2019-07-01, stop: 2024-07-08\n",
            "index: 357/1216, ticker: JAVA, start: 1996-01-02, stop: 2010-01-21\n",
            "index: 358/1216, ticker: THY, start: 1996-01-02, stop: 1996-10-08\n",
            "index: 359/1216, ticker: GRN, start: 1996-01-02, stop: 1998-12-14\n",
            "index: 360/1216, ticker: WBA, start: 1996-01-02, stop: 2024-07-08\n",
            "index: 361/1216, ticker: PFE, start: 1996-01-02, stop: 2024-07-08\n",
            "index: 362/1216, ticker: R, start: 1996-01-02, stop: 2017-06-16\n",
            "index: 363/1216, ticker: AMG, start: 2014-07-01, stop: 2019-12-10\n",
            "index: 364/1216, ticker: JNPR, start: 2006-06-02, stop: 2024-07-08\n",
            "index: 365/1216, ticker: ENDP, start: 2015-01-27, stop: 2017-03-01\n",
            "index: 366/1216, ticker: DWD, start: 1996-01-02, stop: 1997-05-30\n",
            "index: 367/1216, ticker: PGR, start: 1997-08-04, stop: 2024-07-08\n",
            "index: 368/1216, ticker: DISCK, start: 2014-08-07, stop: 2022-04-04\n",
            "index: 369/1216, ticker: PBY, start: 1996-01-02, stop: 2000-03-29\n",
            "index: 370/1216, ticker: VIAC, start: 2019-12-05, stop: 2022-02-15\n",
            "index: 371/1216, ticker: BBI, start: 1996-01-02, stop: 1998-01-05\n",
            "index: 372/1216, ticker: LHX, start: 2019-06-01, stop: 2024-07-08\n",
            "index: 373/1216, ticker: VLO, start: 2004-04-29, stop: 2024-07-08\n",
            "index: 374/1216, ticker: USH, start: 1996-01-02, stop: 1997-06-16\n",
            "index: 375/1216, ticker: EA, start: 2002-07-22, stop: 2024-07-08\n",
            "index: 376/1216, ticker: EDS, start: 1998-08-11, stop: 2008-08-25\n",
            "index: 377/1216, ticker: MTL, start: 1998-02-23, stop: 1999-09-17\n",
            "index: 378/1216, ticker: GDW, start: 1996-01-02, stop: 2006-09-28\n",
            "index: 379/1216, ticker: MWI, start: 1996-01-02, stop: 1999-05-19\n",
            "index: 380/1216, ticker: AZA.A, start: 1996-01-02, stop: 2001-06-20\n",
            "index: 381/1216, ticker: NXPI, start: 2021-03-22, stop: 2024-07-08\n",
            "index: 382/1216, ticker: TSG, start: 2000-03-16, stop: 2007-03-30\n",
            "index: 383/1216, ticker: ACGL, start: 2022-11-01, stop: 2024-07-08\n",
            "index: 384/1216, ticker: COF, start: 1998-07-01, stop: 2024-07-08\n",
            "index: 385/1216, ticker: PLL, start: 1996-01-02, stop: 2015-08-25\n",
            "index: 386/1216, ticker: MAY, start: 1996-01-02, stop: 2005-08-22\n",
            "index: 387/1216, ticker: WU, start: 2006-10-02, stop: 2021-12-14\n",
            "index: 388/1216, ticker: INFO, start: 2017-06-02, stop: 2022-02-17\n",
            "index: 389/1216, ticker: ANET, start: 2018-08-28, stop: 2024-07-08\n",
            "index: 390/1216, ticker: AN, start: 1996-01-02, stop: 1998-12-31\n",
            "index: 391/1216, ticker: AN, start: 2003-02-24, stop: 2017-08-07\n",
            "index: 392/1216, ticker: WELL, start: 2009-01-30, stop: 2024-07-08\n",
            "index: 393/1216, ticker: KEYS, start: 2018-11-06, stop: 2024-07-08\n",
            "index: 394/1216, ticker: PX, start: 1996-01-02, stop: 2018-10-25\n",
            "index: 395/1216, ticker: VO, start: 1996-01-02, stop: 2000-12-08\n",
            "index: 396/1216, ticker: UHS, start: 2014-09-22, stop: 2024-07-08\n",
            "index: 397/1216, ticker: TFC, start: 2019-12-09, stop: 2024-07-08\n",
            "index: 398/1216, ticker: BEV, start: 1996-01-02, stop: 1997-12-02\n",
            "index: 399/1216, ticker: CFC, start: 1997-06-18, stop: 2008-06-30\n",
            "index: 400/1216, ticker: AM, start: 1996-01-02, stop: 2004-04-30\n",
            "index: 401/1216, ticker: UPR, start: 1996-10-16, stop: 2000-07-14\n",
            "index: 402/1216, ticker: COTY, start: 2016-10-03, stop: 2020-09-18\n",
            "index: 403/1216, ticker: PKG, start: 2017-07-26, stop: 2024-07-08\n",
            "index: 404/1216, ticker: FLR, start: 2000-12-22, stop: 2019-06-01\n",
            "index: 405/1216, ticker: SWK, start: 1996-01-02, stop: 2024-07-08\n",
            "index: 406/1216, ticker: PEP, start: 1996-01-02, stop: 2024-07-08\n",
            "index: 407/1216, ticker: NSC, start: 1996-01-02, stop: 2024-07-08\n",
            "index: 408/1216, ticker: CBB, start: 1996-01-02, stop: 1998-01-26\n",
            "index: 409/1216, ticker: MWV, start: 1996-01-02, stop: 2015-07-01\n",
            "index: 410/1216, ticker: APD, start: 1996-01-02, stop: 2024-07-08\n",
            "index: 411/1216, ticker: BFI, start: 1996-01-02, stop: 1999-07-30\n",
            "index: 412/1216, ticker: ABKFQ, start: 2000-12-11, stop: 2008-06-10\n",
            "index: 413/1216, ticker: A, start: 2000-06-05, stop: 2024-07-08\n",
            "index: 414/1216, ticker: NOV, start: 2005-03-14, stop: 2021-08-30\n",
            "index: 415/1216, ticker: DHI, start: 2005-07-05, stop: 2024-07-08\n",
            "index: 416/1216, ticker: CCTYQ, start: 1996-01-02, stop: 2008-03-18\n",
            "index: 417/1216, ticker: UCM, start: 1996-01-02, stop: 2000-10-19\n",
            "index: 418/1216, ticker: DOV, start: 1996-01-02, stop: 2024-07-08\n",
            "index: 419/1216, ticker: AFL, start: 1999-05-28, stop: 2024-07-08\n",
            "index: 420/1216, ticker: POM, start: 2007-11-09, stop: 2016-03-18\n",
            "index: 421/1216, ticker: MOS, start: 2011-09-26, stop: 2024-07-08\n",
            "index: 422/1216, ticker: TRV, start: 1996-01-02, stop: 2024-07-08\n",
            "index: 423/1216, ticker: HUBB, start: 2023-10-18, stop: 2024-07-08\n",
            "index: 424/1216, ticker: AVP, start: 1996-01-02, stop: 2015-03-19\n",
            "index: 425/1216, ticker: FTV, start: 2016-07-05, stop: 2024-07-08\n",
            "index: 426/1216, ticker: CB, start: 1996-01-02, stop: 2024-07-08\n",
            "index: 427/1216, ticker: MNR, start: 1996-01-02, stop: 1998-09-24\n",
            "index: 428/1216, ticker: PGN, start: 1996-01-02, stop: 2012-06-29\n",
            "index: 429/1216, ticker: NE, start: 2001-01-16, stop: 2009-03-20\n",
            "index: 430/1216, ticker: NE, start: 2011-01-18, stop: 2015-07-15\n",
            "index: 431/1216, ticker: SGP, start: 1996-01-02, stop: 2009-10-29\n",
            "index: 432/1216, ticker: SYMC, start: 2003-03-31, stop: 2019-10-18\n",
            "index: 433/1216, ticker: URI, start: 2014-09-22, stop: 2024-07-08\n",
            "index: 434/1216, ticker: FICO, start: 2023-03-20, stop: 2024-07-08\n",
            "index: 435/1216, ticker: TEL, start: 2007-07-02, stop: 2009-06-25\n",
            "index: 436/1216, ticker: TEL, start: 2011-10-17, stop: 2024-07-08\n",
            "index: 437/1216, ticker: I, start: 1996-01-02, stop: 1996-03-29\n",
            "index: 438/1216, ticker: ESRX, start: 2003-09-26, stop: 2018-12-19\n",
            "index: 439/1216, ticker: NMK, start: 1996-01-02, stop: 2002-01-31\n",
            "index: 440/1216, ticker: DGX, start: 2002-12-12, stop: 2024-07-08\n",
            "index: 441/1216, ticker: ABI, start: 1996-01-02, stop: 2008-11-20\n",
            "index: 442/1216, ticker: HCA, start: 1996-01-02, stop: 2006-11-17\n",
            "index: 443/1216, ticker: HCA, start: 2015-01-27, stop: 2024-07-08\n",
            "index: 444/1216, ticker: PAC, start: 1996-01-02, stop: 1997-03-19\n",
            "index: 445/1216, ticker: BRO, start: 2021-09-20, stop: 2024-07-08\n",
            "index: 446/1216, ticker: FBHS, start: 2016-06-24, stop: 2022-11-08\n",
            "index: 447/1216, ticker: WCG, start: 2018-09-17, stop: 2019-12-23\n",
            "index: 448/1216, ticker: EKDKQ, start: 1996-01-02, stop: 2010-12-17\n",
            "index: 449/1216, ticker: MTLQQ, start: 1996-01-02, stop: 2009-05-29\n",
            "index: 450/1216, ticker: MUR, start: 2005-08-15, stop: 2017-07-25\n",
            "index: 451/1216, ticker: KMB, start: 1996-01-02, stop: 2024-07-08\n",
            "index: 452/1216, ticker: DXC, start: 1996-01-02, stop: 2015-11-30\n",
            "index: 453/1216, ticker: DXC, start: 2017-04-04, stop: 2023-09-18\n",
            "index: 454/1216, ticker: SIVB, start: 2018-03-19, stop: 2023-01-04\n",
            "index: 455/1216, ticker: HUM, start: 1996-01-02, stop: 2024-07-08\n",
            "index: 456/1216, ticker: GT, start: 1996-01-02, stop: 2019-02-15\n",
            "index: 457/1216, ticker: NFLX, start: 2010-12-20, stop: 2024-07-08\n",
            "index: 458/1216, ticker: SWY, start: 1998-11-13, stop: 2015-01-15\n",
            "index: 459/1216, ticker: TER, start: 1999-11-15, stop: 2013-12-18\n",
            "index: 460/1216, ticker: TER, start: 2020-09-21, stop: 2024-07-08\n",
            "index: 461/1216, ticker: DO, start: 2009-02-26, stop: 2016-09-28\n",
            "index: 462/1216, ticker: AIV, start: 2003-03-14, stop: 2020-11-17\n",
            "index: 463/1216, ticker: ALK, start: 2016-05-13, stop: 2023-10-02\n",
            "index: 464/1216, ticker: DOC, start: 2024-03-04, stop: 2024-07-08\n",
            "index: 465/1216, ticker: FWLT, start: 1996-01-02, stop: 2000-01-28\n",
            "index: 466/1216, ticker: IGT, start: 2001-09-04, stop: 2014-06-19\n",
            "index: 467/1216, ticker: RL, start: 2007-02-02, stop: 2024-07-08\n",
            "index: 468/1216, ticker: ETFC, start: 2004-04-01, stop: 2020-09-21\n",
            "index: 469/1216, ticker: TT, start: 2002-05-13, stop: 2008-06-05\n",
            "index: 470/1216, ticker: TT, start: 2020-03-03, stop: 2024-07-08\n",
            "index: 471/1216, ticker: ANF, start: 2007-03-29, stop: 2013-12-18\n",
            "index: 472/1216, ticker: AIT, start: 1996-01-02, stop: 1999-10-07\n",
            "index: 473/1216, ticker: AFS.A, start: 1998-04-08, stop: 2000-11-29\n",
            "index: 474/1216, ticker: TAP, start: 1996-01-02, stop: 2024-07-08\n",
            "index: 475/1216, ticker: EQT, start: 2008-12-19, stop: 2018-11-12\n",
            "index: 476/1216, ticker: EQT, start: 2022-10-03, stop: 2024-07-08\n",
            "index: 477/1216, ticker: KATE, start: 1996-01-02, stop: 2008-11-28\n",
            "index: 478/1216, ticker: CEG, start: 1996-01-02, stop: 2012-03-02\n",
            "index: 479/1216, ticker: CEG, start: 2022-02-02, stop: 2024-07-08\n",
            "index: 480/1216, ticker: CLF, start: 2009-12-21, stop: 2014-04-01\n",
            "index: 481/1216, ticker: CCB, start: 1996-01-02, stop: 1996-02-01\n",
            "index: 482/1216, ticker: NSM, start: 1996-01-02, stop: 2011-09-21\n",
            "index: 483/1216, ticker: LO, start: 2008-06-11, stop: 2015-06-11\n",
            "index: 484/1216, ticker: PHB, start: 1996-01-02, stop: 1999-10-01\n",
            "index: 485/1216, ticker: TRGP, start: 2022-10-12, stop: 2024-07-08\n",
            "index: 486/1216, ticker: CHK, start: 2006-03-03, stop: 2018-03-16\n",
            "index: 487/1216, ticker: GEV, start: 2024-04-03, stop: 2024-07-08\n",
            "index: 488/1216, ticker: ABNB, start: 2023-09-18, stop: 2024-07-08\n",
            "index: 489/1216, ticker: NVLS, start: 2000-06-19, stop: 2012-06-04\n",
            "index: 490/1216, ticker: HPC, start: 1996-01-02, stop: 2008-11-13\n",
            "index: 491/1216, ticker: AYE, start: 2000-12-11, stop: 2011-02-23\n",
            "index: 492/1216, ticker: AABA, start: 1999-12-08, stop: 2017-06-16\n",
            "index: 493/1216, ticker: CE, start: 2001-04-02, stop: 2004-02-26\n",
            "index: 494/1216, ticker: CE, start: 2018-12-24, stop: 2024-07-08\n",
            "index: 495/1216, ticker: PDCO, start: 2005-10-11, stop: 2018-03-16\n",
            "index: 496/1216, ticker: RYAN, start: 1996-01-02, stop: 1996-12-27\n",
            "index: 497/1216, ticker: FBF, start: 1996-01-02, stop: 2004-03-29\n",
            "index: 498/1216, ticker: NXTL, start: 1998-04-01, stop: 2005-08-12\n",
            "index: 499/1216, ticker: MKC, start: 2003-03-21, stop: 2024-07-08\n",
            "index: 500/1216, ticker: FDC, start: 1996-01-02, stop: 2007-09-24\n",
            "index: 501/1216, ticker: GTE, start: 1996-01-02, stop: 2000-06-29\n",
            "index: 502/1216, ticker: HAL, start: 1996-01-02, stop: 2024-07-08\n",
            "index: 503/1216, ticker: ESV, start: 2007-01-04, stop: 2009-12-22\n",
            "index: 504/1216, ticker: ESV, start: 2012-07-31, stop: 2016-03-29\n",
            "index: 505/1216, ticker: OTIS, start: 2020-04-03, stop: 2024-07-08\n",
            "index: 506/1216, ticker: VRSK, start: 2015-10-08, stop: 2024-07-08\n",
            "index: 507/1216, ticker: BIO, start: 2020-06-22, stop: 2024-07-08\n",
            "index: 508/1216, ticker: BMY, start: 1996-01-02, stop: 2024-07-08\n",
            "index: 509/1216, ticker: USS, start: 1996-01-02, stop: 1998-10-01\n",
            "index: 510/1216, ticker: MPWR, start: 2021-02-12, stop: 2024-07-08\n",
            "index: 511/1216, ticker: OKE, start: 1996-01-02, stop: 2001-08-29\n",
            "index: 512/1216, ticker: OKE, start: 2010-03-15, stop: 2024-07-08\n",
            "index: 513/1216, ticker: MRNA, start: 2021-07-21, stop: 2024-07-08\n",
            "index: 514/1216, ticker: FDO, start: 2001-08-06, stop: 2015-07-06\n",
            "index: 515/1216, ticker: BG, start: 2023-03-15, stop: 2024-07-08\n",
            "index: 516/1216, ticker: ABMD, start: 2018-05-31, stop: 2022-12-19\n",
            "index: 517/1216, ticker: PODD, start: 2023-03-15, stop: 2024-07-08\n",
            "index: 518/1216, ticker: AET, start: 1996-01-02, stop: 2018-11-28\n",
            "index: 519/1216, ticker: BRK.B, start: 2010-02-16, stop: 2024-07-08\n",
            "index: 520/1216, ticker: LVLT, start: 2014-11-05, stop: 2017-10-10\n",
            "index: 521/1216, ticker: CBSS, start: 2004-12-20, stop: 2007-09-04\n",
            "index: 522/1216, ticker: CG, start: 1996-01-02, stop: 2000-10-30\n",
            "index: 523/1216, ticker: UTX, start: 1996-01-02, stop: 2020-03-03\n",
            "index: 524/1216, ticker: HI, start: 1996-01-02, stop: 2003-03-28\n",
            "index: 525/1216, ticker: TE, start: 2001-10-10, stop: 2016-06-27\n",
            "index: 526/1216, ticker: FDS, start: 2021-12-20, stop: 2024-07-08\n",
            "index: 527/1216, ticker: PFG, start: 2002-07-22, stop: 2024-07-08\n",
            "index: 528/1216, ticker: MON, start: 2002-08-14, stop: 2018-06-06\n",
            "index: 529/1216, ticker: FAST, start: 2008-09-15, stop: 2024-07-08\n",
            "index: 530/1216, ticker: ETR, start: 1996-01-02, stop: 2024-07-08\n",
            "index: 531/1216, ticker: MER, start: 1996-01-02, stop: 2008-12-29\n",
            "index: 532/1216, ticker: TTWO, start: 2018-03-19, stop: 2024-07-08\n",
            "index: 533/1216, ticker: HPE, start: 2015-11-02, stop: 2024-07-08\n",
            "index: 534/1216, ticker: MAC, start: 2013-05-09, stop: 2019-12-10\n",
            "index: 535/1216, ticker: SOTR, start: 1999-03-01, stop: 2004-10-28\n",
            "index: 536/1216, ticker: AOS, start: 2017-07-26, stop: 2024-07-08\n",
            "index: 537/1216, ticker: HDLM, start: 1996-01-02, stop: 1996-03-05\n",
            "index: 538/1216, ticker: INCLF, start: 1996-01-02, stop: 2002-07-18\n",
            "index: 539/1216, ticker: PTC, start: 1997-04-03, stop: 2006-12-29\n",
            "index: 540/1216, ticker: PTC, start: 2021-04-20, stop: 2024-07-08\n",
            "index: 541/1216, ticker: XTO, start: 2004-12-29, stop: 2010-06-21\n",
            "index: 542/1216, ticker: CNC, start: 1997-01-15, stop: 2002-07-24\n",
            "index: 543/1216, ticker: CNC, start: 2016-03-30, stop: 2024-07-08\n",
            "index: 544/1216, ticker: BEN, start: 1998-04-29, stop: 2024-07-08\n",
            "index: 545/1216, ticker: FTR, start: 2001-02-27, stop: 2017-03-17\n",
            "index: 546/1216, ticker: ISRG, start: 2008-06-02, stop: 2024-07-08\n",
            "index: 547/1216, ticker: PWR, start: 2009-07-01, stop: 2024-07-08\n",
            "index: 548/1216, ticker: NYT, start: 1996-01-02, stop: 2010-12-17\n",
            "index: 549/1216, ticker: AGC, start: 1996-01-02, stop: 2001-08-20\n",
            "index: 550/1216, ticker: TKR, start: 1996-01-02, stop: 2001-08-06\n",
            "index: 551/1216, ticker: MA, start: 2008-07-18, stop: 2024-07-08\n",
            "index: 552/1216, ticker: SWKS, start: 2015-03-12, stop: 2024-07-08\n",
            "index: 553/1216, ticker: IKN, start: 1996-01-02, stop: 2000-06-27\n",
            "index: 554/1216, ticker: SMS, start: 1996-01-02, stop: 2000-06-07\n",
            "index: 555/1216, ticker: LDOS, start: 2009-12-21, stop: 2013-09-17\n",
            "index: 556/1216, ticker: LDOS, start: 2019-08-09, stop: 2024-07-08\n",
            "index: 557/1216, ticker: RRD, start: 1996-01-02, stop: 2012-12-07\n",
            "index: 558/1216, ticker: CBRE, start: 2006-11-10, stop: 2024-07-08\n",
            "index: 559/1216, ticker: BBWI, start: 2021-08-03, stop: 2024-07-08\n",
            "index: 560/1216, ticker: EXPD, start: 2007-10-10, stop: 2024-07-08\n",
            "index: 561/1216, ticker: EG, start: 2023-06-10, stop: 2024-07-08\n",
            "index: 562/1216, ticker: PWJ, start: 1999-06-04, stop: 2000-11-03\n",
            "index: 563/1216, ticker: VSTNQ, start: 2000-06-29, stop: 2005-12-29\n",
            "index: 564/1216, ticker: CMVT, start: 1999-10-27, stop: 2007-01-24\n",
            "index: 565/1216, ticker: VAR, start: 2007-02-12, stop: 2021-03-22\n",
            "index: 566/1216, ticker: VLTO, start: 2023-10-02, stop: 2024-07-08\n",
            "index: 567/1216, ticker: MU, start: 1996-01-02, stop: 2024-07-08\n",
            "index: 568/1216, ticker: UNH, start: 1996-01-02, stop: 2024-07-08\n",
            "index: 569/1216, ticker: TDY, start: 2020-06-22, stop: 2024-07-08\n",
            "index: 570/1216, ticker: CPB, start: 1996-01-02, stop: 2024-07-08\n",
            "index: 571/1216, ticker: MBI, start: 1996-12-03, stop: 2009-12-17\n",
            "index: 572/1216, ticker: YRCW, start: 1996-01-02, stop: 1996-10-28\n",
            "index: 573/1216, ticker: COP, start: 1996-01-02, stop: 2024-07-08\n",
            "index: 574/1216, ticker: DDS, start: 1996-01-02, stop: 2008-10-16\n",
            "index: 575/1216, ticker: KWP, start: 1996-01-02, stop: 1999-11-15\n",
            "index: 576/1216, ticker: LXK, start: 1999-08-13, stop: 2012-09-25\n",
            "index: 577/1216, ticker: BFO, start: 1996-01-02, stop: 2000-10-02\n",
            "index: 578/1216, ticker: QRVO, start: 2015-06-12, stop: 2024-07-08\n",
            "index: 579/1216, ticker: BR, start: 1996-01-02, stop: 2006-03-30\n",
            "index: 580/1216, ticker: BR, start: 2018-06-18, stop: 2024-07-08\n",
            "index: 581/1216, ticker: CBS, start: 1996-01-02, stop: 2019-11-21\n",
            "index: 582/1216, ticker: MIR, start: 1997-08-07, stop: 2000-05-30\n",
            "index: 583/1216, ticker: MIR, start: 2001-04-03, stop: 2003-07-16\n",
            "index: 584/1216, ticker: CHTR, start: 2016-09-08, stop: 2024-07-08\n",
            "index: 585/1216, ticker: MS, start: 1996-01-02, stop: 2024-07-08\n",
            "index: 586/1216, ticker: COMS, start: 1996-01-02, stop: 2000-07-27\n",
            "index: 587/1216, ticker: PNR, start: 2012-10-01, stop: 2024-07-08\n",
            "index: 588/1216, ticker: MII, start: 1996-01-02, stop: 1999-06-21\n",
            "index: 589/1216, ticker: SHW, start: 1996-01-02, stop: 2024-07-08\n",
            "index: 590/1216, ticker: FANG, start: 2018-12-03, stop: 2024-07-08\n",
            "index: 591/1216, ticker: BCR, start: 1996-01-02, stop: 2017-12-27\n",
            "index: 592/1216, ticker: FNMA, start: 1996-01-02, stop: 2008-09-08\n",
            "index: 593/1216, ticker: WB, start: 1996-01-02, stop: 2008-12-29\n",
            "index: 594/1216, ticker: MZIAQ, start: 1996-01-02, stop: 2000-06-27\n",
            "index: 595/1216, ticker: TRB, start: 1996-01-02, stop: 2007-12-17\n",
            "index: 596/1216, ticker: XOM, start: 1996-01-02, stop: 2024-07-08\n",
            "index: 597/1216, ticker: UPC, start: 1998-10-01, stop: 2004-06-28\n",
            "index: 598/1216, ticker: CDW, start: 2019-09-23, stop: 2024-07-08\n",
            "index: 599/1216, ticker: SUNEQ, start: 2007-05-31, stop: 2011-12-14\n",
            "index: 600/1216, ticker: KG, start: 2000-10-03, stop: 2010-12-17\n",
            "index: 601/1216, ticker: LRCX, start: 2012-06-05, stop: 2024-07-08\n",
            "index: 602/1216, ticker: MEA, start: 1996-01-02, stop: 2002-01-28\n",
            "index: 603/1216, ticker: ALB, start: 2016-07-01, stop: 2024-07-08\n",
            "index: 604/1216, ticker: KO, start: 1996-01-02, stop: 2024-07-08\n",
            "index: 605/1216, ticker: LSI, start: 1996-01-02, stop: 2014-05-06\n",
            "index: 606/1216, ticker: WST, start: 2020-05-22, stop: 2024-07-08\n",
            "index: 607/1216, ticker: TSS, start: 2008-01-02, stop: 2019-08-09\n",
            "index: 608/1216, ticker: GDT, start: 1996-12-19, stop: 2006-04-21\n",
            "index: 609/1216, ticker: WAMUQ, start: 1997-07-02, stop: 2008-09-26\n",
            "index: 610/1216, ticker: ORCL, start: 1996-01-02, stop: 2024-07-08\n",
            "index: 611/1216, ticker: RHT, start: 2009-07-27, stop: 2019-07-01\n",
            "index: 612/1216, ticker: DJ, start: 1996-01-02, stop: 2007-12-12\n",
            "index: 613/1216, ticker: AS, start: 1996-01-02, stop: 1998-11-23\n",
            "index: 614/1216, ticker: BMGCA, start: 1996-07-22, stop: 1999-08-06\n",
            "index: 615/1216, ticker: VFC, start: 1996-01-02, stop: 2024-03-25\n",
            "index: 616/1216, ticker: BMC, start: 1998-10-01, stop: 2013-09-09\n",
            "index: 617/1216, ticker: ENPH, start: 2021-01-07, stop: 2024-07-08\n",
            "index: 618/1216, ticker: CTRA, start: 2021-10-04, stop: 2024-07-08\n",
            "index: 619/1216, ticker: NTAP, start: 1999-06-25, stop: 2024-07-08\n",
            "index: 620/1216, ticker: SANM, start: 2000-06-21, stop: 2007-06-26\n",
            "index: 621/1216, ticker: FE, start: 1996-01-02, stop: 2024-07-08\n",
            "index: 622/1216, ticker: NYX, start: 2007-10-25, stop: 2013-11-07\n",
            "index: 623/1216, ticker: NAE, start: 1996-01-02, stop: 1997-08-06\n",
            "index: 624/1216, ticker: WRK, start: 2015-07-02, stop: 2024-06-24\n",
            "index: 625/1216, ticker: LPX, start: 1996-01-02, stop: 2006-11-07\n",
            "index: 626/1216, ticker: CCE, start: 1998-10-08, stop: 2016-05-24\n",
            "index: 627/1216, ticker: CRM, start: 2008-09-15, stop: 2024-07-08\n",
            "index: 628/1216, ticker: WCOEQ, start: 1996-04-01, stop: 2002-05-14\n",
            "index: 629/1216, ticker: TXT, start: 1996-01-02, stop: 2024-07-08\n",
            "index: 630/1216, ticker: HBOC, start: 1997-10-23, stop: 1999-01-07\n",
            "index: 631/1216, ticker: CYR, start: 1996-01-02, stop: 1996-03-25\n",
            "index: 632/1216, ticker: ROK, start: 1996-01-02, stop: 2024-07-08\n",
            "index: 633/1216, ticker: DELL, start: 1996-09-06, stop: 2013-10-18\n",
            "index: 634/1216, ticker: MTD, start: 2016-09-06, stop: 2024-07-08\n",
            "index: 635/1216, ticker: CRR, start: 1996-01-02, stop: 1997-05-19\n",
            "index: 636/1216, ticker: AJG, start: 2016-05-31, stop: 2024-07-08\n",
            "index: 637/1216, ticker: ASND, start: 1998-06-12, stop: 1999-06-24\n",
            "index: 638/1216, ticker: PMI, start: 1996-01-02, stop: 1996-05-30\n",
            "index: 639/1216, ticker: DECK, start: 2024-03-18, stop: 2024-07-08\n",
            "index: 640/1216, ticker: PVN, start: 1996-01-02, stop: 2005-09-28\n",
            "index: 641/1216, ticker: PGL, start: 1996-01-02, stop: 2007-02-16\n",
            "index: 642/1216, ticker: KSE, start: 2000-08-21, stop: 2007-08-24\n",
            "index: 643/1216, ticker: TUP, start: 1996-05-31, stop: 2004-03-17\n",
            "index: 644/1216, ticker: ADS, start: 2013-12-23, stop: 2020-05-22\n",
            "index: 645/1216, ticker: PBCT, start: 2008-11-13, stop: 2022-03-02\n",
            "index: 646/1216, ticker: FCPT, start: 2015-11-10, stop: 2015-11-10\n",
            "index: 647/1216, ticker: DPZ, start: 2020-05-12, stop: 2024-07-08\n",
            "index: 648/1216, ticker: STI, start: 1996-01-02, stop: 2019-12-05\n",
            "index: 649/1216, ticker: TGNA, start: 1996-01-02, stop: 2017-05-23\n",
            "index: 650/1216, ticker: CIEN, start: 2001-08-30, stop: 2009-12-17\n",
            "index: 651/1216, ticker: FJ, start: 1996-01-02, stop: 2000-11-22\n",
            "index: 652/1216, ticker: TLAB, start: 1996-01-02, stop: 2011-12-20\n",
            "index: 653/1216, ticker: HP, start: 1996-01-02, stop: 1999-12-28\n",
            "index: 654/1216, ticker: HP, start: 2010-03-01, stop: 2020-05-12\n",
            "index: 655/1216, ticker: PPL, start: 1996-01-02, stop: 2024-07-08\n",
            "index: 656/1216, ticker: GIS, start: 1996-01-02, stop: 2024-07-08\n",
            "index: 657/1216, ticker: ORX, start: 1996-01-02, stop: 1999-02-26\n",
            "index: 658/1216, ticker: WBD, start: 2022-04-11, stop: 2024-07-08\n",
            "index: 659/1216, ticker: FCX, start: 1996-01-02, stop: 2024-07-08\n",
            "index: 660/1216, ticker: VTRS, start: 2020-11-17, stop: 2024-07-08\n",
            "index: 661/1216, ticker: CVH, start: 2005-08-30, stop: 2013-05-02\n",
            "index: 662/1216, ticker: PLD, start: 2003-07-17, stop: 2024-07-08\n",
            "index: 663/1216, ticker: SNT, start: 1996-01-02, stop: 1999-10-25\n",
            "index: 664/1216, ticker: GFS.A, start: 1996-01-02, stop: 1998-07-13\n",
            "index: 665/1216, ticker: OMX, start: 1996-01-02, stop: 2008-06-18\n",
            "index: 666/1216, ticker: MYG, start: 1996-01-02, stop: 2006-03-30\n",
            "index: 667/1216, ticker: LYB, start: 2012-09-05, stop: 2024-07-08\n",
            "index: 668/1216, ticker: CIN, start: 1996-01-02, stop: 2006-03-30\n",
            "index: 669/1216, ticker: AR, start: 1996-01-02, stop: 1999-10-26\n",
            "index: 670/1216, ticker: FRX, start: 2000-11-22, stop: 2014-06-24\n",
            "index: 671/1216, ticker: RF, start: 1998-08-28, stop: 2024-07-08\n",
            "index: 672/1216, ticker: UPS, start: 2002-07-22, stop: 2024-07-08\n",
            "index: 673/1216, ticker: ASH, start: 1996-01-02, stop: 2008-11-13\n",
            "index: 674/1216, ticker: MEE, start: 1996-01-02, stop: 2000-12-18\n",
            "index: 675/1216, ticker: MEE, start: 2008-06-23, stop: 2011-05-23\n",
            "index: 676/1216, ticker: CMG, start: 2011-04-28, stop: 2024-07-08\n",
            "index: 677/1216, ticker: ALXN, start: 2012-05-25, stop: 2021-06-04\n",
            "index: 678/1216, ticker: CNG, start: 1996-01-02, stop: 2000-01-28\n",
            "index: 679/1216, ticker: BVSN, start: 2000-11-06, stop: 2001-08-31\n",
            "index: 680/1216, ticker: URBN, start: 2010-02-08, stop: 2017-03-17\n",
            "index: 681/1216, ticker: INCY, start: 2017-02-28, stop: 2024-07-08\n",
            "index: 682/1216, ticker: DYN, start: 2000-10-03, stop: 2009-12-17\n",
            "index: 683/1216, ticker: PVH, start: 2013-02-14, stop: 2022-06-28\n",
            "index: 684/1216, ticker: CTB, start: 1996-01-02, stop: 2006-07-11\n",
            "index: 685/1216, ticker: IVZ, start: 2008-08-21, stop: 2024-07-08\n",
            "index: 686/1216, ticker: CPWR, start: 1999-01-04, stop: 2011-12-30\n",
            "index: 687/1216, ticker: CPRT, start: 2018-07-02, stop: 2024-07-08\n",
            "index: 688/1216, ticker: GRA, start: 1996-01-02, stop: 2000-12-08\n",
            "index: 689/1216, ticker: USHC, start: 1996-01-02, stop: 1996-07-18\n",
            "index: 690/1216, ticker: FII, start: 2003-04-16, stop: 2012-12-28\n",
            "index: 691/1216, ticker: GPC, start: 1996-01-02, stop: 2024-07-08\n",
            "index: 692/1216, ticker: BAY, start: 1996-02-12, stop: 1998-08-28\n",
            "index: 693/1216, ticker: SSP, start: 2005-12-20, stop: 2008-06-30\n",
            "index: 694/1216, ticker: V, start: 2009-12-21, stop: 2024-07-08\n",
            "index: 695/1216, ticker: MOH, start: 2022-03-02, stop: 2024-07-08\n",
            "index: 696/1216, ticker: ROST, start: 2009-12-21, stop: 2024-07-08\n",
            "index: 697/1216, ticker: ABT, start: 1996-01-02, stop: 2024-07-08\n",
            "index: 698/1216, ticker: DI, start: 1996-01-02, stop: 1998-09-29\n",
            "index: 699/1216, ticker: SGID, start: 1996-01-02, stop: 2000-06-20\n",
            "index: 700/1216, ticker: HOT, start: 2000-11-17, stop: 2016-09-16\n",
            "index: 701/1216, ticker: CPNLQ, start: 2000-12-01, stop: 2005-11-28\n",
            "index: 702/1216, ticker: VTR, start: 2009-03-04, stop: 2024-07-08\n",
            "index: 703/1216, ticker: BHF, start: 2017-08-07, stop: 2019-02-27\n",
            "index: 704/1216, ticker: CAG, start: 1996-01-02, stop: 2024-07-08\n",
            "index: 705/1216, ticker: ONE, start: 1996-01-02, stop: 2004-06-28\n",
            "index: 706/1216, ticker: UA, start: 2016-04-08, stop: 2022-06-09\n",
            "index: 707/1216, ticker: LEN, start: 2005-10-04, stop: 2024-07-08\n",
            "index: 708/1216, ticker: G, start: 1996-01-02, stop: 2005-09-28\n",
            "index: 709/1216, ticker: WAI, start: 1996-01-02, stop: 1998-08-06\n",
            "index: 710/1216, ticker: SOLV, start: 2024-04-03, stop: 2024-07-08\n",
            "index: 711/1216, ticker: PRU, start: 2002-07-22, stop: 2024-07-08\n",
            "index: 712/1216, ticker: HRB, start: 1996-01-02, stop: 2020-09-18\n",
            "index: 713/1216, ticker: HPH, start: 1996-01-02, stop: 1999-06-08\n",
            "index: 714/1216, ticker: NWL, start: 1996-01-02, stop: 2023-08-30\n",
            "index: 715/1216, ticker: PRD, start: 1996-01-02, stop: 2000-12-11\n",
            "index: 716/1216, ticker: WMB, start: 1996-01-02, stop: 2024-07-08\n",
            "index: 717/1216, ticker: FOX, start: 2015-09-21, stop: 2024-07-08\n",
            "index: 718/1216, ticker: FB, start: 2013-12-23, stop: 2022-06-08\n",
            "index: 719/1216, ticker: PCP, start: 2007-06-01, stop: 2016-01-26\n",
            "index: 720/1216, ticker: ODP, start: 1999-06-24, stop: 2010-12-17\n",
            "index: 721/1216, ticker: UAL, start: 2015-09-03, stop: 2024-07-08\n",
            "index: 722/1216, ticker: WAT, start: 2002-01-02, stop: 2024-07-08\n",
            "index: 723/1216, ticker: KEY, start: 1996-01-02, stop: 2024-07-08\n",
            "index: 724/1216, ticker: VRTX, start: 2013-09-23, stop: 2024-07-08\n",
            "index: 725/1216, ticker: GE, start: 1996-01-02, stop: 2024-07-08\n",
            "index: 726/1216, ticker: AMD, start: 1996-01-02, stop: 2013-09-17\n",
            "index: 727/1216, ticker: AMD, start: 2017-03-20, stop: 2024-07-08\n",
            "index: 728/1216, ticker: AEP, start: 1996-01-02, stop: 2024-07-08\n",
            "index: 729/1216, ticker: RSG, start: 2008-12-05, stop: 2024-07-08\n",
            "index: 730/1216, ticker: WY, start: 1996-01-02, stop: 2024-07-08\n",
            "index: 731/1216, ticker: TMO, start: 1997-01-02, stop: 2024-07-08\n",
            "index: 732/1216, ticker: BXP, start: 2006-04-03, stop: 2024-07-08\n",
            "index: 733/1216, ticker: SNDK, start: 2006-04-20, stop: 2016-05-11\n",
            "index: 734/1216, ticker: HCR, start: 1998-09-28, stop: 2007-11-05\n",
            "index: 735/1216, ticker: HPQ, start: 1996-01-02, stop: 2024-07-08\n",
            "index: 736/1216, ticker: VST, start: 2024-05-08, stop: 2024-07-08\n",
            "index: 737/1216, ticker: APC, start: 1997-07-28, stop: 2019-08-08\n",
            "index: 738/1216, ticker: USB, start: 1996-01-02, stop: 2024-07-08\n",
            "index: 739/1216, ticker: PMCS, start: 2001-08-03, stop: 2007-06-26\n",
            "index: 740/1216, ticker: M, start: 1996-01-02, stop: 2020-04-03\n",
            "index: 741/1216, ticker: FRC, start: 2019-01-02, stop: 2023-03-20\n",
            "index: 742/1216, ticker: STT, start: 1997-08-18, stop: 2024-07-08\n",
            "index: 743/1216, ticker: IT, start: 2017-04-05, stop: 2024-07-08\n",
            "index: 744/1216, ticker: CNXT, start: 2000-01-31, stop: 2002-06-19\n",
            "index: 745/1216, ticker: JCP, start: 1996-01-02, stop: 2013-11-27\n",
            "index: 746/1216, ticker: CFL, start: 1996-01-02, stop: 1998-04-27\n",
            "index: 747/1216, ticker: HD, start: 1996-01-02, stop: 2024-07-08\n",
            "index: 748/1216, ticker: ROH, start: 1996-01-02, stop: 2009-04-01\n",
            "index: 749/1216, ticker: BCO, start: 1996-01-02, stop: 1996-01-12\n",
            "index: 750/1216, ticker: FRT, start: 2016-02-01, stop: 2024-07-08\n",
            "index: 751/1216, ticker: BAX, start: 1996-01-02, stop: 2024-07-08\n",
            "index: 752/1216, ticker: MCD, start: 1996-01-02, stop: 2024-07-08\n",
            "index: 753/1216, ticker: AAPL, start: 1996-01-02, stop: 2024-07-08\n",
            "index: 754/1216, ticker: HFS, start: 1996-08-16, stop: 1997-12-12\n",
            "index: 755/1216, ticker: CEPH, start: 2008-11-17, stop: 2011-10-11\n",
            "index: 756/1216, ticker: PNW, start: 1999-10-04, stop: 2024-07-08\n",
            "index: 757/1216, ticker: SPG, start: 2002-06-26, stop: 2024-07-08\n",
            "index: 758/1216, ticker: BXLT, start: 2015-07-01, stop: 2016-06-01\n",
            "index: 759/1216, ticker: CCEP, start: 2016-01-04, stop: 2016-05-24\n",
            "index: 760/1216, ticker: META, start: 2022-06-09, stop: 2024-07-08\n",
            "index: 761/1216, ticker: DIGI, start: 1996-01-02, stop: 1998-08-26\n",
            "index: 762/1216, ticker: PETM, start: 2012-10-05, stop: 2015-03-11\n",
            "index: 763/1216, ticker: GNRC, start: 2021-03-22, stop: 2024-07-08\n",
            "index: 764/1216, ticker: DAY, start: 2024-02-01, stop: 2024-07-08\n",
            "index: 765/1216, ticker: WYND, start: 2006-08-01, stop: 2018-05-24\n",
            "index: 766/1216, ticker: ACN, start: 2011-07-06, stop: 2024-07-08\n",
            "index: 767/1216, ticker: TEN, start: 1996-01-02, stop: 1999-10-29\n",
            "index: 768/1216, ticker: GLD, start: 1996-01-02, stop: 1997-04-29\n",
            "index: 769/1216, ticker: SEDG, start: 2021-12-20, stop: 2023-10-02\n",
            "index: 770/1216, ticker: ICE, start: 2007-09-26, stop: 2024-07-08\n",
            "index: 771/1216, ticker: SPGI, start: 1996-01-02, stop: 2024-07-08\n",
            "index: 772/1216, ticker: WTW, start: 2022-01-20, stop: 2024-07-08\n",
            "index: 773/1216, ticker: PANW, start: 2023-06-20, stop: 2024-07-08\n",
            "index: 774/1216, ticker: RBK, start: 1996-01-02, stop: 2006-01-30\n",
            "index: 775/1216, ticker: VZ, start: 1996-01-02, stop: 2024-07-08\n",
            "index: 776/1216, ticker: CXO, start: 2016-02-22, stop: 2021-01-07\n",
            "index: 777/1216, ticker: UCC, start: 1996-01-02, stop: 1999-04-28\n",
            "index: 778/1216, ticker: CINF, start: 1997-12-18, stop: 2024-07-08\n",
            "index: 779/1216, ticker: BLL, start: 1996-01-02, stop: 2022-04-11\n",
            "index: 780/1216, ticker: LDG, start: 1996-01-02, stop: 2001-06-29\n",
            "index: 781/1216, ticker: AMP, start: 1996-01-02, stop: 1999-03-30\n",
            "index: 782/1216, ticker: AMP, start: 2005-10-03, stop: 2024-07-08\n",
            "index: 783/1216, ticker: VRSN, start: 2006-02-01, stop: 2024-07-08\n",
            "index: 784/1216, ticker: WFT, start: 2005-07-22, stop: 2009-02-25\n",
            "index: 785/1216, ticker: PVT, start: 1998-08-31, stop: 1999-06-30\n",
            "index: 786/1216, ticker: BHGE, start: 1996-01-02, stop: 2019-10-03\n",
            "index: 787/1216, ticker: CI, start: 1996-01-02, stop: 2024-07-08\n",
            "index: 788/1216, ticker: ANV, start: 1996-01-02, stop: 1999-04-08\n",
            "index: 789/1216, ticker: TWX, start: 1996-01-02, stop: 2018-06-14\n",
            "index: 790/1216, ticker: FMY, start: 1998-07-10, stop: 1999-05-19\n",
            "index: 791/1216, ticker: NCR, start: 2000-01-04, stop: 2007-09-28\n",
            "index: 792/1216, ticker: SEBL, start: 2000-05-05, stop: 2006-01-30\n",
            "index: 793/1216, ticker: FOXA, start: 2004-12-20, stop: 2024-07-08\n",
            "index: 794/1216, ticker: WLA, start: 1996-01-02, stop: 2000-06-19\n",
            "index: 795/1216, ticker: SXCL, start: 1999-10-01, stop: 2001-05-10\n",
            "index: 796/1216, ticker: ACAS, start: 2007-07-09, stop: 2009-03-02\n",
            "index: 797/1216, ticker: DWDP, start: 2017-09-01, stop: 2019-06-01\n",
            "index: 798/1216, ticker: BRCM, start: 2000-07-03, stop: 2016-01-26\n",
            "index: 799/1216, ticker: MGM, start: 2017-07-26, stop: 2024-07-08\n",
            "index: 800/1216, ticker: MNK, start: 2014-08-19, stop: 2017-07-25\n",
            "index: 801/1216, ticker: TOY, start: 1996-01-02, stop: 2005-07-21\n",
            "index: 802/1216, ticker: H, start: 1996-01-02, stop: 2001-06-25\n",
            "index: 803/1216, ticker: H, start: 2006-08-01, stop: 2007-04-05\n",
            "index: 804/1216, ticker: OWENQ, start: 1996-01-02, stop: 2000-09-27\n",
            "index: 805/1216, ticker: PNC, start: 1996-01-02, stop: 2024-07-08\n",
            "index: 806/1216, ticker: DVN, start: 2000-08-30, stop: 2024-07-08\n",
            "index: 807/1216, ticker: AMCR, start: 2019-06-07, stop: 2024-07-08\n",
            "index: 808/1216, ticker: SCI, start: 1996-01-02, stop: 2000-03-15\n",
            "index: 809/1216, ticker: TA, start: 1996-01-02, stop: 1999-07-20\n",
            "index: 810/1216, ticker: TJX, start: 1996-01-02, stop: 2024-07-08\n",
            "index: 811/1216, ticker: AMH, start: 1996-01-02, stop: 1997-09-08\n",
            "index: 812/1216, ticker: PG, start: 1996-01-02, stop: 2024-07-08\n",
            "index: 813/1216, ticker: MTG, start: 1996-07-19, stop: 2008-10-28\n",
            "index: 814/1216, ticker: CPQ, start: 1996-01-02, stop: 2002-05-01\n",
            "index: 815/1216, ticker: PTV, start: 1999-11-05, stop: 2010-11-08\n",
            "index: 816/1216, ticker: VTSS, start: 2000-12-12, stop: 2002-08-19\n",
            "index: 817/1216, ticker: X, start: 1996-01-02, stop: 2014-07-01\n",
            "index: 818/1216, ticker: BKNG, start: 2009-11-06, stop: 2024-07-08\n",
            "index: 819/1216, ticker: MDLZ, start: 2007-04-02, stop: 2024-07-08\n",
            "index: 820/1216, ticker: KVUE, start: 2023-08-25, stop: 2024-07-08\n",
            "index: 821/1216, ticker: PBI, start: 1996-01-02, stop: 2017-02-28\n",
            "index: 822/1216, ticker: TMC.A, start: 1996-01-02, stop: 2000-06-09\n",
            "index: 823/1216, ticker: BLDR, start: 2023-10-18, stop: 2024-07-08\n",
            "index: 824/1216, ticker: PSFT, start: 1998-10-02, stop: 2004-12-27\n",
            "index: 825/1216, ticker: DLR, start: 2016-05-18, stop: 2024-07-08\n",
            "index: 826/1216, ticker: ECH, start: 1996-01-02, stop: 1998-07-09\n",
            "index: 827/1216, ticker: UN, start: 1996-01-02, stop: 2002-07-18\n",
            "index: 828/1216, ticker: SPLS, start: 1998-10-07, stop: 2017-09-12\n",
            "index: 829/1216, ticker: RJF, start: 2017-03-20, stop: 2024-07-08\n",
            "index: 830/1216, ticker: GRMN, start: 2012-12-12, stop: 2024-07-08\n",
            "index: 831/1216, ticker: JH, start: 1996-01-02, stop: 1998-03-30\n",
            "index: 832/1216, ticker: EQR, start: 2001-12-03, stop: 2024-07-08\n",
            "index: 833/1216, ticker: SW, start: 2024-07-08, stop: 2024-07-08\n",
            "index: 834/1216, ticker: TX, start: 1996-01-02, stop: 2001-10-04\n",
            "index: 835/1216, ticker: RHI, start: 2000-12-05, stop: 2024-05-08\n",
            "index: 836/1216, ticker: KLAC, start: 1997-09-15, stop: 2024-07-08\n",
            "index: 837/1216, ticker: ECO, start: 1996-01-02, stop: 1998-01-15\n",
            "index: 838/1216, ticker: CSR, start: 1996-01-02, stop: 2000-06-15\n",
            "index: 839/1216, ticker: VRTS, start: 2000-04-03, stop: 2005-06-30\n",
            "index: 840/1216, ticker: RNB, start: 1996-01-02, stop: 1999-12-31\n",
            "index: 841/1216, ticker: HOG, start: 2000-01-31, stop: 2020-05-22\n",
            "index: 842/1216, ticker: CGP, start: 1996-01-02, stop: 2001-01-29\n",
            "index: 843/1216, ticker: CARR, start: 2020-04-03, stop: 2024-07-08\n",
            "index: 844/1216, ticker: BALL, start: 2022-05-10, stop: 2024-07-08\n",
            "index: 845/1216, ticker: MNST, start: 2012-06-29, stop: 2024-07-08\n",
            "index: 846/1216, ticker: SAF, start: 1996-01-02, stop: 2008-09-22\n",
            "index: 847/1216, ticker: MIL, start: 1996-01-02, stop: 2010-07-12\n",
            "index: 848/1216, ticker: TMK, start: 1996-01-02, stop: 2019-07-15\n",
            "index: 849/1216, ticker: TFX, start: 2019-01-18, stop: 2024-07-08\n",
            "index: 850/1216, ticker: BDX, start: 1996-01-02, stop: 2024-07-08\n",
            "index: 851/1216, ticker: CVS, start: 1996-01-02, stop: 2024-07-08\n",
            "index: 852/1216, ticker: PM, start: 2008-03-31, stop: 2024-07-08\n",
            "index: 853/1216, ticker: LM, start: 2006-04-24, stop: 2016-11-29\n",
            "index: 854/1216, ticker: DXCM, start: 2020-05-12, stop: 2024-07-08\n",
            "index: 855/1216, ticker: IMNX, start: 2001-09-21, stop: 2002-07-10\n",
            "index: 856/1216, ticker: NCC, start: 1996-01-02, stop: 2008-12-29\n",
            "index: 857/1216, ticker: HSP, start: 2004-05-03, stop: 2015-09-01\n",
            "index: 858/1216, ticker: PCL, start: 2002-01-17, stop: 2016-02-16\n",
            "index: 859/1216, ticker: CAL, start: 1996-01-02, stop: 1996-07-19\n",
            "index: 860/1216, ticker: AAP, start: 2015-07-09, stop: 2023-06-20\n",
            "index: 861/1216, ticker: LUB, start: 1996-01-02, stop: 1996-12-27\n",
            "index: 862/1216, ticker: WMX, start: 1996-01-02, stop: 1998-07-16\n",
            "index: 863/1216, ticker: TMUS, start: 2009-06-30, stop: 2013-04-29\n",
            "index: 864/1216, ticker: TMUS, start: 2019-07-15, stop: 2024-07-08\n",
            "index: 865/1216, ticker: MAA, start: 2016-12-02, stop: 2024-07-08\n",
            "index: 866/1216, ticker: CPRI, start: 2016-01-04, stop: 2020-04-06\n",
            "index: 867/1216, ticker: CNW, start: 1996-01-02, stop: 1996-11-27\n",
            "index: 868/1216, ticker: SCG, start: 2009-01-02, stop: 2018-12-24\n",
            "index: 869/1216, ticker: UCL, start: 1996-01-02, stop: 2005-08-10\n",
            "index: 870/1216, ticker: NYN, start: 1996-01-02, stop: 1997-08-14\n",
            "index: 871/1216, ticker: GSX, start: 1996-01-02, stop: 1998-10-06\n",
            "index: 872/1216, ticker: UMG, start: 1996-01-02, stop: 2000-06-13\n",
            "index: 873/1216, ticker: LIFE, start: 2008-11-24, stop: 2014-01-22\n",
            "index: 874/1216, ticker: CLX, start: 1996-01-02, stop: 2024-07-08\n",
            "index: 875/1216, ticker: GTW, start: 1998-04-27, stop: 2006-07-31\n",
            "index: 876/1216, ticker: SCHW, start: 1997-06-02, stop: 2024-07-08\n",
            "index: 877/1216, ticker: NDAQ, start: 2008-10-22, stop: 2024-07-08\n",
            "index: 878/1216, ticker: SYY, start: 1996-01-02, stop: 2024-07-08\n",
            "index: 879/1216, ticker: MAS, start: 1996-01-02, stop: 2024-07-08\n",
            "index: 880/1216, ticker: PZE, start: 1996-01-02, stop: 1998-12-24\n",
            "index: 881/1216, ticker: USW, start: 1996-01-02, stop: 2000-06-29\n",
            "index: 882/1216, ticker: GME, start: 2007-12-14, stop: 2016-04-20\n",
            "index: 883/1216, ticker: CDAY, start: 2021-09-20, stop: 2023-10-18\n",
            "index: 884/1216, ticker: FLS, start: 2008-10-02, stop: 2021-02-12\n",
            "index: 885/1216, ticker: DIS, start: 1996-01-02, stop: 2024-07-08\n",
            "index: 886/1216, ticker: PCG, start: 1996-01-02, stop: 2019-01-11\n",
            "index: 887/1216, ticker: PCG, start: 2022-10-03, stop: 2024-07-08\n",
            "index: 888/1216, ticker: CBE, start: 1996-01-02, stop: 2009-09-08\n",
            "index: 889/1216, ticker: CBE, start: 2011-11-23, stop: 2012-11-27\n",
            "index: 890/1216, ticker: SDS, start: 2002-07-22, stop: 2005-08-11\n",
            "index: 891/1216, ticker: CME, start: 2006-08-11, stop: 2024-07-08\n",
            "index: 892/1216, ticker: CFG, start: 2016-02-01, stop: 2024-07-08\n",
            "index: 893/1216, ticker: MI, start: 2002-02-11, stop: 2011-07-05\n",
            "index: 894/1216, ticker: ZBRA, start: 2019-12-23, stop: 2024-07-08\n",
            "index: 895/1216, ticker: UBER, start: 2023-10-18, stop: 2024-07-08\n",
            "index: 896/1216, ticker: YUM, start: 1997-10-07, stop: 2024-07-08\n",
            "index: 897/1216, ticker: CVX, start: 1996-01-02, stop: 2024-07-08\n",
            "index: 898/1216, ticker: FMC, start: 1996-01-02, stop: 2001-12-24\n",
            "index: 899/1216, ticker: FMC, start: 2009-08-19, stop: 2024-07-08\n",
            "index: 900/1216, ticker: ITT, start: 1996-01-02, stop: 2011-10-31\n",
            "index: 901/1216, ticker: DHR, start: 1998-11-18, stop: 2024-07-08\n",
            "index: 902/1216, ticker: PCS, start: 1998-11-24, stop: 2004-04-19\n",
            "index: 903/1216, ticker: NFB, start: 2002-07-17, stop: 2006-11-22\n",
            "index: 904/1216, ticker: CHRW, start: 2007-03-02, stop: 2024-07-08\n",
            "index: 905/1216, ticker: FTL.A, start: 1996-01-02, stop: 1999-09-30\n",
            "index: 906/1216, ticker: SNA, start: 1996-01-02, stop: 2024-07-08\n",
            "index: 907/1216, ticker: RAI, start: 2002-09-04, stop: 2017-07-20\n",
            "index: 908/1216, ticker: BOL, start: 1996-01-02, stop: 2007-10-26\n",
            "index: 909/1216, ticker: KRI, start: 1996-01-02, stop: 2006-06-20\n",
            "index: 910/1216, ticker: MST, start: 1996-01-02, stop: 1998-08-13\n",
            "index: 911/1216, ticker: RML, start: 1996-01-02, stop: 2000-12-11\n",
            "index: 912/1216, ticker: WWY, start: 1996-01-02, stop: 2008-10-06\n",
            "index: 913/1216, ticker: ASO, start: 1999-03-10, stop: 2006-10-31\n",
            "index: 914/1216, ticker: ATI, start: 1996-01-02, stop: 2015-07-01\n",
            "index: 915/1216, ticker: OXY, start: 1996-01-02, stop: 2024-07-08\n",
            "index: 916/1216, ticker: ZION, start: 2001-06-25, stop: 2024-03-04\n",
            "index: 917/1216, ticker: PRGO, start: 2011-12-19, stop: 2021-08-30\n",
            "index: 918/1216, ticker: LIN, start: 2018-11-06, stop: 2024-07-08\n",
            "index: 919/1216, ticker: AMGN, start: 1996-01-02, stop: 2024-07-08\n",
            "index: 920/1216, ticker: CPT, start: 2022-04-04, stop: 2024-07-08\n",
            "index: 921/1216, ticker: XL, start: 2001-09-04, stop: 2018-09-11\n",
            "index: 922/1216, ticker: ARC, start: 1996-01-02, stop: 2000-04-10\n",
            "index: 923/1216, ticker: DISCA, start: 2010-03-01, stop: 2022-04-04\n",
            "index: 924/1216, ticker: MHK, start: 2013-12-23, stop: 2024-07-08\n",
            "index: 925/1216, ticker: HII, start: 2018-01-03, stop: 2024-07-08\n",
            "index: 926/1216, ticker: S, start: 1996-01-02, stop: 2013-07-02\n",
            "index: 927/1216, ticker: MET, start: 2000-12-11, stop: 2024-07-08\n",
            "index: 928/1216, ticker: WYE, start: 1996-01-02, stop: 2009-10-15\n",
            "index: 929/1216, ticker: JBHT, start: 2015-07-01, stop: 2024-07-08\n",
            "index: 930/1216, ticker: MJN, start: 2009-12-21, stop: 2017-06-07\n",
            "index: 931/1216, ticker: PKI, start: 1996-01-02, stop: 2023-05-04\n",
            "index: 932/1216, ticker: CDNS, start: 2017-09-18, stop: 2024-07-08\n",
            "index: 933/1216, ticker: HON, start: 1996-01-02, stop: 2024-07-08\n",
            "index: 934/1216, ticker: RYI, start: 1996-01-02, stop: 1998-06-30\n",
            "index: 935/1216, ticker: JNS, start: 2000-07-13, stop: 2011-11-18\n",
            "index: 936/1216, ticker: AAMRQ, start: 1996-01-02, stop: 2003-03-10\n",
            "index: 937/1216, ticker: GENZ, start: 2001-12-14, stop: 2011-04-01\n",
            "index: 938/1216, ticker: SUB, start: 1998-01-28, stop: 2001-02-27\n",
            "index: 939/1216, ticker: KSS, start: 1998-08-14, stop: 2020-09-18\n",
            "index: 940/1216, ticker: GWF, start: 1996-01-02, stop: 1997-06-26\n",
            "index: 941/1216, ticker: SFS, start: 1996-01-02, stop: 1997-07-25\n",
            "index: 942/1216, ticker: CSX, start: 1996-01-02, stop: 2024-07-08\n",
            "index: 943/1216, ticker: ESS, start: 2014-04-02, stop: 2024-07-08\n",
            "index: 944/1216, ticker: AWE, start: 2001-07-09, stop: 2004-10-26\n",
            "index: 945/1216, ticker: COR, start: 2023-08-30, stop: 2024-07-08\n",
            "index: 946/1216, ticker: HM, start: 1996-01-02, stop: 2001-12-14\n",
            "index: 947/1216, ticker: NC, start: 1996-01-02, stop: 2000-06-02\n",
            "index: 948/1216, ticker: PEG, start: 1996-01-02, stop: 2024-07-08\n",
            "index: 949/1216, ticker: XYL, start: 2011-11-01, stop: 2024-07-08\n",
            "index: 950/1216, ticker: BA, start: 1996-01-02, stop: 2024-07-08\n",
            "index: 951/1216, ticker: CHIR, start: 2000-11-24, stop: 2006-04-19\n",
            "index: 952/1216, ticker: JKHY, start: 2018-11-13, stop: 2024-07-08\n",
            "index: 953/1216, ticker: ATO, start: 2019-02-15, stop: 2024-07-08\n",
            "index: 954/1216, ticker: HCBK, start: 2007-02-15, stop: 2015-10-28\n",
            "index: 955/1216, ticker: PPW, start: 1996-01-02, stop: 1999-11-29\n",
            "index: 956/1216, ticker: LNC, start: 1996-01-02, stop: 2023-08-30\n",
            "index: 957/1216, ticker: APCC, start: 2000-06-01, stop: 2007-02-14\n",
            "index: 958/1216, ticker: SYK, start: 2000-12-12, stop: 2024-07-08\n",
            "index: 959/1216, ticker: FLT, start: 2018-06-20, stop: 2024-03-18\n",
            "index: 960/1216, ticker: LUMN, start: 2020-09-18, stop: 2023-03-15\n",
            "index: 961/1216, ticker: NAV, start: 1996-01-02, stop: 2006-12-11\n",
            "index: 962/1216, ticker: NLOK, start: 2019-11-05, stop: 2022-11-01\n",
            "index: 963/1216, ticker: INTU, start: 2000-12-11, stop: 2024-07-08\n",
            "index: 964/1216, ticker: HNZ, start: 1996-01-02, stop: 2013-06-06\n",
            "index: 965/1216, ticker: LLL, start: 2004-12-01, stop: 2019-06-07\n",
            "index: 966/1216, ticker: XEC, start: 2014-06-20, stop: 2020-01-28\n",
            "index: 967/1216, ticker: ARNC, start: 1996-01-02, stop: 2020-04-03\n",
            "index: 968/1216, ticker: EIX, start: 1996-01-02, stop: 2024-07-08\n",
            "index: 969/1216, ticker: SEE, start: 1998-04-01, stop: 2023-10-02\n",
            "index: 970/1216, ticker: AIZ, start: 2007-04-10, stop: 2024-07-08\n",
            "index: 971/1216, ticker: LUV, start: 1996-01-02, stop: 2024-07-08\n",
            "index: 972/1216, ticker: BGG, start: 1996-01-02, stop: 2001-04-02\n",
            "index: 973/1216, ticker: MWW, start: 2001-06-04, stop: 2011-12-14\n",
            "index: 974/1216, ticker: RTX, start: 2020-04-03, stop: 2024-07-08\n",
            "index: 975/1216, ticker: NLC, start: 1996-01-02, stop: 1999-07-30\n",
            "index: 976/1216, ticker: JP, start: 1996-01-02, stop: 2006-03-30\n",
            "index: 977/1216, ticker: ADBE, start: 1997-05-06, stop: 2024-07-08\n",
            "index: 978/1216, ticker: CFN, start: 2009-09-01, stop: 2015-03-13\n",
            "index: 979/1216, ticker: GPN, start: 2016-04-25, stop: 2024-07-08\n",
            "index: 980/1216, ticker: TGT, start: 1996-01-02, stop: 2024-07-08\n",
            "index: 981/1216, ticker: APTV, start: 2012-12-24, stop: 2024-07-08\n",
            "index: 982/1216, ticker: TECH, start: 2021-08-30, stop: 2024-07-08\n",
            "index: 983/1216, ticker: CPAY, start: 2024-03-25, stop: 2024-07-08\n",
            "index: 984/1216, ticker: THC, start: 1996-01-02, stop: 2016-04-15\n",
            "index: 985/1216, ticker: WHR, start: 1996-01-02, stop: 2024-03-04\n",
            "index: 986/1216, ticker: T, start: 1996-01-02, stop: 2024-07-08\n",
            "index: 987/1216, ticker: FLTWQ, start: 1996-01-02, stop: 2000-01-28\n",
            "index: 988/1216, ticker: KDP, start: 2008-10-07, stop: 2018-06-26\n",
            "index: 989/1216, ticker: KDP, start: 2022-06-21, stop: 2024-07-08\n",
            "index: 990/1216, ticker: ALGN, start: 2017-06-19, stop: 2024-07-08\n",
            "index: 991/1216, ticker: NUE, start: 1996-01-02, stop: 2024-07-08\n",
            "index: 992/1216, ticker: JEC, start: 2007-10-26, stop: 2019-12-09\n",
            "index: 993/1216, ticker: SBL, start: 2000-12-11, stop: 2007-01-05\n",
            "index: 994/1216, ticker: GAS, start: 1996-01-02, stop: 2011-12-09\n",
            "index: 995/1216, ticker: GAS, start: 2011-12-13, stop: 2016-06-27\n",
            "index: 996/1216, ticker: CBH, start: 2006-06-06, stop: 2008-03-18\n",
            "index: 997/1216, ticker: CTLT, start: 2020-09-21, stop: 2024-07-08\n",
            "index: 998/1216, ticker: GLW, start: 1996-01-02, stop: 2024-07-08\n",
            "index: 999/1216, ticker: OI, start: 1997-08-04, stop: 2000-12-08\n",
            "index: 1000/1216, ticker: OI, start: 2009-01-02, stop: 2016-11-29\n",
            "index: 1001/1216, ticker: BKB, start: 1996-01-02, stop: 1999-09-30\n",
            "index: 1002/1216, ticker: BT, start: 1996-01-02, stop: 1999-06-03\n",
            "index: 1003/1216, ticker: IBM, start: 1996-01-02, stop: 2024-07-08\n",
            "index: 1004/1216, ticker: RTN, start: 1996-01-02, stop: 2020-04-03\n",
            "index: 1005/1216, ticker: JBL, start: 2001-01-30, stop: 2014-10-24\n",
            "index: 1006/1216, ticker: JBL, start: 2023-10-18, stop: 2024-07-08\n",
            "index: 1007/1216, ticker: EL, start: 2006-01-05, stop: 2024-07-08\n",
            "index: 1008/1216, ticker: AKS, start: 2008-07-01, stop: 2011-12-14\n",
            "index: 1009/1216, ticker: SFA, start: 1996-01-02, stop: 2006-02-17\n",
            "index: 1010/1216, ticker: TSLA, start: 2020-12-21, stop: 2024-07-08\n",
            "index: 1011/1216, ticker: EHC, start: 1997-01-08, stop: 2003-03-20\n",
            "index: 1012/1216, ticker: FL, start: 1996-01-02, stop: 1998-12-31\n",
            "index: 1013/1216, ticker: FL, start: 2016-04-04, stop: 2019-08-08\n",
            "index: 1014/1216, ticker: GR, start: 1996-01-02, stop: 2012-07-26\n",
            "index: 1015/1216, ticker: EOP, start: 2001-10-10, stop: 2007-02-09\n",
            "index: 1016/1216, ticker: QLGC, start: 2000-12-12, stop: 2011-01-12\n",
            "index: 1017/1216, ticker: PEAK, start: 2019-11-05, stop: 2024-02-01\n",
            "index: 1018/1216, ticker: SMCI, start: 2024-03-18, stop: 2024-07-08\n",
            "index: 1019/1216, ticker: MDT, start: 1996-01-02, stop: 2024-07-08\n",
            "index: 1020/1216, ticker: NRTLQ, start: 1996-01-02, stop: 2002-07-18\n",
            "index: 1021/1216, ticker: AAL, start: 1996-01-02, stop: 1997-01-13\n",
            "index: 1022/1216, ticker: AAL, start: 2015-03-23, stop: 2024-07-08\n",
            "index: 1023/1216, ticker: CMS, start: 1999-05-03, stop: 2024-07-08\n",
            "index: 1024/1216, ticker: LEHMQ, start: 1998-01-12, stop: 2008-09-16\n",
            "index: 1025/1216, ticker: SLG, start: 2015-03-23, stop: 2021-02-12\n",
            "index: 1026/1216, ticker: VNT, start: 2020-10-12, stop: 2021-02-12\n",
            "index: 1027/1216, ticker: DRE, start: 2017-07-26, stop: 2022-09-19\n",
            "index: 1028/1216, ticker: UNP, start: 1996-01-02, stop: 2024-07-08\n",
            "index: 1029/1216, ticker: CHRS, start: 1996-01-02, stop: 1998-04-07\n",
            "index: 1030/1216, ticker: HSY, start: 1996-01-02, stop: 2024-07-08\n",
            "index: 1031/1216, ticker: JOS, start: 1996-01-02, stop: 2000-05-09\n",
            "index: 1032/1216, ticker: RSHCQ, start: 1996-01-02, stop: 2011-06-30\n",
            "index: 1033/1216, ticker: WM, start: 1998-07-17, stop: 2024-07-08\n",
            "index: 1034/1216, ticker: RAD, start: 1996-01-02, stop: 2000-07-19\n",
            "index: 1035/1216, ticker: SO, start: 1996-01-02, stop: 2024-07-08\n",
            "index: 1036/1216, ticker: WLL, start: 1996-01-02, stop: 2002-02-07\n",
            "index: 1037/1216, ticker: MCHP, start: 2007-09-07, stop: 2024-07-08\n",
            "index: 1038/1216, ticker: DTE, start: 1996-01-02, stop: 2024-07-08\n",
            "index: 1039/1216, ticker: ZTS, start: 2013-06-24, stop: 2024-07-08\n",
            "index: 1040/1216, ticker: AME, start: 2013-09-23, stop: 2024-07-08\n",
            "index: 1041/1216, ticker: NLV, start: 1996-04-01, stop: 2000-01-05\n",
            "index: 1042/1216, ticker: PAYX, start: 1998-10-01, stop: 2024-07-08\n",
            "index: 1043/1216, ticker: CL, start: 1996-01-02, stop: 2024-07-08\n",
            "index: 1044/1216, ticker: SJM, start: 2008-11-06, stop: 2024-07-08\n",
            "index: 1045/1216, ticker: FOSL, start: 2012-04-04, stop: 2016-01-04\n",
            "index: 1046/1216, ticker: ILMN, start: 2015-11-19, stop: 2024-05-08\n",
            "index: 1047/1216, ticker: MDR, start: 1996-01-02, stop: 2003-08-18\n",
            "index: 1048/1216, ticker: FTNT, start: 2018-10-11, stop: 2024-07-08\n",
            "index: 1049/1216, ticker: POOL, start: 2020-10-07, stop: 2024-07-08\n",
            "index: 1050/1216, ticker: GEN, start: 2022-11-08, stop: 2024-07-08\n",
            "index: 1051/1216, ticker: BX, start: 2023-09-18, stop: 2024-07-08\n",
            "index: 1052/1216, ticker: MLM, start: 2014-07-02, stop: 2024-07-08\n",
            "index: 1053/1216, ticker: UAWGQ, start: 1996-01-02, stop: 2002-05-14\n",
            "index: 1054/1216, ticker: STZ, start: 2005-07-05, stop: 2024-07-08\n",
            "index: 1055/1216, ticker: AXON, start: 2023-05-04, stop: 2024-07-08\n",
            "index: 1056/1216, ticker: HRS, start: 1996-01-02, stop: 1999-11-05\n",
            "index: 1057/1216, ticker: HRS, start: 2008-09-22, stop: 2019-04-02\n",
            "index: 1058/1216, ticker: UK, start: 1996-01-02, stop: 2001-01-31\n",
            "index: 1059/1216, ticker: TRIP, start: 2011-12-21, stop: 2019-12-10\n",
            "index: 1060/1216, ticker: TNB, start: 1996-01-02, stop: 2004-07-29\n",
            "index: 1061/1216, ticker: LMT, start: 1996-01-02, stop: 2024-07-08\n",
            "index: 1062/1216, ticker: CBOE, start: 2017-03-01, stop: 2024-07-08\n",
            "index: 1063/1216, ticker: CMA, start: 1996-01-02, stop: 2024-05-08\n",
            "index: 1064/1216, ticker: PBG, start: 2001-05-14, stop: 2010-02-26\n",
            "index: 1065/1216, ticker: GMCR, start: 2014-03-24, stop: 2016-02-26\n",
            "index: 1066/1216, ticker: ROP, start: 2009-12-23, stop: 2024-07-08\n",
            "index: 1067/1216, ticker: CF, start: 2000-06-19, stop: 2004-08-26\n",
            "index: 1068/1216, ticker: CF, start: 2008-08-27, stop: 2024-07-08\n",
            "index: 1069/1216, ticker: SVU, start: 1996-01-02, stop: 2012-04-30\n",
            "index: 1070/1216, ticker: MYL, start: 2004-04-23, stop: 2020-10-12\n",
            "index: 1071/1216, ticker: COG, start: 2008-06-23, stop: 2021-09-20\n",
            "index: 1072/1216, ticker: CRL, start: 2021-05-14, stop: 2024-07-08\n",
            "index: 1073/1216, ticker: CTX, start: 1996-01-02, stop: 2009-08-18\n",
            "index: 1074/1216, ticker: AHM, start: 1996-01-02, stop: 1998-09-30\n",
            "index: 1075/1216, ticker: OMC, start: 1997-12-24, stop: 2024-07-08\n",
            "index: 1076/1216, ticker: WIN, start: 2006-07-18, stop: 2015-03-31\n",
            "index: 1077/1216, ticker: MAT, start: 1996-01-02, stop: 2019-06-03\n",
            "index: 1078/1216, ticker: PXD, start: 2008-09-24, stop: 2024-04-03\n",
            "index: 1079/1216, ticker: CR, start: 1996-01-02, stop: 2004-12-16\n",
            "index: 1080/1216, ticker: TROW, start: 1999-10-13, stop: 2024-07-08\n",
            "index: 1081/1216, ticker: KHC, start: 2015-07-06, stop: 2024-07-08\n",
            "index: 1082/1216, ticker: BNL, start: 1996-01-02, stop: 1998-06-30\n",
            "index: 1083/1216, ticker: NEM, start: 1996-01-02, stop: 2024-07-08\n",
            "index: 1084/1216, ticker: COL, start: 2001-07-02, stop: 2018-11-15\n",
            "index: 1085/1216, ticker: IDXX, start: 2017-01-05, stop: 2024-07-08\n",
            "index: 1086/1216, ticker: ANRZQ, start: 2011-06-02, stop: 2012-10-01\n",
            "index: 1087/1216, ticker: LEG, start: 1999-10-18, stop: 2021-12-14\n",
            "index: 1088/1216, ticker: MFE, start: 2008-12-23, stop: 2011-02-28\n",
            "index: 1089/1216, ticker: TEK, start: 1996-01-02, stop: 2007-11-13\n",
            "index: 1090/1216, ticker: RRC, start: 2007-12-21, stop: 2018-06-15\n",
            "index: 1091/1216, ticker: NGH, start: 1998-09-16, stop: 2000-12-11\n",
            "index: 1092/1216, ticker: TSCO, start: 2014-01-24, stop: 2024-07-08\n",
            "index: 1093/1216, ticker: WNDXQ, start: 1996-01-02, stop: 2004-12-02\n",
            "index: 1094/1216, ticker: CHD, start: 2015-12-29, stop: 2024-07-08\n",
            "index: 1095/1216, ticker: HES, start: 1996-01-02, stop: 2024-07-08\n",
            "index: 1096/1216, ticker: IFF, start: 1996-01-02, stop: 2024-07-08\n",
            "index: 1097/1216, ticker: MCIC, start: 1996-01-02, stop: 1998-09-08\n",
            "index: 1098/1216, ticker: LLY, start: 1996-01-02, stop: 2024-07-08\n",
            "index: 1099/1216, ticker: PAS, start: 1996-01-02, stop: 1998-01-29\n",
            "index: 1100/1216, ticker: SUN, start: 1996-01-02, stop: 2012-10-04\n",
            "index: 1101/1216, ticker: ADT, start: 2012-10-02, stop: 2016-04-28\n",
            "index: 1102/1216, ticker: ARE, start: 2017-03-20, stop: 2024-07-08\n",
            "index: 1103/1216, ticker: MOB, start: 1996-01-02, stop: 1999-11-30\n",
            "index: 1104/1216, ticker: JPM, start: 1996-01-02, stop: 2024-07-08\n",
            "index: 1105/1216, ticker: PDG, start: 1996-01-02, stop: 2002-07-18\n",
            "index: 1106/1216, ticker: SAI, start: 1997-07-17, stop: 1998-12-31\n",
            "index: 1107/1216, ticker: MRO, start: 1996-01-02, stop: 2024-07-08\n",
            "index: 1108/1216, ticker: LLTC, start: 2000-04-03, stop: 2017-03-10\n",
            "index: 1109/1216, ticker: EMR, start: 1996-01-02, stop: 2024-07-08\n",
            "index: 1110/1216, ticker: SLB, start: 1996-01-02, stop: 2024-07-08\n",
            "index: 1111/1216, ticker: BIG, start: 1998-01-20, stop: 2013-02-06\n",
            "index: 1112/1216, ticker: CCL, start: 1998-12-22, stop: 2024-07-08\n",
            "index: 1113/1216, ticker: TOS, start: 1999-09-20, stop: 2001-09-10\n",
            "index: 1114/1216, ticker: HMA, start: 2001-11-07, stop: 2007-02-26\n",
            "index: 1115/1216, ticker: NOVL, start: 1996-01-02, stop: 2011-04-25\n",
            "index: 1116/1216, ticker: CTXS, start: 1999-12-01, stop: 2022-09-19\n",
            "index: 1117/1216, ticker: BOAT, start: 1996-01-02, stop: 1997-01-03\n",
            "index: 1118/1216, ticker: GD, start: 1996-01-02, stop: 2024-07-08\n",
            "index: 1119/1216, ticker: EXR, start: 2016-01-19, stop: 2024-07-08\n",
            "index: 1120/1216, ticker: EQIX, start: 2015-03-23, stop: 2024-07-08\n",
            "index: 1121/1216, ticker: WEC, start: 2008-10-31, stop: 2024-07-08\n",
            "index: 1122/1216, ticker: O, start: 2015-04-07, stop: 2024-07-08\n",
            "index: 1123/1216, ticker: MTCH, start: 2021-09-20, stop: 2024-07-08\n",
            "index: 1124/1216, ticker: ETN, start: 1996-01-02, stop: 2024-07-08\n",
            "index: 1125/1216, ticker: NI, start: 2000-11-02, stop: 2024-07-08\n",
            "index: 1126/1216, ticker: NFX, start: 2010-12-20, stop: 2019-01-18\n",
            "index: 1127/1216, ticker: STE, start: 2019-12-23, stop: 2024-07-08\n",
            "index: 1128/1216, ticker: LOW, start: 1996-01-02, stop: 2024-07-08\n",
            "index: 1129/1216, ticker: CCI, start: 1996-01-02, stop: 1998-10-07\n",
            "index: 1130/1216, ticker: CCI, start: 2012-03-13, stop: 2024-07-08\n",
            "index: 1131/1216, ticker: MHS, start: 2003-08-20, stop: 2012-03-22\n",
            "index: 1132/1216, ticker: JOY, start: 2011-02-28, stop: 2015-10-05\n",
            "index: 1133/1216, ticker: CEN, start: 1996-01-02, stop: 2001-03-30\n",
            "index: 1134/1216, ticker: BBY, start: 1999-06-30, stop: 2024-07-08\n",
            "index: 1135/1216, ticker: REG, start: 2017-03-02, stop: 2024-07-08\n",
            "index: 1136/1216, ticker: ALL, start: 1996-01-02, stop: 2024-07-08\n",
            "index: 1137/1216, ticker: GM, start: 2013-06-07, stop: 2024-07-08\n",
            "index: 1138/1216, ticker: TWTR, start: 2018-06-07, stop: 2022-10-12\n",
            "index: 1139/1216, ticker: GPU, start: 1996-01-02, stop: 2001-11-05\n",
            "index: 1140/1216, ticker: ALLE, start: 2013-12-02, stop: 2024-07-08\n",
            "index: 1141/1216, ticker: FRO, start: 1997-01-02, stop: 1999-09-21\n",
            "index: 1142/1216, ticker: BMS, start: 1996-01-02, stop: 2014-12-04\n",
            "index: 1143/1216, ticker: NKE, start: 1996-01-02, stop: 2024-07-08\n",
            "index: 1144/1216, ticker: MD, start: 1996-01-02, stop: 1997-07-29\n",
            "index: 1145/1216, ticker: UAA, start: 2014-05-01, stop: 2022-06-09\n",
            "index: 1146/1216, ticker: SWN, start: 2008-06-06, stop: 2017-03-30\n",
            "index: 1147/1216, ticker: ROL, start: 2018-10-01, stop: 2024-07-08\n",
            "index: 1148/1216, ticker: MCK, start: 1999-01-13, stop: 2024-07-08\n",
            "index: 1149/1216, ticker: DLX, start: 1996-01-02, stop: 2004-12-16\n",
            "index: 1150/1216, ticker: KKR, start: 2024-06-24, stop: 2024-07-08\n",
            "index: 1151/1216, ticker: CMX, start: 2004-03-25, stop: 2007-03-22\n",
            "index: 1152/1216, ticker: EXPE, start: 2007-10-02, stop: 2024-07-08\n",
            "index: 1153/1216, ticker: ECL, start: 1996-01-02, stop: 2024-07-08\n",
            "index: 1154/1216, ticker: NTRS, start: 1998-01-30, stop: 2024-07-08\n",
            "index: 1155/1216, ticker: VIAV, start: 2000-07-27, stop: 2013-12-18\n",
            "index: 1156/1216, ticker: PENN, start: 2021-03-22, stop: 2022-06-28\n",
            "index: 1157/1216, ticker: AEE, start: 1996-01-02, stop: 2024-07-08\n",
            "index: 1158/1216, ticker: JCI, start: 1996-01-02, stop: 2024-07-08\n",
            "index: 1159/1216, ticker: ADM, start: 1996-01-02, stop: 2024-07-08\n",
            "index: 1160/1216, ticker: EXC, start: 1996-01-02, stop: 2024-07-08\n",
            "index: 1161/1216, ticker: SB, start: 1996-01-02, stop: 1997-11-21\n",
            "index: 1162/1216, ticker: COV, start: 1996-01-02, stop: 1996-08-08\n",
            "index: 1163/1216, ticker: COV, start: 2007-07-02, stop: 2009-06-04\n",
            "index: 1164/1216, ticker: COV, start: 2011-03-01, stop: 2015-01-15\n",
            "index: 1165/1216, ticker: FPC, start: 1999-06-22, stop: 2000-11-29\n",
            "index: 1166/1216, ticker: CMI, start: 1996-01-02, stop: 2024-07-08\n",
            "index: 1167/1216, ticker: DEC, start: 1996-01-02, stop: 1998-06-08\n",
            "index: 1168/1216, ticker: BEAM, start: 1996-01-02, stop: 2014-04-22\n",
            "index: 1169/1216, ticker: WYNN, start: 2008-11-14, stop: 2024-07-08\n",
            "index: 1170/1216, ticker: MSFT, start: 1996-01-02, stop: 2024-07-08\n",
            "index: 1171/1216, ticker: BKR, start: 2019-10-18, stop: 2024-07-08\n",
            "index: 1172/1216, ticker: SNPS, start: 2017-03-16, stop: 2024-07-08\n",
            "index: 1173/1216, ticker: GX, start: 1999-09-29, stop: 2001-10-04\n",
            "index: 1174/1216, ticker: CCK, start: 1996-01-02, stop: 2000-12-08\n",
            "index: 1175/1216, ticker: NVDA, start: 2001-11-30, stop: 2024-07-08\n",
            "index: 1176/1216, ticker: DLTR, start: 2011-12-19, stop: 2024-07-08\n",
            "index: 1177/1216, ticker: FG, start: 1996-01-02, stop: 1998-04-16\n",
            "index: 1178/1216, ticker: D, start: 1996-01-02, stop: 2024-07-08\n",
            "index: 1179/1216, ticker: ARG, start: 2009-09-09, stop: 2016-05-20\n",
            "index: 1180/1216, ticker: PCH, start: 1996-01-02, stop: 2001-07-03\n",
            "index: 1181/1216, ticker: ODFL, start: 2019-12-09, stop: 2024-07-08\n",
            "index: 1182/1216, ticker: PPG, start: 1996-01-02, stop: 2024-07-08\n",
            "index: 1183/1216, ticker: VICI, start: 2022-06-08, stop: 2024-07-08\n",
            "index: 1184/1216, ticker: RYC, start: 1996-01-02, stop: 1999-08-11\n",
            "index: 1185/1216, ticker: HRL, start: 2009-03-04, stop: 2024-07-08\n",
            "index: 1186/1216, ticker: AKAM, start: 2007-07-12, stop: 2024-07-08\n",
            "index: 1187/1216, ticker: CA, start: 1996-01-02, stop: 2018-10-31\n",
            "index: 1188/1216, ticker: OAT, start: 1996-01-02, stop: 2001-07-31\n",
            "index: 1189/1216, ticker: GPS, start: 1996-01-02, stop: 2022-01-20\n",
            "index: 1190/1216, ticker: GOOGL, start: 2006-04-03, stop: 2024-07-08\n",
            "index: 1191/1216, ticker: NWSA, start: 2013-07-01, stop: 2024-07-08\n",
            "index: 1192/1216, ticker: CIT.A, start: 2000-07-17, stop: 2001-05-31\n",
            "index: 1193/1216, ticker: VAT, start: 1996-01-02, stop: 1996-08-28\n",
            "index: 1194/1216, ticker: HBI, start: 2015-03-23, stop: 2021-12-14\n",
            "index: 1195/1216, ticker: ANSS, start: 2017-06-19, stop: 2024-07-08\n",
            "index: 1196/1216, ticker: TMC, start: 1996-01-02, stop: 2000-06-09\n",
            "index: 1197/1216, ticker: TSN, start: 2005-08-11, stop: 2024-07-08\n",
            "index: 1198/1216, ticker: WDC, start: 2009-07-01, stop: 2024-07-08\n",
            "index: 1199/1216, ticker: CSCO, start: 1996-01-02, stop: 2024-07-08\n",
            "index: 1200/1216, ticker: GAPTQ, start: 1996-01-02, stop: 2000-08-25\n",
            "index: 1201/1216, ticker: SHLD, start: 2005-03-28, stop: 2012-08-23\n",
            "index: 1202/1216, ticker: SYF, start: 2015-11-18, stop: 2024-07-08\n",
            "index: 1203/1216, ticker: ON, start: 2022-06-21, stop: 2024-07-08\n",
            "index: 1204/1216, ticker: ATVI, start: 2015-08-31, stop: 2023-10-02\n",
            "index: 1205/1216, ticker: ENS, start: 1996-01-02, stop: 1997-08-05\n",
            "index: 1206/1216, ticker: WFC, start: 1996-01-02, stop: 2024-07-08\n",
            "index: 1207/1216, ticker: SNV, start: 1997-12-01, stop: 2007-12-31\n",
            "index: 1208/1216, ticker: SRE, start: 1998-06-29, stop: 2024-07-08\n",
            "index: 1209/1216, ticker: LOR, start: 1996-01-02, stop: 1996-04-22\n",
            "index: 1210/1216, ticker: AV, start: 2000-10-02, stop: 2007-10-25\n",
            "index: 1211/1216, ticker: SMI, start: 1996-01-02, stop: 2000-12-11\n",
            "index: 1212/1216, ticker: JHF, start: 2001-06-29, stop: 2004-04-28\n",
            "index: 1213/1216, ticker: JEF, start: 2007-08-27, stop: 2019-09-23\n",
            "index: 1214/1216, ticker: EVHC, start: 2016-12-02, stop: 2018-10-10\n",
            "index: 1215/1216, ticker: PAYC, start: 2020-01-28, stop: 2024-07-08\n",
            "Done\n"
          ]
        }
      ]
    },
    {
      "cell_type": "code",
      "source": [
        "df_ranges_extended.describe()"
      ],
      "metadata": {
        "colab": {
          "base_uri": "https://localhost:8080/",
          "height": 174
        },
        "id": "fnZIW02v9Vjk",
        "outputId": "b49dc52f-09e0-44ec-a56b-795fb92a92b8"
      },
      "execution_count": null,
      "outputs": [
        {
          "output_type": "execute_result",
          "data": {
            "text/plain": [
              "       Ticker       Start         End Downloaded\n",
              "count    1216        1216        1216       1216\n",
              "unique   1168         582         575          2\n",
              "top       COV  1996-01-02  2024-07-08       True\n",
              "freq        3         487         503        830"
            ],
            "text/html": [
              "\n",
              "  <div id=\"df-35bb6956-d9e2-4d67-90b8-ea2fb157b95e\" class=\"colab-df-container\">\n",
              "    <div>\n",
              "<style scoped>\n",
              "    .dataframe tbody tr th:only-of-type {\n",
              "        vertical-align: middle;\n",
              "    }\n",
              "\n",
              "    .dataframe tbody tr th {\n",
              "        vertical-align: top;\n",
              "    }\n",
              "\n",
              "    .dataframe thead th {\n",
              "        text-align: right;\n",
              "    }\n",
              "</style>\n",
              "<table border=\"1\" class=\"dataframe\">\n",
              "  <thead>\n",
              "    <tr style=\"text-align: right;\">\n",
              "      <th></th>\n",
              "      <th>Ticker</th>\n",
              "      <th>Start</th>\n",
              "      <th>End</th>\n",
              "      <th>Downloaded</th>\n",
              "    </tr>\n",
              "  </thead>\n",
              "  <tbody>\n",
              "    <tr>\n",
              "      <th>count</th>\n",
              "      <td>1216</td>\n",
              "      <td>1216</td>\n",
              "      <td>1216</td>\n",
              "      <td>1216</td>\n",
              "    </tr>\n",
              "    <tr>\n",
              "      <th>unique</th>\n",
              "      <td>1168</td>\n",
              "      <td>582</td>\n",
              "      <td>575</td>\n",
              "      <td>2</td>\n",
              "    </tr>\n",
              "    <tr>\n",
              "      <th>top</th>\n",
              "      <td>COV</td>\n",
              "      <td>1996-01-02</td>\n",
              "      <td>2024-07-08</td>\n",
              "      <td>True</td>\n",
              "    </tr>\n",
              "    <tr>\n",
              "      <th>freq</th>\n",
              "      <td>3</td>\n",
              "      <td>487</td>\n",
              "      <td>503</td>\n",
              "      <td>830</td>\n",
              "    </tr>\n",
              "  </tbody>\n",
              "</table>\n",
              "</div>\n",
              "    <div class=\"colab-df-buttons\">\n",
              "\n",
              "  <div class=\"colab-df-container\">\n",
              "    <button class=\"colab-df-convert\" onclick=\"convertToInteractive('df-35bb6956-d9e2-4d67-90b8-ea2fb157b95e')\"\n",
              "            title=\"Convert this dataframe to an interactive table.\"\n",
              "            style=\"display:none;\">\n",
              "\n",
              "  <svg xmlns=\"http://www.w3.org/2000/svg\" height=\"24px\" viewBox=\"0 -960 960 960\">\n",
              "    <path d=\"M120-120v-720h720v720H120Zm60-500h600v-160H180v160Zm220 220h160v-160H400v160Zm0 220h160v-160H400v160ZM180-400h160v-160H180v160Zm440 0h160v-160H620v160ZM180-180h160v-160H180v160Zm440 0h160v-160H620v160Z\"/>\n",
              "  </svg>\n",
              "    </button>\n",
              "\n",
              "  <style>\n",
              "    .colab-df-container {\n",
              "      display:flex;\n",
              "      gap: 12px;\n",
              "    }\n",
              "\n",
              "    .colab-df-convert {\n",
              "      background-color: #E8F0FE;\n",
              "      border: none;\n",
              "      border-radius: 50%;\n",
              "      cursor: pointer;\n",
              "      display: none;\n",
              "      fill: #1967D2;\n",
              "      height: 32px;\n",
              "      padding: 0 0 0 0;\n",
              "      width: 32px;\n",
              "    }\n",
              "\n",
              "    .colab-df-convert:hover {\n",
              "      background-color: #E2EBFA;\n",
              "      box-shadow: 0px 1px 2px rgba(60, 64, 67, 0.3), 0px 1px 3px 1px rgba(60, 64, 67, 0.15);\n",
              "      fill: #174EA6;\n",
              "    }\n",
              "\n",
              "    .colab-df-buttons div {\n",
              "      margin-bottom: 4px;\n",
              "    }\n",
              "\n",
              "    [theme=dark] .colab-df-convert {\n",
              "      background-color: #3B4455;\n",
              "      fill: #D2E3FC;\n",
              "    }\n",
              "\n",
              "    [theme=dark] .colab-df-convert:hover {\n",
              "      background-color: #434B5C;\n",
              "      box-shadow: 0px 1px 3px 1px rgba(0, 0, 0, 0.15);\n",
              "      filter: drop-shadow(0px 1px 2px rgba(0, 0, 0, 0.3));\n",
              "      fill: #FFFFFF;\n",
              "    }\n",
              "  </style>\n",
              "\n",
              "    <script>\n",
              "      const buttonEl =\n",
              "        document.querySelector('#df-35bb6956-d9e2-4d67-90b8-ea2fb157b95e button.colab-df-convert');\n",
              "      buttonEl.style.display =\n",
              "        google.colab.kernel.accessAllowed ? 'block' : 'none';\n",
              "\n",
              "      async function convertToInteractive(key) {\n",
              "        const element = document.querySelector('#df-35bb6956-d9e2-4d67-90b8-ea2fb157b95e');\n",
              "        const dataTable =\n",
              "          await google.colab.kernel.invokeFunction('convertToInteractive',\n",
              "                                                    [key], {});\n",
              "        if (!dataTable) return;\n",
              "\n",
              "        const docLinkHtml = 'Like what you see? Visit the ' +\n",
              "          '<a target=\"_blank\" href=https://colab.research.google.com/notebooks/data_table.ipynb>data table notebook</a>'\n",
              "          + ' to learn more about interactive tables.';\n",
              "        element.innerHTML = '';\n",
              "        dataTable['output_type'] = 'display_data';\n",
              "        await google.colab.output.renderOutput(dataTable, element);\n",
              "        const docLink = document.createElement('div');\n",
              "        docLink.innerHTML = docLinkHtml;\n",
              "        element.appendChild(docLink);\n",
              "      }\n",
              "    </script>\n",
              "  </div>\n",
              "\n",
              "\n",
              "<div id=\"df-f61e6a7b-c1d2-47d4-9020-717b0e4fb5a8\">\n",
              "  <button class=\"colab-df-quickchart\" onclick=\"quickchart('df-f61e6a7b-c1d2-47d4-9020-717b0e4fb5a8')\"\n",
              "            title=\"Suggest charts\"\n",
              "            style=\"display:none;\">\n",
              "\n",
              "<svg xmlns=\"http://www.w3.org/2000/svg\" height=\"24px\"viewBox=\"0 0 24 24\"\n",
              "     width=\"24px\">\n",
              "    <g>\n",
              "        <path d=\"M19 3H5c-1.1 0-2 .9-2 2v14c0 1.1.9 2 2 2h14c1.1 0 2-.9 2-2V5c0-1.1-.9-2-2-2zM9 17H7v-7h2v7zm4 0h-2V7h2v10zm4 0h-2v-4h2v4z\"/>\n",
              "    </g>\n",
              "</svg>\n",
              "  </button>\n",
              "\n",
              "<style>\n",
              "  .colab-df-quickchart {\n",
              "      --bg-color: #E8F0FE;\n",
              "      --fill-color: #1967D2;\n",
              "      --hover-bg-color: #E2EBFA;\n",
              "      --hover-fill-color: #174EA6;\n",
              "      --disabled-fill-color: #AAA;\n",
              "      --disabled-bg-color: #DDD;\n",
              "  }\n",
              "\n",
              "  [theme=dark] .colab-df-quickchart {\n",
              "      --bg-color: #3B4455;\n",
              "      --fill-color: #D2E3FC;\n",
              "      --hover-bg-color: #434B5C;\n",
              "      --hover-fill-color: #FFFFFF;\n",
              "      --disabled-bg-color: #3B4455;\n",
              "      --disabled-fill-color: #666;\n",
              "  }\n",
              "\n",
              "  .colab-df-quickchart {\n",
              "    background-color: var(--bg-color);\n",
              "    border: none;\n",
              "    border-radius: 50%;\n",
              "    cursor: pointer;\n",
              "    display: none;\n",
              "    fill: var(--fill-color);\n",
              "    height: 32px;\n",
              "    padding: 0;\n",
              "    width: 32px;\n",
              "  }\n",
              "\n",
              "  .colab-df-quickchart:hover {\n",
              "    background-color: var(--hover-bg-color);\n",
              "    box-shadow: 0 1px 2px rgba(60, 64, 67, 0.3), 0 1px 3px 1px rgba(60, 64, 67, 0.15);\n",
              "    fill: var(--button-hover-fill-color);\n",
              "  }\n",
              "\n",
              "  .colab-df-quickchart-complete:disabled,\n",
              "  .colab-df-quickchart-complete:disabled:hover {\n",
              "    background-color: var(--disabled-bg-color);\n",
              "    fill: var(--disabled-fill-color);\n",
              "    box-shadow: none;\n",
              "  }\n",
              "\n",
              "  .colab-df-spinner {\n",
              "    border: 2px solid var(--fill-color);\n",
              "    border-color: transparent;\n",
              "    border-bottom-color: var(--fill-color);\n",
              "    animation:\n",
              "      spin 1s steps(1) infinite;\n",
              "  }\n",
              "\n",
              "  @keyframes spin {\n",
              "    0% {\n",
              "      border-color: transparent;\n",
              "      border-bottom-color: var(--fill-color);\n",
              "      border-left-color: var(--fill-color);\n",
              "    }\n",
              "    20% {\n",
              "      border-color: transparent;\n",
              "      border-left-color: var(--fill-color);\n",
              "      border-top-color: var(--fill-color);\n",
              "    }\n",
              "    30% {\n",
              "      border-color: transparent;\n",
              "      border-left-color: var(--fill-color);\n",
              "      border-top-color: var(--fill-color);\n",
              "      border-right-color: var(--fill-color);\n",
              "    }\n",
              "    40% {\n",
              "      border-color: transparent;\n",
              "      border-right-color: var(--fill-color);\n",
              "      border-top-color: var(--fill-color);\n",
              "    }\n",
              "    60% {\n",
              "      border-color: transparent;\n",
              "      border-right-color: var(--fill-color);\n",
              "    }\n",
              "    80% {\n",
              "      border-color: transparent;\n",
              "      border-right-color: var(--fill-color);\n",
              "      border-bottom-color: var(--fill-color);\n",
              "    }\n",
              "    90% {\n",
              "      border-color: transparent;\n",
              "      border-bottom-color: var(--fill-color);\n",
              "    }\n",
              "  }\n",
              "</style>\n",
              "\n",
              "  <script>\n",
              "    async function quickchart(key) {\n",
              "      const quickchartButtonEl =\n",
              "        document.querySelector('#' + key + ' button');\n",
              "      quickchartButtonEl.disabled = true;  // To prevent multiple clicks.\n",
              "      quickchartButtonEl.classList.add('colab-df-spinner');\n",
              "      try {\n",
              "        const charts = await google.colab.kernel.invokeFunction(\n",
              "            'suggestCharts', [key], {});\n",
              "      } catch (error) {\n",
              "        console.error('Error during call to suggestCharts:', error);\n",
              "      }\n",
              "      quickchartButtonEl.classList.remove('colab-df-spinner');\n",
              "      quickchartButtonEl.classList.add('colab-df-quickchart-complete');\n",
              "    }\n",
              "    (() => {\n",
              "      let quickchartButtonEl =\n",
              "        document.querySelector('#df-f61e6a7b-c1d2-47d4-9020-717b0e4fb5a8 button');\n",
              "      quickchartButtonEl.style.display =\n",
              "        google.colab.kernel.accessAllowed ? 'block' : 'none';\n",
              "    })();\n",
              "  </script>\n",
              "</div>\n",
              "\n",
              "    </div>\n",
              "  </div>\n"
            ],
            "application/vnd.google.colaboratory.intrinsic+json": {
              "type": "dataframe",
              "summary": "{\n  \"name\": \"df_ranges_extended\",\n  \"rows\": 4,\n  \"fields\": [\n    {\n      \"column\": \"Ticker\",\n      \"properties\": {\n        \"dtype\": \"string\",\n        \"num_unique_values\": 4,\n        \"samples\": [\n          1168,\n          \"3\",\n          \"1216\"\n        ],\n        \"semantic_type\": \"\",\n        \"description\": \"\"\n      }\n    },\n    {\n      \"column\": \"Start\",\n      \"properties\": {\n        \"dtype\": \"date\",\n        \"min\": \"1970-01-01 00:00:00.000000487\",\n        \"max\": \"1996-01-02 00:00:00\",\n        \"num_unique_values\": 4,\n        \"samples\": [\n          582,\n          \"487\",\n          \"1216\"\n        ],\n        \"semantic_type\": \"\",\n        \"description\": \"\"\n      }\n    },\n    {\n      \"column\": \"End\",\n      \"properties\": {\n        \"dtype\": \"date\",\n        \"min\": \"1970-01-01 00:00:00.000000503\",\n        \"max\": \"2024-07-08 00:00:00\",\n        \"num_unique_values\": 4,\n        \"samples\": [\n          575,\n          \"503\",\n          \"1216\"\n        ],\n        \"semantic_type\": \"\",\n        \"description\": \"\"\n      }\n    },\n    {\n      \"column\": \"Downloaded\",\n      \"properties\": {\n        \"dtype\": \"string\",\n        \"num_unique_values\": 4,\n        \"samples\": [\n          2,\n          \"830\",\n          \"1216\"\n        ],\n        \"semantic_type\": \"\",\n        \"description\": \"\"\n      }\n    }\n  ]\n}"
            }
          },
          "metadata": {},
          "execution_count": 9
        }
      ]
    },
    {
      "cell_type": "code",
      "source": [],
      "metadata": {
        "id": "DwodLDqM-O4U"
      },
      "execution_count": null,
      "outputs": []
    },
    {
      "cell_type": "code",
      "source": [],
      "metadata": {
        "id": "4hGbJgEj-PCZ"
      },
      "execution_count": null,
      "outputs": []
    },
    {
      "cell_type": "code",
      "source": [],
      "metadata": {
        "id": "MSutzIO8-PFO"
      },
      "execution_count": null,
      "outputs": []
    },
    {
      "cell_type": "markdown",
      "source": [
        "TODO:\n",
        "- methods for downloading historical data and saving it in the cloud\n",
        "- introduce sector and sub-industry\n",
        "- find the data for stocks that are delisted\n",
        "- how to back up the notebook and data into GitHub\n",
        "\n",
        "Stocks data sources:\n",
        "\n",
        "1. yfinance - hack-around yahoo finance.\n",
        "Free but has limitations\n",
        "https://pypi.org/project/yfinance/\n",
        "\n",
        "2. Market{Data}:\n",
        "https://www.marketdata.app\n",
        "\n",
        "3. Investing.com. Free but need to know the name of the company and proper ticker\n",
        "https://www.investing.com/equities/"
      ],
      "metadata": {
        "id": "fUubLZSd_V8K"
      }
    },
    {
      "cell_type": "code",
      "source": [],
      "metadata": {
        "id": "nGJlRwqKk786"
      },
      "execution_count": null,
      "outputs": []
    },
    {
      "cell_type": "code",
      "source": [],
      "metadata": {
        "id": "_cq7CI1ZrKuh"
      },
      "execution_count": null,
      "outputs": []
    },
    {
      "cell_type": "code",
      "source": [],
      "metadata": {
        "id": "nlMSVX6jreQ9"
      },
      "execution_count": null,
      "outputs": []
    },
    {
      "cell_type": "code",
      "source": [],
      "metadata": {
        "id": "PiB8mLNrr1PE"
      },
      "execution_count": null,
      "outputs": []
    }
  ]
}